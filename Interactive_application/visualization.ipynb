{
 "cells": [
  {
   "cell_type": "markdown",
   "id": "d2ed49af",
   "metadata": {},
   "source": [
    "# Analysis and interactive visualization of SDM design parameters"
   ]
  },
  {
   "cell_type": "code",
   "execution_count": 1,
   "id": "19c37cf3",
   "metadata": {},
   "outputs": [],
   "source": [
    "import numpy as np\n",
    "import pandas as pd\n",
    "import cbadc as cb\n",
    "import matplotlib.pyplot as plt\n",
    "import seaborn as sns\n",
    "import streamlit as st\n",
    "from itertools import product\n",
    "from numpy.linalg import LinAlgError"
   ]
  },
  {
   "cell_type": "markdown",
   "id": "21cf5c2b",
   "metadata": {},
   "source": [
    "## Brute-force search and storing results"
   ]
  },
  {
   "cell_type": "code",
   "execution_count": 2,
   "id": "5f5749df",
   "metadata": {},
   "outputs": [],
   "source": [
    "# target specifications:\n",
    "target_SNR = 90\n",
    "Bw = 20e3"
   ]
  },
  {
   "cell_type": "code",
   "execution_count": 3,
   "id": "6fab3175",
   "metadata": {},
   "outputs": [],
   "source": [
    "# parameter search space:\n",
    "orders = [2, 3, 4, 5] # modulator order\n",
    "osr_values = [32, 64, 128, 256] # oversampling ratio\n",
    "nlev_values = [2, 3] # number of DAC levels\n",
    "Hinf_values = [1.0, 1.5, 2.0] # feedback gain\n",
    "forms = [\"CRFB\", \"CRFF\", \"CIFB\", \"CIFF\", \"CRFBD\", \"CRFFD\"] # modulator architectures\n",
    "tdac = [0, 1] # DAC sampling times"
   ]
  },
  {
   "cell_type": "code",
   "execution_count": 4,
   "id": "f5dbcf1f",
   "metadata": {},
   "outputs": [],
   "source": [
    "# store resutls:\n",
    "results = []"
   ]
  },
  {
   "cell_type": "code",
   "execution_count": 5,
   "id": "89776826",
   "metadata": {},
   "outputs": [
    {
     "name": "stderr",
     "output_type": "stream",
     "text": [
      "INFO:root:Simulating discrete-time analog frontend\n"
     ]
    },
    {
     "name": "stdout",
     "output_type": "stream",
     "text": [
      "Sampling frequency: 1.28 MHz\n",
      "###################################\n",
      "Testing: order=2, osr=32, nlev=2, Hinf=1.0, form=CRFB\n",
      "###################################\n"
     ]
    },
    {
     "name": "stderr",
     "output_type": "stream",
     "text": [
      "WARNING:cbadc.digital_backend:Discrete time Wiener filter not properly implemented. Results may be incorrect.\n",
      "C:\\Users\\frang\\AppData\\Local\\Packages\\PythonSoftwareFoundation.Python.3.11_qbz5n2kfra8p0\\LocalCache\\local-packages\\Python311\\site-packages\\cbadc\\digital_backend.py:238: RuntimeWarning: overflow encountered in matmul\n",
      "  m_v[i + 1] = self._Af @ m_v[i] + self._Bf @ s[i]\n",
      "C:\\Users\\frang\\AppData\\Local\\Packages\\PythonSoftwareFoundation.Python.3.11_qbz5n2kfra8p0\\LocalCache\\local-packages\\Python311\\site-packages\\cbadc\\digital_backend.py:238: RuntimeWarning: invalid value encountered in matmul\n",
      "  m_v[i + 1] = self._Af @ m_v[i] + self._Bf @ s[i]\n",
      "C:\\Users\\frang\\AppData\\Local\\Packages\\PythonSoftwareFoundation.Python.3.11_qbz5n2kfra8p0\\LocalCache\\local-packages\\Python311\\site-packages\\cbadc\\digital_backend.py:242: RuntimeWarning: invalid value encountered in matmul\n",
      "  u_hat[i] = self._W @ (m_v[i + 1] - m_v[i])\n",
      "INFO:root:Simulating discrete-time analog frontend\n"
     ]
    },
    {
     "name": "stdout",
     "output_type": "stream",
     "text": [
      "Sampling frequency: 1.28 MHz\n",
      "###################################\n",
      "Testing: order=2, osr=32, nlev=2, Hinf=1.0, form=CRFF\n",
      "###################################\n"
     ]
    },
    {
     "name": "stderr",
     "output_type": "stream",
     "text": [
      "WARNING:cbadc.digital_backend:Discrete time Wiener filter not properly implemented. Results may be incorrect.\n",
      "INFO:root:Simulating discrete-time analog frontend\n"
     ]
    },
    {
     "name": "stdout",
     "output_type": "stream",
     "text": [
      "Sampling frequency: 1.28 MHz\n",
      "###################################\n",
      "Testing: order=2, osr=32, nlev=2, Hinf=1.0, form=CIFB\n",
      "###################################\n"
     ]
    },
    {
     "name": "stderr",
     "output_type": "stream",
     "text": [
      "WARNING:cbadc.digital_backend:Discrete time Wiener filter not properly implemented. Results may be incorrect.\n",
      "C:\\Users\\frang\\AppData\\Local\\Packages\\PythonSoftwareFoundation.Python.3.11_qbz5n2kfra8p0\\LocalCache\\local-packages\\Python311\\site-packages\\cbadc\\analog_frontend.py:1482: RuntimeWarning: invalid value encountered in multiply\n",
      "  np.fft.fft(u_hat[warm_up:] * window[:, np.newaxis], axis=0), axes=0\n",
      "C:\\Users\\frang\\AppData\\Local\\Packages\\PythonSoftwareFoundation.Python.3.11_qbz5n2kfra8p0\\LocalCache\\local-packages\\Python311\\site-packages\\numpy\\fft\\_pocketfft.py:94: RuntimeWarning: invalid value encountered in fft\n",
      "  return ufunc(a, fct, axes=[(axis,), (), (axis,)], out=out)\n",
      "INFO:root:Simulating discrete-time analog frontend\n"
     ]
    },
    {
     "name": "stdout",
     "output_type": "stream",
     "text": [
      "Sampling frequency: 1.28 MHz\n",
      "###################################\n",
      "Testing: order=2, osr=32, nlev=2, Hinf=1.0, form=CIFF\n",
      "###################################\n"
     ]
    },
    {
     "name": "stderr",
     "output_type": "stream",
     "text": [
      "WARNING:cbadc.digital_backend:Discrete time Wiener filter not properly implemented. Results may be incorrect.\n",
      "INFO:root:Simulating discrete-time analog frontend\n"
     ]
    },
    {
     "name": "stdout",
     "output_type": "stream",
     "text": [
      "Sampling frequency: 1.28 MHz\n",
      "###################################\n",
      "Testing: order=2, osr=32, nlev=2, Hinf=1.0, form=CRFBD\n",
      "###################################\n"
     ]
    },
    {
     "name": "stderr",
     "output_type": "stream",
     "text": [
      "WARNING:cbadc.digital_backend:Discrete time Wiener filter not properly implemented. Results may be incorrect.\n",
      "INFO:root:Simulating discrete-time analog frontend\n"
     ]
    },
    {
     "name": "stdout",
     "output_type": "stream",
     "text": [
      "Sampling frequency: 1.28 MHz\n",
      "###################################\n",
      "Testing: order=2, osr=32, nlev=2, Hinf=1.0, form=CRFFD\n",
      "###################################\n"
     ]
    },
    {
     "name": "stderr",
     "output_type": "stream",
     "text": [
      "WARNING:cbadc.digital_backend:Discrete time Wiener filter not properly implemented. Results may be incorrect.\n",
      "INFO:root:Simulating discrete-time analog frontend\n"
     ]
    },
    {
     "name": "stdout",
     "output_type": "stream",
     "text": [
      "Sampling frequency: 1.28 MHz\n",
      "###################################\n",
      "Testing: order=2, osr=32, nlev=2, Hinf=1.5, form=CRFB\n",
      "###################################\n"
     ]
    },
    {
     "name": "stderr",
     "output_type": "stream",
     "text": [
      "WARNING:cbadc.digital_backend:Discrete time Wiener filter not properly implemented. Results may be incorrect.\n",
      "INFO:root:Simulating discrete-time analog frontend\n"
     ]
    },
    {
     "name": "stdout",
     "output_type": "stream",
     "text": [
      "Sampling frequency: 1.28 MHz\n",
      "###################################\n",
      "Testing: order=2, osr=32, nlev=2, Hinf=1.5, form=CRFF\n",
      "###################################\n"
     ]
    },
    {
     "name": "stderr",
     "output_type": "stream",
     "text": [
      "WARNING:cbadc.digital_backend:Discrete time Wiener filter not properly implemented. Results may be incorrect.\n",
      "INFO:root:Simulating discrete-time analog frontend\n"
     ]
    },
    {
     "name": "stdout",
     "output_type": "stream",
     "text": [
      "Sampling frequency: 1.28 MHz\n",
      "###################################\n",
      "Testing: order=2, osr=32, nlev=2, Hinf=1.5, form=CIFB\n",
      "###################################\n"
     ]
    },
    {
     "name": "stderr",
     "output_type": "stream",
     "text": [
      "WARNING:cbadc.digital_backend:Discrete time Wiener filter not properly implemented. Results may be incorrect.\n",
      "INFO:root:Simulating discrete-time analog frontend\n"
     ]
    },
    {
     "name": "stdout",
     "output_type": "stream",
     "text": [
      "Sampling frequency: 1.28 MHz\n",
      "###################################\n",
      "Testing: order=2, osr=32, nlev=2, Hinf=1.5, form=CIFF\n",
      "###################################\n"
     ]
    },
    {
     "name": "stderr",
     "output_type": "stream",
     "text": [
      "WARNING:cbadc.digital_backend:Discrete time Wiener filter not properly implemented. Results may be incorrect.\n",
      "INFO:root:Simulating discrete-time analog frontend\n"
     ]
    },
    {
     "name": "stdout",
     "output_type": "stream",
     "text": [
      "Sampling frequency: 1.28 MHz\n",
      "###################################\n",
      "Testing: order=2, osr=32, nlev=2, Hinf=1.5, form=CRFBD\n",
      "###################################\n"
     ]
    },
    {
     "name": "stderr",
     "output_type": "stream",
     "text": [
      "WARNING:cbadc.digital_backend:Discrete time Wiener filter not properly implemented. Results may be incorrect.\n",
      "INFO:root:Simulating discrete-time analog frontend\n"
     ]
    },
    {
     "name": "stdout",
     "output_type": "stream",
     "text": [
      "Sampling frequency: 1.28 MHz\n",
      "###################################\n",
      "Testing: order=2, osr=32, nlev=2, Hinf=1.5, form=CRFFD\n",
      "###################################\n"
     ]
    },
    {
     "name": "stderr",
     "output_type": "stream",
     "text": [
      "WARNING:cbadc.digital_backend:Discrete time Wiener filter not properly implemented. Results may be incorrect.\n",
      "INFO:root:Simulating discrete-time analog frontend\n"
     ]
    },
    {
     "name": "stdout",
     "output_type": "stream",
     "text": [
      "Sampling frequency: 1.28 MHz\n",
      "###################################\n",
      "Testing: order=2, osr=32, nlev=2, Hinf=2.0, form=CRFB\n",
      "###################################\n"
     ]
    },
    {
     "name": "stderr",
     "output_type": "stream",
     "text": [
      "WARNING:cbadc.digital_backend:Discrete time Wiener filter not properly implemented. Results may be incorrect.\n",
      "INFO:root:Simulating discrete-time analog frontend\n"
     ]
    },
    {
     "name": "stdout",
     "output_type": "stream",
     "text": [
      "Sampling frequency: 1.28 MHz\n",
      "###################################\n",
      "Testing: order=2, osr=32, nlev=2, Hinf=2.0, form=CRFF\n",
      "###################################\n"
     ]
    },
    {
     "name": "stderr",
     "output_type": "stream",
     "text": [
      "WARNING:cbadc.digital_backend:Discrete time Wiener filter not properly implemented. Results may be incorrect.\n",
      "INFO:root:Simulating discrete-time analog frontend\n"
     ]
    },
    {
     "name": "stdout",
     "output_type": "stream",
     "text": [
      "Sampling frequency: 1.28 MHz\n",
      "###################################\n",
      "Testing: order=2, osr=32, nlev=2, Hinf=2.0, form=CIFB\n",
      "###################################\n"
     ]
    },
    {
     "name": "stderr",
     "output_type": "stream",
     "text": [
      "WARNING:cbadc.digital_backend:Discrete time Wiener filter not properly implemented. Results may be incorrect.\n",
      "INFO:root:Simulating discrete-time analog frontend\n"
     ]
    },
    {
     "name": "stdout",
     "output_type": "stream",
     "text": [
      "Sampling frequency: 1.28 MHz\n",
      "###################################\n",
      "Testing: order=2, osr=32, nlev=2, Hinf=2.0, form=CIFF\n",
      "###################################\n"
     ]
    },
    {
     "name": "stderr",
     "output_type": "stream",
     "text": [
      "WARNING:cbadc.digital_backend:Discrete time Wiener filter not properly implemented. Results may be incorrect.\n",
      "INFO:root:Simulating discrete-time analog frontend\n"
     ]
    },
    {
     "name": "stdout",
     "output_type": "stream",
     "text": [
      "Sampling frequency: 1.28 MHz\n",
      "###################################\n",
      "Testing: order=2, osr=32, nlev=2, Hinf=2.0, form=CRFBD\n",
      "###################################\n"
     ]
    },
    {
     "name": "stderr",
     "output_type": "stream",
     "text": [
      "WARNING:cbadc.digital_backend:Discrete time Wiener filter not properly implemented. Results may be incorrect.\n",
      "INFO:root:Simulating discrete-time analog frontend\n"
     ]
    },
    {
     "name": "stdout",
     "output_type": "stream",
     "text": [
      "Sampling frequency: 1.28 MHz\n",
      "###################################\n",
      "Testing: order=2, osr=32, nlev=2, Hinf=2.0, form=CRFFD\n",
      "###################################\n"
     ]
    },
    {
     "name": "stderr",
     "output_type": "stream",
     "text": [
      "WARNING:cbadc.digital_backend:Discrete time Wiener filter not properly implemented. Results may be incorrect.\n",
      "INFO:root:Simulating discrete-time analog frontend\n"
     ]
    },
    {
     "name": "stdout",
     "output_type": "stream",
     "text": [
      "Sampling frequency: 1.28 MHz\n",
      "###################################\n",
      "Testing: order=2, osr=32, nlev=3, Hinf=1.0, form=CRFB\n",
      "###################################\n"
     ]
    },
    {
     "name": "stderr",
     "output_type": "stream",
     "text": [
      "WARNING:cbadc.digital_backend:Discrete time Wiener filter not properly implemented. Results may be incorrect.\n",
      "INFO:root:Simulating discrete-time analog frontend\n"
     ]
    },
    {
     "name": "stdout",
     "output_type": "stream",
     "text": [
      "Sampling frequency: 1.28 MHz\n",
      "###################################\n",
      "Testing: order=2, osr=32, nlev=3, Hinf=1.0, form=CRFF\n",
      "###################################\n"
     ]
    },
    {
     "name": "stderr",
     "output_type": "stream",
     "text": [
      "WARNING:cbadc.digital_backend:Discrete time Wiener filter not properly implemented. Results may be incorrect.\n",
      "INFO:root:Simulating discrete-time analog frontend\n"
     ]
    },
    {
     "name": "stdout",
     "output_type": "stream",
     "text": [
      "Sampling frequency: 1.28 MHz\n",
      "###################################\n",
      "Testing: order=2, osr=32, nlev=3, Hinf=1.0, form=CIFB\n",
      "###################################\n"
     ]
    },
    {
     "name": "stderr",
     "output_type": "stream",
     "text": [
      "WARNING:cbadc.digital_backend:Discrete time Wiener filter not properly implemented. Results may be incorrect.\n",
      "INFO:root:Simulating discrete-time analog frontend\n"
     ]
    },
    {
     "name": "stdout",
     "output_type": "stream",
     "text": [
      "Sampling frequency: 1.28 MHz\n",
      "###################################\n",
      "Testing: order=2, osr=32, nlev=3, Hinf=1.0, form=CIFF\n",
      "###################################\n"
     ]
    },
    {
     "name": "stderr",
     "output_type": "stream",
     "text": [
      "WARNING:cbadc.digital_backend:Discrete time Wiener filter not properly implemented. Results may be incorrect.\n",
      "INFO:root:Simulating discrete-time analog frontend\n"
     ]
    },
    {
     "name": "stdout",
     "output_type": "stream",
     "text": [
      "Sampling frequency: 1.28 MHz\n",
      "###################################\n",
      "Testing: order=2, osr=32, nlev=3, Hinf=1.0, form=CRFBD\n",
      "###################################\n"
     ]
    },
    {
     "name": "stderr",
     "output_type": "stream",
     "text": [
      "WARNING:cbadc.digital_backend:Discrete time Wiener filter not properly implemented. Results may be incorrect.\n",
      "INFO:root:Simulating discrete-time analog frontend\n"
     ]
    },
    {
     "name": "stdout",
     "output_type": "stream",
     "text": [
      "Sampling frequency: 1.28 MHz\n",
      "###################################\n",
      "Testing: order=2, osr=32, nlev=3, Hinf=1.0, form=CRFFD\n",
      "###################################\n"
     ]
    },
    {
     "name": "stderr",
     "output_type": "stream",
     "text": [
      "WARNING:cbadc.digital_backend:Discrete time Wiener filter not properly implemented. Results may be incorrect.\n",
      "INFO:root:Simulating discrete-time analog frontend\n"
     ]
    },
    {
     "name": "stdout",
     "output_type": "stream",
     "text": [
      "Sampling frequency: 1.28 MHz\n",
      "###################################\n",
      "Testing: order=2, osr=32, nlev=3, Hinf=1.5, form=CRFB\n",
      "###################################\n"
     ]
    },
    {
     "name": "stderr",
     "output_type": "stream",
     "text": [
      "WARNING:cbadc.digital_backend:Discrete time Wiener filter not properly implemented. Results may be incorrect.\n",
      "INFO:root:Simulating discrete-time analog frontend\n"
     ]
    },
    {
     "name": "stdout",
     "output_type": "stream",
     "text": [
      "Sampling frequency: 1.28 MHz\n",
      "###################################\n",
      "Testing: order=2, osr=32, nlev=3, Hinf=1.5, form=CRFF\n",
      "###################################\n"
     ]
    },
    {
     "name": "stderr",
     "output_type": "stream",
     "text": [
      "WARNING:cbadc.digital_backend:Discrete time Wiener filter not properly implemented. Results may be incorrect.\n",
      "INFO:root:Simulating discrete-time analog frontend\n"
     ]
    },
    {
     "name": "stdout",
     "output_type": "stream",
     "text": [
      "Sampling frequency: 1.28 MHz\n",
      "###################################\n",
      "Testing: order=2, osr=32, nlev=3, Hinf=1.5, form=CIFB\n",
      "###################################\n"
     ]
    },
    {
     "name": "stderr",
     "output_type": "stream",
     "text": [
      "WARNING:cbadc.digital_backend:Discrete time Wiener filter not properly implemented. Results may be incorrect.\n",
      "INFO:root:Simulating discrete-time analog frontend\n"
     ]
    },
    {
     "name": "stdout",
     "output_type": "stream",
     "text": [
      "Sampling frequency: 1.28 MHz\n",
      "###################################\n",
      "Testing: order=2, osr=32, nlev=3, Hinf=1.5, form=CIFF\n",
      "###################################\n"
     ]
    },
    {
     "name": "stderr",
     "output_type": "stream",
     "text": [
      "WARNING:cbadc.digital_backend:Discrete time Wiener filter not properly implemented. Results may be incorrect.\n",
      "INFO:root:Simulating discrete-time analog frontend\n"
     ]
    },
    {
     "name": "stdout",
     "output_type": "stream",
     "text": [
      "Sampling frequency: 1.28 MHz\n",
      "###################################\n",
      "Testing: order=2, osr=32, nlev=3, Hinf=1.5, form=CRFBD\n",
      "###################################\n"
     ]
    },
    {
     "name": "stderr",
     "output_type": "stream",
     "text": [
      "WARNING:cbadc.digital_backend:Discrete time Wiener filter not properly implemented. Results may be incorrect.\n",
      "INFO:root:Simulating discrete-time analog frontend\n"
     ]
    },
    {
     "name": "stdout",
     "output_type": "stream",
     "text": [
      "Sampling frequency: 1.28 MHz\n",
      "###################################\n",
      "Testing: order=2, osr=32, nlev=3, Hinf=1.5, form=CRFFD\n",
      "###################################\n"
     ]
    },
    {
     "name": "stderr",
     "output_type": "stream",
     "text": [
      "WARNING:cbadc.digital_backend:Discrete time Wiener filter not properly implemented. Results may be incorrect.\n",
      "INFO:root:Simulating discrete-time analog frontend\n"
     ]
    },
    {
     "name": "stdout",
     "output_type": "stream",
     "text": [
      "Sampling frequency: 1.28 MHz\n",
      "###################################\n",
      "Testing: order=2, osr=32, nlev=3, Hinf=2.0, form=CRFB\n",
      "###################################\n"
     ]
    },
    {
     "name": "stderr",
     "output_type": "stream",
     "text": [
      "WARNING:cbadc.digital_backend:Discrete time Wiener filter not properly implemented. Results may be incorrect.\n",
      "INFO:root:Simulating discrete-time analog frontend\n"
     ]
    },
    {
     "name": "stdout",
     "output_type": "stream",
     "text": [
      "Sampling frequency: 1.28 MHz\n",
      "###################################\n",
      "Testing: order=2, osr=32, nlev=3, Hinf=2.0, form=CRFF\n",
      "###################################\n"
     ]
    },
    {
     "name": "stderr",
     "output_type": "stream",
     "text": [
      "WARNING:cbadc.digital_backend:Discrete time Wiener filter not properly implemented. Results may be incorrect.\n",
      "INFO:root:Simulating discrete-time analog frontend\n"
     ]
    },
    {
     "name": "stdout",
     "output_type": "stream",
     "text": [
      "Sampling frequency: 1.28 MHz\n",
      "###################################\n",
      "Testing: order=2, osr=32, nlev=3, Hinf=2.0, form=CIFB\n",
      "###################################\n"
     ]
    },
    {
     "name": "stderr",
     "output_type": "stream",
     "text": [
      "WARNING:cbadc.digital_backend:Discrete time Wiener filter not properly implemented. Results may be incorrect.\n",
      "INFO:root:Simulating discrete-time analog frontend\n"
     ]
    },
    {
     "name": "stdout",
     "output_type": "stream",
     "text": [
      "Sampling frequency: 1.28 MHz\n",
      "###################################\n",
      "Testing: order=2, osr=32, nlev=3, Hinf=2.0, form=CIFF\n",
      "###################################\n"
     ]
    },
    {
     "name": "stderr",
     "output_type": "stream",
     "text": [
      "WARNING:cbadc.digital_backend:Discrete time Wiener filter not properly implemented. Results may be incorrect.\n",
      "INFO:root:Simulating discrete-time analog frontend\n"
     ]
    },
    {
     "name": "stdout",
     "output_type": "stream",
     "text": [
      "Sampling frequency: 1.28 MHz\n",
      "###################################\n",
      "Testing: order=2, osr=32, nlev=3, Hinf=2.0, form=CRFBD\n",
      "###################################\n"
     ]
    },
    {
     "name": "stderr",
     "output_type": "stream",
     "text": [
      "WARNING:cbadc.digital_backend:Discrete time Wiener filter not properly implemented. Results may be incorrect.\n",
      "INFO:root:Simulating discrete-time analog frontend\n"
     ]
    },
    {
     "name": "stdout",
     "output_type": "stream",
     "text": [
      "Sampling frequency: 1.28 MHz\n",
      "###################################\n",
      "Testing: order=2, osr=32, nlev=3, Hinf=2.0, form=CRFFD\n",
      "###################################\n"
     ]
    },
    {
     "name": "stderr",
     "output_type": "stream",
     "text": [
      "WARNING:cbadc.digital_backend:Discrete time Wiener filter not properly implemented. Results may be incorrect.\n",
      "INFO:root:Simulating discrete-time analog frontend\n"
     ]
    },
    {
     "name": "stdout",
     "output_type": "stream",
     "text": [
      "Sampling frequency: 2.56 MHz\n",
      "###################################\n",
      "Testing: order=2, osr=64, nlev=2, Hinf=1.0, form=CRFB\n",
      "###################################\n"
     ]
    },
    {
     "name": "stderr",
     "output_type": "stream",
     "text": [
      "WARNING:cbadc.digital_backend:Discrete time Wiener filter not properly implemented. Results may be incorrect.\n",
      "INFO:root:Simulating discrete-time analog frontend\n"
     ]
    },
    {
     "name": "stdout",
     "output_type": "stream",
     "text": [
      "Sampling frequency: 2.56 MHz\n",
      "###################################\n",
      "Testing: order=2, osr=64, nlev=2, Hinf=1.0, form=CRFF\n",
      "###################################\n"
     ]
    },
    {
     "name": "stderr",
     "output_type": "stream",
     "text": [
      "WARNING:cbadc.digital_backend:Discrete time Wiener filter not properly implemented. Results may be incorrect.\n",
      "INFO:root:Simulating discrete-time analog frontend\n"
     ]
    },
    {
     "name": "stdout",
     "output_type": "stream",
     "text": [
      "Sampling frequency: 2.56 MHz\n",
      "###################################\n",
      "Testing: order=2, osr=64, nlev=2, Hinf=1.0, form=CIFB\n",
      "###################################\n"
     ]
    },
    {
     "name": "stderr",
     "output_type": "stream",
     "text": [
      "WARNING:cbadc.digital_backend:Discrete time Wiener filter not properly implemented. Results may be incorrect.\n",
      "INFO:root:Simulating discrete-time analog frontend\n"
     ]
    },
    {
     "name": "stdout",
     "output_type": "stream",
     "text": [
      "Sampling frequency: 2.56 MHz\n",
      "###################################\n",
      "Testing: order=2, osr=64, nlev=2, Hinf=1.0, form=CIFF\n",
      "###################################\n"
     ]
    },
    {
     "name": "stderr",
     "output_type": "stream",
     "text": [
      "WARNING:cbadc.digital_backend:Discrete time Wiener filter not properly implemented. Results may be incorrect.\n",
      "INFO:root:Simulating discrete-time analog frontend\n"
     ]
    },
    {
     "name": "stdout",
     "output_type": "stream",
     "text": [
      "Sampling frequency: 2.56 MHz\n",
      "###################################\n",
      "Testing: order=2, osr=64, nlev=2, Hinf=1.0, form=CRFBD\n",
      "###################################\n"
     ]
    },
    {
     "name": "stderr",
     "output_type": "stream",
     "text": [
      "WARNING:cbadc.digital_backend:Discrete time Wiener filter not properly implemented. Results may be incorrect.\n",
      "INFO:root:Simulating discrete-time analog frontend\n"
     ]
    },
    {
     "name": "stdout",
     "output_type": "stream",
     "text": [
      "Sampling frequency: 2.56 MHz\n",
      "###################################\n",
      "Testing: order=2, osr=64, nlev=2, Hinf=1.0, form=CRFFD\n",
      "###################################\n"
     ]
    },
    {
     "name": "stderr",
     "output_type": "stream",
     "text": [
      "WARNING:cbadc.digital_backend:Discrete time Wiener filter not properly implemented. Results may be incorrect.\n",
      "INFO:root:Simulating discrete-time analog frontend\n"
     ]
    },
    {
     "name": "stdout",
     "output_type": "stream",
     "text": [
      "Sampling frequency: 2.56 MHz\n",
      "###################################\n",
      "Testing: order=2, osr=64, nlev=2, Hinf=1.5, form=CRFB\n",
      "###################################\n"
     ]
    },
    {
     "name": "stderr",
     "output_type": "stream",
     "text": [
      "WARNING:cbadc.digital_backend:Discrete time Wiener filter not properly implemented. Results may be incorrect.\n",
      "INFO:root:Simulating discrete-time analog frontend\n"
     ]
    },
    {
     "name": "stdout",
     "output_type": "stream",
     "text": [
      "Sampling frequency: 2.56 MHz\n",
      "###################################\n",
      "Testing: order=2, osr=64, nlev=2, Hinf=1.5, form=CRFF\n",
      "###################################\n"
     ]
    },
    {
     "name": "stderr",
     "output_type": "stream",
     "text": [
      "WARNING:cbadc.digital_backend:Discrete time Wiener filter not properly implemented. Results may be incorrect.\n",
      "INFO:root:Simulating discrete-time analog frontend\n"
     ]
    },
    {
     "name": "stdout",
     "output_type": "stream",
     "text": [
      "Sampling frequency: 2.56 MHz\n",
      "###################################\n",
      "Testing: order=2, osr=64, nlev=2, Hinf=1.5, form=CIFB\n",
      "###################################\n"
     ]
    },
    {
     "name": "stderr",
     "output_type": "stream",
     "text": [
      "WARNING:cbadc.digital_backend:Discrete time Wiener filter not properly implemented. Results may be incorrect.\n",
      "INFO:root:Simulating discrete-time analog frontend\n"
     ]
    },
    {
     "name": "stdout",
     "output_type": "stream",
     "text": [
      "Sampling frequency: 2.56 MHz\n",
      "###################################\n",
      "Testing: order=2, osr=64, nlev=2, Hinf=1.5, form=CIFF\n",
      "###################################\n"
     ]
    },
    {
     "name": "stderr",
     "output_type": "stream",
     "text": [
      "WARNING:cbadc.digital_backend:Discrete time Wiener filter not properly implemented. Results may be incorrect.\n",
      "INFO:root:Simulating discrete-time analog frontend\n"
     ]
    },
    {
     "name": "stdout",
     "output_type": "stream",
     "text": [
      "Sampling frequency: 2.56 MHz\n",
      "###################################\n",
      "Testing: order=2, osr=64, nlev=2, Hinf=1.5, form=CRFBD\n",
      "###################################\n"
     ]
    },
    {
     "name": "stderr",
     "output_type": "stream",
     "text": [
      "WARNING:cbadc.digital_backend:Discrete time Wiener filter not properly implemented. Results may be incorrect.\n",
      "INFO:root:Simulating discrete-time analog frontend\n"
     ]
    },
    {
     "name": "stdout",
     "output_type": "stream",
     "text": [
      "Sampling frequency: 2.56 MHz\n",
      "###################################\n",
      "Testing: order=2, osr=64, nlev=2, Hinf=1.5, form=CRFFD\n",
      "###################################\n"
     ]
    },
    {
     "name": "stderr",
     "output_type": "stream",
     "text": [
      "WARNING:cbadc.digital_backend:Discrete time Wiener filter not properly implemented. Results may be incorrect.\n",
      "INFO:root:Simulating discrete-time analog frontend\n"
     ]
    },
    {
     "name": "stdout",
     "output_type": "stream",
     "text": [
      "Sampling frequency: 2.56 MHz\n",
      "###################################\n",
      "Testing: order=2, osr=64, nlev=2, Hinf=2.0, form=CRFB\n",
      "###################################\n"
     ]
    },
    {
     "name": "stderr",
     "output_type": "stream",
     "text": [
      "WARNING:cbadc.digital_backend:Discrete time Wiener filter not properly implemented. Results may be incorrect.\n",
      "INFO:root:Simulating discrete-time analog frontend\n"
     ]
    },
    {
     "name": "stdout",
     "output_type": "stream",
     "text": [
      "Sampling frequency: 2.56 MHz\n",
      "###################################\n",
      "Testing: order=2, osr=64, nlev=2, Hinf=2.0, form=CRFF\n",
      "###################################\n"
     ]
    },
    {
     "name": "stderr",
     "output_type": "stream",
     "text": [
      "WARNING:cbadc.digital_backend:Discrete time Wiener filter not properly implemented. Results may be incorrect.\n",
      "INFO:root:Simulating discrete-time analog frontend\n"
     ]
    },
    {
     "name": "stdout",
     "output_type": "stream",
     "text": [
      "Sampling frequency: 2.56 MHz\n",
      "###################################\n",
      "Testing: order=2, osr=64, nlev=2, Hinf=2.0, form=CIFB\n",
      "###################################\n"
     ]
    },
    {
     "name": "stderr",
     "output_type": "stream",
     "text": [
      "WARNING:cbadc.digital_backend:Discrete time Wiener filter not properly implemented. Results may be incorrect.\n",
      "INFO:root:Simulating discrete-time analog frontend\n"
     ]
    },
    {
     "name": "stdout",
     "output_type": "stream",
     "text": [
      "Sampling frequency: 2.56 MHz\n",
      "###################################\n",
      "Testing: order=2, osr=64, nlev=2, Hinf=2.0, form=CIFF\n",
      "###################################\n"
     ]
    },
    {
     "name": "stderr",
     "output_type": "stream",
     "text": [
      "WARNING:cbadc.digital_backend:Discrete time Wiener filter not properly implemented. Results may be incorrect.\n",
      "INFO:root:Simulating discrete-time analog frontend\n"
     ]
    },
    {
     "name": "stdout",
     "output_type": "stream",
     "text": [
      "Sampling frequency: 2.56 MHz\n",
      "###################################\n",
      "Testing: order=2, osr=64, nlev=2, Hinf=2.0, form=CRFBD\n",
      "###################################\n"
     ]
    },
    {
     "name": "stderr",
     "output_type": "stream",
     "text": [
      "WARNING:cbadc.digital_backend:Discrete time Wiener filter not properly implemented. Results may be incorrect.\n",
      "INFO:root:Simulating discrete-time analog frontend\n"
     ]
    },
    {
     "name": "stdout",
     "output_type": "stream",
     "text": [
      "Sampling frequency: 2.56 MHz\n",
      "###################################\n",
      "Testing: order=2, osr=64, nlev=2, Hinf=2.0, form=CRFFD\n",
      "###################################\n"
     ]
    },
    {
     "name": "stderr",
     "output_type": "stream",
     "text": [
      "WARNING:cbadc.digital_backend:Discrete time Wiener filter not properly implemented. Results may be incorrect.\n",
      "INFO:root:Simulating discrete-time analog frontend\n"
     ]
    },
    {
     "name": "stdout",
     "output_type": "stream",
     "text": [
      "Sampling frequency: 2.56 MHz\n",
      "###################################\n",
      "Testing: order=2, osr=64, nlev=3, Hinf=1.0, form=CRFB\n",
      "###################################\n"
     ]
    },
    {
     "name": "stderr",
     "output_type": "stream",
     "text": [
      "WARNING:cbadc.digital_backend:Discrete time Wiener filter not properly implemented. Results may be incorrect.\n",
      "INFO:root:Simulating discrete-time analog frontend\n"
     ]
    },
    {
     "name": "stdout",
     "output_type": "stream",
     "text": [
      "Sampling frequency: 2.56 MHz\n",
      "###################################\n",
      "Testing: order=2, osr=64, nlev=3, Hinf=1.0, form=CRFF\n",
      "###################################\n"
     ]
    },
    {
     "name": "stderr",
     "output_type": "stream",
     "text": [
      "WARNING:cbadc.digital_backend:Discrete time Wiener filter not properly implemented. Results may be incorrect.\n",
      "INFO:root:Simulating discrete-time analog frontend\n"
     ]
    },
    {
     "name": "stdout",
     "output_type": "stream",
     "text": [
      "Sampling frequency: 2.56 MHz\n",
      "###################################\n",
      "Testing: order=2, osr=64, nlev=3, Hinf=1.0, form=CIFB\n",
      "###################################\n"
     ]
    },
    {
     "name": "stderr",
     "output_type": "stream",
     "text": [
      "WARNING:cbadc.digital_backend:Discrete time Wiener filter not properly implemented. Results may be incorrect.\n",
      "INFO:root:Simulating discrete-time analog frontend\n"
     ]
    },
    {
     "name": "stdout",
     "output_type": "stream",
     "text": [
      "Sampling frequency: 2.56 MHz\n",
      "###################################\n",
      "Testing: order=2, osr=64, nlev=3, Hinf=1.0, form=CIFF\n",
      "###################################\n"
     ]
    },
    {
     "name": "stderr",
     "output_type": "stream",
     "text": [
      "WARNING:cbadc.digital_backend:Discrete time Wiener filter not properly implemented. Results may be incorrect.\n",
      "INFO:root:Simulating discrete-time analog frontend\n"
     ]
    },
    {
     "name": "stdout",
     "output_type": "stream",
     "text": [
      "Sampling frequency: 2.56 MHz\n",
      "###################################\n",
      "Testing: order=2, osr=64, nlev=3, Hinf=1.0, form=CRFBD\n",
      "###################################\n"
     ]
    },
    {
     "name": "stderr",
     "output_type": "stream",
     "text": [
      "WARNING:cbadc.digital_backend:Discrete time Wiener filter not properly implemented. Results may be incorrect.\n",
      "INFO:root:Simulating discrete-time analog frontend\n"
     ]
    },
    {
     "name": "stdout",
     "output_type": "stream",
     "text": [
      "Sampling frequency: 2.56 MHz\n",
      "###################################\n",
      "Testing: order=2, osr=64, nlev=3, Hinf=1.0, form=CRFFD\n",
      "###################################\n"
     ]
    },
    {
     "name": "stderr",
     "output_type": "stream",
     "text": [
      "WARNING:cbadc.digital_backend:Discrete time Wiener filter not properly implemented. Results may be incorrect.\n",
      "INFO:root:Simulating discrete-time analog frontend\n"
     ]
    },
    {
     "name": "stdout",
     "output_type": "stream",
     "text": [
      "Sampling frequency: 2.56 MHz\n",
      "###################################\n",
      "Testing: order=2, osr=64, nlev=3, Hinf=1.5, form=CRFB\n",
      "###################################\n"
     ]
    },
    {
     "name": "stderr",
     "output_type": "stream",
     "text": [
      "WARNING:cbadc.digital_backend:Discrete time Wiener filter not properly implemented. Results may be incorrect.\n",
      "INFO:root:Simulating discrete-time analog frontend\n"
     ]
    },
    {
     "name": "stdout",
     "output_type": "stream",
     "text": [
      "Sampling frequency: 2.56 MHz\n",
      "###################################\n",
      "Testing: order=2, osr=64, nlev=3, Hinf=1.5, form=CRFF\n",
      "###################################\n"
     ]
    },
    {
     "name": "stderr",
     "output_type": "stream",
     "text": [
      "WARNING:cbadc.digital_backend:Discrete time Wiener filter not properly implemented. Results may be incorrect.\n",
      "INFO:root:Simulating discrete-time analog frontend\n"
     ]
    },
    {
     "name": "stdout",
     "output_type": "stream",
     "text": [
      "Sampling frequency: 2.56 MHz\n",
      "###################################\n",
      "Testing: order=2, osr=64, nlev=3, Hinf=1.5, form=CIFB\n",
      "###################################\n"
     ]
    },
    {
     "name": "stderr",
     "output_type": "stream",
     "text": [
      "WARNING:cbadc.digital_backend:Discrete time Wiener filter not properly implemented. Results may be incorrect.\n",
      "INFO:root:Simulating discrete-time analog frontend\n"
     ]
    },
    {
     "name": "stdout",
     "output_type": "stream",
     "text": [
      "Sampling frequency: 2.56 MHz\n",
      "###################################\n",
      "Testing: order=2, osr=64, nlev=3, Hinf=1.5, form=CIFF\n",
      "###################################\n"
     ]
    },
    {
     "name": "stderr",
     "output_type": "stream",
     "text": [
      "WARNING:cbadc.digital_backend:Discrete time Wiener filter not properly implemented. Results may be incorrect.\n",
      "INFO:root:Simulating discrete-time analog frontend\n"
     ]
    },
    {
     "name": "stdout",
     "output_type": "stream",
     "text": [
      "Sampling frequency: 2.56 MHz\n",
      "###################################\n",
      "Testing: order=2, osr=64, nlev=3, Hinf=1.5, form=CRFBD\n",
      "###################################\n"
     ]
    },
    {
     "name": "stderr",
     "output_type": "stream",
     "text": [
      "WARNING:cbadc.digital_backend:Discrete time Wiener filter not properly implemented. Results may be incorrect.\n",
      "INFO:root:Simulating discrete-time analog frontend\n"
     ]
    },
    {
     "name": "stdout",
     "output_type": "stream",
     "text": [
      "Sampling frequency: 2.56 MHz\n",
      "###################################\n",
      "Testing: order=2, osr=64, nlev=3, Hinf=1.5, form=CRFFD\n",
      "###################################\n"
     ]
    },
    {
     "name": "stderr",
     "output_type": "stream",
     "text": [
      "WARNING:cbadc.digital_backend:Discrete time Wiener filter not properly implemented. Results may be incorrect.\n",
      "INFO:root:Simulating discrete-time analog frontend\n"
     ]
    },
    {
     "name": "stdout",
     "output_type": "stream",
     "text": [
      "Sampling frequency: 2.56 MHz\n",
      "###################################\n",
      "Testing: order=2, osr=64, nlev=3, Hinf=2.0, form=CRFB\n",
      "###################################\n"
     ]
    },
    {
     "name": "stderr",
     "output_type": "stream",
     "text": [
      "WARNING:cbadc.digital_backend:Discrete time Wiener filter not properly implemented. Results may be incorrect.\n",
      "INFO:root:Simulating discrete-time analog frontend\n"
     ]
    },
    {
     "name": "stdout",
     "output_type": "stream",
     "text": [
      "Sampling frequency: 2.56 MHz\n",
      "###################################\n",
      "Testing: order=2, osr=64, nlev=3, Hinf=2.0, form=CRFF\n",
      "###################################\n"
     ]
    },
    {
     "name": "stderr",
     "output_type": "stream",
     "text": [
      "WARNING:cbadc.digital_backend:Discrete time Wiener filter not properly implemented. Results may be incorrect.\n",
      "INFO:root:Simulating discrete-time analog frontend\n"
     ]
    },
    {
     "name": "stdout",
     "output_type": "stream",
     "text": [
      "Sampling frequency: 2.56 MHz\n",
      "###################################\n",
      "Testing: order=2, osr=64, nlev=3, Hinf=2.0, form=CIFB\n",
      "###################################\n"
     ]
    },
    {
     "name": "stderr",
     "output_type": "stream",
     "text": [
      "WARNING:cbadc.digital_backend:Discrete time Wiener filter not properly implemented. Results may be incorrect.\n",
      "INFO:root:Simulating discrete-time analog frontend\n"
     ]
    },
    {
     "name": "stdout",
     "output_type": "stream",
     "text": [
      "Sampling frequency: 2.56 MHz\n",
      "###################################\n",
      "Testing: order=2, osr=64, nlev=3, Hinf=2.0, form=CIFF\n",
      "###################################\n"
     ]
    },
    {
     "name": "stderr",
     "output_type": "stream",
     "text": [
      "WARNING:cbadc.digital_backend:Discrete time Wiener filter not properly implemented. Results may be incorrect.\n",
      "INFO:root:Simulating discrete-time analog frontend\n"
     ]
    },
    {
     "name": "stdout",
     "output_type": "stream",
     "text": [
      "Sampling frequency: 2.56 MHz\n",
      "###################################\n",
      "Testing: order=2, osr=64, nlev=3, Hinf=2.0, form=CRFBD\n",
      "###################################\n"
     ]
    },
    {
     "name": "stderr",
     "output_type": "stream",
     "text": [
      "WARNING:cbadc.digital_backend:Discrete time Wiener filter not properly implemented. Results may be incorrect.\n",
      "INFO:root:Simulating discrete-time analog frontend\n"
     ]
    },
    {
     "name": "stdout",
     "output_type": "stream",
     "text": [
      "Sampling frequency: 2.56 MHz\n",
      "###################################\n",
      "Testing: order=2, osr=64, nlev=3, Hinf=2.0, form=CRFFD\n",
      "###################################\n"
     ]
    },
    {
     "name": "stderr",
     "output_type": "stream",
     "text": [
      "WARNING:cbadc.digital_backend:Discrete time Wiener filter not properly implemented. Results may be incorrect.\n",
      "INFO:root:Simulating discrete-time analog frontend\n"
     ]
    },
    {
     "name": "stdout",
     "output_type": "stream",
     "text": [
      "Sampling frequency: 5.12 MHz\n",
      "###################################\n",
      "Testing: order=2, osr=128, nlev=2, Hinf=1.0, form=CRFB\n",
      "###################################\n"
     ]
    },
    {
     "name": "stderr",
     "output_type": "stream",
     "text": [
      "WARNING:cbadc.digital_backend:Discrete time Wiener filter not properly implemented. Results may be incorrect.\n",
      "INFO:root:Simulating discrete-time analog frontend\n"
     ]
    },
    {
     "name": "stdout",
     "output_type": "stream",
     "text": [
      "Sampling frequency: 5.12 MHz\n",
      "###################################\n",
      "Testing: order=2, osr=128, nlev=2, Hinf=1.0, form=CRFF\n",
      "###################################\n"
     ]
    },
    {
     "name": "stderr",
     "output_type": "stream",
     "text": [
      "WARNING:cbadc.digital_backend:Discrete time Wiener filter not properly implemented. Results may be incorrect.\n",
      "INFO:root:Simulating discrete-time analog frontend\n"
     ]
    },
    {
     "name": "stdout",
     "output_type": "stream",
     "text": [
      "Sampling frequency: 5.12 MHz\n",
      "###################################\n",
      "Testing: order=2, osr=128, nlev=2, Hinf=1.0, form=CIFB\n",
      "###################################\n"
     ]
    },
    {
     "name": "stderr",
     "output_type": "stream",
     "text": [
      "WARNING:cbadc.digital_backend:Discrete time Wiener filter not properly implemented. Results may be incorrect.\n",
      "INFO:root:Simulating discrete-time analog frontend\n"
     ]
    },
    {
     "name": "stdout",
     "output_type": "stream",
     "text": [
      "Sampling frequency: 5.12 MHz\n",
      "###################################\n",
      "Testing: order=2, osr=128, nlev=2, Hinf=1.0, form=CIFF\n",
      "###################################\n"
     ]
    },
    {
     "name": "stderr",
     "output_type": "stream",
     "text": [
      "WARNING:cbadc.digital_backend:Discrete time Wiener filter not properly implemented. Results may be incorrect.\n",
      "INFO:root:Simulating discrete-time analog frontend\n"
     ]
    },
    {
     "name": "stdout",
     "output_type": "stream",
     "text": [
      "Sampling frequency: 5.12 MHz\n",
      "###################################\n",
      "Testing: order=2, osr=128, nlev=2, Hinf=1.0, form=CRFBD\n",
      "###################################\n"
     ]
    },
    {
     "name": "stderr",
     "output_type": "stream",
     "text": [
      "WARNING:cbadc.digital_backend:Discrete time Wiener filter not properly implemented. Results may be incorrect.\n",
      "INFO:root:Simulating discrete-time analog frontend\n"
     ]
    },
    {
     "name": "stdout",
     "output_type": "stream",
     "text": [
      "Sampling frequency: 5.12 MHz\n",
      "###################################\n",
      "Testing: order=2, osr=128, nlev=2, Hinf=1.0, form=CRFFD\n",
      "###################################\n"
     ]
    },
    {
     "name": "stderr",
     "output_type": "stream",
     "text": [
      "WARNING:cbadc.digital_backend:Discrete time Wiener filter not properly implemented. Results may be incorrect.\n",
      "INFO:root:Simulating discrete-time analog frontend\n"
     ]
    },
    {
     "name": "stdout",
     "output_type": "stream",
     "text": [
      "Sampling frequency: 5.12 MHz\n",
      "###################################\n",
      "Testing: order=2, osr=128, nlev=2, Hinf=1.5, form=CRFB\n",
      "###################################\n"
     ]
    },
    {
     "name": "stderr",
     "output_type": "stream",
     "text": [
      "WARNING:cbadc.digital_backend:Discrete time Wiener filter not properly implemented. Results may be incorrect.\n",
      "INFO:root:Simulating discrete-time analog frontend\n"
     ]
    },
    {
     "name": "stdout",
     "output_type": "stream",
     "text": [
      "Sampling frequency: 5.12 MHz\n",
      "###################################\n",
      "Testing: order=2, osr=128, nlev=2, Hinf=1.5, form=CRFF\n",
      "###################################\n"
     ]
    },
    {
     "name": "stderr",
     "output_type": "stream",
     "text": [
      "WARNING:cbadc.digital_backend:Discrete time Wiener filter not properly implemented. Results may be incorrect.\n",
      "INFO:root:Simulating discrete-time analog frontend\n"
     ]
    },
    {
     "name": "stdout",
     "output_type": "stream",
     "text": [
      "Sampling frequency: 5.12 MHz\n",
      "###################################\n",
      "Testing: order=2, osr=128, nlev=2, Hinf=1.5, form=CIFB\n",
      "###################################\n"
     ]
    },
    {
     "name": "stderr",
     "output_type": "stream",
     "text": [
      "WARNING:cbadc.digital_backend:Discrete time Wiener filter not properly implemented. Results may be incorrect.\n",
      "INFO:root:Simulating discrete-time analog frontend\n"
     ]
    },
    {
     "name": "stdout",
     "output_type": "stream",
     "text": [
      "Sampling frequency: 5.12 MHz\n",
      "###################################\n",
      "Testing: order=2, osr=128, nlev=2, Hinf=1.5, form=CIFF\n",
      "###################################\n"
     ]
    },
    {
     "name": "stderr",
     "output_type": "stream",
     "text": [
      "WARNING:cbadc.digital_backend:Discrete time Wiener filter not properly implemented. Results may be incorrect.\n",
      "INFO:root:Simulating discrete-time analog frontend\n"
     ]
    },
    {
     "name": "stdout",
     "output_type": "stream",
     "text": [
      "Sampling frequency: 5.12 MHz\n",
      "###################################\n",
      "Testing: order=2, osr=128, nlev=2, Hinf=1.5, form=CRFBD\n",
      "###################################\n"
     ]
    },
    {
     "name": "stderr",
     "output_type": "stream",
     "text": [
      "WARNING:cbadc.digital_backend:Discrete time Wiener filter not properly implemented. Results may be incorrect.\n",
      "INFO:root:Simulating discrete-time analog frontend\n"
     ]
    },
    {
     "name": "stdout",
     "output_type": "stream",
     "text": [
      "Sampling frequency: 5.12 MHz\n",
      "###################################\n",
      "Testing: order=2, osr=128, nlev=2, Hinf=1.5, form=CRFFD\n",
      "###################################\n"
     ]
    },
    {
     "name": "stderr",
     "output_type": "stream",
     "text": [
      "WARNING:cbadc.digital_backend:Discrete time Wiener filter not properly implemented. Results may be incorrect.\n",
      "INFO:root:Simulating discrete-time analog frontend\n"
     ]
    },
    {
     "name": "stdout",
     "output_type": "stream",
     "text": [
      "Sampling frequency: 5.12 MHz\n",
      "###################################\n",
      "Testing: order=2, osr=128, nlev=2, Hinf=2.0, form=CRFB\n",
      "###################################\n"
     ]
    },
    {
     "name": "stderr",
     "output_type": "stream",
     "text": [
      "WARNING:cbadc.digital_backend:Discrete time Wiener filter not properly implemented. Results may be incorrect.\n",
      "INFO:root:Simulating discrete-time analog frontend\n"
     ]
    },
    {
     "name": "stdout",
     "output_type": "stream",
     "text": [
      "Sampling frequency: 5.12 MHz\n",
      "###################################\n",
      "Testing: order=2, osr=128, nlev=2, Hinf=2.0, form=CRFF\n",
      "###################################\n"
     ]
    },
    {
     "name": "stderr",
     "output_type": "stream",
     "text": [
      "WARNING:cbadc.digital_backend:Discrete time Wiener filter not properly implemented. Results may be incorrect.\n",
      "INFO:root:Simulating discrete-time analog frontend\n"
     ]
    },
    {
     "name": "stdout",
     "output_type": "stream",
     "text": [
      "Sampling frequency: 5.12 MHz\n",
      "###################################\n",
      "Testing: order=2, osr=128, nlev=2, Hinf=2.0, form=CIFB\n",
      "###################################\n"
     ]
    },
    {
     "name": "stderr",
     "output_type": "stream",
     "text": [
      "WARNING:cbadc.digital_backend:Discrete time Wiener filter not properly implemented. Results may be incorrect.\n",
      "INFO:root:Simulating discrete-time analog frontend\n"
     ]
    },
    {
     "name": "stdout",
     "output_type": "stream",
     "text": [
      "Sampling frequency: 5.12 MHz\n",
      "###################################\n",
      "Testing: order=2, osr=128, nlev=2, Hinf=2.0, form=CIFF\n",
      "###################################\n"
     ]
    },
    {
     "name": "stderr",
     "output_type": "stream",
     "text": [
      "WARNING:cbadc.digital_backend:Discrete time Wiener filter not properly implemented. Results may be incorrect.\n",
      "INFO:root:Simulating discrete-time analog frontend\n"
     ]
    },
    {
     "name": "stdout",
     "output_type": "stream",
     "text": [
      "Sampling frequency: 5.12 MHz\n",
      "###################################\n",
      "Testing: order=2, osr=128, nlev=2, Hinf=2.0, form=CRFBD\n",
      "###################################\n"
     ]
    },
    {
     "name": "stderr",
     "output_type": "stream",
     "text": [
      "WARNING:cbadc.digital_backend:Discrete time Wiener filter not properly implemented. Results may be incorrect.\n",
      "INFO:root:Simulating discrete-time analog frontend\n"
     ]
    },
    {
     "name": "stdout",
     "output_type": "stream",
     "text": [
      "Sampling frequency: 5.12 MHz\n",
      "###################################\n",
      "Testing: order=2, osr=128, nlev=2, Hinf=2.0, form=CRFFD\n",
      "###################################\n"
     ]
    },
    {
     "name": "stderr",
     "output_type": "stream",
     "text": [
      "WARNING:cbadc.digital_backend:Discrete time Wiener filter not properly implemented. Results may be incorrect.\n",
      "INFO:root:Simulating discrete-time analog frontend\n"
     ]
    },
    {
     "name": "stdout",
     "output_type": "stream",
     "text": [
      "Sampling frequency: 5.12 MHz\n",
      "###################################\n",
      "Testing: order=2, osr=128, nlev=3, Hinf=1.0, form=CRFB\n",
      "###################################\n"
     ]
    },
    {
     "name": "stderr",
     "output_type": "stream",
     "text": [
      "WARNING:cbadc.digital_backend:Discrete time Wiener filter not properly implemented. Results may be incorrect.\n",
      "INFO:root:Simulating discrete-time analog frontend\n"
     ]
    },
    {
     "name": "stdout",
     "output_type": "stream",
     "text": [
      "Sampling frequency: 5.12 MHz\n",
      "###################################\n",
      "Testing: order=2, osr=128, nlev=3, Hinf=1.0, form=CRFF\n",
      "###################################\n"
     ]
    },
    {
     "name": "stderr",
     "output_type": "stream",
     "text": [
      "WARNING:cbadc.digital_backend:Discrete time Wiener filter not properly implemented. Results may be incorrect.\n",
      "INFO:root:Simulating discrete-time analog frontend\n"
     ]
    },
    {
     "name": "stdout",
     "output_type": "stream",
     "text": [
      "Sampling frequency: 5.12 MHz\n",
      "###################################\n",
      "Testing: order=2, osr=128, nlev=3, Hinf=1.0, form=CIFB\n",
      "###################################\n"
     ]
    },
    {
     "name": "stderr",
     "output_type": "stream",
     "text": [
      "WARNING:cbadc.digital_backend:Discrete time Wiener filter not properly implemented. Results may be incorrect.\n",
      "INFO:root:Simulating discrete-time analog frontend\n"
     ]
    },
    {
     "name": "stdout",
     "output_type": "stream",
     "text": [
      "Sampling frequency: 5.12 MHz\n",
      "###################################\n",
      "Testing: order=2, osr=128, nlev=3, Hinf=1.0, form=CIFF\n",
      "###################################\n"
     ]
    },
    {
     "name": "stderr",
     "output_type": "stream",
     "text": [
      "WARNING:cbadc.digital_backend:Discrete time Wiener filter not properly implemented. Results may be incorrect.\n",
      "INFO:root:Simulating discrete-time analog frontend\n"
     ]
    },
    {
     "name": "stdout",
     "output_type": "stream",
     "text": [
      "Sampling frequency: 5.12 MHz\n",
      "###################################\n",
      "Testing: order=2, osr=128, nlev=3, Hinf=1.0, form=CRFBD\n",
      "###################################\n"
     ]
    },
    {
     "name": "stderr",
     "output_type": "stream",
     "text": [
      "WARNING:cbadc.digital_backend:Discrete time Wiener filter not properly implemented. Results may be incorrect.\n",
      "INFO:root:Simulating discrete-time analog frontend\n"
     ]
    },
    {
     "name": "stdout",
     "output_type": "stream",
     "text": [
      "Sampling frequency: 5.12 MHz\n",
      "###################################\n",
      "Testing: order=2, osr=128, nlev=3, Hinf=1.0, form=CRFFD\n",
      "###################################\n"
     ]
    },
    {
     "name": "stderr",
     "output_type": "stream",
     "text": [
      "WARNING:cbadc.digital_backend:Discrete time Wiener filter not properly implemented. Results may be incorrect.\n",
      "INFO:root:Simulating discrete-time analog frontend\n"
     ]
    },
    {
     "name": "stdout",
     "output_type": "stream",
     "text": [
      "Sampling frequency: 5.12 MHz\n",
      "###################################\n",
      "Testing: order=2, osr=128, nlev=3, Hinf=1.5, form=CRFB\n",
      "###################################\n"
     ]
    },
    {
     "name": "stderr",
     "output_type": "stream",
     "text": [
      "WARNING:cbadc.digital_backend:Discrete time Wiener filter not properly implemented. Results may be incorrect.\n",
      "INFO:root:Simulating discrete-time analog frontend\n"
     ]
    },
    {
     "name": "stdout",
     "output_type": "stream",
     "text": [
      "Sampling frequency: 5.12 MHz\n",
      "###################################\n",
      "Testing: order=2, osr=128, nlev=3, Hinf=1.5, form=CRFF\n",
      "###################################\n"
     ]
    },
    {
     "name": "stderr",
     "output_type": "stream",
     "text": [
      "WARNING:cbadc.digital_backend:Discrete time Wiener filter not properly implemented. Results may be incorrect.\n",
      "INFO:root:Simulating discrete-time analog frontend\n"
     ]
    },
    {
     "name": "stdout",
     "output_type": "stream",
     "text": [
      "Sampling frequency: 5.12 MHz\n",
      "###################################\n",
      "Testing: order=2, osr=128, nlev=3, Hinf=1.5, form=CIFB\n",
      "###################################\n"
     ]
    },
    {
     "name": "stderr",
     "output_type": "stream",
     "text": [
      "WARNING:cbadc.digital_backend:Discrete time Wiener filter not properly implemented. Results may be incorrect.\n",
      "INFO:root:Simulating discrete-time analog frontend\n"
     ]
    },
    {
     "name": "stdout",
     "output_type": "stream",
     "text": [
      "Sampling frequency: 5.12 MHz\n",
      "###################################\n",
      "Testing: order=2, osr=128, nlev=3, Hinf=1.5, form=CIFF\n",
      "###################################\n"
     ]
    },
    {
     "name": "stderr",
     "output_type": "stream",
     "text": [
      "WARNING:cbadc.digital_backend:Discrete time Wiener filter not properly implemented. Results may be incorrect.\n",
      "INFO:root:Simulating discrete-time analog frontend\n"
     ]
    },
    {
     "name": "stdout",
     "output_type": "stream",
     "text": [
      "Sampling frequency: 5.12 MHz\n",
      "###################################\n",
      "Testing: order=2, osr=128, nlev=3, Hinf=1.5, form=CRFBD\n",
      "###################################\n"
     ]
    },
    {
     "name": "stderr",
     "output_type": "stream",
     "text": [
      "WARNING:cbadc.digital_backend:Discrete time Wiener filter not properly implemented. Results may be incorrect.\n",
      "INFO:root:Simulating discrete-time analog frontend\n"
     ]
    },
    {
     "name": "stdout",
     "output_type": "stream",
     "text": [
      "Sampling frequency: 5.12 MHz\n",
      "###################################\n",
      "Testing: order=2, osr=128, nlev=3, Hinf=1.5, form=CRFFD\n",
      "###################################\n"
     ]
    },
    {
     "name": "stderr",
     "output_type": "stream",
     "text": [
      "WARNING:cbadc.digital_backend:Discrete time Wiener filter not properly implemented. Results may be incorrect.\n",
      "INFO:root:Simulating discrete-time analog frontend\n"
     ]
    },
    {
     "name": "stdout",
     "output_type": "stream",
     "text": [
      "Sampling frequency: 5.12 MHz\n",
      "###################################\n",
      "Testing: order=2, osr=128, nlev=3, Hinf=2.0, form=CRFB\n",
      "###################################\n"
     ]
    },
    {
     "name": "stderr",
     "output_type": "stream",
     "text": [
      "WARNING:cbadc.digital_backend:Discrete time Wiener filter not properly implemented. Results may be incorrect.\n",
      "INFO:root:Simulating discrete-time analog frontend\n"
     ]
    },
    {
     "name": "stdout",
     "output_type": "stream",
     "text": [
      "Sampling frequency: 5.12 MHz\n",
      "###################################\n",
      "Testing: order=2, osr=128, nlev=3, Hinf=2.0, form=CRFF\n",
      "###################################\n"
     ]
    },
    {
     "name": "stderr",
     "output_type": "stream",
     "text": [
      "WARNING:cbadc.digital_backend:Discrete time Wiener filter not properly implemented. Results may be incorrect.\n",
      "INFO:root:Simulating discrete-time analog frontend\n"
     ]
    },
    {
     "name": "stdout",
     "output_type": "stream",
     "text": [
      "Sampling frequency: 5.12 MHz\n",
      "###################################\n",
      "Testing: order=2, osr=128, nlev=3, Hinf=2.0, form=CIFB\n",
      "###################################\n"
     ]
    },
    {
     "name": "stderr",
     "output_type": "stream",
     "text": [
      "WARNING:cbadc.digital_backend:Discrete time Wiener filter not properly implemented. Results may be incorrect.\n",
      "INFO:root:Simulating discrete-time analog frontend\n"
     ]
    },
    {
     "name": "stdout",
     "output_type": "stream",
     "text": [
      "Sampling frequency: 5.12 MHz\n",
      "###################################\n",
      "Testing: order=2, osr=128, nlev=3, Hinf=2.0, form=CIFF\n",
      "###################################\n"
     ]
    },
    {
     "name": "stderr",
     "output_type": "stream",
     "text": [
      "WARNING:cbadc.digital_backend:Discrete time Wiener filter not properly implemented. Results may be incorrect.\n",
      "INFO:root:Simulating discrete-time analog frontend\n"
     ]
    },
    {
     "name": "stdout",
     "output_type": "stream",
     "text": [
      "Sampling frequency: 5.12 MHz\n",
      "###################################\n",
      "Testing: order=2, osr=128, nlev=3, Hinf=2.0, form=CRFBD\n",
      "###################################\n"
     ]
    },
    {
     "name": "stderr",
     "output_type": "stream",
     "text": [
      "WARNING:cbadc.digital_backend:Discrete time Wiener filter not properly implemented. Results may be incorrect.\n",
      "INFO:root:Simulating discrete-time analog frontend\n"
     ]
    },
    {
     "name": "stdout",
     "output_type": "stream",
     "text": [
      "Sampling frequency: 5.12 MHz\n",
      "###################################\n",
      "Testing: order=2, osr=128, nlev=3, Hinf=2.0, form=CRFFD\n",
      "###################################\n"
     ]
    },
    {
     "name": "stderr",
     "output_type": "stream",
     "text": [
      "WARNING:cbadc.digital_backend:Discrete time Wiener filter not properly implemented. Results may be incorrect.\n",
      "INFO:root:Simulating discrete-time analog frontend\n"
     ]
    },
    {
     "name": "stdout",
     "output_type": "stream",
     "text": [
      "Sampling frequency: 10.24 MHz\n",
      "###################################\n",
      "Testing: order=2, osr=256, nlev=2, Hinf=1.0, form=CRFB\n",
      "###################################\n"
     ]
    },
    {
     "name": "stderr",
     "output_type": "stream",
     "text": [
      "WARNING:cbadc.digital_backend:Discrete time Wiener filter not properly implemented. Results may be incorrect.\n",
      "INFO:root:Simulating discrete-time analog frontend\n"
     ]
    },
    {
     "name": "stdout",
     "output_type": "stream",
     "text": [
      "Sampling frequency: 10.24 MHz\n",
      "###################################\n",
      "Testing: order=2, osr=256, nlev=2, Hinf=1.0, form=CRFF\n",
      "###################################\n"
     ]
    },
    {
     "name": "stderr",
     "output_type": "stream",
     "text": [
      "WARNING:cbadc.digital_backend:Discrete time Wiener filter not properly implemented. Results may be incorrect.\n",
      "INFO:root:Simulating discrete-time analog frontend\n"
     ]
    },
    {
     "name": "stdout",
     "output_type": "stream",
     "text": [
      "Sampling frequency: 10.24 MHz\n",
      "###################################\n",
      "Testing: order=2, osr=256, nlev=2, Hinf=1.0, form=CIFB\n",
      "###################################\n"
     ]
    },
    {
     "name": "stderr",
     "output_type": "stream",
     "text": [
      "WARNING:cbadc.digital_backend:Discrete time Wiener filter not properly implemented. Results may be incorrect.\n",
      "INFO:root:Simulating discrete-time analog frontend\n"
     ]
    },
    {
     "name": "stdout",
     "output_type": "stream",
     "text": [
      "Sampling frequency: 10.24 MHz\n",
      "###################################\n",
      "Testing: order=2, osr=256, nlev=2, Hinf=1.0, form=CIFF\n",
      "###################################\n"
     ]
    },
    {
     "name": "stderr",
     "output_type": "stream",
     "text": [
      "WARNING:cbadc.digital_backend:Discrete time Wiener filter not properly implemented. Results may be incorrect.\n",
      "INFO:root:Simulating discrete-time analog frontend\n"
     ]
    },
    {
     "name": "stdout",
     "output_type": "stream",
     "text": [
      "Sampling frequency: 10.24 MHz\n",
      "###################################\n",
      "Testing: order=2, osr=256, nlev=2, Hinf=1.0, form=CRFBD\n",
      "###################################\n"
     ]
    },
    {
     "name": "stderr",
     "output_type": "stream",
     "text": [
      "WARNING:cbadc.digital_backend:Discrete time Wiener filter not properly implemented. Results may be incorrect.\n",
      "INFO:root:Simulating discrete-time analog frontend\n"
     ]
    },
    {
     "name": "stdout",
     "output_type": "stream",
     "text": [
      "Sampling frequency: 10.24 MHz\n",
      "###################################\n",
      "Testing: order=2, osr=256, nlev=2, Hinf=1.0, form=CRFFD\n",
      "###################################\n"
     ]
    },
    {
     "name": "stderr",
     "output_type": "stream",
     "text": [
      "WARNING:cbadc.digital_backend:Discrete time Wiener filter not properly implemented. Results may be incorrect.\n",
      "INFO:root:Simulating discrete-time analog frontend\n"
     ]
    },
    {
     "name": "stdout",
     "output_type": "stream",
     "text": [
      "Sampling frequency: 10.24 MHz\n",
      "###################################\n",
      "Testing: order=2, osr=256, nlev=2, Hinf=1.5, form=CRFB\n",
      "###################################\n"
     ]
    },
    {
     "name": "stderr",
     "output_type": "stream",
     "text": [
      "WARNING:cbadc.digital_backend:Discrete time Wiener filter not properly implemented. Results may be incorrect.\n",
      "INFO:root:Simulating discrete-time analog frontend\n"
     ]
    },
    {
     "name": "stdout",
     "output_type": "stream",
     "text": [
      "Sampling frequency: 10.24 MHz\n",
      "###################################\n",
      "Testing: order=2, osr=256, nlev=2, Hinf=1.5, form=CRFF\n",
      "###################################\n"
     ]
    },
    {
     "name": "stderr",
     "output_type": "stream",
     "text": [
      "WARNING:cbadc.digital_backend:Discrete time Wiener filter not properly implemented. Results may be incorrect.\n",
      "INFO:root:Simulating discrete-time analog frontend\n"
     ]
    },
    {
     "name": "stdout",
     "output_type": "stream",
     "text": [
      "Sampling frequency: 10.24 MHz\n",
      "###################################\n",
      "Testing: order=2, osr=256, nlev=2, Hinf=1.5, form=CIFB\n",
      "###################################\n"
     ]
    },
    {
     "name": "stderr",
     "output_type": "stream",
     "text": [
      "WARNING:cbadc.digital_backend:Discrete time Wiener filter not properly implemented. Results may be incorrect.\n",
      "INFO:root:Simulating discrete-time analog frontend\n"
     ]
    },
    {
     "name": "stdout",
     "output_type": "stream",
     "text": [
      "Sampling frequency: 10.24 MHz\n",
      "###################################\n",
      "Testing: order=2, osr=256, nlev=2, Hinf=1.5, form=CIFF\n",
      "###################################\n"
     ]
    },
    {
     "name": "stderr",
     "output_type": "stream",
     "text": [
      "WARNING:cbadc.digital_backend:Discrete time Wiener filter not properly implemented. Results may be incorrect.\n",
      "INFO:root:Simulating discrete-time analog frontend\n"
     ]
    },
    {
     "name": "stdout",
     "output_type": "stream",
     "text": [
      "Sampling frequency: 10.24 MHz\n",
      "###################################\n",
      "Testing: order=2, osr=256, nlev=2, Hinf=1.5, form=CRFBD\n",
      "###################################\n"
     ]
    },
    {
     "name": "stderr",
     "output_type": "stream",
     "text": [
      "WARNING:cbadc.digital_backend:Discrete time Wiener filter not properly implemented. Results may be incorrect.\n",
      "INFO:root:Simulating discrete-time analog frontend\n"
     ]
    },
    {
     "name": "stdout",
     "output_type": "stream",
     "text": [
      "Sampling frequency: 10.24 MHz\n",
      "###################################\n",
      "Testing: order=2, osr=256, nlev=2, Hinf=1.5, form=CRFFD\n",
      "###################################\n"
     ]
    },
    {
     "name": "stderr",
     "output_type": "stream",
     "text": [
      "WARNING:cbadc.digital_backend:Discrete time Wiener filter not properly implemented. Results may be incorrect.\n",
      "INFO:root:Simulating discrete-time analog frontend\n"
     ]
    },
    {
     "name": "stdout",
     "output_type": "stream",
     "text": [
      "Sampling frequency: 10.24 MHz\n",
      "###################################\n",
      "Testing: order=2, osr=256, nlev=2, Hinf=2.0, form=CRFB\n",
      "###################################\n"
     ]
    },
    {
     "name": "stderr",
     "output_type": "stream",
     "text": [
      "WARNING:cbadc.digital_backend:Discrete time Wiener filter not properly implemented. Results may be incorrect.\n",
      "INFO:root:Simulating discrete-time analog frontend\n"
     ]
    },
    {
     "name": "stdout",
     "output_type": "stream",
     "text": [
      "Sampling frequency: 10.24 MHz\n",
      "###################################\n",
      "Testing: order=2, osr=256, nlev=2, Hinf=2.0, form=CRFF\n",
      "###################################\n"
     ]
    },
    {
     "name": "stderr",
     "output_type": "stream",
     "text": [
      "WARNING:cbadc.digital_backend:Discrete time Wiener filter not properly implemented. Results may be incorrect.\n",
      "INFO:root:Simulating discrete-time analog frontend\n"
     ]
    },
    {
     "name": "stdout",
     "output_type": "stream",
     "text": [
      "Sampling frequency: 10.24 MHz\n",
      "###################################\n",
      "Testing: order=2, osr=256, nlev=2, Hinf=2.0, form=CIFB\n",
      "###################################\n"
     ]
    },
    {
     "name": "stderr",
     "output_type": "stream",
     "text": [
      "WARNING:cbadc.digital_backend:Discrete time Wiener filter not properly implemented. Results may be incorrect.\n",
      "INFO:root:Simulating discrete-time analog frontend\n"
     ]
    },
    {
     "name": "stdout",
     "output_type": "stream",
     "text": [
      "Sampling frequency: 10.24 MHz\n",
      "###################################\n",
      "Testing: order=2, osr=256, nlev=2, Hinf=2.0, form=CIFF\n",
      "###################################\n"
     ]
    },
    {
     "name": "stderr",
     "output_type": "stream",
     "text": [
      "WARNING:cbadc.digital_backend:Discrete time Wiener filter not properly implemented. Results may be incorrect.\n",
      "INFO:root:Simulating discrete-time analog frontend\n"
     ]
    },
    {
     "name": "stdout",
     "output_type": "stream",
     "text": [
      "Sampling frequency: 10.24 MHz\n",
      "###################################\n",
      "Testing: order=2, osr=256, nlev=2, Hinf=2.0, form=CRFBD\n",
      "###################################\n"
     ]
    },
    {
     "name": "stderr",
     "output_type": "stream",
     "text": [
      "WARNING:cbadc.digital_backend:Discrete time Wiener filter not properly implemented. Results may be incorrect.\n",
      "INFO:root:Simulating discrete-time analog frontend\n"
     ]
    },
    {
     "name": "stdout",
     "output_type": "stream",
     "text": [
      "Sampling frequency: 10.24 MHz\n",
      "###################################\n",
      "Testing: order=2, osr=256, nlev=2, Hinf=2.0, form=CRFFD\n",
      "###################################\n"
     ]
    },
    {
     "name": "stderr",
     "output_type": "stream",
     "text": [
      "WARNING:cbadc.digital_backend:Discrete time Wiener filter not properly implemented. Results may be incorrect.\n",
      "INFO:root:Simulating discrete-time analog frontend\n"
     ]
    },
    {
     "name": "stdout",
     "output_type": "stream",
     "text": [
      "Sampling frequency: 10.24 MHz\n",
      "###################################\n",
      "Testing: order=2, osr=256, nlev=3, Hinf=1.0, form=CRFB\n",
      "###################################\n"
     ]
    },
    {
     "name": "stderr",
     "output_type": "stream",
     "text": [
      "WARNING:cbadc.digital_backend:Discrete time Wiener filter not properly implemented. Results may be incorrect.\n",
      "INFO:root:Simulating discrete-time analog frontend\n"
     ]
    },
    {
     "name": "stdout",
     "output_type": "stream",
     "text": [
      "Sampling frequency: 10.24 MHz\n",
      "###################################\n",
      "Testing: order=2, osr=256, nlev=3, Hinf=1.0, form=CRFF\n",
      "###################################\n"
     ]
    },
    {
     "name": "stderr",
     "output_type": "stream",
     "text": [
      "WARNING:cbadc.digital_backend:Discrete time Wiener filter not properly implemented. Results may be incorrect.\n",
      "INFO:root:Simulating discrete-time analog frontend\n"
     ]
    },
    {
     "name": "stdout",
     "output_type": "stream",
     "text": [
      "Sampling frequency: 10.24 MHz\n",
      "###################################\n",
      "Testing: order=2, osr=256, nlev=3, Hinf=1.0, form=CIFB\n",
      "###################################\n"
     ]
    },
    {
     "name": "stderr",
     "output_type": "stream",
     "text": [
      "WARNING:cbadc.digital_backend:Discrete time Wiener filter not properly implemented. Results may be incorrect.\n",
      "INFO:root:Simulating discrete-time analog frontend\n"
     ]
    },
    {
     "name": "stdout",
     "output_type": "stream",
     "text": [
      "Sampling frequency: 10.24 MHz\n",
      "###################################\n",
      "Testing: order=2, osr=256, nlev=3, Hinf=1.0, form=CIFF\n",
      "###################################\n"
     ]
    },
    {
     "name": "stderr",
     "output_type": "stream",
     "text": [
      "WARNING:cbadc.digital_backend:Discrete time Wiener filter not properly implemented. Results may be incorrect.\n",
      "INFO:root:Simulating discrete-time analog frontend\n"
     ]
    },
    {
     "name": "stdout",
     "output_type": "stream",
     "text": [
      "Sampling frequency: 10.24 MHz\n",
      "###################################\n",
      "Testing: order=2, osr=256, nlev=3, Hinf=1.0, form=CRFBD\n",
      "###################################\n"
     ]
    },
    {
     "name": "stderr",
     "output_type": "stream",
     "text": [
      "WARNING:cbadc.digital_backend:Discrete time Wiener filter not properly implemented. Results may be incorrect.\n",
      "INFO:root:Simulating discrete-time analog frontend\n"
     ]
    },
    {
     "name": "stdout",
     "output_type": "stream",
     "text": [
      "Sampling frequency: 10.24 MHz\n",
      "###################################\n",
      "Testing: order=2, osr=256, nlev=3, Hinf=1.0, form=CRFFD\n",
      "###################################\n"
     ]
    },
    {
     "name": "stderr",
     "output_type": "stream",
     "text": [
      "WARNING:cbadc.digital_backend:Discrete time Wiener filter not properly implemented. Results may be incorrect.\n",
      "INFO:root:Simulating discrete-time analog frontend\n"
     ]
    },
    {
     "name": "stdout",
     "output_type": "stream",
     "text": [
      "Sampling frequency: 10.24 MHz\n",
      "###################################\n",
      "Testing: order=2, osr=256, nlev=3, Hinf=1.5, form=CRFB\n",
      "###################################\n"
     ]
    },
    {
     "name": "stderr",
     "output_type": "stream",
     "text": [
      "WARNING:cbadc.digital_backend:Discrete time Wiener filter not properly implemented. Results may be incorrect.\n",
      "INFO:root:Simulating discrete-time analog frontend\n"
     ]
    },
    {
     "name": "stdout",
     "output_type": "stream",
     "text": [
      "Sampling frequency: 10.24 MHz\n",
      "###################################\n",
      "Testing: order=2, osr=256, nlev=3, Hinf=1.5, form=CRFF\n",
      "###################################\n"
     ]
    },
    {
     "name": "stderr",
     "output_type": "stream",
     "text": [
      "WARNING:cbadc.digital_backend:Discrete time Wiener filter not properly implemented. Results may be incorrect.\n",
      "INFO:root:Simulating discrete-time analog frontend\n"
     ]
    },
    {
     "name": "stdout",
     "output_type": "stream",
     "text": [
      "Sampling frequency: 10.24 MHz\n",
      "###################################\n",
      "Testing: order=2, osr=256, nlev=3, Hinf=1.5, form=CIFB\n",
      "###################################\n"
     ]
    },
    {
     "name": "stderr",
     "output_type": "stream",
     "text": [
      "WARNING:cbadc.digital_backend:Discrete time Wiener filter not properly implemented. Results may be incorrect.\n",
      "INFO:root:Simulating discrete-time analog frontend\n"
     ]
    },
    {
     "name": "stdout",
     "output_type": "stream",
     "text": [
      "Sampling frequency: 10.24 MHz\n",
      "###################################\n",
      "Testing: order=2, osr=256, nlev=3, Hinf=1.5, form=CIFF\n",
      "###################################\n"
     ]
    },
    {
     "name": "stderr",
     "output_type": "stream",
     "text": [
      "WARNING:cbadc.digital_backend:Discrete time Wiener filter not properly implemented. Results may be incorrect.\n",
      "INFO:root:Simulating discrete-time analog frontend\n"
     ]
    },
    {
     "name": "stdout",
     "output_type": "stream",
     "text": [
      "Sampling frequency: 10.24 MHz\n",
      "###################################\n",
      "Testing: order=2, osr=256, nlev=3, Hinf=1.5, form=CRFBD\n",
      "###################################\n"
     ]
    },
    {
     "name": "stderr",
     "output_type": "stream",
     "text": [
      "WARNING:cbadc.digital_backend:Discrete time Wiener filter not properly implemented. Results may be incorrect.\n",
      "INFO:root:Simulating discrete-time analog frontend\n"
     ]
    },
    {
     "name": "stdout",
     "output_type": "stream",
     "text": [
      "Sampling frequency: 10.24 MHz\n",
      "###################################\n",
      "Testing: order=2, osr=256, nlev=3, Hinf=1.5, form=CRFFD\n",
      "###################################\n"
     ]
    },
    {
     "name": "stderr",
     "output_type": "stream",
     "text": [
      "WARNING:cbadc.digital_backend:Discrete time Wiener filter not properly implemented. Results may be incorrect.\n",
      "INFO:root:Simulating discrete-time analog frontend\n"
     ]
    },
    {
     "name": "stdout",
     "output_type": "stream",
     "text": [
      "Sampling frequency: 10.24 MHz\n",
      "###################################\n",
      "Testing: order=2, osr=256, nlev=3, Hinf=2.0, form=CRFB\n",
      "###################################\n"
     ]
    },
    {
     "name": "stderr",
     "output_type": "stream",
     "text": [
      "WARNING:cbadc.digital_backend:Discrete time Wiener filter not properly implemented. Results may be incorrect.\n",
      "INFO:root:Simulating discrete-time analog frontend\n"
     ]
    },
    {
     "name": "stdout",
     "output_type": "stream",
     "text": [
      "Sampling frequency: 10.24 MHz\n",
      "###################################\n",
      "Testing: order=2, osr=256, nlev=3, Hinf=2.0, form=CRFF\n",
      "###################################\n"
     ]
    },
    {
     "name": "stderr",
     "output_type": "stream",
     "text": [
      "WARNING:cbadc.digital_backend:Discrete time Wiener filter not properly implemented. Results may be incorrect.\n",
      "INFO:root:Simulating discrete-time analog frontend\n"
     ]
    },
    {
     "name": "stdout",
     "output_type": "stream",
     "text": [
      "Sampling frequency: 10.24 MHz\n",
      "###################################\n",
      "Testing: order=2, osr=256, nlev=3, Hinf=2.0, form=CIFB\n",
      "###################################\n"
     ]
    },
    {
     "name": "stderr",
     "output_type": "stream",
     "text": [
      "WARNING:cbadc.digital_backend:Discrete time Wiener filter not properly implemented. Results may be incorrect.\n",
      "INFO:root:Simulating discrete-time analog frontend\n"
     ]
    },
    {
     "name": "stdout",
     "output_type": "stream",
     "text": [
      "Sampling frequency: 10.24 MHz\n",
      "###################################\n",
      "Testing: order=2, osr=256, nlev=3, Hinf=2.0, form=CIFF\n",
      "###################################\n"
     ]
    },
    {
     "name": "stderr",
     "output_type": "stream",
     "text": [
      "WARNING:cbadc.digital_backend:Discrete time Wiener filter not properly implemented. Results may be incorrect.\n",
      "INFO:root:Simulating discrete-time analog frontend\n"
     ]
    },
    {
     "name": "stdout",
     "output_type": "stream",
     "text": [
      "Sampling frequency: 10.24 MHz\n",
      "###################################\n",
      "Testing: order=2, osr=256, nlev=3, Hinf=2.0, form=CRFBD\n",
      "###################################\n"
     ]
    },
    {
     "name": "stderr",
     "output_type": "stream",
     "text": [
      "WARNING:cbadc.digital_backend:Discrete time Wiener filter not properly implemented. Results may be incorrect.\n",
      "INFO:root:Simulating discrete-time analog frontend\n"
     ]
    },
    {
     "name": "stdout",
     "output_type": "stream",
     "text": [
      "Sampling frequency: 10.24 MHz\n",
      "###################################\n",
      "Testing: order=2, osr=256, nlev=3, Hinf=2.0, form=CRFFD\n",
      "###################################\n"
     ]
    },
    {
     "name": "stderr",
     "output_type": "stream",
     "text": [
      "WARNING:cbadc.digital_backend:Discrete time Wiener filter not properly implemented. Results may be incorrect.\n",
      "INFO:root:Simulating discrete-time analog frontend\n"
     ]
    },
    {
     "name": "stdout",
     "output_type": "stream",
     "text": [
      "Sampling frequency: 1.28 MHz\n",
      "###################################\n",
      "Testing: order=3, osr=32, nlev=2, Hinf=1.0, form=CRFB\n",
      "###################################\n"
     ]
    },
    {
     "name": "stderr",
     "output_type": "stream",
     "text": [
      "WARNING:cbadc.digital_backend:Discrete time Wiener filter not properly implemented. Results may be incorrect.\n",
      "INFO:root:Simulating discrete-time analog frontend\n"
     ]
    },
    {
     "name": "stdout",
     "output_type": "stream",
     "text": [
      "Sampling frequency: 1.28 MHz\n",
      "###################################\n",
      "Testing: order=3, osr=32, nlev=2, Hinf=1.0, form=CRFF\n",
      "###################################\n"
     ]
    },
    {
     "name": "stderr",
     "output_type": "stream",
     "text": [
      "WARNING:cbadc.digital_backend:Discrete time Wiener filter not properly implemented. Results may be incorrect.\n",
      "C:\\Users\\frang\\AppData\\Local\\Packages\\PythonSoftwareFoundation.Python.3.11_qbz5n2kfra8p0\\LocalCache\\local-packages\\Python311\\site-packages\\deltasigma\\_realizeNTF.py:183: UserWarning: The ntf's zeros have had their real parts set to one.\n",
      "  warn(\"The ntf's zeros have had their real parts set to one.\")\n",
      "INFO:root:Simulating discrete-time analog frontend\n"
     ]
    },
    {
     "name": "stdout",
     "output_type": "stream",
     "text": [
      "Sampling frequency: 1.28 MHz\n",
      "###################################\n",
      "Testing: order=3, osr=32, nlev=2, Hinf=1.0, form=CIFB\n",
      "###################################\n"
     ]
    },
    {
     "name": "stderr",
     "output_type": "stream",
     "text": [
      "WARNING:cbadc.digital_backend:Discrete time Wiener filter not properly implemented. Results may be incorrect.\n",
      "C:\\Users\\frang\\AppData\\Local\\Packages\\PythonSoftwareFoundation.Python.3.11_qbz5n2kfra8p0\\LocalCache\\local-packages\\Python311\\site-packages\\deltasigma\\_realizeNTF.py:205: UserWarning: The ntf's zeros have had their real parts set to one.\n",
      "  warn(\"The ntf's zeros have had their real parts set to one.\")\n",
      "INFO:root:Simulating discrete-time analog frontend\n"
     ]
    },
    {
     "name": "stdout",
     "output_type": "stream",
     "text": [
      "Sampling frequency: 1.28 MHz\n",
      "###################################\n",
      "Testing: order=3, osr=32, nlev=2, Hinf=1.0, form=CIFF\n",
      "###################################\n"
     ]
    },
    {
     "name": "stderr",
     "output_type": "stream",
     "text": [
      "WARNING:cbadc.digital_backend:Discrete time Wiener filter not properly implemented. Results may be incorrect.\n",
      "INFO:root:Simulating discrete-time analog frontend\n"
     ]
    },
    {
     "name": "stdout",
     "output_type": "stream",
     "text": [
      "Sampling frequency: 1.28 MHz\n",
      "###################################\n",
      "Testing: order=3, osr=32, nlev=2, Hinf=1.0, form=CRFBD\n",
      "###################################\n"
     ]
    },
    {
     "name": "stderr",
     "output_type": "stream",
     "text": [
      "WARNING:cbadc.digital_backend:Discrete time Wiener filter not properly implemented. Results may be incorrect.\n",
      "INFO:root:Simulating discrete-time analog frontend\n"
     ]
    },
    {
     "name": "stdout",
     "output_type": "stream",
     "text": [
      "Sampling frequency: 1.28 MHz\n",
      "###################################\n",
      "Testing: order=3, osr=32, nlev=2, Hinf=1.0, form=CRFFD\n",
      "###################################\n"
     ]
    },
    {
     "name": "stderr",
     "output_type": "stream",
     "text": [
      "WARNING:cbadc.digital_backend:Discrete time Wiener filter not properly implemented. Results may be incorrect.\n",
      "INFO:root:Simulating discrete-time analog frontend\n"
     ]
    },
    {
     "name": "stdout",
     "output_type": "stream",
     "text": [
      "Sampling frequency: 1.28 MHz\n",
      "###################################\n",
      "Testing: order=3, osr=32, nlev=2, Hinf=1.5, form=CRFB\n",
      "###################################\n"
     ]
    },
    {
     "name": "stderr",
     "output_type": "stream",
     "text": [
      "WARNING:cbadc.digital_backend:Discrete time Wiener filter not properly implemented. Results may be incorrect.\n",
      "INFO:root:Simulating discrete-time analog frontend\n"
     ]
    },
    {
     "name": "stdout",
     "output_type": "stream",
     "text": [
      "Sampling frequency: 1.28 MHz\n",
      "###################################\n",
      "Testing: order=3, osr=32, nlev=2, Hinf=1.5, form=CRFF\n",
      "###################################\n"
     ]
    },
    {
     "name": "stderr",
     "output_type": "stream",
     "text": [
      "WARNING:cbadc.digital_backend:Discrete time Wiener filter not properly implemented. Results may be incorrect.\n",
      "INFO:root:Simulating discrete-time analog frontend\n"
     ]
    },
    {
     "name": "stdout",
     "output_type": "stream",
     "text": [
      "Sampling frequency: 1.28 MHz\n",
      "###################################\n",
      "Testing: order=3, osr=32, nlev=2, Hinf=1.5, form=CIFB\n",
      "###################################\n"
     ]
    },
    {
     "name": "stderr",
     "output_type": "stream",
     "text": [
      "WARNING:cbadc.digital_backend:Discrete time Wiener filter not properly implemented. Results may be incorrect.\n",
      "INFO:root:Simulating discrete-time analog frontend\n"
     ]
    },
    {
     "name": "stdout",
     "output_type": "stream",
     "text": [
      "Sampling frequency: 1.28 MHz\n",
      "###################################\n",
      "Testing: order=3, osr=32, nlev=2, Hinf=1.5, form=CIFF\n",
      "###################################\n"
     ]
    },
    {
     "name": "stderr",
     "output_type": "stream",
     "text": [
      "WARNING:cbadc.digital_backend:Discrete time Wiener filter not properly implemented. Results may be incorrect.\n",
      "INFO:root:Simulating discrete-time analog frontend\n"
     ]
    },
    {
     "name": "stdout",
     "output_type": "stream",
     "text": [
      "Sampling frequency: 1.28 MHz\n",
      "###################################\n",
      "Testing: order=3, osr=32, nlev=2, Hinf=1.5, form=CRFBD\n",
      "###################################\n"
     ]
    },
    {
     "name": "stderr",
     "output_type": "stream",
     "text": [
      "WARNING:cbadc.digital_backend:Discrete time Wiener filter not properly implemented. Results may be incorrect.\n",
      "INFO:root:Simulating discrete-time analog frontend\n"
     ]
    },
    {
     "name": "stdout",
     "output_type": "stream",
     "text": [
      "Sampling frequency: 1.28 MHz\n",
      "###################################\n",
      "Testing: order=3, osr=32, nlev=2, Hinf=1.5, form=CRFFD\n",
      "###################################\n"
     ]
    },
    {
     "name": "stderr",
     "output_type": "stream",
     "text": [
      "WARNING:cbadc.digital_backend:Discrete time Wiener filter not properly implemented. Results may be incorrect.\n",
      "INFO:root:Simulating discrete-time analog frontend\n"
     ]
    },
    {
     "name": "stdout",
     "output_type": "stream",
     "text": [
      "Sampling frequency: 1.28 MHz\n",
      "###################################\n",
      "Testing: order=3, osr=32, nlev=2, Hinf=2.0, form=CRFB\n",
      "###################################\n"
     ]
    },
    {
     "name": "stderr",
     "output_type": "stream",
     "text": [
      "WARNING:cbadc.digital_backend:Discrete time Wiener filter not properly implemented. Results may be incorrect.\n",
      "INFO:root:Simulating discrete-time analog frontend\n"
     ]
    },
    {
     "name": "stdout",
     "output_type": "stream",
     "text": [
      "Sampling frequency: 1.28 MHz\n",
      "###################################\n",
      "Testing: order=3, osr=32, nlev=2, Hinf=2.0, form=CRFF\n",
      "###################################\n"
     ]
    },
    {
     "name": "stderr",
     "output_type": "stream",
     "text": [
      "WARNING:cbadc.digital_backend:Discrete time Wiener filter not properly implemented. Results may be incorrect.\n",
      "INFO:root:Simulating discrete-time analog frontend\n"
     ]
    },
    {
     "name": "stdout",
     "output_type": "stream",
     "text": [
      "Sampling frequency: 1.28 MHz\n",
      "###################################\n",
      "Testing: order=3, osr=32, nlev=2, Hinf=2.0, form=CIFB\n",
      "###################################\n"
     ]
    },
    {
     "name": "stderr",
     "output_type": "stream",
     "text": [
      "WARNING:cbadc.digital_backend:Discrete time Wiener filter not properly implemented. Results may be incorrect.\n",
      "INFO:root:Simulating discrete-time analog frontend\n"
     ]
    },
    {
     "name": "stdout",
     "output_type": "stream",
     "text": [
      "Sampling frequency: 1.28 MHz\n",
      "###################################\n",
      "Testing: order=3, osr=32, nlev=2, Hinf=2.0, form=CIFF\n",
      "###################################\n"
     ]
    },
    {
     "name": "stderr",
     "output_type": "stream",
     "text": [
      "WARNING:cbadc.digital_backend:Discrete time Wiener filter not properly implemented. Results may be incorrect.\n",
      "INFO:root:Simulating discrete-time analog frontend\n"
     ]
    },
    {
     "name": "stdout",
     "output_type": "stream",
     "text": [
      "Sampling frequency: 1.28 MHz\n",
      "###################################\n",
      "Testing: order=3, osr=32, nlev=2, Hinf=2.0, form=CRFBD\n",
      "###################################\n"
     ]
    },
    {
     "name": "stderr",
     "output_type": "stream",
     "text": [
      "WARNING:cbadc.digital_backend:Discrete time Wiener filter not properly implemented. Results may be incorrect.\n",
      "INFO:root:Simulating discrete-time analog frontend\n"
     ]
    },
    {
     "name": "stdout",
     "output_type": "stream",
     "text": [
      "Sampling frequency: 1.28 MHz\n",
      "###################################\n",
      "Testing: order=3, osr=32, nlev=2, Hinf=2.0, form=CRFFD\n",
      "###################################\n"
     ]
    },
    {
     "name": "stderr",
     "output_type": "stream",
     "text": [
      "WARNING:cbadc.digital_backend:Discrete time Wiener filter not properly implemented. Results may be incorrect.\n",
      "INFO:root:Simulating discrete-time analog frontend\n"
     ]
    },
    {
     "name": "stdout",
     "output_type": "stream",
     "text": [
      "Sampling frequency: 1.28 MHz\n",
      "###################################\n",
      "Testing: order=3, osr=32, nlev=3, Hinf=1.0, form=CRFB\n",
      "###################################\n"
     ]
    },
    {
     "name": "stderr",
     "output_type": "stream",
     "text": [
      "WARNING:cbadc.digital_backend:Discrete time Wiener filter not properly implemented. Results may be incorrect.\n",
      "INFO:root:Simulating discrete-time analog frontend\n"
     ]
    },
    {
     "name": "stdout",
     "output_type": "stream",
     "text": [
      "Sampling frequency: 1.28 MHz\n",
      "###################################\n",
      "Testing: order=3, osr=32, nlev=3, Hinf=1.0, form=CRFF\n",
      "###################################\n"
     ]
    },
    {
     "name": "stderr",
     "output_type": "stream",
     "text": [
      "WARNING:cbadc.digital_backend:Discrete time Wiener filter not properly implemented. Results may be incorrect.\n",
      "INFO:root:Simulating discrete-time analog frontend\n"
     ]
    },
    {
     "name": "stdout",
     "output_type": "stream",
     "text": [
      "Sampling frequency: 1.28 MHz\n",
      "###################################\n",
      "Testing: order=3, osr=32, nlev=3, Hinf=1.0, form=CIFB\n",
      "###################################\n"
     ]
    },
    {
     "name": "stderr",
     "output_type": "stream",
     "text": [
      "WARNING:cbadc.digital_backend:Discrete time Wiener filter not properly implemented. Results may be incorrect.\n",
      "INFO:root:Simulating discrete-time analog frontend\n"
     ]
    },
    {
     "name": "stdout",
     "output_type": "stream",
     "text": [
      "Sampling frequency: 1.28 MHz\n",
      "###################################\n",
      "Testing: order=3, osr=32, nlev=3, Hinf=1.0, form=CIFF\n",
      "###################################\n"
     ]
    },
    {
     "name": "stderr",
     "output_type": "stream",
     "text": [
      "WARNING:cbadc.digital_backend:Discrete time Wiener filter not properly implemented. Results may be incorrect.\n",
      "INFO:root:Simulating discrete-time analog frontend\n"
     ]
    },
    {
     "name": "stdout",
     "output_type": "stream",
     "text": [
      "Sampling frequency: 1.28 MHz\n",
      "###################################\n",
      "Testing: order=3, osr=32, nlev=3, Hinf=1.0, form=CRFBD\n",
      "###################################\n"
     ]
    },
    {
     "name": "stderr",
     "output_type": "stream",
     "text": [
      "WARNING:cbadc.digital_backend:Discrete time Wiener filter not properly implemented. Results may be incorrect.\n",
      "INFO:root:Simulating discrete-time analog frontend\n"
     ]
    },
    {
     "name": "stdout",
     "output_type": "stream",
     "text": [
      "Sampling frequency: 1.28 MHz\n",
      "###################################\n",
      "Testing: order=3, osr=32, nlev=3, Hinf=1.0, form=CRFFD\n",
      "###################################\n"
     ]
    },
    {
     "name": "stderr",
     "output_type": "stream",
     "text": [
      "WARNING:cbadc.digital_backend:Discrete time Wiener filter not properly implemented. Results may be incorrect.\n",
      "INFO:root:Simulating discrete-time analog frontend\n"
     ]
    },
    {
     "name": "stdout",
     "output_type": "stream",
     "text": [
      "Sampling frequency: 1.28 MHz\n",
      "###################################\n",
      "Testing: order=3, osr=32, nlev=3, Hinf=1.5, form=CRFB\n",
      "###################################\n"
     ]
    },
    {
     "name": "stderr",
     "output_type": "stream",
     "text": [
      "WARNING:cbadc.digital_backend:Discrete time Wiener filter not properly implemented. Results may be incorrect.\n",
      "INFO:root:Simulating discrete-time analog frontend\n"
     ]
    },
    {
     "name": "stdout",
     "output_type": "stream",
     "text": [
      "Sampling frequency: 1.28 MHz\n",
      "###################################\n",
      "Testing: order=3, osr=32, nlev=3, Hinf=1.5, form=CRFF\n",
      "###################################\n"
     ]
    },
    {
     "name": "stderr",
     "output_type": "stream",
     "text": [
      "WARNING:cbadc.digital_backend:Discrete time Wiener filter not properly implemented. Results may be incorrect.\n",
      "INFO:root:Simulating discrete-time analog frontend\n"
     ]
    },
    {
     "name": "stdout",
     "output_type": "stream",
     "text": [
      "Sampling frequency: 1.28 MHz\n",
      "###################################\n",
      "Testing: order=3, osr=32, nlev=3, Hinf=1.5, form=CIFB\n",
      "###################################\n"
     ]
    },
    {
     "name": "stderr",
     "output_type": "stream",
     "text": [
      "WARNING:cbadc.digital_backend:Discrete time Wiener filter not properly implemented. Results may be incorrect.\n",
      "INFO:root:Simulating discrete-time analog frontend\n"
     ]
    },
    {
     "name": "stdout",
     "output_type": "stream",
     "text": [
      "Sampling frequency: 1.28 MHz\n",
      "###################################\n",
      "Testing: order=3, osr=32, nlev=3, Hinf=1.5, form=CIFF\n",
      "###################################\n"
     ]
    },
    {
     "name": "stderr",
     "output_type": "stream",
     "text": [
      "WARNING:cbadc.digital_backend:Discrete time Wiener filter not properly implemented. Results may be incorrect.\n",
      "INFO:root:Simulating discrete-time analog frontend\n"
     ]
    },
    {
     "name": "stdout",
     "output_type": "stream",
     "text": [
      "Sampling frequency: 1.28 MHz\n",
      "###################################\n",
      "Testing: order=3, osr=32, nlev=3, Hinf=1.5, form=CRFBD\n",
      "###################################\n"
     ]
    },
    {
     "name": "stderr",
     "output_type": "stream",
     "text": [
      "WARNING:cbadc.digital_backend:Discrete time Wiener filter not properly implemented. Results may be incorrect.\n",
      "INFO:root:Simulating discrete-time analog frontend\n"
     ]
    },
    {
     "name": "stdout",
     "output_type": "stream",
     "text": [
      "Sampling frequency: 1.28 MHz\n",
      "###################################\n",
      "Testing: order=3, osr=32, nlev=3, Hinf=1.5, form=CRFFD\n",
      "###################################\n"
     ]
    },
    {
     "name": "stderr",
     "output_type": "stream",
     "text": [
      "WARNING:cbadc.digital_backend:Discrete time Wiener filter not properly implemented. Results may be incorrect.\n",
      "INFO:root:Simulating discrete-time analog frontend\n"
     ]
    },
    {
     "name": "stdout",
     "output_type": "stream",
     "text": [
      "Sampling frequency: 1.28 MHz\n",
      "###################################\n",
      "Testing: order=3, osr=32, nlev=3, Hinf=2.0, form=CRFB\n",
      "###################################\n"
     ]
    },
    {
     "name": "stderr",
     "output_type": "stream",
     "text": [
      "WARNING:cbadc.digital_backend:Discrete time Wiener filter not properly implemented. Results may be incorrect.\n",
      "INFO:root:Simulating discrete-time analog frontend\n"
     ]
    },
    {
     "name": "stdout",
     "output_type": "stream",
     "text": [
      "Sampling frequency: 1.28 MHz\n",
      "###################################\n",
      "Testing: order=3, osr=32, nlev=3, Hinf=2.0, form=CRFF\n",
      "###################################\n"
     ]
    },
    {
     "name": "stderr",
     "output_type": "stream",
     "text": [
      "WARNING:cbadc.digital_backend:Discrete time Wiener filter not properly implemented. Results may be incorrect.\n",
      "INFO:root:Simulating discrete-time analog frontend\n"
     ]
    },
    {
     "name": "stdout",
     "output_type": "stream",
     "text": [
      "Sampling frequency: 1.28 MHz\n",
      "###################################\n",
      "Testing: order=3, osr=32, nlev=3, Hinf=2.0, form=CIFB\n",
      "###################################\n"
     ]
    },
    {
     "name": "stderr",
     "output_type": "stream",
     "text": [
      "WARNING:cbadc.digital_backend:Discrete time Wiener filter not properly implemented. Results may be incorrect.\n",
      "INFO:root:Simulating discrete-time analog frontend\n"
     ]
    },
    {
     "name": "stdout",
     "output_type": "stream",
     "text": [
      "Sampling frequency: 1.28 MHz\n",
      "###################################\n",
      "Testing: order=3, osr=32, nlev=3, Hinf=2.0, form=CIFF\n",
      "###################################\n"
     ]
    },
    {
     "name": "stderr",
     "output_type": "stream",
     "text": [
      "WARNING:cbadc.digital_backend:Discrete time Wiener filter not properly implemented. Results may be incorrect.\n",
      "INFO:root:Simulating discrete-time analog frontend\n"
     ]
    },
    {
     "name": "stdout",
     "output_type": "stream",
     "text": [
      "Sampling frequency: 1.28 MHz\n",
      "###################################\n",
      "Testing: order=3, osr=32, nlev=3, Hinf=2.0, form=CRFBD\n",
      "###################################\n"
     ]
    },
    {
     "name": "stderr",
     "output_type": "stream",
     "text": [
      "WARNING:cbadc.digital_backend:Discrete time Wiener filter not properly implemented. Results may be incorrect.\n",
      "INFO:root:Simulating discrete-time analog frontend\n"
     ]
    },
    {
     "name": "stdout",
     "output_type": "stream",
     "text": [
      "Sampling frequency: 1.28 MHz\n",
      "###################################\n",
      "Testing: order=3, osr=32, nlev=3, Hinf=2.0, form=CRFFD\n",
      "###################################\n"
     ]
    },
    {
     "name": "stderr",
     "output_type": "stream",
     "text": [
      "WARNING:cbadc.digital_backend:Discrete time Wiener filter not properly implemented. Results may be incorrect.\n",
      "INFO:root:Simulating discrete-time analog frontend\n"
     ]
    },
    {
     "name": "stdout",
     "output_type": "stream",
     "text": [
      "Sampling frequency: 2.56 MHz\n",
      "###################################\n",
      "Testing: order=3, osr=64, nlev=2, Hinf=1.0, form=CRFB\n",
      "###################################\n"
     ]
    },
    {
     "name": "stderr",
     "output_type": "stream",
     "text": [
      "WARNING:cbadc.digital_backend:Discrete time Wiener filter not properly implemented. Results may be incorrect.\n",
      "INFO:root:Simulating discrete-time analog frontend\n"
     ]
    },
    {
     "name": "stdout",
     "output_type": "stream",
     "text": [
      "Sampling frequency: 2.56 MHz\n",
      "###################################\n",
      "Testing: order=3, osr=64, nlev=2, Hinf=1.0, form=CRFF\n",
      "###################################\n"
     ]
    },
    {
     "name": "stderr",
     "output_type": "stream",
     "text": [
      "WARNING:cbadc.digital_backend:Discrete time Wiener filter not properly implemented. Results may be incorrect.\n",
      "INFO:root:Simulating discrete-time analog frontend\n"
     ]
    },
    {
     "name": "stdout",
     "output_type": "stream",
     "text": [
      "Sampling frequency: 2.56 MHz\n",
      "###################################\n",
      "Testing: order=3, osr=64, nlev=2, Hinf=1.0, form=CIFB\n",
      "###################################\n"
     ]
    },
    {
     "name": "stderr",
     "output_type": "stream",
     "text": [
      "WARNING:cbadc.digital_backend:Discrete time Wiener filter not properly implemented. Results may be incorrect.\n",
      "INFO:root:Simulating discrete-time analog frontend\n"
     ]
    },
    {
     "name": "stdout",
     "output_type": "stream",
     "text": [
      "Sampling frequency: 2.56 MHz\n",
      "###################################\n",
      "Testing: order=3, osr=64, nlev=2, Hinf=1.0, form=CIFF\n",
      "###################################\n"
     ]
    },
    {
     "name": "stderr",
     "output_type": "stream",
     "text": [
      "WARNING:cbadc.digital_backend:Discrete time Wiener filter not properly implemented. Results may be incorrect.\n",
      "INFO:root:Simulating discrete-time analog frontend\n"
     ]
    },
    {
     "name": "stdout",
     "output_type": "stream",
     "text": [
      "Sampling frequency: 2.56 MHz\n",
      "###################################\n",
      "Testing: order=3, osr=64, nlev=2, Hinf=1.0, form=CRFBD\n",
      "###################################\n"
     ]
    },
    {
     "name": "stderr",
     "output_type": "stream",
     "text": [
      "WARNING:cbadc.digital_backend:Discrete time Wiener filter not properly implemented. Results may be incorrect.\n",
      "INFO:root:Simulating discrete-time analog frontend\n"
     ]
    },
    {
     "name": "stdout",
     "output_type": "stream",
     "text": [
      "Sampling frequency: 2.56 MHz\n",
      "###################################\n",
      "Testing: order=3, osr=64, nlev=2, Hinf=1.0, form=CRFFD\n",
      "###################################\n"
     ]
    },
    {
     "name": "stderr",
     "output_type": "stream",
     "text": [
      "WARNING:cbadc.digital_backend:Discrete time Wiener filter not properly implemented. Results may be incorrect.\n",
      "INFO:root:Simulating discrete-time analog frontend\n"
     ]
    },
    {
     "name": "stdout",
     "output_type": "stream",
     "text": [
      "Sampling frequency: 2.56 MHz\n",
      "###################################\n",
      "Testing: order=3, osr=64, nlev=2, Hinf=1.5, form=CRFB\n",
      "###################################\n"
     ]
    },
    {
     "name": "stderr",
     "output_type": "stream",
     "text": [
      "WARNING:cbadc.digital_backend:Discrete time Wiener filter not properly implemented. Results may be incorrect.\n",
      "INFO:root:Simulating discrete-time analog frontend\n"
     ]
    },
    {
     "name": "stdout",
     "output_type": "stream",
     "text": [
      "Sampling frequency: 2.56 MHz\n",
      "###################################\n",
      "Testing: order=3, osr=64, nlev=2, Hinf=1.5, form=CRFF\n",
      "###################################\n"
     ]
    },
    {
     "name": "stderr",
     "output_type": "stream",
     "text": [
      "WARNING:cbadc.digital_backend:Discrete time Wiener filter not properly implemented. Results may be incorrect.\n",
      "INFO:root:Simulating discrete-time analog frontend\n"
     ]
    },
    {
     "name": "stdout",
     "output_type": "stream",
     "text": [
      "Sampling frequency: 2.56 MHz\n",
      "###################################\n",
      "Testing: order=3, osr=64, nlev=2, Hinf=1.5, form=CIFB\n",
      "###################################\n"
     ]
    },
    {
     "name": "stderr",
     "output_type": "stream",
     "text": [
      "WARNING:cbadc.digital_backend:Discrete time Wiener filter not properly implemented. Results may be incorrect.\n",
      "INFO:root:Simulating discrete-time analog frontend\n"
     ]
    },
    {
     "name": "stdout",
     "output_type": "stream",
     "text": [
      "Sampling frequency: 2.56 MHz\n",
      "###################################\n",
      "Testing: order=3, osr=64, nlev=2, Hinf=1.5, form=CIFF\n",
      "###################################\n"
     ]
    },
    {
     "name": "stderr",
     "output_type": "stream",
     "text": [
      "WARNING:cbadc.digital_backend:Discrete time Wiener filter not properly implemented. Results may be incorrect.\n",
      "INFO:root:Simulating discrete-time analog frontend\n"
     ]
    },
    {
     "name": "stdout",
     "output_type": "stream",
     "text": [
      "Sampling frequency: 2.56 MHz\n",
      "###################################\n",
      "Testing: order=3, osr=64, nlev=2, Hinf=1.5, form=CRFBD\n",
      "###################################\n"
     ]
    },
    {
     "name": "stderr",
     "output_type": "stream",
     "text": [
      "WARNING:cbadc.digital_backend:Discrete time Wiener filter not properly implemented. Results may be incorrect.\n",
      "INFO:root:Simulating discrete-time analog frontend\n"
     ]
    },
    {
     "name": "stdout",
     "output_type": "stream",
     "text": [
      "Sampling frequency: 2.56 MHz\n",
      "###################################\n",
      "Testing: order=3, osr=64, nlev=2, Hinf=1.5, form=CRFFD\n",
      "###################################\n"
     ]
    },
    {
     "name": "stderr",
     "output_type": "stream",
     "text": [
      "WARNING:cbadc.digital_backend:Discrete time Wiener filter not properly implemented. Results may be incorrect.\n",
      "INFO:root:Simulating discrete-time analog frontend\n"
     ]
    },
    {
     "name": "stdout",
     "output_type": "stream",
     "text": [
      "Sampling frequency: 2.56 MHz\n",
      "###################################\n",
      "Testing: order=3, osr=64, nlev=2, Hinf=2.0, form=CRFB\n",
      "###################################\n"
     ]
    },
    {
     "name": "stderr",
     "output_type": "stream",
     "text": [
      "WARNING:cbadc.digital_backend:Discrete time Wiener filter not properly implemented. Results may be incorrect.\n",
      "INFO:root:Simulating discrete-time analog frontend\n"
     ]
    },
    {
     "name": "stdout",
     "output_type": "stream",
     "text": [
      "Sampling frequency: 2.56 MHz\n",
      "###################################\n",
      "Testing: order=3, osr=64, nlev=2, Hinf=2.0, form=CRFF\n",
      "###################################\n"
     ]
    },
    {
     "name": "stderr",
     "output_type": "stream",
     "text": [
      "WARNING:cbadc.digital_backend:Discrete time Wiener filter not properly implemented. Results may be incorrect.\n",
      "INFO:root:Simulating discrete-time analog frontend\n"
     ]
    },
    {
     "name": "stdout",
     "output_type": "stream",
     "text": [
      "Sampling frequency: 2.56 MHz\n",
      "###################################\n",
      "Testing: order=3, osr=64, nlev=2, Hinf=2.0, form=CIFB\n",
      "###################################\n"
     ]
    },
    {
     "name": "stderr",
     "output_type": "stream",
     "text": [
      "WARNING:cbadc.digital_backend:Discrete time Wiener filter not properly implemented. Results may be incorrect.\n",
      "INFO:root:Simulating discrete-time analog frontend\n"
     ]
    },
    {
     "name": "stdout",
     "output_type": "stream",
     "text": [
      "Sampling frequency: 2.56 MHz\n",
      "###################################\n",
      "Testing: order=3, osr=64, nlev=2, Hinf=2.0, form=CIFF\n",
      "###################################\n"
     ]
    },
    {
     "name": "stderr",
     "output_type": "stream",
     "text": [
      "WARNING:cbadc.digital_backend:Discrete time Wiener filter not properly implemented. Results may be incorrect.\n",
      "INFO:root:Simulating discrete-time analog frontend\n"
     ]
    },
    {
     "name": "stdout",
     "output_type": "stream",
     "text": [
      "Sampling frequency: 2.56 MHz\n",
      "###################################\n",
      "Testing: order=3, osr=64, nlev=2, Hinf=2.0, form=CRFBD\n",
      "###################################\n"
     ]
    },
    {
     "name": "stderr",
     "output_type": "stream",
     "text": [
      "WARNING:cbadc.digital_backend:Discrete time Wiener filter not properly implemented. Results may be incorrect.\n",
      "INFO:root:Simulating discrete-time analog frontend\n"
     ]
    },
    {
     "name": "stdout",
     "output_type": "stream",
     "text": [
      "Sampling frequency: 2.56 MHz\n",
      "###################################\n",
      "Testing: order=3, osr=64, nlev=2, Hinf=2.0, form=CRFFD\n",
      "###################################\n"
     ]
    },
    {
     "name": "stderr",
     "output_type": "stream",
     "text": [
      "WARNING:cbadc.digital_backend:Discrete time Wiener filter not properly implemented. Results may be incorrect.\n",
      "INFO:root:Simulating discrete-time analog frontend\n"
     ]
    },
    {
     "name": "stdout",
     "output_type": "stream",
     "text": [
      "Sampling frequency: 2.56 MHz\n",
      "###################################\n",
      "Testing: order=3, osr=64, nlev=3, Hinf=1.0, form=CRFB\n",
      "###################################\n"
     ]
    },
    {
     "name": "stderr",
     "output_type": "stream",
     "text": [
      "WARNING:cbadc.digital_backend:Discrete time Wiener filter not properly implemented. Results may be incorrect.\n",
      "INFO:root:Simulating discrete-time analog frontend\n"
     ]
    },
    {
     "name": "stdout",
     "output_type": "stream",
     "text": [
      "Sampling frequency: 2.56 MHz\n",
      "###################################\n",
      "Testing: order=3, osr=64, nlev=3, Hinf=1.0, form=CRFF\n",
      "###################################\n"
     ]
    },
    {
     "name": "stderr",
     "output_type": "stream",
     "text": [
      "WARNING:cbadc.digital_backend:Discrete time Wiener filter not properly implemented. Results may be incorrect.\n",
      "INFO:root:Simulating discrete-time analog frontend\n"
     ]
    },
    {
     "name": "stdout",
     "output_type": "stream",
     "text": [
      "Sampling frequency: 2.56 MHz\n",
      "###################################\n",
      "Testing: order=3, osr=64, nlev=3, Hinf=1.0, form=CIFB\n",
      "###################################\n"
     ]
    },
    {
     "name": "stderr",
     "output_type": "stream",
     "text": [
      "WARNING:cbadc.digital_backend:Discrete time Wiener filter not properly implemented. Results may be incorrect.\n",
      "INFO:root:Simulating discrete-time analog frontend\n"
     ]
    },
    {
     "name": "stdout",
     "output_type": "stream",
     "text": [
      "Sampling frequency: 2.56 MHz\n",
      "###################################\n",
      "Testing: order=3, osr=64, nlev=3, Hinf=1.0, form=CIFF\n",
      "###################################\n"
     ]
    },
    {
     "name": "stderr",
     "output_type": "stream",
     "text": [
      "WARNING:cbadc.digital_backend:Discrete time Wiener filter not properly implemented. Results may be incorrect.\n",
      "INFO:root:Simulating discrete-time analog frontend\n"
     ]
    },
    {
     "name": "stdout",
     "output_type": "stream",
     "text": [
      "Sampling frequency: 2.56 MHz\n",
      "###################################\n",
      "Testing: order=3, osr=64, nlev=3, Hinf=1.0, form=CRFBD\n",
      "###################################\n"
     ]
    },
    {
     "name": "stderr",
     "output_type": "stream",
     "text": [
      "WARNING:cbadc.digital_backend:Discrete time Wiener filter not properly implemented. Results may be incorrect.\n",
      "INFO:root:Simulating discrete-time analog frontend\n"
     ]
    },
    {
     "name": "stdout",
     "output_type": "stream",
     "text": [
      "Sampling frequency: 2.56 MHz\n",
      "###################################\n",
      "Testing: order=3, osr=64, nlev=3, Hinf=1.0, form=CRFFD\n",
      "###################################\n"
     ]
    },
    {
     "name": "stderr",
     "output_type": "stream",
     "text": [
      "WARNING:cbadc.digital_backend:Discrete time Wiener filter not properly implemented. Results may be incorrect.\n",
      "INFO:root:Simulating discrete-time analog frontend\n"
     ]
    },
    {
     "name": "stdout",
     "output_type": "stream",
     "text": [
      "Sampling frequency: 2.56 MHz\n",
      "###################################\n",
      "Testing: order=3, osr=64, nlev=3, Hinf=1.5, form=CRFB\n",
      "###################################\n"
     ]
    },
    {
     "name": "stderr",
     "output_type": "stream",
     "text": [
      "WARNING:cbadc.digital_backend:Discrete time Wiener filter not properly implemented. Results may be incorrect.\n",
      "INFO:root:Simulating discrete-time analog frontend\n"
     ]
    },
    {
     "name": "stdout",
     "output_type": "stream",
     "text": [
      "Sampling frequency: 2.56 MHz\n",
      "###################################\n",
      "Testing: order=3, osr=64, nlev=3, Hinf=1.5, form=CRFF\n",
      "###################################\n"
     ]
    },
    {
     "name": "stderr",
     "output_type": "stream",
     "text": [
      "WARNING:cbadc.digital_backend:Discrete time Wiener filter not properly implemented. Results may be incorrect.\n",
      "INFO:root:Simulating discrete-time analog frontend\n"
     ]
    },
    {
     "name": "stdout",
     "output_type": "stream",
     "text": [
      "Sampling frequency: 2.56 MHz\n",
      "###################################\n",
      "Testing: order=3, osr=64, nlev=3, Hinf=1.5, form=CIFB\n",
      "###################################\n"
     ]
    },
    {
     "name": "stderr",
     "output_type": "stream",
     "text": [
      "WARNING:cbadc.digital_backend:Discrete time Wiener filter not properly implemented. Results may be incorrect.\n",
      "INFO:root:Simulating discrete-time analog frontend\n"
     ]
    },
    {
     "name": "stdout",
     "output_type": "stream",
     "text": [
      "Sampling frequency: 2.56 MHz\n",
      "###################################\n",
      "Testing: order=3, osr=64, nlev=3, Hinf=1.5, form=CIFF\n",
      "###################################\n"
     ]
    },
    {
     "name": "stderr",
     "output_type": "stream",
     "text": [
      "WARNING:cbadc.digital_backend:Discrete time Wiener filter not properly implemented. Results may be incorrect.\n",
      "INFO:root:Simulating discrete-time analog frontend\n"
     ]
    },
    {
     "name": "stdout",
     "output_type": "stream",
     "text": [
      "Sampling frequency: 2.56 MHz\n",
      "###################################\n",
      "Testing: order=3, osr=64, nlev=3, Hinf=1.5, form=CRFBD\n",
      "###################################\n"
     ]
    },
    {
     "name": "stderr",
     "output_type": "stream",
     "text": [
      "WARNING:cbadc.digital_backend:Discrete time Wiener filter not properly implemented. Results may be incorrect.\n",
      "INFO:root:Simulating discrete-time analog frontend\n"
     ]
    },
    {
     "name": "stdout",
     "output_type": "stream",
     "text": [
      "Sampling frequency: 2.56 MHz\n",
      "###################################\n",
      "Testing: order=3, osr=64, nlev=3, Hinf=1.5, form=CRFFD\n",
      "###################################\n"
     ]
    },
    {
     "name": "stderr",
     "output_type": "stream",
     "text": [
      "WARNING:cbadc.digital_backend:Discrete time Wiener filter not properly implemented. Results may be incorrect.\n",
      "INFO:root:Simulating discrete-time analog frontend\n"
     ]
    },
    {
     "name": "stdout",
     "output_type": "stream",
     "text": [
      "Sampling frequency: 2.56 MHz\n",
      "###################################\n",
      "Testing: order=3, osr=64, nlev=3, Hinf=2.0, form=CRFB\n",
      "###################################\n"
     ]
    },
    {
     "name": "stderr",
     "output_type": "stream",
     "text": [
      "WARNING:cbadc.digital_backend:Discrete time Wiener filter not properly implemented. Results may be incorrect.\n",
      "INFO:root:Simulating discrete-time analog frontend\n"
     ]
    },
    {
     "name": "stdout",
     "output_type": "stream",
     "text": [
      "Sampling frequency: 2.56 MHz\n",
      "###################################\n",
      "Testing: order=3, osr=64, nlev=3, Hinf=2.0, form=CRFF\n",
      "###################################\n"
     ]
    },
    {
     "name": "stderr",
     "output_type": "stream",
     "text": [
      "WARNING:cbadc.digital_backend:Discrete time Wiener filter not properly implemented. Results may be incorrect.\n",
      "INFO:root:Simulating discrete-time analog frontend\n"
     ]
    },
    {
     "name": "stdout",
     "output_type": "stream",
     "text": [
      "Sampling frequency: 2.56 MHz\n",
      "###################################\n",
      "Testing: order=3, osr=64, nlev=3, Hinf=2.0, form=CIFB\n",
      "###################################\n"
     ]
    },
    {
     "name": "stderr",
     "output_type": "stream",
     "text": [
      "WARNING:cbadc.digital_backend:Discrete time Wiener filter not properly implemented. Results may be incorrect.\n",
      "INFO:root:Simulating discrete-time analog frontend\n"
     ]
    },
    {
     "name": "stdout",
     "output_type": "stream",
     "text": [
      "Sampling frequency: 2.56 MHz\n",
      "###################################\n",
      "Testing: order=3, osr=64, nlev=3, Hinf=2.0, form=CIFF\n",
      "###################################\n"
     ]
    },
    {
     "name": "stderr",
     "output_type": "stream",
     "text": [
      "WARNING:cbadc.digital_backend:Discrete time Wiener filter not properly implemented. Results may be incorrect.\n",
      "INFO:root:Simulating discrete-time analog frontend\n"
     ]
    },
    {
     "name": "stdout",
     "output_type": "stream",
     "text": [
      "Sampling frequency: 2.56 MHz\n",
      "###################################\n",
      "Testing: order=3, osr=64, nlev=3, Hinf=2.0, form=CRFBD\n",
      "###################################\n"
     ]
    },
    {
     "name": "stderr",
     "output_type": "stream",
     "text": [
      "WARNING:cbadc.digital_backend:Discrete time Wiener filter not properly implemented. Results may be incorrect.\n",
      "INFO:root:Simulating discrete-time analog frontend\n"
     ]
    },
    {
     "name": "stdout",
     "output_type": "stream",
     "text": [
      "Sampling frequency: 2.56 MHz\n",
      "###################################\n",
      "Testing: order=3, osr=64, nlev=3, Hinf=2.0, form=CRFFD\n",
      "###################################\n"
     ]
    },
    {
     "name": "stderr",
     "output_type": "stream",
     "text": [
      "WARNING:cbadc.digital_backend:Discrete time Wiener filter not properly implemented. Results may be incorrect.\n",
      "INFO:root:Simulating discrete-time analog frontend\n"
     ]
    },
    {
     "name": "stdout",
     "output_type": "stream",
     "text": [
      "Sampling frequency: 5.12 MHz\n",
      "###################################\n",
      "Testing: order=3, osr=128, nlev=2, Hinf=1.0, form=CRFB\n",
      "###################################\n"
     ]
    },
    {
     "name": "stderr",
     "output_type": "stream",
     "text": [
      "WARNING:cbadc.digital_backend:Discrete time Wiener filter not properly implemented. Results may be incorrect.\n",
      "INFO:root:Simulating discrete-time analog frontend\n"
     ]
    },
    {
     "name": "stdout",
     "output_type": "stream",
     "text": [
      "Sampling frequency: 5.12 MHz\n",
      "###################################\n",
      "Testing: order=3, osr=128, nlev=2, Hinf=1.0, form=CRFF\n",
      "###################################\n"
     ]
    },
    {
     "name": "stderr",
     "output_type": "stream",
     "text": [
      "WARNING:cbadc.digital_backend:Discrete time Wiener filter not properly implemented. Results may be incorrect.\n",
      "INFO:root:Simulating discrete-time analog frontend\n"
     ]
    },
    {
     "name": "stdout",
     "output_type": "stream",
     "text": [
      "Sampling frequency: 5.12 MHz\n",
      "###################################\n",
      "Testing: order=3, osr=128, nlev=2, Hinf=1.0, form=CIFB\n",
      "###################################\n"
     ]
    },
    {
     "name": "stderr",
     "output_type": "stream",
     "text": [
      "WARNING:cbadc.digital_backend:Discrete time Wiener filter not properly implemented. Results may be incorrect.\n",
      "INFO:root:Simulating discrete-time analog frontend\n"
     ]
    },
    {
     "name": "stdout",
     "output_type": "stream",
     "text": [
      "Sampling frequency: 5.12 MHz\n",
      "###################################\n",
      "Testing: order=3, osr=128, nlev=2, Hinf=1.0, form=CIFF\n",
      "###################################\n"
     ]
    },
    {
     "name": "stderr",
     "output_type": "stream",
     "text": [
      "WARNING:cbadc.digital_backend:Discrete time Wiener filter not properly implemented. Results may be incorrect.\n",
      "INFO:root:Simulating discrete-time analog frontend\n"
     ]
    },
    {
     "name": "stdout",
     "output_type": "stream",
     "text": [
      "Sampling frequency: 5.12 MHz\n",
      "###################################\n",
      "Testing: order=3, osr=128, nlev=2, Hinf=1.0, form=CRFBD\n",
      "###################################\n"
     ]
    },
    {
     "name": "stderr",
     "output_type": "stream",
     "text": [
      "WARNING:cbadc.digital_backend:Discrete time Wiener filter not properly implemented. Results may be incorrect.\n",
      "INFO:root:Simulating discrete-time analog frontend\n"
     ]
    },
    {
     "name": "stdout",
     "output_type": "stream",
     "text": [
      "Sampling frequency: 5.12 MHz\n",
      "###################################\n",
      "Testing: order=3, osr=128, nlev=2, Hinf=1.0, form=CRFFD\n",
      "###################################\n"
     ]
    },
    {
     "name": "stderr",
     "output_type": "stream",
     "text": [
      "WARNING:cbadc.digital_backend:Discrete time Wiener filter not properly implemented. Results may be incorrect.\n",
      "INFO:root:Simulating discrete-time analog frontend\n"
     ]
    },
    {
     "name": "stdout",
     "output_type": "stream",
     "text": [
      "Sampling frequency: 5.12 MHz\n",
      "###################################\n",
      "Testing: order=3, osr=128, nlev=2, Hinf=1.5, form=CRFB\n",
      "###################################\n"
     ]
    },
    {
     "name": "stderr",
     "output_type": "stream",
     "text": [
      "WARNING:cbadc.digital_backend:Discrete time Wiener filter not properly implemented. Results may be incorrect.\n",
      "INFO:root:Simulating discrete-time analog frontend\n"
     ]
    },
    {
     "name": "stdout",
     "output_type": "stream",
     "text": [
      "Sampling frequency: 5.12 MHz\n",
      "###################################\n",
      "Testing: order=3, osr=128, nlev=2, Hinf=1.5, form=CRFF\n",
      "###################################\n"
     ]
    },
    {
     "name": "stderr",
     "output_type": "stream",
     "text": [
      "WARNING:cbadc.digital_backend:Discrete time Wiener filter not properly implemented. Results may be incorrect.\n",
      "INFO:root:Simulating discrete-time analog frontend\n"
     ]
    },
    {
     "name": "stdout",
     "output_type": "stream",
     "text": [
      "Sampling frequency: 5.12 MHz\n",
      "###################################\n",
      "Testing: order=3, osr=128, nlev=2, Hinf=1.5, form=CIFB\n",
      "###################################\n"
     ]
    },
    {
     "name": "stderr",
     "output_type": "stream",
     "text": [
      "WARNING:cbadc.digital_backend:Discrete time Wiener filter not properly implemented. Results may be incorrect.\n",
      "INFO:root:Simulating discrete-time analog frontend\n"
     ]
    },
    {
     "name": "stdout",
     "output_type": "stream",
     "text": [
      "Sampling frequency: 5.12 MHz\n",
      "###################################\n",
      "Testing: order=3, osr=128, nlev=2, Hinf=1.5, form=CIFF\n",
      "###################################\n"
     ]
    },
    {
     "name": "stderr",
     "output_type": "stream",
     "text": [
      "WARNING:cbadc.digital_backend:Discrete time Wiener filter not properly implemented. Results may be incorrect.\n",
      "INFO:root:Simulating discrete-time analog frontend\n"
     ]
    },
    {
     "name": "stdout",
     "output_type": "stream",
     "text": [
      "Sampling frequency: 5.12 MHz\n",
      "###################################\n",
      "Testing: order=3, osr=128, nlev=2, Hinf=1.5, form=CRFBD\n",
      "###################################\n"
     ]
    },
    {
     "name": "stderr",
     "output_type": "stream",
     "text": [
      "WARNING:cbadc.digital_backend:Discrete time Wiener filter not properly implemented. Results may be incorrect.\n",
      "INFO:root:Simulating discrete-time analog frontend\n"
     ]
    },
    {
     "name": "stdout",
     "output_type": "stream",
     "text": [
      "Sampling frequency: 5.12 MHz\n",
      "###################################\n",
      "Testing: order=3, osr=128, nlev=2, Hinf=1.5, form=CRFFD\n",
      "###################################\n"
     ]
    },
    {
     "name": "stderr",
     "output_type": "stream",
     "text": [
      "WARNING:cbadc.digital_backend:Discrete time Wiener filter not properly implemented. Results may be incorrect.\n",
      "INFO:root:Simulating discrete-time analog frontend\n"
     ]
    },
    {
     "name": "stdout",
     "output_type": "stream",
     "text": [
      "Sampling frequency: 5.12 MHz\n",
      "###################################\n",
      "Testing: order=3, osr=128, nlev=2, Hinf=2.0, form=CRFB\n",
      "###################################\n"
     ]
    },
    {
     "name": "stderr",
     "output_type": "stream",
     "text": [
      "WARNING:cbadc.digital_backend:Discrete time Wiener filter not properly implemented. Results may be incorrect.\n",
      "INFO:root:Simulating discrete-time analog frontend\n"
     ]
    },
    {
     "name": "stdout",
     "output_type": "stream",
     "text": [
      "Sampling frequency: 5.12 MHz\n",
      "###################################\n",
      "Testing: order=3, osr=128, nlev=2, Hinf=2.0, form=CRFF\n",
      "###################################\n"
     ]
    },
    {
     "name": "stderr",
     "output_type": "stream",
     "text": [
      "WARNING:cbadc.digital_backend:Discrete time Wiener filter not properly implemented. Results may be incorrect.\n",
      "INFO:root:Simulating discrete-time analog frontend\n"
     ]
    },
    {
     "name": "stdout",
     "output_type": "stream",
     "text": [
      "Sampling frequency: 5.12 MHz\n",
      "###################################\n",
      "Testing: order=3, osr=128, nlev=2, Hinf=2.0, form=CIFB\n",
      "###################################\n"
     ]
    },
    {
     "name": "stderr",
     "output_type": "stream",
     "text": [
      "WARNING:cbadc.digital_backend:Discrete time Wiener filter not properly implemented. Results may be incorrect.\n",
      "INFO:root:Simulating discrete-time analog frontend\n"
     ]
    },
    {
     "name": "stdout",
     "output_type": "stream",
     "text": [
      "Sampling frequency: 5.12 MHz\n",
      "###################################\n",
      "Testing: order=3, osr=128, nlev=2, Hinf=2.0, form=CIFF\n",
      "###################################\n"
     ]
    },
    {
     "name": "stderr",
     "output_type": "stream",
     "text": [
      "WARNING:cbadc.digital_backend:Discrete time Wiener filter not properly implemented. Results may be incorrect.\n",
      "INFO:root:Simulating discrete-time analog frontend\n"
     ]
    },
    {
     "name": "stdout",
     "output_type": "stream",
     "text": [
      "Sampling frequency: 5.12 MHz\n",
      "###################################\n",
      "Testing: order=3, osr=128, nlev=2, Hinf=2.0, form=CRFBD\n",
      "###################################\n"
     ]
    },
    {
     "name": "stderr",
     "output_type": "stream",
     "text": [
      "WARNING:cbadc.digital_backend:Discrete time Wiener filter not properly implemented. Results may be incorrect.\n",
      "INFO:root:Simulating discrete-time analog frontend\n"
     ]
    },
    {
     "name": "stdout",
     "output_type": "stream",
     "text": [
      "Sampling frequency: 5.12 MHz\n",
      "###################################\n",
      "Testing: order=3, osr=128, nlev=2, Hinf=2.0, form=CRFFD\n",
      "###################################\n"
     ]
    },
    {
     "name": "stderr",
     "output_type": "stream",
     "text": [
      "WARNING:cbadc.digital_backend:Discrete time Wiener filter not properly implemented. Results may be incorrect.\n",
      "INFO:root:Simulating discrete-time analog frontend\n"
     ]
    },
    {
     "name": "stdout",
     "output_type": "stream",
     "text": [
      "Sampling frequency: 5.12 MHz\n",
      "###################################\n",
      "Testing: order=3, osr=128, nlev=3, Hinf=1.0, form=CRFB\n",
      "###################################\n"
     ]
    },
    {
     "name": "stderr",
     "output_type": "stream",
     "text": [
      "WARNING:cbadc.digital_backend:Discrete time Wiener filter not properly implemented. Results may be incorrect.\n",
      "INFO:root:Simulating discrete-time analog frontend\n"
     ]
    },
    {
     "name": "stdout",
     "output_type": "stream",
     "text": [
      "Sampling frequency: 5.12 MHz\n",
      "###################################\n",
      "Testing: order=3, osr=128, nlev=3, Hinf=1.0, form=CRFF\n",
      "###################################\n"
     ]
    },
    {
     "name": "stderr",
     "output_type": "stream",
     "text": [
      "WARNING:cbadc.digital_backend:Discrete time Wiener filter not properly implemented. Results may be incorrect.\n",
      "INFO:root:Simulating discrete-time analog frontend\n"
     ]
    },
    {
     "name": "stdout",
     "output_type": "stream",
     "text": [
      "Sampling frequency: 5.12 MHz\n",
      "###################################\n",
      "Testing: order=3, osr=128, nlev=3, Hinf=1.0, form=CIFB\n",
      "###################################\n"
     ]
    },
    {
     "name": "stderr",
     "output_type": "stream",
     "text": [
      "WARNING:cbadc.digital_backend:Discrete time Wiener filter not properly implemented. Results may be incorrect.\n",
      "INFO:root:Simulating discrete-time analog frontend\n"
     ]
    },
    {
     "name": "stdout",
     "output_type": "stream",
     "text": [
      "Sampling frequency: 5.12 MHz\n",
      "###################################\n",
      "Testing: order=3, osr=128, nlev=3, Hinf=1.0, form=CIFF\n",
      "###################################\n"
     ]
    },
    {
     "name": "stderr",
     "output_type": "stream",
     "text": [
      "WARNING:cbadc.digital_backend:Discrete time Wiener filter not properly implemented. Results may be incorrect.\n",
      "INFO:root:Simulating discrete-time analog frontend\n"
     ]
    },
    {
     "name": "stdout",
     "output_type": "stream",
     "text": [
      "Sampling frequency: 5.12 MHz\n",
      "###################################\n",
      "Testing: order=3, osr=128, nlev=3, Hinf=1.0, form=CRFBD\n",
      "###################################\n"
     ]
    },
    {
     "name": "stderr",
     "output_type": "stream",
     "text": [
      "WARNING:cbadc.digital_backend:Discrete time Wiener filter not properly implemented. Results may be incorrect.\n",
      "INFO:root:Simulating discrete-time analog frontend\n"
     ]
    },
    {
     "name": "stdout",
     "output_type": "stream",
     "text": [
      "Sampling frequency: 5.12 MHz\n",
      "###################################\n",
      "Testing: order=3, osr=128, nlev=3, Hinf=1.0, form=CRFFD\n",
      "###################################\n"
     ]
    },
    {
     "name": "stderr",
     "output_type": "stream",
     "text": [
      "WARNING:cbadc.digital_backend:Discrete time Wiener filter not properly implemented. Results may be incorrect.\n",
      "INFO:root:Simulating discrete-time analog frontend\n"
     ]
    },
    {
     "name": "stdout",
     "output_type": "stream",
     "text": [
      "Sampling frequency: 5.12 MHz\n",
      "###################################\n",
      "Testing: order=3, osr=128, nlev=3, Hinf=1.5, form=CRFB\n",
      "###################################\n"
     ]
    },
    {
     "name": "stderr",
     "output_type": "stream",
     "text": [
      "WARNING:cbadc.digital_backend:Discrete time Wiener filter not properly implemented. Results may be incorrect.\n",
      "INFO:root:Simulating discrete-time analog frontend\n"
     ]
    },
    {
     "name": "stdout",
     "output_type": "stream",
     "text": [
      "Sampling frequency: 5.12 MHz\n",
      "###################################\n",
      "Testing: order=3, osr=128, nlev=3, Hinf=1.5, form=CRFF\n",
      "###################################\n"
     ]
    },
    {
     "name": "stderr",
     "output_type": "stream",
     "text": [
      "WARNING:cbadc.digital_backend:Discrete time Wiener filter not properly implemented. Results may be incorrect.\n",
      "INFO:root:Simulating discrete-time analog frontend\n"
     ]
    },
    {
     "name": "stdout",
     "output_type": "stream",
     "text": [
      "Sampling frequency: 5.12 MHz\n",
      "###################################\n",
      "Testing: order=3, osr=128, nlev=3, Hinf=1.5, form=CIFB\n",
      "###################################\n"
     ]
    },
    {
     "name": "stderr",
     "output_type": "stream",
     "text": [
      "WARNING:cbadc.digital_backend:Discrete time Wiener filter not properly implemented. Results may be incorrect.\n",
      "INFO:root:Simulating discrete-time analog frontend\n"
     ]
    },
    {
     "name": "stdout",
     "output_type": "stream",
     "text": [
      "Sampling frequency: 5.12 MHz\n",
      "###################################\n",
      "Testing: order=3, osr=128, nlev=3, Hinf=1.5, form=CIFF\n",
      "###################################\n"
     ]
    },
    {
     "name": "stderr",
     "output_type": "stream",
     "text": [
      "WARNING:cbadc.digital_backend:Discrete time Wiener filter not properly implemented. Results may be incorrect.\n",
      "INFO:root:Simulating discrete-time analog frontend\n"
     ]
    },
    {
     "name": "stdout",
     "output_type": "stream",
     "text": [
      "Sampling frequency: 5.12 MHz\n",
      "###################################\n",
      "Testing: order=3, osr=128, nlev=3, Hinf=1.5, form=CRFBD\n",
      "###################################\n"
     ]
    },
    {
     "name": "stderr",
     "output_type": "stream",
     "text": [
      "WARNING:cbadc.digital_backend:Discrete time Wiener filter not properly implemented. Results may be incorrect.\n",
      "INFO:root:Simulating discrete-time analog frontend\n"
     ]
    },
    {
     "name": "stdout",
     "output_type": "stream",
     "text": [
      "Sampling frequency: 5.12 MHz\n",
      "###################################\n",
      "Testing: order=3, osr=128, nlev=3, Hinf=1.5, form=CRFFD\n",
      "###################################\n"
     ]
    },
    {
     "name": "stderr",
     "output_type": "stream",
     "text": [
      "WARNING:cbadc.digital_backend:Discrete time Wiener filter not properly implemented. Results may be incorrect.\n",
      "INFO:root:Simulating discrete-time analog frontend\n"
     ]
    },
    {
     "name": "stdout",
     "output_type": "stream",
     "text": [
      "Sampling frequency: 5.12 MHz\n",
      "###################################\n",
      "Testing: order=3, osr=128, nlev=3, Hinf=2.0, form=CRFB\n",
      "###################################\n"
     ]
    },
    {
     "name": "stderr",
     "output_type": "stream",
     "text": [
      "WARNING:cbadc.digital_backend:Discrete time Wiener filter not properly implemented. Results may be incorrect.\n",
      "INFO:root:Simulating discrete-time analog frontend\n"
     ]
    },
    {
     "name": "stdout",
     "output_type": "stream",
     "text": [
      "Sampling frequency: 5.12 MHz\n",
      "###################################\n",
      "Testing: order=3, osr=128, nlev=3, Hinf=2.0, form=CRFF\n",
      "###################################\n"
     ]
    },
    {
     "name": "stderr",
     "output_type": "stream",
     "text": [
      "WARNING:cbadc.digital_backend:Discrete time Wiener filter not properly implemented. Results may be incorrect.\n",
      "INFO:root:Simulating discrete-time analog frontend\n"
     ]
    },
    {
     "name": "stdout",
     "output_type": "stream",
     "text": [
      "Sampling frequency: 5.12 MHz\n",
      "###################################\n",
      "Testing: order=3, osr=128, nlev=3, Hinf=2.0, form=CIFB\n",
      "###################################\n"
     ]
    },
    {
     "name": "stderr",
     "output_type": "stream",
     "text": [
      "WARNING:cbadc.digital_backend:Discrete time Wiener filter not properly implemented. Results may be incorrect.\n",
      "INFO:root:Simulating discrete-time analog frontend\n"
     ]
    },
    {
     "name": "stdout",
     "output_type": "stream",
     "text": [
      "Sampling frequency: 5.12 MHz\n",
      "###################################\n",
      "Testing: order=3, osr=128, nlev=3, Hinf=2.0, form=CIFF\n",
      "###################################\n"
     ]
    },
    {
     "name": "stderr",
     "output_type": "stream",
     "text": [
      "WARNING:cbadc.digital_backend:Discrete time Wiener filter not properly implemented. Results may be incorrect.\n",
      "INFO:root:Simulating discrete-time analog frontend\n"
     ]
    },
    {
     "name": "stdout",
     "output_type": "stream",
     "text": [
      "Sampling frequency: 5.12 MHz\n",
      "###################################\n",
      "Testing: order=3, osr=128, nlev=3, Hinf=2.0, form=CRFBD\n",
      "###################################\n"
     ]
    },
    {
     "name": "stderr",
     "output_type": "stream",
     "text": [
      "WARNING:cbadc.digital_backend:Discrete time Wiener filter not properly implemented. Results may be incorrect.\n",
      "INFO:root:Simulating discrete-time analog frontend\n"
     ]
    },
    {
     "name": "stdout",
     "output_type": "stream",
     "text": [
      "Sampling frequency: 5.12 MHz\n",
      "###################################\n",
      "Testing: order=3, osr=128, nlev=3, Hinf=2.0, form=CRFFD\n",
      "###################################\n"
     ]
    },
    {
     "name": "stderr",
     "output_type": "stream",
     "text": [
      "WARNING:cbadc.digital_backend:Discrete time Wiener filter not properly implemented. Results may be incorrect.\n",
      "INFO:root:Simulating discrete-time analog frontend\n"
     ]
    },
    {
     "name": "stdout",
     "output_type": "stream",
     "text": [
      "Sampling frequency: 10.24 MHz\n",
      "###################################\n",
      "Testing: order=3, osr=256, nlev=2, Hinf=1.0, form=CRFB\n",
      "###################################\n"
     ]
    },
    {
     "name": "stderr",
     "output_type": "stream",
     "text": [
      "WARNING:cbadc.digital_backend:Discrete time Wiener filter not properly implemented. Results may be incorrect.\n",
      "INFO:root:Simulating discrete-time analog frontend\n"
     ]
    },
    {
     "name": "stdout",
     "output_type": "stream",
     "text": [
      "Sampling frequency: 10.24 MHz\n",
      "###################################\n",
      "Testing: order=3, osr=256, nlev=2, Hinf=1.0, form=CRFF\n",
      "###################################\n"
     ]
    },
    {
     "name": "stderr",
     "output_type": "stream",
     "text": [
      "WARNING:cbadc.digital_backend:Discrete time Wiener filter not properly implemented. Results may be incorrect.\n",
      "INFO:root:Simulating discrete-time analog frontend\n"
     ]
    },
    {
     "name": "stdout",
     "output_type": "stream",
     "text": [
      "Sampling frequency: 10.24 MHz\n",
      "###################################\n",
      "Testing: order=3, osr=256, nlev=2, Hinf=1.0, form=CIFB\n",
      "###################################\n"
     ]
    },
    {
     "name": "stderr",
     "output_type": "stream",
     "text": [
      "WARNING:cbadc.digital_backend:Discrete time Wiener filter not properly implemented. Results may be incorrect.\n",
      "INFO:root:Simulating discrete-time analog frontend\n"
     ]
    },
    {
     "name": "stdout",
     "output_type": "stream",
     "text": [
      "Sampling frequency: 10.24 MHz\n",
      "###################################\n",
      "Testing: order=3, osr=256, nlev=2, Hinf=1.0, form=CIFF\n",
      "###################################\n"
     ]
    },
    {
     "name": "stderr",
     "output_type": "stream",
     "text": [
      "WARNING:cbadc.digital_backend:Discrete time Wiener filter not properly implemented. Results may be incorrect.\n",
      "INFO:root:Simulating discrete-time analog frontend\n"
     ]
    },
    {
     "name": "stdout",
     "output_type": "stream",
     "text": [
      "Sampling frequency: 10.24 MHz\n",
      "###################################\n",
      "Testing: order=3, osr=256, nlev=2, Hinf=1.0, form=CRFBD\n",
      "###################################\n"
     ]
    },
    {
     "name": "stderr",
     "output_type": "stream",
     "text": [
      "WARNING:cbadc.digital_backend:Discrete time Wiener filter not properly implemented. Results may be incorrect.\n",
      "INFO:root:Simulating discrete-time analog frontend\n"
     ]
    },
    {
     "name": "stdout",
     "output_type": "stream",
     "text": [
      "Sampling frequency: 10.24 MHz\n",
      "###################################\n",
      "Testing: order=3, osr=256, nlev=2, Hinf=1.0, form=CRFFD\n",
      "###################################\n"
     ]
    },
    {
     "name": "stderr",
     "output_type": "stream",
     "text": [
      "WARNING:cbadc.digital_backend:Discrete time Wiener filter not properly implemented. Results may be incorrect.\n",
      "INFO:root:Simulating discrete-time analog frontend\n"
     ]
    },
    {
     "name": "stdout",
     "output_type": "stream",
     "text": [
      "Sampling frequency: 10.24 MHz\n",
      "###################################\n",
      "Testing: order=3, osr=256, nlev=2, Hinf=1.5, form=CRFB\n",
      "###################################\n"
     ]
    },
    {
     "name": "stderr",
     "output_type": "stream",
     "text": [
      "WARNING:cbadc.digital_backend:Discrete time Wiener filter not properly implemented. Results may be incorrect.\n",
      "INFO:root:Simulating discrete-time analog frontend\n"
     ]
    },
    {
     "name": "stdout",
     "output_type": "stream",
     "text": [
      "Sampling frequency: 10.24 MHz\n",
      "###################################\n",
      "Testing: order=3, osr=256, nlev=2, Hinf=1.5, form=CRFF\n",
      "###################################\n"
     ]
    },
    {
     "name": "stderr",
     "output_type": "stream",
     "text": [
      "WARNING:cbadc.digital_backend:Discrete time Wiener filter not properly implemented. Results may be incorrect.\n",
      "INFO:root:Simulating discrete-time analog frontend\n"
     ]
    },
    {
     "name": "stdout",
     "output_type": "stream",
     "text": [
      "Sampling frequency: 10.24 MHz\n",
      "###################################\n",
      "Testing: order=3, osr=256, nlev=2, Hinf=1.5, form=CIFB\n",
      "###################################\n"
     ]
    },
    {
     "name": "stderr",
     "output_type": "stream",
     "text": [
      "WARNING:cbadc.digital_backend:Discrete time Wiener filter not properly implemented. Results may be incorrect.\n",
      "INFO:root:Simulating discrete-time analog frontend\n"
     ]
    },
    {
     "name": "stdout",
     "output_type": "stream",
     "text": [
      "Sampling frequency: 10.24 MHz\n",
      "###################################\n",
      "Testing: order=3, osr=256, nlev=2, Hinf=1.5, form=CIFF\n",
      "###################################\n"
     ]
    },
    {
     "name": "stderr",
     "output_type": "stream",
     "text": [
      "WARNING:cbadc.digital_backend:Discrete time Wiener filter not properly implemented. Results may be incorrect.\n",
      "INFO:root:Simulating discrete-time analog frontend\n"
     ]
    },
    {
     "name": "stdout",
     "output_type": "stream",
     "text": [
      "Sampling frequency: 10.24 MHz\n",
      "###################################\n",
      "Testing: order=3, osr=256, nlev=2, Hinf=1.5, form=CRFBD\n",
      "###################################\n"
     ]
    },
    {
     "name": "stderr",
     "output_type": "stream",
     "text": [
      "WARNING:cbadc.digital_backend:Discrete time Wiener filter not properly implemented. Results may be incorrect.\n",
      "INFO:root:Simulating discrete-time analog frontend\n"
     ]
    },
    {
     "name": "stdout",
     "output_type": "stream",
     "text": [
      "Sampling frequency: 10.24 MHz\n",
      "###################################\n",
      "Testing: order=3, osr=256, nlev=2, Hinf=1.5, form=CRFFD\n",
      "###################################\n"
     ]
    },
    {
     "name": "stderr",
     "output_type": "stream",
     "text": [
      "WARNING:cbadc.digital_backend:Discrete time Wiener filter not properly implemented. Results may be incorrect.\n",
      "INFO:root:Simulating discrete-time analog frontend\n"
     ]
    },
    {
     "name": "stdout",
     "output_type": "stream",
     "text": [
      "Sampling frequency: 10.24 MHz\n",
      "###################################\n",
      "Testing: order=3, osr=256, nlev=2, Hinf=2.0, form=CRFB\n",
      "###################################\n"
     ]
    },
    {
     "name": "stderr",
     "output_type": "stream",
     "text": [
      "WARNING:cbadc.digital_backend:Discrete time Wiener filter not properly implemented. Results may be incorrect.\n",
      "INFO:root:Simulating discrete-time analog frontend\n"
     ]
    },
    {
     "name": "stdout",
     "output_type": "stream",
     "text": [
      "Sampling frequency: 10.24 MHz\n",
      "###################################\n",
      "Testing: order=3, osr=256, nlev=2, Hinf=2.0, form=CRFF\n",
      "###################################\n"
     ]
    },
    {
     "name": "stderr",
     "output_type": "stream",
     "text": [
      "WARNING:cbadc.digital_backend:Discrete time Wiener filter not properly implemented. Results may be incorrect.\n",
      "INFO:root:Simulating discrete-time analog frontend\n"
     ]
    },
    {
     "name": "stdout",
     "output_type": "stream",
     "text": [
      "Sampling frequency: 10.24 MHz\n",
      "###################################\n",
      "Testing: order=3, osr=256, nlev=2, Hinf=2.0, form=CIFB\n",
      "###################################\n"
     ]
    },
    {
     "name": "stderr",
     "output_type": "stream",
     "text": [
      "WARNING:cbadc.digital_backend:Discrete time Wiener filter not properly implemented. Results may be incorrect.\n",
      "INFO:root:Simulating discrete-time analog frontend\n"
     ]
    },
    {
     "name": "stdout",
     "output_type": "stream",
     "text": [
      "Sampling frequency: 10.24 MHz\n",
      "###################################\n",
      "Testing: order=3, osr=256, nlev=2, Hinf=2.0, form=CIFF\n",
      "###################################\n"
     ]
    },
    {
     "name": "stderr",
     "output_type": "stream",
     "text": [
      "WARNING:cbadc.digital_backend:Discrete time Wiener filter not properly implemented. Results may be incorrect.\n",
      "INFO:root:Simulating discrete-time analog frontend\n"
     ]
    },
    {
     "name": "stdout",
     "output_type": "stream",
     "text": [
      "Sampling frequency: 10.24 MHz\n",
      "###################################\n",
      "Testing: order=3, osr=256, nlev=2, Hinf=2.0, form=CRFBD\n",
      "###################################\n"
     ]
    },
    {
     "name": "stderr",
     "output_type": "stream",
     "text": [
      "WARNING:cbadc.digital_backend:Discrete time Wiener filter not properly implemented. Results may be incorrect.\n",
      "INFO:root:Simulating discrete-time analog frontend\n"
     ]
    },
    {
     "name": "stdout",
     "output_type": "stream",
     "text": [
      "Sampling frequency: 10.24 MHz\n",
      "###################################\n",
      "Testing: order=3, osr=256, nlev=2, Hinf=2.0, form=CRFFD\n",
      "###################################\n"
     ]
    },
    {
     "name": "stderr",
     "output_type": "stream",
     "text": [
      "WARNING:cbadc.digital_backend:Discrete time Wiener filter not properly implemented. Results may be incorrect.\n",
      "INFO:root:Simulating discrete-time analog frontend\n"
     ]
    },
    {
     "name": "stdout",
     "output_type": "stream",
     "text": [
      "Sampling frequency: 10.24 MHz\n",
      "###################################\n",
      "Testing: order=3, osr=256, nlev=3, Hinf=1.0, form=CRFB\n",
      "###################################\n"
     ]
    },
    {
     "name": "stderr",
     "output_type": "stream",
     "text": [
      "WARNING:cbadc.digital_backend:Discrete time Wiener filter not properly implemented. Results may be incorrect.\n",
      "INFO:root:Simulating discrete-time analog frontend\n"
     ]
    },
    {
     "name": "stdout",
     "output_type": "stream",
     "text": [
      "Sampling frequency: 10.24 MHz\n",
      "###################################\n",
      "Testing: order=3, osr=256, nlev=3, Hinf=1.0, form=CRFF\n",
      "###################################\n"
     ]
    },
    {
     "name": "stderr",
     "output_type": "stream",
     "text": [
      "WARNING:cbadc.digital_backend:Discrete time Wiener filter not properly implemented. Results may be incorrect.\n",
      "INFO:root:Simulating discrete-time analog frontend\n"
     ]
    },
    {
     "name": "stdout",
     "output_type": "stream",
     "text": [
      "Sampling frequency: 10.24 MHz\n",
      "###################################\n",
      "Testing: order=3, osr=256, nlev=3, Hinf=1.0, form=CIFB\n",
      "###################################\n"
     ]
    },
    {
     "name": "stderr",
     "output_type": "stream",
     "text": [
      "WARNING:cbadc.digital_backend:Discrete time Wiener filter not properly implemented. Results may be incorrect.\n",
      "INFO:root:Simulating discrete-time analog frontend\n"
     ]
    },
    {
     "name": "stdout",
     "output_type": "stream",
     "text": [
      "Sampling frequency: 10.24 MHz\n",
      "###################################\n",
      "Testing: order=3, osr=256, nlev=3, Hinf=1.0, form=CIFF\n",
      "###################################\n"
     ]
    },
    {
     "name": "stderr",
     "output_type": "stream",
     "text": [
      "WARNING:cbadc.digital_backend:Discrete time Wiener filter not properly implemented. Results may be incorrect.\n",
      "INFO:root:Simulating discrete-time analog frontend\n"
     ]
    },
    {
     "name": "stdout",
     "output_type": "stream",
     "text": [
      "Sampling frequency: 10.24 MHz\n",
      "###################################\n",
      "Testing: order=3, osr=256, nlev=3, Hinf=1.0, form=CRFBD\n",
      "###################################\n"
     ]
    },
    {
     "name": "stderr",
     "output_type": "stream",
     "text": [
      "WARNING:cbadc.digital_backend:Discrete time Wiener filter not properly implemented. Results may be incorrect.\n",
      "INFO:root:Simulating discrete-time analog frontend\n"
     ]
    },
    {
     "name": "stdout",
     "output_type": "stream",
     "text": [
      "Sampling frequency: 10.24 MHz\n",
      "###################################\n",
      "Testing: order=3, osr=256, nlev=3, Hinf=1.0, form=CRFFD\n",
      "###################################\n"
     ]
    },
    {
     "name": "stderr",
     "output_type": "stream",
     "text": [
      "WARNING:cbadc.digital_backend:Discrete time Wiener filter not properly implemented. Results may be incorrect.\n",
      "INFO:root:Simulating discrete-time analog frontend\n"
     ]
    },
    {
     "name": "stdout",
     "output_type": "stream",
     "text": [
      "Sampling frequency: 10.24 MHz\n",
      "###################################\n",
      "Testing: order=3, osr=256, nlev=3, Hinf=1.5, form=CRFB\n",
      "###################################\n"
     ]
    },
    {
     "name": "stderr",
     "output_type": "stream",
     "text": [
      "WARNING:cbadc.digital_backend:Discrete time Wiener filter not properly implemented. Results may be incorrect.\n",
      "INFO:root:Simulating discrete-time analog frontend\n"
     ]
    },
    {
     "name": "stdout",
     "output_type": "stream",
     "text": [
      "Sampling frequency: 10.24 MHz\n",
      "###################################\n",
      "Testing: order=3, osr=256, nlev=3, Hinf=1.5, form=CRFF\n",
      "###################################\n"
     ]
    },
    {
     "name": "stderr",
     "output_type": "stream",
     "text": [
      "WARNING:cbadc.digital_backend:Discrete time Wiener filter not properly implemented. Results may be incorrect.\n",
      "INFO:root:Simulating discrete-time analog frontend\n"
     ]
    },
    {
     "name": "stdout",
     "output_type": "stream",
     "text": [
      "Sampling frequency: 10.24 MHz\n",
      "###################################\n",
      "Testing: order=3, osr=256, nlev=3, Hinf=1.5, form=CIFB\n",
      "###################################\n"
     ]
    },
    {
     "name": "stderr",
     "output_type": "stream",
     "text": [
      "WARNING:cbadc.digital_backend:Discrete time Wiener filter not properly implemented. Results may be incorrect.\n",
      "INFO:root:Simulating discrete-time analog frontend\n"
     ]
    },
    {
     "name": "stdout",
     "output_type": "stream",
     "text": [
      "Sampling frequency: 10.24 MHz\n",
      "###################################\n",
      "Testing: order=3, osr=256, nlev=3, Hinf=1.5, form=CIFF\n",
      "###################################\n"
     ]
    },
    {
     "name": "stderr",
     "output_type": "stream",
     "text": [
      "WARNING:cbadc.digital_backend:Discrete time Wiener filter not properly implemented. Results may be incorrect.\n",
      "INFO:root:Simulating discrete-time analog frontend\n"
     ]
    },
    {
     "name": "stdout",
     "output_type": "stream",
     "text": [
      "Sampling frequency: 10.24 MHz\n",
      "###################################\n",
      "Testing: order=3, osr=256, nlev=3, Hinf=1.5, form=CRFBD\n",
      "###################################\n"
     ]
    },
    {
     "name": "stderr",
     "output_type": "stream",
     "text": [
      "WARNING:cbadc.digital_backend:Discrete time Wiener filter not properly implemented. Results may be incorrect.\n",
      "INFO:root:Simulating discrete-time analog frontend\n"
     ]
    },
    {
     "name": "stdout",
     "output_type": "stream",
     "text": [
      "Sampling frequency: 10.24 MHz\n",
      "###################################\n",
      "Testing: order=3, osr=256, nlev=3, Hinf=1.5, form=CRFFD\n",
      "###################################\n"
     ]
    },
    {
     "name": "stderr",
     "output_type": "stream",
     "text": [
      "WARNING:cbadc.digital_backend:Discrete time Wiener filter not properly implemented. Results may be incorrect.\n",
      "INFO:root:Simulating discrete-time analog frontend\n"
     ]
    },
    {
     "name": "stdout",
     "output_type": "stream",
     "text": [
      "Sampling frequency: 10.24 MHz\n",
      "###################################\n",
      "Testing: order=3, osr=256, nlev=3, Hinf=2.0, form=CRFB\n",
      "###################################\n"
     ]
    },
    {
     "name": "stderr",
     "output_type": "stream",
     "text": [
      "WARNING:cbadc.digital_backend:Discrete time Wiener filter not properly implemented. Results may be incorrect.\n",
      "INFO:root:Simulating discrete-time analog frontend\n"
     ]
    },
    {
     "name": "stdout",
     "output_type": "stream",
     "text": [
      "Sampling frequency: 10.24 MHz\n",
      "###################################\n",
      "Testing: order=3, osr=256, nlev=3, Hinf=2.0, form=CRFF\n",
      "###################################\n"
     ]
    },
    {
     "name": "stderr",
     "output_type": "stream",
     "text": [
      "WARNING:cbadc.digital_backend:Discrete time Wiener filter not properly implemented. Results may be incorrect.\n",
      "INFO:root:Simulating discrete-time analog frontend\n"
     ]
    },
    {
     "name": "stdout",
     "output_type": "stream",
     "text": [
      "Sampling frequency: 10.24 MHz\n",
      "###################################\n",
      "Testing: order=3, osr=256, nlev=3, Hinf=2.0, form=CIFB\n",
      "###################################\n"
     ]
    },
    {
     "name": "stderr",
     "output_type": "stream",
     "text": [
      "WARNING:cbadc.digital_backend:Discrete time Wiener filter not properly implemented. Results may be incorrect.\n",
      "INFO:root:Simulating discrete-time analog frontend\n"
     ]
    },
    {
     "name": "stdout",
     "output_type": "stream",
     "text": [
      "Sampling frequency: 10.24 MHz\n",
      "###################################\n",
      "Testing: order=3, osr=256, nlev=3, Hinf=2.0, form=CIFF\n",
      "###################################\n"
     ]
    },
    {
     "name": "stderr",
     "output_type": "stream",
     "text": [
      "WARNING:cbadc.digital_backend:Discrete time Wiener filter not properly implemented. Results may be incorrect.\n",
      "INFO:root:Simulating discrete-time analog frontend\n"
     ]
    },
    {
     "name": "stdout",
     "output_type": "stream",
     "text": [
      "Sampling frequency: 10.24 MHz\n",
      "###################################\n",
      "Testing: order=3, osr=256, nlev=3, Hinf=2.0, form=CRFBD\n",
      "###################################\n"
     ]
    },
    {
     "name": "stderr",
     "output_type": "stream",
     "text": [
      "WARNING:cbadc.digital_backend:Discrete time Wiener filter not properly implemented. Results may be incorrect.\n",
      "INFO:root:Simulating discrete-time analog frontend\n"
     ]
    },
    {
     "name": "stdout",
     "output_type": "stream",
     "text": [
      "Sampling frequency: 10.24 MHz\n",
      "###################################\n",
      "Testing: order=3, osr=256, nlev=3, Hinf=2.0, form=CRFFD\n",
      "###################################\n"
     ]
    },
    {
     "name": "stderr",
     "output_type": "stream",
     "text": [
      "WARNING:cbadc.digital_backend:Discrete time Wiener filter not properly implemented. Results may be incorrect.\n",
      "INFO:root:Simulating discrete-time analog frontend\n"
     ]
    },
    {
     "name": "stdout",
     "output_type": "stream",
     "text": [
      "Sampling frequency: 1.28 MHz\n",
      "###################################\n",
      "Testing: order=4, osr=32, nlev=2, Hinf=1.0, form=CRFB\n",
      "###################################\n"
     ]
    },
    {
     "name": "stderr",
     "output_type": "stream",
     "text": [
      "WARNING:cbadc.digital_backend:Discrete time Wiener filter not properly implemented. Results may be incorrect.\n",
      "INFO:root:Simulating discrete-time analog frontend\n"
     ]
    },
    {
     "name": "stdout",
     "output_type": "stream",
     "text": [
      "Sampling frequency: 1.28 MHz\n",
      "###################################\n",
      "Testing: order=4, osr=32, nlev=2, Hinf=1.0, form=CRFF\n",
      "###################################\n"
     ]
    },
    {
     "name": "stderr",
     "output_type": "stream",
     "text": [
      "WARNING:cbadc.digital_backend:Discrete time Wiener filter not properly implemented. Results may be incorrect.\n",
      "INFO:root:Simulating discrete-time analog frontend\n"
     ]
    },
    {
     "name": "stdout",
     "output_type": "stream",
     "text": [
      "Sampling frequency: 1.28 MHz\n",
      "###################################\n",
      "Testing: order=4, osr=32, nlev=2, Hinf=1.0, form=CIFB\n",
      "###################################\n"
     ]
    },
    {
     "name": "stderr",
     "output_type": "stream",
     "text": [
      "WARNING:cbadc.digital_backend:Discrete time Wiener filter not properly implemented. Results may be incorrect.\n",
      "INFO:root:Simulating discrete-time analog frontend\n"
     ]
    },
    {
     "name": "stdout",
     "output_type": "stream",
     "text": [
      "Sampling frequency: 1.28 MHz\n",
      "###################################\n",
      "Testing: order=4, osr=32, nlev=2, Hinf=1.0, form=CIFF\n",
      "###################################\n"
     ]
    },
    {
     "name": "stderr",
     "output_type": "stream",
     "text": [
      "WARNING:cbadc.digital_backend:Discrete time Wiener filter not properly implemented. Results may be incorrect.\n",
      "INFO:root:Simulating discrete-time analog frontend\n"
     ]
    },
    {
     "name": "stdout",
     "output_type": "stream",
     "text": [
      "Sampling frequency: 1.28 MHz\n",
      "###################################\n",
      "Testing: order=4, osr=32, nlev=2, Hinf=1.0, form=CRFBD\n",
      "###################################\n"
     ]
    },
    {
     "name": "stderr",
     "output_type": "stream",
     "text": [
      "WARNING:cbadc.digital_backend:Discrete time Wiener filter not properly implemented. Results may be incorrect.\n",
      "INFO:root:Simulating discrete-time analog frontend\n"
     ]
    },
    {
     "name": "stdout",
     "output_type": "stream",
     "text": [
      "Sampling frequency: 1.28 MHz\n",
      "###################################\n",
      "Testing: order=4, osr=32, nlev=2, Hinf=1.0, form=CRFFD\n",
      "###################################\n"
     ]
    },
    {
     "name": "stderr",
     "output_type": "stream",
     "text": [
      "WARNING:cbadc.digital_backend:Discrete time Wiener filter not properly implemented. Results may be incorrect.\n",
      "INFO:root:Simulating discrete-time analog frontend\n"
     ]
    },
    {
     "name": "stdout",
     "output_type": "stream",
     "text": [
      "Sampling frequency: 1.28 MHz\n",
      "###################################\n",
      "Testing: order=4, osr=32, nlev=2, Hinf=1.5, form=CRFB\n",
      "###################################\n"
     ]
    },
    {
     "name": "stderr",
     "output_type": "stream",
     "text": [
      "WARNING:cbadc.digital_backend:Discrete time Wiener filter not properly implemented. Results may be incorrect.\n",
      "INFO:root:Simulating discrete-time analog frontend\n"
     ]
    },
    {
     "name": "stdout",
     "output_type": "stream",
     "text": [
      "Sampling frequency: 1.28 MHz\n",
      "###################################\n",
      "Testing: order=4, osr=32, nlev=2, Hinf=1.5, form=CRFF\n",
      "###################################\n"
     ]
    },
    {
     "name": "stderr",
     "output_type": "stream",
     "text": [
      "WARNING:cbadc.digital_backend:Discrete time Wiener filter not properly implemented. Results may be incorrect.\n",
      "INFO:root:Simulating discrete-time analog frontend\n"
     ]
    },
    {
     "name": "stdout",
     "output_type": "stream",
     "text": [
      "Sampling frequency: 1.28 MHz\n",
      "###################################\n",
      "Testing: order=4, osr=32, nlev=2, Hinf=1.5, form=CIFB\n",
      "###################################\n"
     ]
    },
    {
     "name": "stderr",
     "output_type": "stream",
     "text": [
      "WARNING:cbadc.digital_backend:Discrete time Wiener filter not properly implemented. Results may be incorrect.\n",
      "INFO:root:Simulating discrete-time analog frontend\n"
     ]
    },
    {
     "name": "stdout",
     "output_type": "stream",
     "text": [
      "Sampling frequency: 1.28 MHz\n",
      "###################################\n",
      "Testing: order=4, osr=32, nlev=2, Hinf=1.5, form=CIFF\n",
      "###################################\n"
     ]
    },
    {
     "name": "stderr",
     "output_type": "stream",
     "text": [
      "WARNING:cbadc.digital_backend:Discrete time Wiener filter not properly implemented. Results may be incorrect.\n",
      "INFO:root:Simulating discrete-time analog frontend\n"
     ]
    },
    {
     "name": "stdout",
     "output_type": "stream",
     "text": [
      "Sampling frequency: 1.28 MHz\n",
      "###################################\n",
      "Testing: order=4, osr=32, nlev=2, Hinf=1.5, form=CRFBD\n",
      "###################################\n"
     ]
    },
    {
     "name": "stderr",
     "output_type": "stream",
     "text": [
      "WARNING:cbadc.digital_backend:Discrete time Wiener filter not properly implemented. Results may be incorrect.\n",
      "INFO:root:Simulating discrete-time analog frontend\n"
     ]
    },
    {
     "name": "stdout",
     "output_type": "stream",
     "text": [
      "Sampling frequency: 1.28 MHz\n",
      "###################################\n",
      "Testing: order=4, osr=32, nlev=2, Hinf=1.5, form=CRFFD\n",
      "###################################\n"
     ]
    },
    {
     "name": "stderr",
     "output_type": "stream",
     "text": [
      "WARNING:cbadc.digital_backend:Discrete time Wiener filter not properly implemented. Results may be incorrect.\n",
      "INFO:root:Simulating discrete-time analog frontend\n"
     ]
    },
    {
     "name": "stdout",
     "output_type": "stream",
     "text": [
      "Sampling frequency: 1.28 MHz\n",
      "###################################\n",
      "Testing: order=4, osr=32, nlev=2, Hinf=2.0, form=CRFB\n",
      "###################################\n"
     ]
    },
    {
     "name": "stderr",
     "output_type": "stream",
     "text": [
      "WARNING:cbadc.digital_backend:Discrete time Wiener filter not properly implemented. Results may be incorrect.\n",
      "INFO:root:Simulating discrete-time analog frontend\n"
     ]
    },
    {
     "name": "stdout",
     "output_type": "stream",
     "text": [
      "Sampling frequency: 1.28 MHz\n",
      "###################################\n",
      "Testing: order=4, osr=32, nlev=2, Hinf=2.0, form=CRFF\n",
      "###################################\n"
     ]
    },
    {
     "name": "stderr",
     "output_type": "stream",
     "text": [
      "WARNING:cbadc.digital_backend:Discrete time Wiener filter not properly implemented. Results may be incorrect.\n",
      "INFO:root:Simulating discrete-time analog frontend\n"
     ]
    },
    {
     "name": "stdout",
     "output_type": "stream",
     "text": [
      "Sampling frequency: 1.28 MHz\n",
      "###################################\n",
      "Testing: order=4, osr=32, nlev=2, Hinf=2.0, form=CIFB\n",
      "###################################\n"
     ]
    },
    {
     "name": "stderr",
     "output_type": "stream",
     "text": [
      "WARNING:cbadc.digital_backend:Discrete time Wiener filter not properly implemented. Results may be incorrect.\n",
      "INFO:root:Simulating discrete-time analog frontend\n"
     ]
    },
    {
     "name": "stdout",
     "output_type": "stream",
     "text": [
      "Sampling frequency: 1.28 MHz\n",
      "###################################\n",
      "Testing: order=4, osr=32, nlev=2, Hinf=2.0, form=CIFF\n",
      "###################################\n"
     ]
    },
    {
     "name": "stderr",
     "output_type": "stream",
     "text": [
      "WARNING:cbadc.digital_backend:Discrete time Wiener filter not properly implemented. Results may be incorrect.\n",
      "INFO:root:Simulating discrete-time analog frontend\n"
     ]
    },
    {
     "name": "stdout",
     "output_type": "stream",
     "text": [
      "Sampling frequency: 1.28 MHz\n",
      "###################################\n",
      "Testing: order=4, osr=32, nlev=2, Hinf=2.0, form=CRFBD\n",
      "###################################\n"
     ]
    },
    {
     "name": "stderr",
     "output_type": "stream",
     "text": [
      "WARNING:cbadc.digital_backend:Discrete time Wiener filter not properly implemented. Results may be incorrect.\n",
      "INFO:root:Simulating discrete-time analog frontend\n"
     ]
    },
    {
     "name": "stdout",
     "output_type": "stream",
     "text": [
      "Sampling frequency: 1.28 MHz\n",
      "###################################\n",
      "Testing: order=4, osr=32, nlev=2, Hinf=2.0, form=CRFFD\n",
      "###################################\n"
     ]
    },
    {
     "name": "stderr",
     "output_type": "stream",
     "text": [
      "WARNING:cbadc.digital_backend:Discrete time Wiener filter not properly implemented. Results may be incorrect.\n",
      "INFO:root:Simulating discrete-time analog frontend\n"
     ]
    },
    {
     "name": "stdout",
     "output_type": "stream",
     "text": [
      "Sampling frequency: 1.28 MHz\n",
      "###################################\n",
      "Testing: order=4, osr=32, nlev=3, Hinf=1.0, form=CRFB\n",
      "###################################\n"
     ]
    },
    {
     "name": "stderr",
     "output_type": "stream",
     "text": [
      "WARNING:cbadc.digital_backend:Discrete time Wiener filter not properly implemented. Results may be incorrect.\n",
      "INFO:root:Simulating discrete-time analog frontend\n"
     ]
    },
    {
     "name": "stdout",
     "output_type": "stream",
     "text": [
      "Sampling frequency: 1.28 MHz\n",
      "###################################\n",
      "Testing: order=4, osr=32, nlev=3, Hinf=1.0, form=CRFF\n",
      "###################################\n"
     ]
    },
    {
     "name": "stderr",
     "output_type": "stream",
     "text": [
      "WARNING:cbadc.digital_backend:Discrete time Wiener filter not properly implemented. Results may be incorrect.\n",
      "INFO:root:Simulating discrete-time analog frontend\n"
     ]
    },
    {
     "name": "stdout",
     "output_type": "stream",
     "text": [
      "Sampling frequency: 1.28 MHz\n",
      "###################################\n",
      "Testing: order=4, osr=32, nlev=3, Hinf=1.0, form=CIFB\n",
      "###################################\n"
     ]
    },
    {
     "name": "stderr",
     "output_type": "stream",
     "text": [
      "WARNING:cbadc.digital_backend:Discrete time Wiener filter not properly implemented. Results may be incorrect.\n",
      "INFO:root:Simulating discrete-time analog frontend\n"
     ]
    },
    {
     "name": "stdout",
     "output_type": "stream",
     "text": [
      "Sampling frequency: 1.28 MHz\n",
      "###################################\n",
      "Testing: order=4, osr=32, nlev=3, Hinf=1.0, form=CIFF\n",
      "###################################\n"
     ]
    },
    {
     "name": "stderr",
     "output_type": "stream",
     "text": [
      "WARNING:cbadc.digital_backend:Discrete time Wiener filter not properly implemented. Results may be incorrect.\n",
      "INFO:root:Simulating discrete-time analog frontend\n"
     ]
    },
    {
     "name": "stdout",
     "output_type": "stream",
     "text": [
      "Sampling frequency: 1.28 MHz\n",
      "###################################\n",
      "Testing: order=4, osr=32, nlev=3, Hinf=1.0, form=CRFBD\n",
      "###################################\n"
     ]
    },
    {
     "name": "stderr",
     "output_type": "stream",
     "text": [
      "WARNING:cbadc.digital_backend:Discrete time Wiener filter not properly implemented. Results may be incorrect.\n",
      "INFO:root:Simulating discrete-time analog frontend\n"
     ]
    },
    {
     "name": "stdout",
     "output_type": "stream",
     "text": [
      "Sampling frequency: 1.28 MHz\n",
      "###################################\n",
      "Testing: order=4, osr=32, nlev=3, Hinf=1.0, form=CRFFD\n",
      "###################################\n"
     ]
    },
    {
     "name": "stderr",
     "output_type": "stream",
     "text": [
      "WARNING:cbadc.digital_backend:Discrete time Wiener filter not properly implemented. Results may be incorrect.\n",
      "INFO:root:Simulating discrete-time analog frontend\n"
     ]
    },
    {
     "name": "stdout",
     "output_type": "stream",
     "text": [
      "Sampling frequency: 1.28 MHz\n",
      "###################################\n",
      "Testing: order=4, osr=32, nlev=3, Hinf=1.5, form=CRFB\n",
      "###################################\n"
     ]
    },
    {
     "name": "stderr",
     "output_type": "stream",
     "text": [
      "WARNING:cbadc.digital_backend:Discrete time Wiener filter not properly implemented. Results may be incorrect.\n",
      "INFO:root:Simulating discrete-time analog frontend\n"
     ]
    },
    {
     "name": "stdout",
     "output_type": "stream",
     "text": [
      "Sampling frequency: 1.28 MHz\n",
      "###################################\n",
      "Testing: order=4, osr=32, nlev=3, Hinf=1.5, form=CRFF\n",
      "###################################\n"
     ]
    },
    {
     "name": "stderr",
     "output_type": "stream",
     "text": [
      "WARNING:cbadc.digital_backend:Discrete time Wiener filter not properly implemented. Results may be incorrect.\n",
      "INFO:root:Simulating discrete-time analog frontend\n"
     ]
    },
    {
     "name": "stdout",
     "output_type": "stream",
     "text": [
      "Sampling frequency: 1.28 MHz\n",
      "###################################\n",
      "Testing: order=4, osr=32, nlev=3, Hinf=1.5, form=CIFB\n",
      "###################################\n"
     ]
    },
    {
     "name": "stderr",
     "output_type": "stream",
     "text": [
      "WARNING:cbadc.digital_backend:Discrete time Wiener filter not properly implemented. Results may be incorrect.\n",
      "INFO:root:Simulating discrete-time analog frontend\n"
     ]
    },
    {
     "name": "stdout",
     "output_type": "stream",
     "text": [
      "Sampling frequency: 1.28 MHz\n",
      "###################################\n",
      "Testing: order=4, osr=32, nlev=3, Hinf=1.5, form=CIFF\n",
      "###################################\n"
     ]
    },
    {
     "name": "stderr",
     "output_type": "stream",
     "text": [
      "WARNING:cbadc.digital_backend:Discrete time Wiener filter not properly implemented. Results may be incorrect.\n",
      "INFO:root:Simulating discrete-time analog frontend\n"
     ]
    },
    {
     "name": "stdout",
     "output_type": "stream",
     "text": [
      "Sampling frequency: 1.28 MHz\n",
      "###################################\n",
      "Testing: order=4, osr=32, nlev=3, Hinf=1.5, form=CRFBD\n",
      "###################################\n"
     ]
    },
    {
     "name": "stderr",
     "output_type": "stream",
     "text": [
      "WARNING:cbadc.digital_backend:Discrete time Wiener filter not properly implemented. Results may be incorrect.\n",
      "INFO:root:Simulating discrete-time analog frontend\n"
     ]
    },
    {
     "name": "stdout",
     "output_type": "stream",
     "text": [
      "Sampling frequency: 1.28 MHz\n",
      "###################################\n",
      "Testing: order=4, osr=32, nlev=3, Hinf=1.5, form=CRFFD\n",
      "###################################\n"
     ]
    },
    {
     "name": "stderr",
     "output_type": "stream",
     "text": [
      "WARNING:cbadc.digital_backend:Discrete time Wiener filter not properly implemented. Results may be incorrect.\n",
      "INFO:root:Simulating discrete-time analog frontend\n"
     ]
    },
    {
     "name": "stdout",
     "output_type": "stream",
     "text": [
      "Sampling frequency: 1.28 MHz\n",
      "###################################\n",
      "Testing: order=4, osr=32, nlev=3, Hinf=2.0, form=CRFB\n",
      "###################################\n"
     ]
    },
    {
     "name": "stderr",
     "output_type": "stream",
     "text": [
      "WARNING:cbadc.digital_backend:Discrete time Wiener filter not properly implemented. Results may be incorrect.\n",
      "INFO:root:Simulating discrete-time analog frontend\n"
     ]
    },
    {
     "name": "stdout",
     "output_type": "stream",
     "text": [
      "Sampling frequency: 1.28 MHz\n",
      "###################################\n",
      "Testing: order=4, osr=32, nlev=3, Hinf=2.0, form=CRFF\n",
      "###################################\n"
     ]
    },
    {
     "name": "stderr",
     "output_type": "stream",
     "text": [
      "WARNING:cbadc.digital_backend:Discrete time Wiener filter not properly implemented. Results may be incorrect.\n",
      "INFO:root:Simulating discrete-time analog frontend\n"
     ]
    },
    {
     "name": "stdout",
     "output_type": "stream",
     "text": [
      "Sampling frequency: 1.28 MHz\n",
      "###################################\n",
      "Testing: order=4, osr=32, nlev=3, Hinf=2.0, form=CIFB\n",
      "###################################\n"
     ]
    },
    {
     "name": "stderr",
     "output_type": "stream",
     "text": [
      "WARNING:cbadc.digital_backend:Discrete time Wiener filter not properly implemented. Results may be incorrect.\n",
      "INFO:root:Simulating discrete-time analog frontend\n"
     ]
    },
    {
     "name": "stdout",
     "output_type": "stream",
     "text": [
      "Sampling frequency: 1.28 MHz\n",
      "###################################\n",
      "Testing: order=4, osr=32, nlev=3, Hinf=2.0, form=CIFF\n",
      "###################################\n"
     ]
    },
    {
     "name": "stderr",
     "output_type": "stream",
     "text": [
      "WARNING:cbadc.digital_backend:Discrete time Wiener filter not properly implemented. Results may be incorrect.\n",
      "INFO:root:Simulating discrete-time analog frontend\n"
     ]
    },
    {
     "name": "stdout",
     "output_type": "stream",
     "text": [
      "Sampling frequency: 1.28 MHz\n",
      "###################################\n",
      "Testing: order=4, osr=32, nlev=3, Hinf=2.0, form=CRFBD\n",
      "###################################\n"
     ]
    },
    {
     "name": "stderr",
     "output_type": "stream",
     "text": [
      "WARNING:cbadc.digital_backend:Discrete time Wiener filter not properly implemented. Results may be incorrect.\n",
      "INFO:root:Simulating discrete-time analog frontend\n"
     ]
    },
    {
     "name": "stdout",
     "output_type": "stream",
     "text": [
      "Sampling frequency: 1.28 MHz\n",
      "###################################\n",
      "Testing: order=4, osr=32, nlev=3, Hinf=2.0, form=CRFFD\n",
      "###################################\n"
     ]
    },
    {
     "name": "stderr",
     "output_type": "stream",
     "text": [
      "WARNING:cbadc.digital_backend:Discrete time Wiener filter not properly implemented. Results may be incorrect.\n",
      "INFO:root:Simulating discrete-time analog frontend\n"
     ]
    },
    {
     "name": "stdout",
     "output_type": "stream",
     "text": [
      "Sampling frequency: 2.56 MHz\n",
      "###################################\n",
      "Testing: order=4, osr=64, nlev=2, Hinf=1.0, form=CRFB\n",
      "###################################\n"
     ]
    },
    {
     "name": "stderr",
     "output_type": "stream",
     "text": [
      "WARNING:cbadc.digital_backend:Discrete time Wiener filter not properly implemented. Results may be incorrect.\n",
      "INFO:root:Simulating discrete-time analog frontend\n"
     ]
    },
    {
     "name": "stdout",
     "output_type": "stream",
     "text": [
      "Sampling frequency: 2.56 MHz\n",
      "###################################\n",
      "Testing: order=4, osr=64, nlev=2, Hinf=1.0, form=CRFF\n",
      "###################################\n"
     ]
    },
    {
     "name": "stderr",
     "output_type": "stream",
     "text": [
      "WARNING:cbadc.digital_backend:Discrete time Wiener filter not properly implemented. Results may be incorrect.\n",
      "INFO:root:Simulating discrete-time analog frontend\n"
     ]
    },
    {
     "name": "stdout",
     "output_type": "stream",
     "text": [
      "Sampling frequency: 2.56 MHz\n",
      "###################################\n",
      "Testing: order=4, osr=64, nlev=2, Hinf=1.0, form=CIFB\n",
      "###################################\n"
     ]
    },
    {
     "name": "stderr",
     "output_type": "stream",
     "text": [
      "WARNING:cbadc.digital_backend:Discrete time Wiener filter not properly implemented. Results may be incorrect.\n",
      "INFO:root:Simulating discrete-time analog frontend\n"
     ]
    },
    {
     "name": "stdout",
     "output_type": "stream",
     "text": [
      "Sampling frequency: 2.56 MHz\n",
      "###################################\n",
      "Testing: order=4, osr=64, nlev=2, Hinf=1.0, form=CIFF\n",
      "###################################\n"
     ]
    },
    {
     "name": "stderr",
     "output_type": "stream",
     "text": [
      "WARNING:cbadc.digital_backend:Discrete time Wiener filter not properly implemented. Results may be incorrect.\n",
      "INFO:root:Simulating discrete-time analog frontend\n"
     ]
    },
    {
     "name": "stdout",
     "output_type": "stream",
     "text": [
      "Sampling frequency: 2.56 MHz\n",
      "###################################\n",
      "Testing: order=4, osr=64, nlev=2, Hinf=1.0, form=CRFBD\n",
      "###################################\n"
     ]
    },
    {
     "name": "stderr",
     "output_type": "stream",
     "text": [
      "WARNING:cbadc.digital_backend:Discrete time Wiener filter not properly implemented. Results may be incorrect.\n",
      "INFO:root:Simulating discrete-time analog frontend\n"
     ]
    },
    {
     "name": "stdout",
     "output_type": "stream",
     "text": [
      "Sampling frequency: 2.56 MHz\n",
      "###################################\n",
      "Testing: order=4, osr=64, nlev=2, Hinf=1.0, form=CRFFD\n",
      "###################################\n"
     ]
    },
    {
     "name": "stderr",
     "output_type": "stream",
     "text": [
      "WARNING:cbadc.digital_backend:Discrete time Wiener filter not properly implemented. Results may be incorrect.\n",
      "INFO:root:Simulating discrete-time analog frontend\n"
     ]
    },
    {
     "name": "stdout",
     "output_type": "stream",
     "text": [
      "Sampling frequency: 2.56 MHz\n",
      "###################################\n",
      "Testing: order=4, osr=64, nlev=2, Hinf=1.5, form=CRFB\n",
      "###################################\n"
     ]
    },
    {
     "name": "stderr",
     "output_type": "stream",
     "text": [
      "WARNING:cbadc.digital_backend:Discrete time Wiener filter not properly implemented. Results may be incorrect.\n",
      "INFO:root:Simulating discrete-time analog frontend\n"
     ]
    },
    {
     "name": "stdout",
     "output_type": "stream",
     "text": [
      "Sampling frequency: 2.56 MHz\n",
      "###################################\n",
      "Testing: order=4, osr=64, nlev=2, Hinf=1.5, form=CRFF\n",
      "###################################\n"
     ]
    },
    {
     "name": "stderr",
     "output_type": "stream",
     "text": [
      "WARNING:cbadc.digital_backend:Discrete time Wiener filter not properly implemented. Results may be incorrect.\n",
      "INFO:root:Simulating discrete-time analog frontend\n"
     ]
    },
    {
     "name": "stdout",
     "output_type": "stream",
     "text": [
      "Sampling frequency: 2.56 MHz\n",
      "###################################\n",
      "Testing: order=4, osr=64, nlev=2, Hinf=1.5, form=CIFB\n",
      "###################################\n"
     ]
    },
    {
     "name": "stderr",
     "output_type": "stream",
     "text": [
      "WARNING:cbadc.digital_backend:Discrete time Wiener filter not properly implemented. Results may be incorrect.\n",
      "INFO:root:Simulating discrete-time analog frontend\n"
     ]
    },
    {
     "name": "stdout",
     "output_type": "stream",
     "text": [
      "Sampling frequency: 2.56 MHz\n",
      "###################################\n",
      "Testing: order=4, osr=64, nlev=2, Hinf=1.5, form=CIFF\n",
      "###################################\n"
     ]
    },
    {
     "name": "stderr",
     "output_type": "stream",
     "text": [
      "WARNING:cbadc.digital_backend:Discrete time Wiener filter not properly implemented. Results may be incorrect.\n",
      "INFO:root:Simulating discrete-time analog frontend\n"
     ]
    },
    {
     "name": "stdout",
     "output_type": "stream",
     "text": [
      "Sampling frequency: 2.56 MHz\n",
      "###################################\n",
      "Testing: order=4, osr=64, nlev=2, Hinf=1.5, form=CRFBD\n",
      "###################################\n"
     ]
    },
    {
     "name": "stderr",
     "output_type": "stream",
     "text": [
      "WARNING:cbadc.digital_backend:Discrete time Wiener filter not properly implemented. Results may be incorrect.\n",
      "INFO:root:Simulating discrete-time analog frontend\n"
     ]
    },
    {
     "name": "stdout",
     "output_type": "stream",
     "text": [
      "Sampling frequency: 2.56 MHz\n",
      "###################################\n",
      "Testing: order=4, osr=64, nlev=2, Hinf=1.5, form=CRFFD\n",
      "###################################\n"
     ]
    },
    {
     "name": "stderr",
     "output_type": "stream",
     "text": [
      "WARNING:cbadc.digital_backend:Discrete time Wiener filter not properly implemented. Results may be incorrect.\n",
      "INFO:root:Simulating discrete-time analog frontend\n"
     ]
    },
    {
     "name": "stdout",
     "output_type": "stream",
     "text": [
      "Sampling frequency: 2.56 MHz\n",
      "###################################\n",
      "Testing: order=4, osr=64, nlev=2, Hinf=2.0, form=CRFB\n",
      "###################################\n"
     ]
    },
    {
     "name": "stderr",
     "output_type": "stream",
     "text": [
      "WARNING:cbadc.digital_backend:Discrete time Wiener filter not properly implemented. Results may be incorrect.\n",
      "INFO:root:Simulating discrete-time analog frontend\n"
     ]
    },
    {
     "name": "stdout",
     "output_type": "stream",
     "text": [
      "Sampling frequency: 2.56 MHz\n",
      "###################################\n",
      "Testing: order=4, osr=64, nlev=2, Hinf=2.0, form=CRFF\n",
      "###################################\n"
     ]
    },
    {
     "name": "stderr",
     "output_type": "stream",
     "text": [
      "WARNING:cbadc.digital_backend:Discrete time Wiener filter not properly implemented. Results may be incorrect.\n",
      "INFO:root:Simulating discrete-time analog frontend\n"
     ]
    },
    {
     "name": "stdout",
     "output_type": "stream",
     "text": [
      "Sampling frequency: 2.56 MHz\n",
      "###################################\n",
      "Testing: order=4, osr=64, nlev=2, Hinf=2.0, form=CIFB\n",
      "###################################\n"
     ]
    },
    {
     "name": "stderr",
     "output_type": "stream",
     "text": [
      "WARNING:cbadc.digital_backend:Discrete time Wiener filter not properly implemented. Results may be incorrect.\n",
      "INFO:root:Simulating discrete-time analog frontend\n"
     ]
    },
    {
     "name": "stdout",
     "output_type": "stream",
     "text": [
      "Sampling frequency: 2.56 MHz\n",
      "###################################\n",
      "Testing: order=4, osr=64, nlev=2, Hinf=2.0, form=CIFF\n",
      "###################################\n"
     ]
    },
    {
     "name": "stderr",
     "output_type": "stream",
     "text": [
      "WARNING:cbadc.digital_backend:Discrete time Wiener filter not properly implemented. Results may be incorrect.\n",
      "INFO:root:Simulating discrete-time analog frontend\n"
     ]
    },
    {
     "name": "stdout",
     "output_type": "stream",
     "text": [
      "Sampling frequency: 2.56 MHz\n",
      "###################################\n",
      "Testing: order=4, osr=64, nlev=2, Hinf=2.0, form=CRFBD\n",
      "###################################\n"
     ]
    },
    {
     "name": "stderr",
     "output_type": "stream",
     "text": [
      "WARNING:cbadc.digital_backend:Discrete time Wiener filter not properly implemented. Results may be incorrect.\n",
      "INFO:root:Simulating discrete-time analog frontend\n"
     ]
    },
    {
     "name": "stdout",
     "output_type": "stream",
     "text": [
      "Sampling frequency: 2.56 MHz\n",
      "###################################\n",
      "Testing: order=4, osr=64, nlev=2, Hinf=2.0, form=CRFFD\n",
      "###################################\n"
     ]
    },
    {
     "name": "stderr",
     "output_type": "stream",
     "text": [
      "WARNING:cbadc.digital_backend:Discrete time Wiener filter not properly implemented. Results may be incorrect.\n",
      "INFO:root:Simulating discrete-time analog frontend\n"
     ]
    },
    {
     "name": "stdout",
     "output_type": "stream",
     "text": [
      "Sampling frequency: 2.56 MHz\n",
      "###################################\n",
      "Testing: order=4, osr=64, nlev=3, Hinf=1.0, form=CRFB\n",
      "###################################\n"
     ]
    },
    {
     "name": "stderr",
     "output_type": "stream",
     "text": [
      "WARNING:cbadc.digital_backend:Discrete time Wiener filter not properly implemented. Results may be incorrect.\n",
      "INFO:root:Simulating discrete-time analog frontend\n"
     ]
    },
    {
     "name": "stdout",
     "output_type": "stream",
     "text": [
      "Sampling frequency: 2.56 MHz\n",
      "###################################\n",
      "Testing: order=4, osr=64, nlev=3, Hinf=1.0, form=CRFF\n",
      "###################################\n"
     ]
    },
    {
     "name": "stderr",
     "output_type": "stream",
     "text": [
      "WARNING:cbadc.digital_backend:Discrete time Wiener filter not properly implemented. Results may be incorrect.\n",
      "INFO:root:Simulating discrete-time analog frontend\n"
     ]
    },
    {
     "name": "stdout",
     "output_type": "stream",
     "text": [
      "Sampling frequency: 2.56 MHz\n",
      "###################################\n",
      "Testing: order=4, osr=64, nlev=3, Hinf=1.0, form=CIFB\n",
      "###################################\n"
     ]
    },
    {
     "name": "stderr",
     "output_type": "stream",
     "text": [
      "WARNING:cbadc.digital_backend:Discrete time Wiener filter not properly implemented. Results may be incorrect.\n",
      "INFO:root:Simulating discrete-time analog frontend\n"
     ]
    },
    {
     "name": "stdout",
     "output_type": "stream",
     "text": [
      "Sampling frequency: 2.56 MHz\n",
      "###################################\n",
      "Testing: order=4, osr=64, nlev=3, Hinf=1.0, form=CIFF\n",
      "###################################\n"
     ]
    },
    {
     "name": "stderr",
     "output_type": "stream",
     "text": [
      "WARNING:cbadc.digital_backend:Discrete time Wiener filter not properly implemented. Results may be incorrect.\n",
      "INFO:root:Simulating discrete-time analog frontend\n"
     ]
    },
    {
     "name": "stdout",
     "output_type": "stream",
     "text": [
      "Sampling frequency: 2.56 MHz\n",
      "###################################\n",
      "Testing: order=4, osr=64, nlev=3, Hinf=1.0, form=CRFBD\n",
      "###################################\n"
     ]
    },
    {
     "name": "stderr",
     "output_type": "stream",
     "text": [
      "WARNING:cbadc.digital_backend:Discrete time Wiener filter not properly implemented. Results may be incorrect.\n",
      "INFO:root:Simulating discrete-time analog frontend\n"
     ]
    },
    {
     "name": "stdout",
     "output_type": "stream",
     "text": [
      "Sampling frequency: 2.56 MHz\n",
      "###################################\n",
      "Testing: order=4, osr=64, nlev=3, Hinf=1.0, form=CRFFD\n",
      "###################################\n"
     ]
    },
    {
     "name": "stderr",
     "output_type": "stream",
     "text": [
      "WARNING:cbadc.digital_backend:Discrete time Wiener filter not properly implemented. Results may be incorrect.\n",
      "INFO:root:Simulating discrete-time analog frontend\n"
     ]
    },
    {
     "name": "stdout",
     "output_type": "stream",
     "text": [
      "Sampling frequency: 2.56 MHz\n",
      "###################################\n",
      "Testing: order=4, osr=64, nlev=3, Hinf=1.5, form=CRFB\n",
      "###################################\n"
     ]
    },
    {
     "name": "stderr",
     "output_type": "stream",
     "text": [
      "WARNING:cbadc.digital_backend:Discrete time Wiener filter not properly implemented. Results may be incorrect.\n",
      "INFO:root:Simulating discrete-time analog frontend\n"
     ]
    },
    {
     "name": "stdout",
     "output_type": "stream",
     "text": [
      "Sampling frequency: 2.56 MHz\n",
      "###################################\n",
      "Testing: order=4, osr=64, nlev=3, Hinf=1.5, form=CRFF\n",
      "###################################\n"
     ]
    },
    {
     "name": "stderr",
     "output_type": "stream",
     "text": [
      "WARNING:cbadc.digital_backend:Discrete time Wiener filter not properly implemented. Results may be incorrect.\n",
      "INFO:root:Simulating discrete-time analog frontend\n"
     ]
    },
    {
     "name": "stdout",
     "output_type": "stream",
     "text": [
      "Sampling frequency: 2.56 MHz\n",
      "###################################\n",
      "Testing: order=4, osr=64, nlev=3, Hinf=1.5, form=CIFB\n",
      "###################################\n"
     ]
    },
    {
     "name": "stderr",
     "output_type": "stream",
     "text": [
      "WARNING:cbadc.digital_backend:Discrete time Wiener filter not properly implemented. Results may be incorrect.\n",
      "INFO:root:Simulating discrete-time analog frontend\n"
     ]
    },
    {
     "name": "stdout",
     "output_type": "stream",
     "text": [
      "Sampling frequency: 2.56 MHz\n",
      "###################################\n",
      "Testing: order=4, osr=64, nlev=3, Hinf=1.5, form=CIFF\n",
      "###################################\n"
     ]
    },
    {
     "name": "stderr",
     "output_type": "stream",
     "text": [
      "WARNING:cbadc.digital_backend:Discrete time Wiener filter not properly implemented. Results may be incorrect.\n",
      "INFO:root:Simulating discrete-time analog frontend\n"
     ]
    },
    {
     "name": "stdout",
     "output_type": "stream",
     "text": [
      "Sampling frequency: 2.56 MHz\n",
      "###################################\n",
      "Testing: order=4, osr=64, nlev=3, Hinf=1.5, form=CRFBD\n",
      "###################################\n"
     ]
    },
    {
     "name": "stderr",
     "output_type": "stream",
     "text": [
      "WARNING:cbadc.digital_backend:Discrete time Wiener filter not properly implemented. Results may be incorrect.\n",
      "INFO:root:Simulating discrete-time analog frontend\n"
     ]
    },
    {
     "name": "stdout",
     "output_type": "stream",
     "text": [
      "Sampling frequency: 2.56 MHz\n",
      "###################################\n",
      "Testing: order=4, osr=64, nlev=3, Hinf=1.5, form=CRFFD\n",
      "###################################\n"
     ]
    },
    {
     "name": "stderr",
     "output_type": "stream",
     "text": [
      "WARNING:cbadc.digital_backend:Discrete time Wiener filter not properly implemented. Results may be incorrect.\n",
      "INFO:root:Simulating discrete-time analog frontend\n"
     ]
    },
    {
     "name": "stdout",
     "output_type": "stream",
     "text": [
      "Sampling frequency: 2.56 MHz\n",
      "###################################\n",
      "Testing: order=4, osr=64, nlev=3, Hinf=2.0, form=CRFB\n",
      "###################################\n"
     ]
    },
    {
     "name": "stderr",
     "output_type": "stream",
     "text": [
      "WARNING:cbadc.digital_backend:Discrete time Wiener filter not properly implemented. Results may be incorrect.\n",
      "INFO:root:Simulating discrete-time analog frontend\n"
     ]
    },
    {
     "name": "stdout",
     "output_type": "stream",
     "text": [
      "Sampling frequency: 2.56 MHz\n",
      "###################################\n",
      "Testing: order=4, osr=64, nlev=3, Hinf=2.0, form=CRFF\n",
      "###################################\n"
     ]
    },
    {
     "name": "stderr",
     "output_type": "stream",
     "text": [
      "WARNING:cbadc.digital_backend:Discrete time Wiener filter not properly implemented. Results may be incorrect.\n",
      "INFO:root:Simulating discrete-time analog frontend\n"
     ]
    },
    {
     "name": "stdout",
     "output_type": "stream",
     "text": [
      "Sampling frequency: 2.56 MHz\n",
      "###################################\n",
      "Testing: order=4, osr=64, nlev=3, Hinf=2.0, form=CIFB\n",
      "###################################\n"
     ]
    },
    {
     "name": "stderr",
     "output_type": "stream",
     "text": [
      "WARNING:cbadc.digital_backend:Discrete time Wiener filter not properly implemented. Results may be incorrect.\n",
      "INFO:root:Simulating discrete-time analog frontend\n"
     ]
    },
    {
     "name": "stdout",
     "output_type": "stream",
     "text": [
      "Sampling frequency: 2.56 MHz\n",
      "###################################\n",
      "Testing: order=4, osr=64, nlev=3, Hinf=2.0, form=CIFF\n",
      "###################################\n"
     ]
    },
    {
     "name": "stderr",
     "output_type": "stream",
     "text": [
      "WARNING:cbadc.digital_backend:Discrete time Wiener filter not properly implemented. Results may be incorrect.\n",
      "INFO:root:Simulating discrete-time analog frontend\n"
     ]
    },
    {
     "name": "stdout",
     "output_type": "stream",
     "text": [
      "Sampling frequency: 2.56 MHz\n",
      "###################################\n",
      "Testing: order=4, osr=64, nlev=3, Hinf=2.0, form=CRFBD\n",
      "###################################\n"
     ]
    },
    {
     "name": "stderr",
     "output_type": "stream",
     "text": [
      "WARNING:cbadc.digital_backend:Discrete time Wiener filter not properly implemented. Results may be incorrect.\n",
      "INFO:root:Simulating discrete-time analog frontend\n"
     ]
    },
    {
     "name": "stdout",
     "output_type": "stream",
     "text": [
      "Sampling frequency: 2.56 MHz\n",
      "###################################\n",
      "Testing: order=4, osr=64, nlev=3, Hinf=2.0, form=CRFFD\n",
      "###################################\n"
     ]
    },
    {
     "name": "stderr",
     "output_type": "stream",
     "text": [
      "WARNING:cbadc.digital_backend:Discrete time Wiener filter not properly implemented. Results may be incorrect.\n",
      "INFO:root:Simulating discrete-time analog frontend\n"
     ]
    },
    {
     "name": "stdout",
     "output_type": "stream",
     "text": [
      "Sampling frequency: 5.12 MHz\n",
      "###################################\n",
      "Testing: order=4, osr=128, nlev=2, Hinf=1.0, form=CRFB\n",
      "###################################\n"
     ]
    },
    {
     "name": "stderr",
     "output_type": "stream",
     "text": [
      "WARNING:cbadc.digital_backend:Discrete time Wiener filter not properly implemented. Results may be incorrect.\n",
      "INFO:root:Simulating discrete-time analog frontend\n"
     ]
    },
    {
     "name": "stdout",
     "output_type": "stream",
     "text": [
      "Error encountered with order=4, osr=128, nlev=2, Hinf=1.0, form=CRFB. Skipping this configuration\n",
      "Sampling frequency: 5.12 MHz\n",
      "###################################\n",
      "Testing: order=4, osr=128, nlev=2, Hinf=1.0, form=CRFF\n",
      "###################################\n"
     ]
    },
    {
     "name": "stderr",
     "output_type": "stream",
     "text": [
      "WARNING:cbadc.digital_backend:Discrete time Wiener filter not properly implemented. Results may be incorrect.\n",
      "INFO:root:Simulating discrete-time analog frontend\n"
     ]
    },
    {
     "name": "stdout",
     "output_type": "stream",
     "text": [
      "Sampling frequency: 5.12 MHz\n",
      "###################################\n",
      "Testing: order=4, osr=128, nlev=2, Hinf=1.0, form=CIFB\n",
      "###################################\n"
     ]
    },
    {
     "name": "stderr",
     "output_type": "stream",
     "text": [
      "WARNING:cbadc.digital_backend:Discrete time Wiener filter not properly implemented. Results may be incorrect.\n",
      "INFO:root:Simulating discrete-time analog frontend\n"
     ]
    },
    {
     "name": "stdout",
     "output_type": "stream",
     "text": [
      "Error encountered with order=4, osr=128, nlev=2, Hinf=1.0, form=CIFB. Skipping this configuration\n",
      "Sampling frequency: 5.12 MHz\n",
      "###################################\n",
      "Testing: order=4, osr=128, nlev=2, Hinf=1.0, form=CIFF\n",
      "###################################\n"
     ]
    },
    {
     "name": "stderr",
     "output_type": "stream",
     "text": [
      "WARNING:cbadc.digital_backend:Discrete time Wiener filter not properly implemented. Results may be incorrect.\n",
      "INFO:root:Simulating discrete-time analog frontend\n"
     ]
    },
    {
     "name": "stdout",
     "output_type": "stream",
     "text": [
      "Sampling frequency: 5.12 MHz\n",
      "###################################\n",
      "Testing: order=4, osr=128, nlev=2, Hinf=1.0, form=CRFBD\n",
      "###################################\n"
     ]
    },
    {
     "name": "stderr",
     "output_type": "stream",
     "text": [
      "WARNING:cbadc.digital_backend:Discrete time Wiener filter not properly implemented. Results may be incorrect.\n",
      "INFO:root:Simulating discrete-time analog frontend\n"
     ]
    },
    {
     "name": "stdout",
     "output_type": "stream",
     "text": [
      "Sampling frequency: 5.12 MHz\n",
      "###################################\n",
      "Testing: order=4, osr=128, nlev=2, Hinf=1.0, form=CRFFD\n",
      "###################################\n"
     ]
    },
    {
     "name": "stderr",
     "output_type": "stream",
     "text": [
      "WARNING:cbadc.digital_backend:Discrete time Wiener filter not properly implemented. Results may be incorrect.\n",
      "INFO:root:Simulating discrete-time analog frontend\n"
     ]
    },
    {
     "name": "stdout",
     "output_type": "stream",
     "text": [
      "Sampling frequency: 5.12 MHz\n",
      "###################################\n",
      "Testing: order=4, osr=128, nlev=2, Hinf=1.5, form=CRFB\n",
      "###################################\n"
     ]
    },
    {
     "name": "stderr",
     "output_type": "stream",
     "text": [
      "WARNING:cbadc.digital_backend:Discrete time Wiener filter not properly implemented. Results may be incorrect.\n",
      "INFO:root:Simulating discrete-time analog frontend\n"
     ]
    },
    {
     "name": "stdout",
     "output_type": "stream",
     "text": [
      "Sampling frequency: 5.12 MHz\n",
      "###################################\n",
      "Testing: order=4, osr=128, nlev=2, Hinf=1.5, form=CRFF\n",
      "###################################\n"
     ]
    },
    {
     "name": "stderr",
     "output_type": "stream",
     "text": [
      "WARNING:cbadc.digital_backend:Discrete time Wiener filter not properly implemented. Results may be incorrect.\n",
      "INFO:root:Simulating discrete-time analog frontend\n"
     ]
    },
    {
     "name": "stdout",
     "output_type": "stream",
     "text": [
      "Sampling frequency: 5.12 MHz\n",
      "###################################\n",
      "Testing: order=4, osr=128, nlev=2, Hinf=1.5, form=CIFB\n",
      "###################################\n"
     ]
    },
    {
     "name": "stderr",
     "output_type": "stream",
     "text": [
      "WARNING:cbadc.digital_backend:Discrete time Wiener filter not properly implemented. Results may be incorrect.\n",
      "INFO:root:Simulating discrete-time analog frontend\n"
     ]
    },
    {
     "name": "stdout",
     "output_type": "stream",
     "text": [
      "Sampling frequency: 5.12 MHz\n",
      "###################################\n",
      "Testing: order=4, osr=128, nlev=2, Hinf=1.5, form=CIFF\n",
      "###################################\n"
     ]
    },
    {
     "name": "stderr",
     "output_type": "stream",
     "text": [
      "WARNING:cbadc.digital_backend:Discrete time Wiener filter not properly implemented. Results may be incorrect.\n",
      "INFO:root:Simulating discrete-time analog frontend\n"
     ]
    },
    {
     "name": "stdout",
     "output_type": "stream",
     "text": [
      "Sampling frequency: 5.12 MHz\n",
      "###################################\n",
      "Testing: order=4, osr=128, nlev=2, Hinf=1.5, form=CRFBD\n",
      "###################################\n"
     ]
    },
    {
     "name": "stderr",
     "output_type": "stream",
     "text": [
      "WARNING:cbadc.digital_backend:Discrete time Wiener filter not properly implemented. Results may be incorrect.\n",
      "INFO:root:Simulating discrete-time analog frontend\n"
     ]
    },
    {
     "name": "stdout",
     "output_type": "stream",
     "text": [
      "Sampling frequency: 5.12 MHz\n",
      "###################################\n",
      "Testing: order=4, osr=128, nlev=2, Hinf=1.5, form=CRFFD\n",
      "###################################\n"
     ]
    },
    {
     "name": "stderr",
     "output_type": "stream",
     "text": [
      "WARNING:cbadc.digital_backend:Discrete time Wiener filter not properly implemented. Results may be incorrect.\n",
      "INFO:root:Simulating discrete-time analog frontend\n"
     ]
    },
    {
     "name": "stdout",
     "output_type": "stream",
     "text": [
      "Sampling frequency: 5.12 MHz\n",
      "###################################\n",
      "Testing: order=4, osr=128, nlev=2, Hinf=2.0, form=CRFB\n",
      "###################################\n"
     ]
    },
    {
     "name": "stderr",
     "output_type": "stream",
     "text": [
      "WARNING:cbadc.digital_backend:Discrete time Wiener filter not properly implemented. Results may be incorrect.\n",
      "INFO:root:Simulating discrete-time analog frontend\n"
     ]
    },
    {
     "name": "stdout",
     "output_type": "stream",
     "text": [
      "Sampling frequency: 5.12 MHz\n",
      "###################################\n",
      "Testing: order=4, osr=128, nlev=2, Hinf=2.0, form=CRFF\n",
      "###################################\n"
     ]
    },
    {
     "name": "stderr",
     "output_type": "stream",
     "text": [
      "WARNING:cbadc.digital_backend:Discrete time Wiener filter not properly implemented. Results may be incorrect.\n",
      "INFO:root:Simulating discrete-time analog frontend\n"
     ]
    },
    {
     "name": "stdout",
     "output_type": "stream",
     "text": [
      "Sampling frequency: 5.12 MHz\n",
      "###################################\n",
      "Testing: order=4, osr=128, nlev=2, Hinf=2.0, form=CIFB\n",
      "###################################\n"
     ]
    },
    {
     "name": "stderr",
     "output_type": "stream",
     "text": [
      "WARNING:cbadc.digital_backend:Discrete time Wiener filter not properly implemented. Results may be incorrect.\n",
      "INFO:root:Simulating discrete-time analog frontend\n"
     ]
    },
    {
     "name": "stdout",
     "output_type": "stream",
     "text": [
      "Sampling frequency: 5.12 MHz\n",
      "###################################\n",
      "Testing: order=4, osr=128, nlev=2, Hinf=2.0, form=CIFF\n",
      "###################################\n"
     ]
    },
    {
     "name": "stderr",
     "output_type": "stream",
     "text": [
      "WARNING:cbadc.digital_backend:Discrete time Wiener filter not properly implemented. Results may be incorrect.\n",
      "INFO:root:Simulating discrete-time analog frontend\n"
     ]
    },
    {
     "name": "stdout",
     "output_type": "stream",
     "text": [
      "Sampling frequency: 5.12 MHz\n",
      "###################################\n",
      "Testing: order=4, osr=128, nlev=2, Hinf=2.0, form=CRFBD\n",
      "###################################\n"
     ]
    },
    {
     "name": "stderr",
     "output_type": "stream",
     "text": [
      "WARNING:cbadc.digital_backend:Discrete time Wiener filter not properly implemented. Results may be incorrect.\n",
      "INFO:root:Simulating discrete-time analog frontend\n"
     ]
    },
    {
     "name": "stdout",
     "output_type": "stream",
     "text": [
      "Sampling frequency: 5.12 MHz\n",
      "###################################\n",
      "Testing: order=4, osr=128, nlev=2, Hinf=2.0, form=CRFFD\n",
      "###################################\n"
     ]
    },
    {
     "name": "stderr",
     "output_type": "stream",
     "text": [
      "WARNING:cbadc.digital_backend:Discrete time Wiener filter not properly implemented. Results may be incorrect.\n",
      "INFO:root:Simulating discrete-time analog frontend\n"
     ]
    },
    {
     "name": "stdout",
     "output_type": "stream",
     "text": [
      "Sampling frequency: 5.12 MHz\n",
      "###################################\n",
      "Testing: order=4, osr=128, nlev=3, Hinf=1.0, form=CRFB\n",
      "###################################\n"
     ]
    },
    {
     "name": "stderr",
     "output_type": "stream",
     "text": [
      "WARNING:cbadc.digital_backend:Discrete time Wiener filter not properly implemented. Results may be incorrect.\n",
      "INFO:root:Simulating discrete-time analog frontend\n"
     ]
    },
    {
     "name": "stdout",
     "output_type": "stream",
     "text": [
      "Error encountered with order=4, osr=128, nlev=3, Hinf=1.0, form=CRFB. Skipping this configuration\n",
      "Sampling frequency: 5.12 MHz\n",
      "###################################\n",
      "Testing: order=4, osr=128, nlev=3, Hinf=1.0, form=CRFF\n",
      "###################################\n"
     ]
    },
    {
     "name": "stderr",
     "output_type": "stream",
     "text": [
      "WARNING:cbadc.digital_backend:Discrete time Wiener filter not properly implemented. Results may be incorrect.\n",
      "INFO:root:Simulating discrete-time analog frontend\n"
     ]
    },
    {
     "name": "stdout",
     "output_type": "stream",
     "text": [
      "Sampling frequency: 5.12 MHz\n",
      "###################################\n",
      "Testing: order=4, osr=128, nlev=3, Hinf=1.0, form=CIFB\n",
      "###################################\n"
     ]
    },
    {
     "name": "stderr",
     "output_type": "stream",
     "text": [
      "WARNING:cbadc.digital_backend:Discrete time Wiener filter not properly implemented. Results may be incorrect.\n",
      "INFO:root:Simulating discrete-time analog frontend\n"
     ]
    },
    {
     "name": "stdout",
     "output_type": "stream",
     "text": [
      "Error encountered with order=4, osr=128, nlev=3, Hinf=1.0, form=CIFB. Skipping this configuration\n",
      "Sampling frequency: 5.12 MHz\n",
      "###################################\n",
      "Testing: order=4, osr=128, nlev=3, Hinf=1.0, form=CIFF\n",
      "###################################\n"
     ]
    },
    {
     "name": "stderr",
     "output_type": "stream",
     "text": [
      "WARNING:cbadc.digital_backend:Discrete time Wiener filter not properly implemented. Results may be incorrect.\n",
      "INFO:root:Simulating discrete-time analog frontend\n"
     ]
    },
    {
     "name": "stdout",
     "output_type": "stream",
     "text": [
      "Sampling frequency: 5.12 MHz\n",
      "###################################\n",
      "Testing: order=4, osr=128, nlev=3, Hinf=1.0, form=CRFBD\n",
      "###################################\n"
     ]
    },
    {
     "name": "stderr",
     "output_type": "stream",
     "text": [
      "WARNING:cbadc.digital_backend:Discrete time Wiener filter not properly implemented. Results may be incorrect.\n",
      "INFO:root:Simulating discrete-time analog frontend\n"
     ]
    },
    {
     "name": "stdout",
     "output_type": "stream",
     "text": [
      "Sampling frequency: 5.12 MHz\n",
      "###################################\n",
      "Testing: order=4, osr=128, nlev=3, Hinf=1.0, form=CRFFD\n",
      "###################################\n"
     ]
    },
    {
     "name": "stderr",
     "output_type": "stream",
     "text": [
      "WARNING:cbadc.digital_backend:Discrete time Wiener filter not properly implemented. Results may be incorrect.\n",
      "INFO:root:Simulating discrete-time analog frontend\n"
     ]
    },
    {
     "name": "stdout",
     "output_type": "stream",
     "text": [
      "Sampling frequency: 5.12 MHz\n",
      "###################################\n",
      "Testing: order=4, osr=128, nlev=3, Hinf=1.5, form=CRFB\n",
      "###################################\n"
     ]
    },
    {
     "name": "stderr",
     "output_type": "stream",
     "text": [
      "WARNING:cbadc.digital_backend:Discrete time Wiener filter not properly implemented. Results may be incorrect.\n",
      "INFO:root:Simulating discrete-time analog frontend\n"
     ]
    },
    {
     "name": "stdout",
     "output_type": "stream",
     "text": [
      "Sampling frequency: 5.12 MHz\n",
      "###################################\n",
      "Testing: order=4, osr=128, nlev=3, Hinf=1.5, form=CRFF\n",
      "###################################\n"
     ]
    },
    {
     "name": "stderr",
     "output_type": "stream",
     "text": [
      "WARNING:cbadc.digital_backend:Discrete time Wiener filter not properly implemented. Results may be incorrect.\n",
      "INFO:root:Simulating discrete-time analog frontend\n"
     ]
    },
    {
     "name": "stdout",
     "output_type": "stream",
     "text": [
      "Sampling frequency: 5.12 MHz\n",
      "###################################\n",
      "Testing: order=4, osr=128, nlev=3, Hinf=1.5, form=CIFB\n",
      "###################################\n"
     ]
    },
    {
     "name": "stderr",
     "output_type": "stream",
     "text": [
      "WARNING:cbadc.digital_backend:Discrete time Wiener filter not properly implemented. Results may be incorrect.\n",
      "INFO:root:Simulating discrete-time analog frontend\n"
     ]
    },
    {
     "name": "stdout",
     "output_type": "stream",
     "text": [
      "Sampling frequency: 5.12 MHz\n",
      "###################################\n",
      "Testing: order=4, osr=128, nlev=3, Hinf=1.5, form=CIFF\n",
      "###################################\n"
     ]
    },
    {
     "name": "stderr",
     "output_type": "stream",
     "text": [
      "WARNING:cbadc.digital_backend:Discrete time Wiener filter not properly implemented. Results may be incorrect.\n",
      "INFO:root:Simulating discrete-time analog frontend\n"
     ]
    },
    {
     "name": "stdout",
     "output_type": "stream",
     "text": [
      "Sampling frequency: 5.12 MHz\n",
      "###################################\n",
      "Testing: order=4, osr=128, nlev=3, Hinf=1.5, form=CRFBD\n",
      "###################################\n"
     ]
    },
    {
     "name": "stderr",
     "output_type": "stream",
     "text": [
      "WARNING:cbadc.digital_backend:Discrete time Wiener filter not properly implemented. Results may be incorrect.\n",
      "INFO:root:Simulating discrete-time analog frontend\n"
     ]
    },
    {
     "name": "stdout",
     "output_type": "stream",
     "text": [
      "Sampling frequency: 5.12 MHz\n",
      "###################################\n",
      "Testing: order=4, osr=128, nlev=3, Hinf=1.5, form=CRFFD\n",
      "###################################\n"
     ]
    },
    {
     "name": "stderr",
     "output_type": "stream",
     "text": [
      "WARNING:cbadc.digital_backend:Discrete time Wiener filter not properly implemented. Results may be incorrect.\n",
      "INFO:root:Simulating discrete-time analog frontend\n"
     ]
    },
    {
     "name": "stdout",
     "output_type": "stream",
     "text": [
      "Sampling frequency: 5.12 MHz\n",
      "###################################\n",
      "Testing: order=4, osr=128, nlev=3, Hinf=2.0, form=CRFB\n",
      "###################################\n"
     ]
    },
    {
     "name": "stderr",
     "output_type": "stream",
     "text": [
      "WARNING:cbadc.digital_backend:Discrete time Wiener filter not properly implemented. Results may be incorrect.\n",
      "INFO:root:Simulating discrete-time analog frontend\n"
     ]
    },
    {
     "name": "stdout",
     "output_type": "stream",
     "text": [
      "Sampling frequency: 5.12 MHz\n",
      "###################################\n",
      "Testing: order=4, osr=128, nlev=3, Hinf=2.0, form=CRFF\n",
      "###################################\n"
     ]
    },
    {
     "name": "stderr",
     "output_type": "stream",
     "text": [
      "WARNING:cbadc.digital_backend:Discrete time Wiener filter not properly implemented. Results may be incorrect.\n",
      "INFO:root:Simulating discrete-time analog frontend\n"
     ]
    },
    {
     "name": "stdout",
     "output_type": "stream",
     "text": [
      "Sampling frequency: 5.12 MHz\n",
      "###################################\n",
      "Testing: order=4, osr=128, nlev=3, Hinf=2.0, form=CIFB\n",
      "###################################\n"
     ]
    },
    {
     "name": "stderr",
     "output_type": "stream",
     "text": [
      "WARNING:cbadc.digital_backend:Discrete time Wiener filter not properly implemented. Results may be incorrect.\n",
      "INFO:root:Simulating discrete-time analog frontend\n"
     ]
    },
    {
     "name": "stdout",
     "output_type": "stream",
     "text": [
      "Sampling frequency: 5.12 MHz\n",
      "###################################\n",
      "Testing: order=4, osr=128, nlev=3, Hinf=2.0, form=CIFF\n",
      "###################################\n"
     ]
    },
    {
     "name": "stderr",
     "output_type": "stream",
     "text": [
      "WARNING:cbadc.digital_backend:Discrete time Wiener filter not properly implemented. Results may be incorrect.\n",
      "INFO:root:Simulating discrete-time analog frontend\n"
     ]
    },
    {
     "name": "stdout",
     "output_type": "stream",
     "text": [
      "Sampling frequency: 5.12 MHz\n",
      "###################################\n",
      "Testing: order=4, osr=128, nlev=3, Hinf=2.0, form=CRFBD\n",
      "###################################\n"
     ]
    },
    {
     "name": "stderr",
     "output_type": "stream",
     "text": [
      "WARNING:cbadc.digital_backend:Discrete time Wiener filter not properly implemented. Results may be incorrect.\n",
      "INFO:root:Simulating discrete-time analog frontend\n"
     ]
    },
    {
     "name": "stdout",
     "output_type": "stream",
     "text": [
      "Sampling frequency: 5.12 MHz\n",
      "###################################\n",
      "Testing: order=4, osr=128, nlev=3, Hinf=2.0, form=CRFFD\n",
      "###################################\n"
     ]
    },
    {
     "name": "stderr",
     "output_type": "stream",
     "text": [
      "WARNING:cbadc.digital_backend:Discrete time Wiener filter not properly implemented. Results may be incorrect.\n",
      "INFO:root:Simulating discrete-time analog frontend\n"
     ]
    },
    {
     "name": "stdout",
     "output_type": "stream",
     "text": [
      "Sampling frequency: 10.24 MHz\n",
      "###################################\n",
      "Testing: order=4, osr=256, nlev=2, Hinf=1.0, form=CRFB\n",
      "###################################\n"
     ]
    },
    {
     "name": "stderr",
     "output_type": "stream",
     "text": [
      "WARNING:cbadc.digital_backend:Discrete time Wiener filter not properly implemented. Results may be incorrect.\n",
      "INFO:root:Simulating discrete-time analog frontend\n"
     ]
    },
    {
     "name": "stdout",
     "output_type": "stream",
     "text": [
      "Sampling frequency: 10.24 MHz\n",
      "###################################\n",
      "Testing: order=4, osr=256, nlev=2, Hinf=1.0, form=CRFF\n",
      "###################################\n"
     ]
    },
    {
     "name": "stderr",
     "output_type": "stream",
     "text": [
      "WARNING:cbadc.digital_backend:Discrete time Wiener filter not properly implemented. Results may be incorrect.\n",
      "INFO:root:Simulating discrete-time analog frontend\n"
     ]
    },
    {
     "name": "stdout",
     "output_type": "stream",
     "text": [
      "Sampling frequency: 10.24 MHz\n",
      "###################################\n",
      "Testing: order=4, osr=256, nlev=2, Hinf=1.0, form=CIFB\n",
      "###################################\n"
     ]
    },
    {
     "name": "stderr",
     "output_type": "stream",
     "text": [
      "WARNING:cbadc.digital_backend:Discrete time Wiener filter not properly implemented. Results may be incorrect.\n",
      "INFO:root:Simulating discrete-time analog frontend\n"
     ]
    },
    {
     "name": "stdout",
     "output_type": "stream",
     "text": [
      "Error encountered with order=4, osr=256, nlev=2, Hinf=1.0, form=CIFB. Skipping this configuration\n",
      "Sampling frequency: 10.24 MHz\n",
      "###################################\n",
      "Testing: order=4, osr=256, nlev=2, Hinf=1.0, form=CIFF\n",
      "###################################\n"
     ]
    },
    {
     "name": "stderr",
     "output_type": "stream",
     "text": [
      "WARNING:cbadc.digital_backend:Discrete time Wiener filter not properly implemented. Results may be incorrect.\n",
      "INFO:root:Simulating discrete-time analog frontend\n"
     ]
    },
    {
     "name": "stdout",
     "output_type": "stream",
     "text": [
      "Sampling frequency: 10.24 MHz\n",
      "###################################\n",
      "Testing: order=4, osr=256, nlev=2, Hinf=1.0, form=CRFBD\n",
      "###################################\n"
     ]
    },
    {
     "name": "stderr",
     "output_type": "stream",
     "text": [
      "WARNING:cbadc.digital_backend:Discrete time Wiener filter not properly implemented. Results may be incorrect.\n",
      "INFO:root:Simulating discrete-time analog frontend\n"
     ]
    },
    {
     "name": "stdout",
     "output_type": "stream",
     "text": [
      "Sampling frequency: 10.24 MHz\n",
      "###################################\n",
      "Testing: order=4, osr=256, nlev=2, Hinf=1.0, form=CRFFD\n",
      "###################################\n"
     ]
    },
    {
     "name": "stderr",
     "output_type": "stream",
     "text": [
      "WARNING:cbadc.digital_backend:Discrete time Wiener filter not properly implemented. Results may be incorrect.\n",
      "INFO:root:Simulating discrete-time analog frontend\n"
     ]
    },
    {
     "name": "stdout",
     "output_type": "stream",
     "text": [
      "Sampling frequency: 10.24 MHz\n",
      "###################################\n",
      "Testing: order=4, osr=256, nlev=2, Hinf=1.5, form=CRFB\n",
      "###################################\n"
     ]
    },
    {
     "name": "stderr",
     "output_type": "stream",
     "text": [
      "WARNING:cbadc.digital_backend:Discrete time Wiener filter not properly implemented. Results may be incorrect.\n",
      "INFO:root:Simulating discrete-time analog frontend\n"
     ]
    },
    {
     "name": "stdout",
     "output_type": "stream",
     "text": [
      "Sampling frequency: 10.24 MHz\n",
      "###################################\n",
      "Testing: order=4, osr=256, nlev=2, Hinf=1.5, form=CRFF\n",
      "###################################\n"
     ]
    },
    {
     "name": "stderr",
     "output_type": "stream",
     "text": [
      "WARNING:cbadc.digital_backend:Discrete time Wiener filter not properly implemented. Results may be incorrect.\n",
      "INFO:root:Simulating discrete-time analog frontend\n"
     ]
    },
    {
     "name": "stdout",
     "output_type": "stream",
     "text": [
      "Sampling frequency: 10.24 MHz\n",
      "###################################\n",
      "Testing: order=4, osr=256, nlev=2, Hinf=1.5, form=CIFB\n",
      "###################################\n"
     ]
    },
    {
     "name": "stderr",
     "output_type": "stream",
     "text": [
      "WARNING:cbadc.digital_backend:Discrete time Wiener filter not properly implemented. Results may be incorrect.\n",
      "INFO:root:Simulating discrete-time analog frontend\n"
     ]
    },
    {
     "name": "stdout",
     "output_type": "stream",
     "text": [
      "Sampling frequency: 10.24 MHz\n",
      "###################################\n",
      "Testing: order=4, osr=256, nlev=2, Hinf=1.5, form=CIFF\n",
      "###################################\n"
     ]
    },
    {
     "name": "stderr",
     "output_type": "stream",
     "text": [
      "WARNING:cbadc.digital_backend:Discrete time Wiener filter not properly implemented. Results may be incorrect.\n",
      "INFO:root:Simulating discrete-time analog frontend\n"
     ]
    },
    {
     "name": "stdout",
     "output_type": "stream",
     "text": [
      "Sampling frequency: 10.24 MHz\n",
      "###################################\n",
      "Testing: order=4, osr=256, nlev=2, Hinf=1.5, form=CRFBD\n",
      "###################################\n"
     ]
    },
    {
     "name": "stderr",
     "output_type": "stream",
     "text": [
      "WARNING:cbadc.digital_backend:Discrete time Wiener filter not properly implemented. Results may be incorrect.\n",
      "INFO:root:Simulating discrete-time analog frontend\n"
     ]
    },
    {
     "name": "stdout",
     "output_type": "stream",
     "text": [
      "Sampling frequency: 10.24 MHz\n",
      "###################################\n",
      "Testing: order=4, osr=256, nlev=2, Hinf=1.5, form=CRFFD\n",
      "###################################\n"
     ]
    },
    {
     "name": "stderr",
     "output_type": "stream",
     "text": [
      "WARNING:cbadc.digital_backend:Discrete time Wiener filter not properly implemented. Results may be incorrect.\n",
      "INFO:root:Simulating discrete-time analog frontend\n"
     ]
    },
    {
     "name": "stdout",
     "output_type": "stream",
     "text": [
      "Sampling frequency: 10.24 MHz\n",
      "###################################\n",
      "Testing: order=4, osr=256, nlev=2, Hinf=2.0, form=CRFB\n",
      "###################################\n"
     ]
    },
    {
     "name": "stderr",
     "output_type": "stream",
     "text": [
      "WARNING:cbadc.digital_backend:Discrete time Wiener filter not properly implemented. Results may be incorrect.\n",
      "INFO:root:Simulating discrete-time analog frontend\n"
     ]
    },
    {
     "name": "stdout",
     "output_type": "stream",
     "text": [
      "Sampling frequency: 10.24 MHz\n",
      "###################################\n",
      "Testing: order=4, osr=256, nlev=2, Hinf=2.0, form=CRFF\n",
      "###################################\n"
     ]
    },
    {
     "name": "stderr",
     "output_type": "stream",
     "text": [
      "WARNING:cbadc.digital_backend:Discrete time Wiener filter not properly implemented. Results may be incorrect.\n",
      "INFO:root:Simulating discrete-time analog frontend\n"
     ]
    },
    {
     "name": "stdout",
     "output_type": "stream",
     "text": [
      "Sampling frequency: 10.24 MHz\n",
      "###################################\n",
      "Testing: order=4, osr=256, nlev=2, Hinf=2.0, form=CIFB\n",
      "###################################\n"
     ]
    },
    {
     "name": "stderr",
     "output_type": "stream",
     "text": [
      "WARNING:cbadc.digital_backend:Discrete time Wiener filter not properly implemented. Results may be incorrect.\n",
      "INFO:root:Simulating discrete-time analog frontend\n"
     ]
    },
    {
     "name": "stdout",
     "output_type": "stream",
     "text": [
      "Sampling frequency: 10.24 MHz\n",
      "###################################\n",
      "Testing: order=4, osr=256, nlev=2, Hinf=2.0, form=CIFF\n",
      "###################################\n"
     ]
    },
    {
     "name": "stderr",
     "output_type": "stream",
     "text": [
      "WARNING:cbadc.digital_backend:Discrete time Wiener filter not properly implemented. Results may be incorrect.\n",
      "INFO:root:Simulating discrete-time analog frontend\n"
     ]
    },
    {
     "name": "stdout",
     "output_type": "stream",
     "text": [
      "Sampling frequency: 10.24 MHz\n",
      "###################################\n",
      "Testing: order=4, osr=256, nlev=2, Hinf=2.0, form=CRFBD\n",
      "###################################\n"
     ]
    },
    {
     "name": "stderr",
     "output_type": "stream",
     "text": [
      "WARNING:cbadc.digital_backend:Discrete time Wiener filter not properly implemented. Results may be incorrect.\n",
      "INFO:root:Simulating discrete-time analog frontend\n"
     ]
    },
    {
     "name": "stdout",
     "output_type": "stream",
     "text": [
      "Sampling frequency: 10.24 MHz\n",
      "###################################\n",
      "Testing: order=4, osr=256, nlev=2, Hinf=2.0, form=CRFFD\n",
      "###################################\n"
     ]
    },
    {
     "name": "stderr",
     "output_type": "stream",
     "text": [
      "WARNING:cbadc.digital_backend:Discrete time Wiener filter not properly implemented. Results may be incorrect.\n",
      "INFO:root:Simulating discrete-time analog frontend\n"
     ]
    },
    {
     "name": "stdout",
     "output_type": "stream",
     "text": [
      "Sampling frequency: 10.24 MHz\n",
      "###################################\n",
      "Testing: order=4, osr=256, nlev=3, Hinf=1.0, form=CRFB\n",
      "###################################\n"
     ]
    },
    {
     "name": "stderr",
     "output_type": "stream",
     "text": [
      "WARNING:cbadc.digital_backend:Discrete time Wiener filter not properly implemented. Results may be incorrect.\n",
      "INFO:root:Simulating discrete-time analog frontend\n"
     ]
    },
    {
     "name": "stdout",
     "output_type": "stream",
     "text": [
      "Sampling frequency: 10.24 MHz\n",
      "###################################\n",
      "Testing: order=4, osr=256, nlev=3, Hinf=1.0, form=CRFF\n",
      "###################################\n"
     ]
    },
    {
     "name": "stderr",
     "output_type": "stream",
     "text": [
      "WARNING:cbadc.digital_backend:Discrete time Wiener filter not properly implemented. Results may be incorrect.\n",
      "INFO:root:Simulating discrete-time analog frontend\n"
     ]
    },
    {
     "name": "stdout",
     "output_type": "stream",
     "text": [
      "Sampling frequency: 10.24 MHz\n",
      "###################################\n",
      "Testing: order=4, osr=256, nlev=3, Hinf=1.0, form=CIFB\n",
      "###################################\n"
     ]
    },
    {
     "name": "stderr",
     "output_type": "stream",
     "text": [
      "WARNING:cbadc.digital_backend:Discrete time Wiener filter not properly implemented. Results may be incorrect.\n",
      "INFO:root:Simulating discrete-time analog frontend\n"
     ]
    },
    {
     "name": "stdout",
     "output_type": "stream",
     "text": [
      "Error encountered with order=4, osr=256, nlev=3, Hinf=1.0, form=CIFB. Skipping this configuration\n",
      "Sampling frequency: 10.24 MHz\n",
      "###################################\n",
      "Testing: order=4, osr=256, nlev=3, Hinf=1.0, form=CIFF\n",
      "###################################\n"
     ]
    },
    {
     "name": "stderr",
     "output_type": "stream",
     "text": [
      "WARNING:cbadc.digital_backend:Discrete time Wiener filter not properly implemented. Results may be incorrect.\n",
      "INFO:root:Simulating discrete-time analog frontend\n"
     ]
    },
    {
     "name": "stdout",
     "output_type": "stream",
     "text": [
      "Sampling frequency: 10.24 MHz\n",
      "###################################\n",
      "Testing: order=4, osr=256, nlev=3, Hinf=1.0, form=CRFBD\n",
      "###################################\n"
     ]
    },
    {
     "name": "stderr",
     "output_type": "stream",
     "text": [
      "WARNING:cbadc.digital_backend:Discrete time Wiener filter not properly implemented. Results may be incorrect.\n",
      "INFO:root:Simulating discrete-time analog frontend\n"
     ]
    },
    {
     "name": "stdout",
     "output_type": "stream",
     "text": [
      "Sampling frequency: 10.24 MHz\n",
      "###################################\n",
      "Testing: order=4, osr=256, nlev=3, Hinf=1.0, form=CRFFD\n",
      "###################################\n"
     ]
    },
    {
     "name": "stderr",
     "output_type": "stream",
     "text": [
      "WARNING:cbadc.digital_backend:Discrete time Wiener filter not properly implemented. Results may be incorrect.\n",
      "INFO:root:Simulating discrete-time analog frontend\n"
     ]
    },
    {
     "name": "stdout",
     "output_type": "stream",
     "text": [
      "Sampling frequency: 10.24 MHz\n",
      "###################################\n",
      "Testing: order=4, osr=256, nlev=3, Hinf=1.5, form=CRFB\n",
      "###################################\n"
     ]
    },
    {
     "name": "stderr",
     "output_type": "stream",
     "text": [
      "WARNING:cbadc.digital_backend:Discrete time Wiener filter not properly implemented. Results may be incorrect.\n",
      "INFO:root:Simulating discrete-time analog frontend\n"
     ]
    },
    {
     "name": "stdout",
     "output_type": "stream",
     "text": [
      "Sampling frequency: 10.24 MHz\n",
      "###################################\n",
      "Testing: order=4, osr=256, nlev=3, Hinf=1.5, form=CRFF\n",
      "###################################\n"
     ]
    },
    {
     "name": "stderr",
     "output_type": "stream",
     "text": [
      "WARNING:cbadc.digital_backend:Discrete time Wiener filter not properly implemented. Results may be incorrect.\n",
      "INFO:root:Simulating discrete-time analog frontend\n"
     ]
    },
    {
     "name": "stdout",
     "output_type": "stream",
     "text": [
      "Sampling frequency: 10.24 MHz\n",
      "###################################\n",
      "Testing: order=4, osr=256, nlev=3, Hinf=1.5, form=CIFB\n",
      "###################################\n"
     ]
    },
    {
     "name": "stderr",
     "output_type": "stream",
     "text": [
      "WARNING:cbadc.digital_backend:Discrete time Wiener filter not properly implemented. Results may be incorrect.\n",
      "INFO:root:Simulating discrete-time analog frontend\n"
     ]
    },
    {
     "name": "stdout",
     "output_type": "stream",
     "text": [
      "Sampling frequency: 10.24 MHz\n",
      "###################################\n",
      "Testing: order=4, osr=256, nlev=3, Hinf=1.5, form=CIFF\n",
      "###################################\n"
     ]
    },
    {
     "name": "stderr",
     "output_type": "stream",
     "text": [
      "WARNING:cbadc.digital_backend:Discrete time Wiener filter not properly implemented. Results may be incorrect.\n",
      "INFO:root:Simulating discrete-time analog frontend\n"
     ]
    },
    {
     "name": "stdout",
     "output_type": "stream",
     "text": [
      "Sampling frequency: 10.24 MHz\n",
      "###################################\n",
      "Testing: order=4, osr=256, nlev=3, Hinf=1.5, form=CRFBD\n",
      "###################################\n"
     ]
    },
    {
     "name": "stderr",
     "output_type": "stream",
     "text": [
      "WARNING:cbadc.digital_backend:Discrete time Wiener filter not properly implemented. Results may be incorrect.\n",
      "INFO:root:Simulating discrete-time analog frontend\n"
     ]
    },
    {
     "name": "stdout",
     "output_type": "stream",
     "text": [
      "Sampling frequency: 10.24 MHz\n",
      "###################################\n",
      "Testing: order=4, osr=256, nlev=3, Hinf=1.5, form=CRFFD\n",
      "###################################\n"
     ]
    },
    {
     "name": "stderr",
     "output_type": "stream",
     "text": [
      "WARNING:cbadc.digital_backend:Discrete time Wiener filter not properly implemented. Results may be incorrect.\n",
      "INFO:root:Simulating discrete-time analog frontend\n"
     ]
    },
    {
     "name": "stdout",
     "output_type": "stream",
     "text": [
      "Sampling frequency: 10.24 MHz\n",
      "###################################\n",
      "Testing: order=4, osr=256, nlev=3, Hinf=2.0, form=CRFB\n",
      "###################################\n"
     ]
    },
    {
     "name": "stderr",
     "output_type": "stream",
     "text": [
      "WARNING:cbadc.digital_backend:Discrete time Wiener filter not properly implemented. Results may be incorrect.\n",
      "INFO:root:Simulating discrete-time analog frontend\n"
     ]
    },
    {
     "name": "stdout",
     "output_type": "stream",
     "text": [
      "Sampling frequency: 10.24 MHz\n",
      "###################################\n",
      "Testing: order=4, osr=256, nlev=3, Hinf=2.0, form=CRFF\n",
      "###################################\n"
     ]
    },
    {
     "name": "stderr",
     "output_type": "stream",
     "text": [
      "WARNING:cbadc.digital_backend:Discrete time Wiener filter not properly implemented. Results may be incorrect.\n",
      "INFO:root:Simulating discrete-time analog frontend\n"
     ]
    },
    {
     "name": "stdout",
     "output_type": "stream",
     "text": [
      "Sampling frequency: 10.24 MHz\n",
      "###################################\n",
      "Testing: order=4, osr=256, nlev=3, Hinf=2.0, form=CIFB\n",
      "###################################\n"
     ]
    },
    {
     "name": "stderr",
     "output_type": "stream",
     "text": [
      "WARNING:cbadc.digital_backend:Discrete time Wiener filter not properly implemented. Results may be incorrect.\n",
      "INFO:root:Simulating discrete-time analog frontend\n"
     ]
    },
    {
     "name": "stdout",
     "output_type": "stream",
     "text": [
      "Sampling frequency: 10.24 MHz\n",
      "###################################\n",
      "Testing: order=4, osr=256, nlev=3, Hinf=2.0, form=CIFF\n",
      "###################################\n"
     ]
    },
    {
     "name": "stderr",
     "output_type": "stream",
     "text": [
      "WARNING:cbadc.digital_backend:Discrete time Wiener filter not properly implemented. Results may be incorrect.\n",
      "INFO:root:Simulating discrete-time analog frontend\n"
     ]
    },
    {
     "name": "stdout",
     "output_type": "stream",
     "text": [
      "Sampling frequency: 10.24 MHz\n",
      "###################################\n",
      "Testing: order=4, osr=256, nlev=3, Hinf=2.0, form=CRFBD\n",
      "###################################\n"
     ]
    },
    {
     "name": "stderr",
     "output_type": "stream",
     "text": [
      "WARNING:cbadc.digital_backend:Discrete time Wiener filter not properly implemented. Results may be incorrect.\n",
      "INFO:root:Simulating discrete-time analog frontend\n"
     ]
    },
    {
     "name": "stdout",
     "output_type": "stream",
     "text": [
      "Sampling frequency: 10.24 MHz\n",
      "###################################\n",
      "Testing: order=4, osr=256, nlev=3, Hinf=2.0, form=CRFFD\n",
      "###################################\n"
     ]
    },
    {
     "name": "stderr",
     "output_type": "stream",
     "text": [
      "WARNING:cbadc.digital_backend:Discrete time Wiener filter not properly implemented. Results may be incorrect.\n",
      "INFO:root:Simulating discrete-time analog frontend\n"
     ]
    },
    {
     "name": "stdout",
     "output_type": "stream",
     "text": [
      "Sampling frequency: 1.28 MHz\n",
      "###################################\n",
      "Testing: order=5, osr=32, nlev=2, Hinf=1.0, form=CRFB\n",
      "###################################\n"
     ]
    },
    {
     "name": "stderr",
     "output_type": "stream",
     "text": [
      "WARNING:cbadc.digital_backend:Discrete time Wiener filter not properly implemented. Results may be incorrect.\n",
      "INFO:root:Simulating discrete-time analog frontend\n"
     ]
    },
    {
     "name": "stdout",
     "output_type": "stream",
     "text": [
      "Error encountered with order=5, osr=32, nlev=2, Hinf=1.0, form=CRFB. Skipping this configuration\n",
      "Sampling frequency: 1.28 MHz\n",
      "###################################\n",
      "Testing: order=5, osr=32, nlev=2, Hinf=1.0, form=CRFF\n",
      "###################################\n"
     ]
    },
    {
     "name": "stderr",
     "output_type": "stream",
     "text": [
      "WARNING:cbadc.digital_backend:Discrete time Wiener filter not properly implemented. Results may be incorrect.\n",
      "INFO:root:Simulating discrete-time analog frontend\n"
     ]
    },
    {
     "name": "stdout",
     "output_type": "stream",
     "text": [
      "Sampling frequency: 1.28 MHz\n",
      "###################################\n",
      "Testing: order=5, osr=32, nlev=2, Hinf=1.0, form=CIFB\n",
      "###################################\n"
     ]
    },
    {
     "name": "stderr",
     "output_type": "stream",
     "text": [
      "WARNING:cbadc.digital_backend:Discrete time Wiener filter not properly implemented. Results may be incorrect.\n",
      "INFO:root:Simulating discrete-time analog frontend\n"
     ]
    },
    {
     "name": "stdout",
     "output_type": "stream",
     "text": [
      "Error encountered with order=5, osr=32, nlev=2, Hinf=1.0, form=CIFB. Skipping this configuration\n",
      "Sampling frequency: 1.28 MHz\n",
      "###################################\n",
      "Testing: order=5, osr=32, nlev=2, Hinf=1.0, form=CIFF\n",
      "###################################\n"
     ]
    },
    {
     "name": "stderr",
     "output_type": "stream",
     "text": [
      "WARNING:cbadc.digital_backend:Discrete time Wiener filter not properly implemented. Results may be incorrect.\n",
      "INFO:root:Simulating discrete-time analog frontend\n"
     ]
    },
    {
     "name": "stdout",
     "output_type": "stream",
     "text": [
      "Sampling frequency: 1.28 MHz\n",
      "###################################\n",
      "Testing: order=5, osr=32, nlev=2, Hinf=1.0, form=CRFBD\n",
      "###################################\n"
     ]
    },
    {
     "name": "stderr",
     "output_type": "stream",
     "text": [
      "WARNING:cbadc.digital_backend:Discrete time Wiener filter not properly implemented. Results may be incorrect.\n",
      "INFO:root:Simulating discrete-time analog frontend\n"
     ]
    },
    {
     "name": "stdout",
     "output_type": "stream",
     "text": [
      "Error encountered with order=5, osr=32, nlev=2, Hinf=1.0, form=CRFBD. Skipping this configuration\n",
      "Sampling frequency: 1.28 MHz\n",
      "###################################\n",
      "Testing: order=5, osr=32, nlev=2, Hinf=1.0, form=CRFFD\n",
      "###################################\n"
     ]
    },
    {
     "name": "stderr",
     "output_type": "stream",
     "text": [
      "WARNING:cbadc.digital_backend:Discrete time Wiener filter not properly implemented. Results may be incorrect.\n",
      "INFO:root:Simulating discrete-time analog frontend\n"
     ]
    },
    {
     "name": "stdout",
     "output_type": "stream",
     "text": [
      "Sampling frequency: 1.28 MHz\n",
      "###################################\n",
      "Testing: order=5, osr=32, nlev=2, Hinf=1.5, form=CRFB\n",
      "###################################\n"
     ]
    },
    {
     "name": "stderr",
     "output_type": "stream",
     "text": [
      "WARNING:cbadc.digital_backend:Discrete time Wiener filter not properly implemented. Results may be incorrect.\n",
      "INFO:root:Simulating discrete-time analog frontend\n"
     ]
    },
    {
     "name": "stdout",
     "output_type": "stream",
     "text": [
      "Sampling frequency: 1.28 MHz\n",
      "###################################\n",
      "Testing: order=5, osr=32, nlev=2, Hinf=1.5, form=CRFF\n",
      "###################################\n"
     ]
    },
    {
     "name": "stderr",
     "output_type": "stream",
     "text": [
      "WARNING:cbadc.digital_backend:Discrete time Wiener filter not properly implemented. Results may be incorrect.\n",
      "INFO:root:Simulating discrete-time analog frontend\n"
     ]
    },
    {
     "name": "stdout",
     "output_type": "stream",
     "text": [
      "Sampling frequency: 1.28 MHz\n",
      "###################################\n",
      "Testing: order=5, osr=32, nlev=2, Hinf=1.5, form=CIFB\n",
      "###################################\n"
     ]
    },
    {
     "name": "stderr",
     "output_type": "stream",
     "text": [
      "WARNING:cbadc.digital_backend:Discrete time Wiener filter not properly implemented. Results may be incorrect.\n",
      "INFO:root:Simulating discrete-time analog frontend\n"
     ]
    },
    {
     "name": "stdout",
     "output_type": "stream",
     "text": [
      "Sampling frequency: 1.28 MHz\n",
      "###################################\n",
      "Testing: order=5, osr=32, nlev=2, Hinf=1.5, form=CIFF\n",
      "###################################\n"
     ]
    },
    {
     "name": "stderr",
     "output_type": "stream",
     "text": [
      "WARNING:cbadc.digital_backend:Discrete time Wiener filter not properly implemented. Results may be incorrect.\n",
      "INFO:root:Simulating discrete-time analog frontend\n"
     ]
    },
    {
     "name": "stdout",
     "output_type": "stream",
     "text": [
      "Sampling frequency: 1.28 MHz\n",
      "###################################\n",
      "Testing: order=5, osr=32, nlev=2, Hinf=1.5, form=CRFBD\n",
      "###################################\n"
     ]
    },
    {
     "name": "stderr",
     "output_type": "stream",
     "text": [
      "WARNING:cbadc.digital_backend:Discrete time Wiener filter not properly implemented. Results may be incorrect.\n",
      "INFO:root:Simulating discrete-time analog frontend\n"
     ]
    },
    {
     "name": "stdout",
     "output_type": "stream",
     "text": [
      "Sampling frequency: 1.28 MHz\n",
      "###################################\n",
      "Testing: order=5, osr=32, nlev=2, Hinf=1.5, form=CRFFD\n",
      "###################################\n"
     ]
    },
    {
     "name": "stderr",
     "output_type": "stream",
     "text": [
      "WARNING:cbadc.digital_backend:Discrete time Wiener filter not properly implemented. Results may be incorrect.\n",
      "INFO:root:Simulating discrete-time analog frontend\n"
     ]
    },
    {
     "name": "stdout",
     "output_type": "stream",
     "text": [
      "Sampling frequency: 1.28 MHz\n",
      "###################################\n",
      "Testing: order=5, osr=32, nlev=2, Hinf=2.0, form=CRFB\n",
      "###################################\n"
     ]
    },
    {
     "name": "stderr",
     "output_type": "stream",
     "text": [
      "WARNING:cbadc.digital_backend:Discrete time Wiener filter not properly implemented. Results may be incorrect.\n",
      "INFO:root:Simulating discrete-time analog frontend\n"
     ]
    },
    {
     "name": "stdout",
     "output_type": "stream",
     "text": [
      "Sampling frequency: 1.28 MHz\n",
      "###################################\n",
      "Testing: order=5, osr=32, nlev=2, Hinf=2.0, form=CRFF\n",
      "###################################\n"
     ]
    },
    {
     "name": "stderr",
     "output_type": "stream",
     "text": [
      "WARNING:cbadc.digital_backend:Discrete time Wiener filter not properly implemented. Results may be incorrect.\n",
      "INFO:root:Simulating discrete-time analog frontend\n"
     ]
    },
    {
     "name": "stdout",
     "output_type": "stream",
     "text": [
      "Sampling frequency: 1.28 MHz\n",
      "###################################\n",
      "Testing: order=5, osr=32, nlev=2, Hinf=2.0, form=CIFB\n",
      "###################################\n"
     ]
    },
    {
     "name": "stderr",
     "output_type": "stream",
     "text": [
      "WARNING:cbadc.digital_backend:Discrete time Wiener filter not properly implemented. Results may be incorrect.\n",
      "INFO:root:Simulating discrete-time analog frontend\n"
     ]
    },
    {
     "name": "stdout",
     "output_type": "stream",
     "text": [
      "Sampling frequency: 1.28 MHz\n",
      "###################################\n",
      "Testing: order=5, osr=32, nlev=2, Hinf=2.0, form=CIFF\n",
      "###################################\n"
     ]
    },
    {
     "name": "stderr",
     "output_type": "stream",
     "text": [
      "WARNING:cbadc.digital_backend:Discrete time Wiener filter not properly implemented. Results may be incorrect.\n",
      "INFO:root:Simulating discrete-time analog frontend\n"
     ]
    },
    {
     "name": "stdout",
     "output_type": "stream",
     "text": [
      "Sampling frequency: 1.28 MHz\n",
      "###################################\n",
      "Testing: order=5, osr=32, nlev=2, Hinf=2.0, form=CRFBD\n",
      "###################################\n"
     ]
    },
    {
     "name": "stderr",
     "output_type": "stream",
     "text": [
      "WARNING:cbadc.digital_backend:Discrete time Wiener filter not properly implemented. Results may be incorrect.\n",
      "INFO:root:Simulating discrete-time analog frontend\n"
     ]
    },
    {
     "name": "stdout",
     "output_type": "stream",
     "text": [
      "Sampling frequency: 1.28 MHz\n",
      "###################################\n",
      "Testing: order=5, osr=32, nlev=2, Hinf=2.0, form=CRFFD\n",
      "###################################\n"
     ]
    },
    {
     "name": "stderr",
     "output_type": "stream",
     "text": [
      "WARNING:cbadc.digital_backend:Discrete time Wiener filter not properly implemented. Results may be incorrect.\n",
      "INFO:root:Simulating discrete-time analog frontend\n"
     ]
    },
    {
     "name": "stdout",
     "output_type": "stream",
     "text": [
      "Sampling frequency: 1.28 MHz\n",
      "###################################\n",
      "Testing: order=5, osr=32, nlev=3, Hinf=1.0, form=CRFB\n",
      "###################################\n"
     ]
    },
    {
     "name": "stderr",
     "output_type": "stream",
     "text": [
      "WARNING:cbadc.digital_backend:Discrete time Wiener filter not properly implemented. Results may be incorrect.\n",
      "INFO:root:Simulating discrete-time analog frontend\n"
     ]
    },
    {
     "name": "stdout",
     "output_type": "stream",
     "text": [
      "Error encountered with order=5, osr=32, nlev=3, Hinf=1.0, form=CRFB. Skipping this configuration\n",
      "Sampling frequency: 1.28 MHz\n",
      "###################################\n",
      "Testing: order=5, osr=32, nlev=3, Hinf=1.0, form=CRFF\n",
      "###################################\n"
     ]
    },
    {
     "name": "stderr",
     "output_type": "stream",
     "text": [
      "WARNING:cbadc.digital_backend:Discrete time Wiener filter not properly implemented. Results may be incorrect.\n",
      "INFO:root:Simulating discrete-time analog frontend\n"
     ]
    },
    {
     "name": "stdout",
     "output_type": "stream",
     "text": [
      "Sampling frequency: 1.28 MHz\n",
      "###################################\n",
      "Testing: order=5, osr=32, nlev=3, Hinf=1.0, form=CIFB\n",
      "###################################\n"
     ]
    },
    {
     "name": "stderr",
     "output_type": "stream",
     "text": [
      "WARNING:cbadc.digital_backend:Discrete time Wiener filter not properly implemented. Results may be incorrect.\n",
      "INFO:root:Simulating discrete-time analog frontend\n"
     ]
    },
    {
     "name": "stdout",
     "output_type": "stream",
     "text": [
      "Error encountered with order=5, osr=32, nlev=3, Hinf=1.0, form=CIFB. Skipping this configuration\n",
      "Sampling frequency: 1.28 MHz\n",
      "###################################\n",
      "Testing: order=5, osr=32, nlev=3, Hinf=1.0, form=CIFF\n",
      "###################################\n"
     ]
    },
    {
     "name": "stderr",
     "output_type": "stream",
     "text": [
      "WARNING:cbadc.digital_backend:Discrete time Wiener filter not properly implemented. Results may be incorrect.\n",
      "INFO:root:Simulating discrete-time analog frontend\n"
     ]
    },
    {
     "name": "stdout",
     "output_type": "stream",
     "text": [
      "Sampling frequency: 1.28 MHz\n",
      "###################################\n",
      "Testing: order=5, osr=32, nlev=3, Hinf=1.0, form=CRFBD\n",
      "###################################\n"
     ]
    },
    {
     "name": "stderr",
     "output_type": "stream",
     "text": [
      "WARNING:cbadc.digital_backend:Discrete time Wiener filter not properly implemented. Results may be incorrect.\n",
      "INFO:root:Simulating discrete-time analog frontend\n"
     ]
    },
    {
     "name": "stdout",
     "output_type": "stream",
     "text": [
      "Error encountered with order=5, osr=32, nlev=3, Hinf=1.0, form=CRFBD. Skipping this configuration\n",
      "Sampling frequency: 1.28 MHz\n",
      "###################################\n",
      "Testing: order=5, osr=32, nlev=3, Hinf=1.0, form=CRFFD\n",
      "###################################\n"
     ]
    },
    {
     "name": "stderr",
     "output_type": "stream",
     "text": [
      "WARNING:cbadc.digital_backend:Discrete time Wiener filter not properly implemented. Results may be incorrect.\n",
      "INFO:root:Simulating discrete-time analog frontend\n"
     ]
    },
    {
     "name": "stdout",
     "output_type": "stream",
     "text": [
      "Sampling frequency: 1.28 MHz\n",
      "###################################\n",
      "Testing: order=5, osr=32, nlev=3, Hinf=1.5, form=CRFB\n",
      "###################################\n"
     ]
    },
    {
     "name": "stderr",
     "output_type": "stream",
     "text": [
      "WARNING:cbadc.digital_backend:Discrete time Wiener filter not properly implemented. Results may be incorrect.\n",
      "INFO:root:Simulating discrete-time analog frontend\n"
     ]
    },
    {
     "name": "stdout",
     "output_type": "stream",
     "text": [
      "Sampling frequency: 1.28 MHz\n",
      "###################################\n",
      "Testing: order=5, osr=32, nlev=3, Hinf=1.5, form=CRFF\n",
      "###################################\n"
     ]
    },
    {
     "name": "stderr",
     "output_type": "stream",
     "text": [
      "WARNING:cbadc.digital_backend:Discrete time Wiener filter not properly implemented. Results may be incorrect.\n",
      "INFO:root:Simulating discrete-time analog frontend\n"
     ]
    },
    {
     "name": "stdout",
     "output_type": "stream",
     "text": [
      "Sampling frequency: 1.28 MHz\n",
      "###################################\n",
      "Testing: order=5, osr=32, nlev=3, Hinf=1.5, form=CIFB\n",
      "###################################\n"
     ]
    },
    {
     "name": "stderr",
     "output_type": "stream",
     "text": [
      "WARNING:cbadc.digital_backend:Discrete time Wiener filter not properly implemented. Results may be incorrect.\n",
      "INFO:root:Simulating discrete-time analog frontend\n"
     ]
    },
    {
     "name": "stdout",
     "output_type": "stream",
     "text": [
      "Sampling frequency: 1.28 MHz\n",
      "###################################\n",
      "Testing: order=5, osr=32, nlev=3, Hinf=1.5, form=CIFF\n",
      "###################################\n"
     ]
    },
    {
     "name": "stderr",
     "output_type": "stream",
     "text": [
      "WARNING:cbadc.digital_backend:Discrete time Wiener filter not properly implemented. Results may be incorrect.\n",
      "INFO:root:Simulating discrete-time analog frontend\n"
     ]
    },
    {
     "name": "stdout",
     "output_type": "stream",
     "text": [
      "Sampling frequency: 1.28 MHz\n",
      "###################################\n",
      "Testing: order=5, osr=32, nlev=3, Hinf=1.5, form=CRFBD\n",
      "###################################\n"
     ]
    },
    {
     "name": "stderr",
     "output_type": "stream",
     "text": [
      "WARNING:cbadc.digital_backend:Discrete time Wiener filter not properly implemented. Results may be incorrect.\n",
      "INFO:root:Simulating discrete-time analog frontend\n"
     ]
    },
    {
     "name": "stdout",
     "output_type": "stream",
     "text": [
      "Sampling frequency: 1.28 MHz\n",
      "###################################\n",
      "Testing: order=5, osr=32, nlev=3, Hinf=1.5, form=CRFFD\n",
      "###################################\n"
     ]
    },
    {
     "name": "stderr",
     "output_type": "stream",
     "text": [
      "WARNING:cbadc.digital_backend:Discrete time Wiener filter not properly implemented. Results may be incorrect.\n",
      "INFO:root:Simulating discrete-time analog frontend\n"
     ]
    },
    {
     "name": "stdout",
     "output_type": "stream",
     "text": [
      "Sampling frequency: 1.28 MHz\n",
      "###################################\n",
      "Testing: order=5, osr=32, nlev=3, Hinf=2.0, form=CRFB\n",
      "###################################\n"
     ]
    },
    {
     "name": "stderr",
     "output_type": "stream",
     "text": [
      "WARNING:cbadc.digital_backend:Discrete time Wiener filter not properly implemented. Results may be incorrect.\n",
      "INFO:root:Simulating discrete-time analog frontend\n"
     ]
    },
    {
     "name": "stdout",
     "output_type": "stream",
     "text": [
      "Sampling frequency: 1.28 MHz\n",
      "###################################\n",
      "Testing: order=5, osr=32, nlev=3, Hinf=2.0, form=CRFF\n",
      "###################################\n"
     ]
    },
    {
     "name": "stderr",
     "output_type": "stream",
     "text": [
      "WARNING:cbadc.digital_backend:Discrete time Wiener filter not properly implemented. Results may be incorrect.\n",
      "INFO:root:Simulating discrete-time analog frontend\n"
     ]
    },
    {
     "name": "stdout",
     "output_type": "stream",
     "text": [
      "Sampling frequency: 1.28 MHz\n",
      "###################################\n",
      "Testing: order=5, osr=32, nlev=3, Hinf=2.0, form=CIFB\n",
      "###################################\n"
     ]
    },
    {
     "name": "stderr",
     "output_type": "stream",
     "text": [
      "WARNING:cbadc.digital_backend:Discrete time Wiener filter not properly implemented. Results may be incorrect.\n",
      "INFO:root:Simulating discrete-time analog frontend\n"
     ]
    },
    {
     "name": "stdout",
     "output_type": "stream",
     "text": [
      "Sampling frequency: 1.28 MHz\n",
      "###################################\n",
      "Testing: order=5, osr=32, nlev=3, Hinf=2.0, form=CIFF\n",
      "###################################\n"
     ]
    },
    {
     "name": "stderr",
     "output_type": "stream",
     "text": [
      "WARNING:cbadc.digital_backend:Discrete time Wiener filter not properly implemented. Results may be incorrect.\n",
      "INFO:root:Simulating discrete-time analog frontend\n"
     ]
    },
    {
     "name": "stdout",
     "output_type": "stream",
     "text": [
      "Sampling frequency: 1.28 MHz\n",
      "###################################\n",
      "Testing: order=5, osr=32, nlev=3, Hinf=2.0, form=CRFBD\n",
      "###################################\n"
     ]
    },
    {
     "name": "stderr",
     "output_type": "stream",
     "text": [
      "WARNING:cbadc.digital_backend:Discrete time Wiener filter not properly implemented. Results may be incorrect.\n",
      "INFO:root:Simulating discrete-time analog frontend\n"
     ]
    },
    {
     "name": "stdout",
     "output_type": "stream",
     "text": [
      "Sampling frequency: 1.28 MHz\n",
      "###################################\n",
      "Testing: order=5, osr=32, nlev=3, Hinf=2.0, form=CRFFD\n",
      "###################################\n"
     ]
    },
    {
     "name": "stderr",
     "output_type": "stream",
     "text": [
      "WARNING:cbadc.digital_backend:Discrete time Wiener filter not properly implemented. Results may be incorrect.\n",
      "C:\\Users\\frang\\AppData\\Local\\Packages\\PythonSoftwareFoundation.Python.3.11_qbz5n2kfra8p0\\LocalCache\\local-packages\\Python311\\site-packages\\deltasigma\\_synthesizeNTF1.py:144: UserWarning: Danger! Iteration limit exceeded.\n",
      "  warn('Danger! Iteration limit exceeded.')\n",
      "INFO:root:Simulating discrete-time analog frontend\n"
     ]
    },
    {
     "name": "stdout",
     "output_type": "stream",
     "text": [
      "Sampling frequency: 2.56 MHz\n",
      "###################################\n",
      "Testing: order=5, osr=64, nlev=2, Hinf=1.0, form=CRFB\n",
      "###################################\n"
     ]
    },
    {
     "name": "stderr",
     "output_type": "stream",
     "text": [
      "WARNING:cbadc.digital_backend:Discrete time Wiener filter not properly implemented. Results may be incorrect.\n",
      "INFO:root:Simulating discrete-time analog frontend\n"
     ]
    },
    {
     "name": "stdout",
     "output_type": "stream",
     "text": [
      "Sampling frequency: 2.56 MHz\n",
      "###################################\n",
      "Testing: order=5, osr=64, nlev=2, Hinf=1.0, form=CRFF\n",
      "###################################\n"
     ]
    },
    {
     "name": "stderr",
     "output_type": "stream",
     "text": [
      "WARNING:cbadc.digital_backend:Discrete time Wiener filter not properly implemented. Results may be incorrect.\n",
      "INFO:root:Simulating discrete-time analog frontend\n"
     ]
    },
    {
     "name": "stdout",
     "output_type": "stream",
     "text": [
      "Sampling frequency: 2.56 MHz\n",
      "###################################\n",
      "Testing: order=5, osr=64, nlev=2, Hinf=1.0, form=CIFB\n",
      "###################################\n"
     ]
    },
    {
     "name": "stderr",
     "output_type": "stream",
     "text": [
      "WARNING:cbadc.digital_backend:Discrete time Wiener filter not properly implemented. Results may be incorrect.\n",
      "INFO:root:Simulating discrete-time analog frontend\n"
     ]
    },
    {
     "name": "stdout",
     "output_type": "stream",
     "text": [
      "Sampling frequency: 2.56 MHz\n",
      "###################################\n",
      "Testing: order=5, osr=64, nlev=2, Hinf=1.0, form=CIFF\n",
      "###################################\n"
     ]
    },
    {
     "name": "stderr",
     "output_type": "stream",
     "text": [
      "WARNING:cbadc.digital_backend:Discrete time Wiener filter not properly implemented. Results may be incorrect.\n",
      "INFO:root:Simulating discrete-time analog frontend\n"
     ]
    },
    {
     "name": "stdout",
     "output_type": "stream",
     "text": [
      "Sampling frequency: 2.56 MHz\n",
      "###################################\n",
      "Testing: order=5, osr=64, nlev=2, Hinf=1.0, form=CRFBD\n",
      "###################################\n"
     ]
    },
    {
     "name": "stderr",
     "output_type": "stream",
     "text": [
      "WARNING:cbadc.digital_backend:Discrete time Wiener filter not properly implemented. Results may be incorrect.\n",
      "INFO:root:Simulating discrete-time analog frontend\n"
     ]
    },
    {
     "name": "stdout",
     "output_type": "stream",
     "text": [
      "Sampling frequency: 2.56 MHz\n",
      "###################################\n",
      "Testing: order=5, osr=64, nlev=2, Hinf=1.0, form=CRFFD\n",
      "###################################\n"
     ]
    },
    {
     "name": "stderr",
     "output_type": "stream",
     "text": [
      "WARNING:cbadc.digital_backend:Discrete time Wiener filter not properly implemented. Results may be incorrect.\n",
      "INFO:root:Simulating discrete-time analog frontend\n"
     ]
    },
    {
     "name": "stdout",
     "output_type": "stream",
     "text": [
      "Sampling frequency: 2.56 MHz\n",
      "###################################\n",
      "Testing: order=5, osr=64, nlev=2, Hinf=1.5, form=CRFB\n",
      "###################################\n"
     ]
    },
    {
     "name": "stderr",
     "output_type": "stream",
     "text": [
      "WARNING:cbadc.digital_backend:Discrete time Wiener filter not properly implemented. Results may be incorrect.\n",
      "INFO:root:Simulating discrete-time analog frontend\n"
     ]
    },
    {
     "name": "stdout",
     "output_type": "stream",
     "text": [
      "Sampling frequency: 2.56 MHz\n",
      "###################################\n",
      "Testing: order=5, osr=64, nlev=2, Hinf=1.5, form=CRFF\n",
      "###################################\n"
     ]
    },
    {
     "name": "stderr",
     "output_type": "stream",
     "text": [
      "WARNING:cbadc.digital_backend:Discrete time Wiener filter not properly implemented. Results may be incorrect.\n",
      "INFO:root:Simulating discrete-time analog frontend\n"
     ]
    },
    {
     "name": "stdout",
     "output_type": "stream",
     "text": [
      "Sampling frequency: 2.56 MHz\n",
      "###################################\n",
      "Testing: order=5, osr=64, nlev=2, Hinf=1.5, form=CIFB\n",
      "###################################\n"
     ]
    },
    {
     "name": "stderr",
     "output_type": "stream",
     "text": [
      "WARNING:cbadc.digital_backend:Discrete time Wiener filter not properly implemented. Results may be incorrect.\n",
      "INFO:root:Simulating discrete-time analog frontend\n"
     ]
    },
    {
     "name": "stdout",
     "output_type": "stream",
     "text": [
      "Sampling frequency: 2.56 MHz\n",
      "###################################\n",
      "Testing: order=5, osr=64, nlev=2, Hinf=1.5, form=CIFF\n",
      "###################################\n"
     ]
    },
    {
     "name": "stderr",
     "output_type": "stream",
     "text": [
      "WARNING:cbadc.digital_backend:Discrete time Wiener filter not properly implemented. Results may be incorrect.\n",
      "INFO:root:Simulating discrete-time analog frontend\n"
     ]
    },
    {
     "name": "stdout",
     "output_type": "stream",
     "text": [
      "Sampling frequency: 2.56 MHz\n",
      "###################################\n",
      "Testing: order=5, osr=64, nlev=2, Hinf=1.5, form=CRFBD\n",
      "###################################\n"
     ]
    },
    {
     "name": "stderr",
     "output_type": "stream",
     "text": [
      "WARNING:cbadc.digital_backend:Discrete time Wiener filter not properly implemented. Results may be incorrect.\n",
      "INFO:root:Simulating discrete-time analog frontend\n"
     ]
    },
    {
     "name": "stdout",
     "output_type": "stream",
     "text": [
      "Sampling frequency: 2.56 MHz\n",
      "###################################\n",
      "Testing: order=5, osr=64, nlev=2, Hinf=1.5, form=CRFFD\n",
      "###################################\n"
     ]
    },
    {
     "name": "stderr",
     "output_type": "stream",
     "text": [
      "WARNING:cbadc.digital_backend:Discrete time Wiener filter not properly implemented. Results may be incorrect.\n",
      "INFO:root:Simulating discrete-time analog frontend\n"
     ]
    },
    {
     "name": "stdout",
     "output_type": "stream",
     "text": [
      "Sampling frequency: 2.56 MHz\n",
      "###################################\n",
      "Testing: order=5, osr=64, nlev=2, Hinf=2.0, form=CRFB\n",
      "###################################\n"
     ]
    },
    {
     "name": "stderr",
     "output_type": "stream",
     "text": [
      "WARNING:cbadc.digital_backend:Discrete time Wiener filter not properly implemented. Results may be incorrect.\n",
      "INFO:root:Simulating discrete-time analog frontend\n"
     ]
    },
    {
     "name": "stdout",
     "output_type": "stream",
     "text": [
      "Sampling frequency: 2.56 MHz\n",
      "###################################\n",
      "Testing: order=5, osr=64, nlev=2, Hinf=2.0, form=CRFF\n",
      "###################################\n"
     ]
    },
    {
     "name": "stderr",
     "output_type": "stream",
     "text": [
      "WARNING:cbadc.digital_backend:Discrete time Wiener filter not properly implemented. Results may be incorrect.\n",
      "INFO:root:Simulating discrete-time analog frontend\n"
     ]
    },
    {
     "name": "stdout",
     "output_type": "stream",
     "text": [
      "Sampling frequency: 2.56 MHz\n",
      "###################################\n",
      "Testing: order=5, osr=64, nlev=2, Hinf=2.0, form=CIFB\n",
      "###################################\n"
     ]
    },
    {
     "name": "stderr",
     "output_type": "stream",
     "text": [
      "WARNING:cbadc.digital_backend:Discrete time Wiener filter not properly implemented. Results may be incorrect.\n",
      "INFO:root:Simulating discrete-time analog frontend\n"
     ]
    },
    {
     "name": "stdout",
     "output_type": "stream",
     "text": [
      "Sampling frequency: 2.56 MHz\n",
      "###################################\n",
      "Testing: order=5, osr=64, nlev=2, Hinf=2.0, form=CIFF\n",
      "###################################\n"
     ]
    },
    {
     "name": "stderr",
     "output_type": "stream",
     "text": [
      "WARNING:cbadc.digital_backend:Discrete time Wiener filter not properly implemented. Results may be incorrect.\n",
      "INFO:root:Simulating discrete-time analog frontend\n"
     ]
    },
    {
     "name": "stdout",
     "output_type": "stream",
     "text": [
      "Sampling frequency: 2.56 MHz\n",
      "###################################\n",
      "Testing: order=5, osr=64, nlev=2, Hinf=2.0, form=CRFBD\n",
      "###################################\n"
     ]
    },
    {
     "name": "stderr",
     "output_type": "stream",
     "text": [
      "WARNING:cbadc.digital_backend:Discrete time Wiener filter not properly implemented. Results may be incorrect.\n",
      "INFO:root:Simulating discrete-time analog frontend\n"
     ]
    },
    {
     "name": "stdout",
     "output_type": "stream",
     "text": [
      "Sampling frequency: 2.56 MHz\n",
      "###################################\n",
      "Testing: order=5, osr=64, nlev=2, Hinf=2.0, form=CRFFD\n",
      "###################################\n"
     ]
    },
    {
     "name": "stderr",
     "output_type": "stream",
     "text": [
      "WARNING:cbadc.digital_backend:Discrete time Wiener filter not properly implemented. Results may be incorrect.\n",
      "INFO:root:Simulating discrete-time analog frontend\n"
     ]
    },
    {
     "name": "stdout",
     "output_type": "stream",
     "text": [
      "Sampling frequency: 2.56 MHz\n",
      "###################################\n",
      "Testing: order=5, osr=64, nlev=3, Hinf=1.0, form=CRFB\n",
      "###################################\n"
     ]
    },
    {
     "name": "stderr",
     "output_type": "stream",
     "text": [
      "WARNING:cbadc.digital_backend:Discrete time Wiener filter not properly implemented. Results may be incorrect.\n",
      "INFO:root:Simulating discrete-time analog frontend\n"
     ]
    },
    {
     "name": "stdout",
     "output_type": "stream",
     "text": [
      "Sampling frequency: 2.56 MHz\n",
      "###################################\n",
      "Testing: order=5, osr=64, nlev=3, Hinf=1.0, form=CRFF\n",
      "###################################\n"
     ]
    },
    {
     "name": "stderr",
     "output_type": "stream",
     "text": [
      "WARNING:cbadc.digital_backend:Discrete time Wiener filter not properly implemented. Results may be incorrect.\n",
      "INFO:root:Simulating discrete-time analog frontend\n"
     ]
    },
    {
     "name": "stdout",
     "output_type": "stream",
     "text": [
      "Sampling frequency: 2.56 MHz\n",
      "###################################\n",
      "Testing: order=5, osr=64, nlev=3, Hinf=1.0, form=CIFB\n",
      "###################################\n"
     ]
    },
    {
     "name": "stderr",
     "output_type": "stream",
     "text": [
      "WARNING:cbadc.digital_backend:Discrete time Wiener filter not properly implemented. Results may be incorrect.\n",
      "INFO:root:Simulating discrete-time analog frontend\n"
     ]
    },
    {
     "name": "stdout",
     "output_type": "stream",
     "text": [
      "Sampling frequency: 2.56 MHz\n",
      "###################################\n",
      "Testing: order=5, osr=64, nlev=3, Hinf=1.0, form=CIFF\n",
      "###################################\n"
     ]
    },
    {
     "name": "stderr",
     "output_type": "stream",
     "text": [
      "WARNING:cbadc.digital_backend:Discrete time Wiener filter not properly implemented. Results may be incorrect.\n",
      "INFO:root:Simulating discrete-time analog frontend\n"
     ]
    },
    {
     "name": "stdout",
     "output_type": "stream",
     "text": [
      "Sampling frequency: 2.56 MHz\n",
      "###################################\n",
      "Testing: order=5, osr=64, nlev=3, Hinf=1.0, form=CRFBD\n",
      "###################################\n"
     ]
    },
    {
     "name": "stderr",
     "output_type": "stream",
     "text": [
      "WARNING:cbadc.digital_backend:Discrete time Wiener filter not properly implemented. Results may be incorrect.\n",
      "INFO:root:Simulating discrete-time analog frontend\n"
     ]
    },
    {
     "name": "stdout",
     "output_type": "stream",
     "text": [
      "Sampling frequency: 2.56 MHz\n",
      "###################################\n",
      "Testing: order=5, osr=64, nlev=3, Hinf=1.0, form=CRFFD\n",
      "###################################\n"
     ]
    },
    {
     "name": "stderr",
     "output_type": "stream",
     "text": [
      "WARNING:cbadc.digital_backend:Discrete time Wiener filter not properly implemented. Results may be incorrect.\n",
      "INFO:root:Simulating discrete-time analog frontend\n"
     ]
    },
    {
     "name": "stdout",
     "output_type": "stream",
     "text": [
      "Sampling frequency: 2.56 MHz\n",
      "###################################\n",
      "Testing: order=5, osr=64, nlev=3, Hinf=1.5, form=CRFB\n",
      "###################################\n"
     ]
    },
    {
     "name": "stderr",
     "output_type": "stream",
     "text": [
      "WARNING:cbadc.digital_backend:Discrete time Wiener filter not properly implemented. Results may be incorrect.\n",
      "INFO:root:Simulating discrete-time analog frontend\n"
     ]
    },
    {
     "name": "stdout",
     "output_type": "stream",
     "text": [
      "Sampling frequency: 2.56 MHz\n",
      "###################################\n",
      "Testing: order=5, osr=64, nlev=3, Hinf=1.5, form=CRFF\n",
      "###################################\n"
     ]
    },
    {
     "name": "stderr",
     "output_type": "stream",
     "text": [
      "WARNING:cbadc.digital_backend:Discrete time Wiener filter not properly implemented. Results may be incorrect.\n",
      "INFO:root:Simulating discrete-time analog frontend\n"
     ]
    },
    {
     "name": "stdout",
     "output_type": "stream",
     "text": [
      "Sampling frequency: 2.56 MHz\n",
      "###################################\n",
      "Testing: order=5, osr=64, nlev=3, Hinf=1.5, form=CIFB\n",
      "###################################\n"
     ]
    },
    {
     "name": "stderr",
     "output_type": "stream",
     "text": [
      "WARNING:cbadc.digital_backend:Discrete time Wiener filter not properly implemented. Results may be incorrect.\n",
      "INFO:root:Simulating discrete-time analog frontend\n"
     ]
    },
    {
     "name": "stdout",
     "output_type": "stream",
     "text": [
      "Sampling frequency: 2.56 MHz\n",
      "###################################\n",
      "Testing: order=5, osr=64, nlev=3, Hinf=1.5, form=CIFF\n",
      "###################################\n"
     ]
    },
    {
     "name": "stderr",
     "output_type": "stream",
     "text": [
      "WARNING:cbadc.digital_backend:Discrete time Wiener filter not properly implemented. Results may be incorrect.\n",
      "INFO:root:Simulating discrete-time analog frontend\n"
     ]
    },
    {
     "name": "stdout",
     "output_type": "stream",
     "text": [
      "Sampling frequency: 2.56 MHz\n",
      "###################################\n",
      "Testing: order=5, osr=64, nlev=3, Hinf=1.5, form=CRFBD\n",
      "###################################\n"
     ]
    },
    {
     "name": "stderr",
     "output_type": "stream",
     "text": [
      "WARNING:cbadc.digital_backend:Discrete time Wiener filter not properly implemented. Results may be incorrect.\n",
      "INFO:root:Simulating discrete-time analog frontend\n"
     ]
    },
    {
     "name": "stdout",
     "output_type": "stream",
     "text": [
      "Sampling frequency: 2.56 MHz\n",
      "###################################\n",
      "Testing: order=5, osr=64, nlev=3, Hinf=1.5, form=CRFFD\n",
      "###################################\n"
     ]
    },
    {
     "name": "stderr",
     "output_type": "stream",
     "text": [
      "WARNING:cbadc.digital_backend:Discrete time Wiener filter not properly implemented. Results may be incorrect.\n",
      "INFO:root:Simulating discrete-time analog frontend\n"
     ]
    },
    {
     "name": "stdout",
     "output_type": "stream",
     "text": [
      "Sampling frequency: 2.56 MHz\n",
      "###################################\n",
      "Testing: order=5, osr=64, nlev=3, Hinf=2.0, form=CRFB\n",
      "###################################\n"
     ]
    },
    {
     "name": "stderr",
     "output_type": "stream",
     "text": [
      "WARNING:cbadc.digital_backend:Discrete time Wiener filter not properly implemented. Results may be incorrect.\n",
      "INFO:root:Simulating discrete-time analog frontend\n"
     ]
    },
    {
     "name": "stdout",
     "output_type": "stream",
     "text": [
      "Sampling frequency: 2.56 MHz\n",
      "###################################\n",
      "Testing: order=5, osr=64, nlev=3, Hinf=2.0, form=CRFF\n",
      "###################################\n"
     ]
    },
    {
     "name": "stderr",
     "output_type": "stream",
     "text": [
      "WARNING:cbadc.digital_backend:Discrete time Wiener filter not properly implemented. Results may be incorrect.\n",
      "INFO:root:Simulating discrete-time analog frontend\n"
     ]
    },
    {
     "name": "stdout",
     "output_type": "stream",
     "text": [
      "Sampling frequency: 2.56 MHz\n",
      "###################################\n",
      "Testing: order=5, osr=64, nlev=3, Hinf=2.0, form=CIFB\n",
      "###################################\n"
     ]
    },
    {
     "name": "stderr",
     "output_type": "stream",
     "text": [
      "WARNING:cbadc.digital_backend:Discrete time Wiener filter not properly implemented. Results may be incorrect.\n",
      "INFO:root:Simulating discrete-time analog frontend\n"
     ]
    },
    {
     "name": "stdout",
     "output_type": "stream",
     "text": [
      "Sampling frequency: 2.56 MHz\n",
      "###################################\n",
      "Testing: order=5, osr=64, nlev=3, Hinf=2.0, form=CIFF\n",
      "###################################\n"
     ]
    },
    {
     "name": "stderr",
     "output_type": "stream",
     "text": [
      "WARNING:cbadc.digital_backend:Discrete time Wiener filter not properly implemented. Results may be incorrect.\n",
      "INFO:root:Simulating discrete-time analog frontend\n"
     ]
    },
    {
     "name": "stdout",
     "output_type": "stream",
     "text": [
      "Sampling frequency: 2.56 MHz\n",
      "###################################\n",
      "Testing: order=5, osr=64, nlev=3, Hinf=2.0, form=CRFBD\n",
      "###################################\n"
     ]
    },
    {
     "name": "stderr",
     "output_type": "stream",
     "text": [
      "WARNING:cbadc.digital_backend:Discrete time Wiener filter not properly implemented. Results may be incorrect.\n",
      "INFO:root:Simulating discrete-time analog frontend\n"
     ]
    },
    {
     "name": "stdout",
     "output_type": "stream",
     "text": [
      "Sampling frequency: 2.56 MHz\n",
      "###################################\n",
      "Testing: order=5, osr=64, nlev=3, Hinf=2.0, form=CRFFD\n",
      "###################################\n"
     ]
    },
    {
     "name": "stderr",
     "output_type": "stream",
     "text": [
      "WARNING:cbadc.digital_backend:Discrete time Wiener filter not properly implemented. Results may be incorrect.\n",
      "INFO:root:Simulating discrete-time analog frontend\n"
     ]
    },
    {
     "name": "stdout",
     "output_type": "stream",
     "text": [
      "Sampling frequency: 5.12 MHz\n",
      "###################################\n",
      "Testing: order=5, osr=128, nlev=2, Hinf=1.0, form=CRFB\n",
      "###################################\n"
     ]
    },
    {
     "name": "stderr",
     "output_type": "stream",
     "text": [
      "WARNING:cbadc.digital_backend:Discrete time Wiener filter not properly implemented. Results may be incorrect.\n",
      "INFO:root:Simulating discrete-time analog frontend\n"
     ]
    },
    {
     "name": "stdout",
     "output_type": "stream",
     "text": [
      "Error encountered with order=5, osr=128, nlev=2, Hinf=1.0, form=CRFB. Skipping this configuration\n",
      "Sampling frequency: 5.12 MHz\n",
      "###################################\n",
      "Testing: order=5, osr=128, nlev=2, Hinf=1.0, form=CRFF\n",
      "###################################\n"
     ]
    },
    {
     "name": "stderr",
     "output_type": "stream",
     "text": [
      "WARNING:cbadc.digital_backend:Discrete time Wiener filter not properly implemented. Results may be incorrect.\n",
      "INFO:root:Simulating discrete-time analog frontend\n"
     ]
    },
    {
     "name": "stdout",
     "output_type": "stream",
     "text": [
      "Sampling frequency: 5.12 MHz\n",
      "###################################\n",
      "Testing: order=5, osr=128, nlev=2, Hinf=1.0, form=CIFB\n",
      "###################################\n"
     ]
    },
    {
     "name": "stderr",
     "output_type": "stream",
     "text": [
      "WARNING:cbadc.digital_backend:Discrete time Wiener filter not properly implemented. Results may be incorrect.\n",
      "INFO:root:Simulating discrete-time analog frontend\n"
     ]
    },
    {
     "name": "stdout",
     "output_type": "stream",
     "text": [
      "Error encountered with order=5, osr=128, nlev=2, Hinf=1.0, form=CIFB. Skipping this configuration\n",
      "Sampling frequency: 5.12 MHz\n",
      "###################################\n",
      "Testing: order=5, osr=128, nlev=2, Hinf=1.0, form=CIFF\n",
      "###################################\n"
     ]
    },
    {
     "name": "stderr",
     "output_type": "stream",
     "text": [
      "WARNING:cbadc.digital_backend:Discrete time Wiener filter not properly implemented. Results may be incorrect.\n",
      "INFO:root:Simulating discrete-time analog frontend\n"
     ]
    },
    {
     "name": "stdout",
     "output_type": "stream",
     "text": [
      "Sampling frequency: 5.12 MHz\n",
      "###################################\n",
      "Testing: order=5, osr=128, nlev=2, Hinf=1.0, form=CRFBD\n",
      "###################################\n"
     ]
    },
    {
     "name": "stderr",
     "output_type": "stream",
     "text": [
      "WARNING:cbadc.digital_backend:Discrete time Wiener filter not properly implemented. Results may be incorrect.\n",
      "INFO:root:Simulating discrete-time analog frontend\n"
     ]
    },
    {
     "name": "stdout",
     "output_type": "stream",
     "text": [
      "Error encountered with order=5, osr=128, nlev=2, Hinf=1.0, form=CRFBD. Skipping this configuration\n",
      "Sampling frequency: 5.12 MHz\n",
      "###################################\n",
      "Testing: order=5, osr=128, nlev=2, Hinf=1.0, form=CRFFD\n",
      "###################################\n"
     ]
    },
    {
     "name": "stderr",
     "output_type": "stream",
     "text": [
      "WARNING:cbadc.digital_backend:Discrete time Wiener filter not properly implemented. Results may be incorrect.\n",
      "INFO:root:Simulating discrete-time analog frontend\n"
     ]
    },
    {
     "name": "stdout",
     "output_type": "stream",
     "text": [
      "Sampling frequency: 5.12 MHz\n",
      "###################################\n",
      "Testing: order=5, osr=128, nlev=2, Hinf=1.5, form=CRFB\n",
      "###################################\n"
     ]
    },
    {
     "name": "stderr",
     "output_type": "stream",
     "text": [
      "WARNING:cbadc.digital_backend:Discrete time Wiener filter not properly implemented. Results may be incorrect.\n",
      "INFO:root:Simulating discrete-time analog frontend\n"
     ]
    },
    {
     "name": "stdout",
     "output_type": "stream",
     "text": [
      "Sampling frequency: 5.12 MHz\n",
      "###################################\n",
      "Testing: order=5, osr=128, nlev=2, Hinf=1.5, form=CRFF\n",
      "###################################\n"
     ]
    },
    {
     "name": "stderr",
     "output_type": "stream",
     "text": [
      "WARNING:cbadc.digital_backend:Discrete time Wiener filter not properly implemented. Results may be incorrect.\n",
      "INFO:root:Simulating discrete-time analog frontend\n"
     ]
    },
    {
     "name": "stdout",
     "output_type": "stream",
     "text": [
      "Sampling frequency: 5.12 MHz\n",
      "###################################\n",
      "Testing: order=5, osr=128, nlev=2, Hinf=1.5, form=CIFB\n",
      "###################################\n"
     ]
    },
    {
     "name": "stderr",
     "output_type": "stream",
     "text": [
      "WARNING:cbadc.digital_backend:Discrete time Wiener filter not properly implemented. Results may be incorrect.\n",
      "INFO:root:Simulating discrete-time analog frontend\n"
     ]
    },
    {
     "name": "stdout",
     "output_type": "stream",
     "text": [
      "Sampling frequency: 5.12 MHz\n",
      "###################################\n",
      "Testing: order=5, osr=128, nlev=2, Hinf=1.5, form=CIFF\n",
      "###################################\n"
     ]
    },
    {
     "name": "stderr",
     "output_type": "stream",
     "text": [
      "WARNING:cbadc.digital_backend:Discrete time Wiener filter not properly implemented. Results may be incorrect.\n",
      "INFO:root:Simulating discrete-time analog frontend\n"
     ]
    },
    {
     "name": "stdout",
     "output_type": "stream",
     "text": [
      "Sampling frequency: 5.12 MHz\n",
      "###################################\n",
      "Testing: order=5, osr=128, nlev=2, Hinf=1.5, form=CRFBD\n",
      "###################################\n"
     ]
    },
    {
     "name": "stderr",
     "output_type": "stream",
     "text": [
      "WARNING:cbadc.digital_backend:Discrete time Wiener filter not properly implemented. Results may be incorrect.\n",
      "INFO:root:Simulating discrete-time analog frontend\n"
     ]
    },
    {
     "name": "stdout",
     "output_type": "stream",
     "text": [
      "Sampling frequency: 5.12 MHz\n",
      "###################################\n",
      "Testing: order=5, osr=128, nlev=2, Hinf=1.5, form=CRFFD\n",
      "###################################\n"
     ]
    },
    {
     "name": "stderr",
     "output_type": "stream",
     "text": [
      "WARNING:cbadc.digital_backend:Discrete time Wiener filter not properly implemented. Results may be incorrect.\n",
      "INFO:root:Simulating discrete-time analog frontend\n"
     ]
    },
    {
     "name": "stdout",
     "output_type": "stream",
     "text": [
      "Sampling frequency: 5.12 MHz\n",
      "###################################\n",
      "Testing: order=5, osr=128, nlev=2, Hinf=2.0, form=CRFB\n",
      "###################################\n"
     ]
    },
    {
     "name": "stderr",
     "output_type": "stream",
     "text": [
      "WARNING:cbadc.digital_backend:Discrete time Wiener filter not properly implemented. Results may be incorrect.\n",
      "INFO:root:Simulating discrete-time analog frontend\n"
     ]
    },
    {
     "name": "stdout",
     "output_type": "stream",
     "text": [
      "Sampling frequency: 5.12 MHz\n",
      "###################################\n",
      "Testing: order=5, osr=128, nlev=2, Hinf=2.0, form=CRFF\n",
      "###################################\n"
     ]
    },
    {
     "name": "stderr",
     "output_type": "stream",
     "text": [
      "WARNING:cbadc.digital_backend:Discrete time Wiener filter not properly implemented. Results may be incorrect.\n",
      "INFO:root:Simulating discrete-time analog frontend\n"
     ]
    },
    {
     "name": "stdout",
     "output_type": "stream",
     "text": [
      "Sampling frequency: 5.12 MHz\n",
      "###################################\n",
      "Testing: order=5, osr=128, nlev=2, Hinf=2.0, form=CIFB\n",
      "###################################\n"
     ]
    },
    {
     "name": "stderr",
     "output_type": "stream",
     "text": [
      "WARNING:cbadc.digital_backend:Discrete time Wiener filter not properly implemented. Results may be incorrect.\n",
      "INFO:root:Simulating discrete-time analog frontend\n"
     ]
    },
    {
     "name": "stdout",
     "output_type": "stream",
     "text": [
      "Sampling frequency: 5.12 MHz\n",
      "###################################\n",
      "Testing: order=5, osr=128, nlev=2, Hinf=2.0, form=CIFF\n",
      "###################################\n"
     ]
    },
    {
     "name": "stderr",
     "output_type": "stream",
     "text": [
      "WARNING:cbadc.digital_backend:Discrete time Wiener filter not properly implemented. Results may be incorrect.\n",
      "INFO:root:Simulating discrete-time analog frontend\n"
     ]
    },
    {
     "name": "stdout",
     "output_type": "stream",
     "text": [
      "Sampling frequency: 5.12 MHz\n",
      "###################################\n",
      "Testing: order=5, osr=128, nlev=2, Hinf=2.0, form=CRFBD\n",
      "###################################\n"
     ]
    },
    {
     "name": "stderr",
     "output_type": "stream",
     "text": [
      "WARNING:cbadc.digital_backend:Discrete time Wiener filter not properly implemented. Results may be incorrect.\n",
      "INFO:root:Simulating discrete-time analog frontend\n"
     ]
    },
    {
     "name": "stdout",
     "output_type": "stream",
     "text": [
      "Sampling frequency: 5.12 MHz\n",
      "###################################\n",
      "Testing: order=5, osr=128, nlev=2, Hinf=2.0, form=CRFFD\n",
      "###################################\n"
     ]
    },
    {
     "name": "stderr",
     "output_type": "stream",
     "text": [
      "WARNING:cbadc.digital_backend:Discrete time Wiener filter not properly implemented. Results may be incorrect.\n",
      "INFO:root:Simulating discrete-time analog frontend\n"
     ]
    },
    {
     "name": "stdout",
     "output_type": "stream",
     "text": [
      "Sampling frequency: 5.12 MHz\n",
      "###################################\n",
      "Testing: order=5, osr=128, nlev=3, Hinf=1.0, form=CRFB\n",
      "###################################\n"
     ]
    },
    {
     "name": "stderr",
     "output_type": "stream",
     "text": [
      "WARNING:cbadc.digital_backend:Discrete time Wiener filter not properly implemented. Results may be incorrect.\n",
      "INFO:root:Simulating discrete-time analog frontend\n"
     ]
    },
    {
     "name": "stdout",
     "output_type": "stream",
     "text": [
      "Error encountered with order=5, osr=128, nlev=3, Hinf=1.0, form=CRFB. Skipping this configuration\n",
      "Sampling frequency: 5.12 MHz\n",
      "###################################\n",
      "Testing: order=5, osr=128, nlev=3, Hinf=1.0, form=CRFF\n",
      "###################################\n"
     ]
    },
    {
     "name": "stderr",
     "output_type": "stream",
     "text": [
      "WARNING:cbadc.digital_backend:Discrete time Wiener filter not properly implemented. Results may be incorrect.\n",
      "INFO:root:Simulating discrete-time analog frontend\n"
     ]
    },
    {
     "name": "stdout",
     "output_type": "stream",
     "text": [
      "Sampling frequency: 5.12 MHz\n",
      "###################################\n",
      "Testing: order=5, osr=128, nlev=3, Hinf=1.0, form=CIFB\n",
      "###################################\n"
     ]
    },
    {
     "name": "stderr",
     "output_type": "stream",
     "text": [
      "WARNING:cbadc.digital_backend:Discrete time Wiener filter not properly implemented. Results may be incorrect.\n",
      "INFO:root:Simulating discrete-time analog frontend\n"
     ]
    },
    {
     "name": "stdout",
     "output_type": "stream",
     "text": [
      "Error encountered with order=5, osr=128, nlev=3, Hinf=1.0, form=CIFB. Skipping this configuration\n",
      "Sampling frequency: 5.12 MHz\n",
      "###################################\n",
      "Testing: order=5, osr=128, nlev=3, Hinf=1.0, form=CIFF\n",
      "###################################\n"
     ]
    },
    {
     "name": "stderr",
     "output_type": "stream",
     "text": [
      "WARNING:cbadc.digital_backend:Discrete time Wiener filter not properly implemented. Results may be incorrect.\n",
      "INFO:root:Simulating discrete-time analog frontend\n"
     ]
    },
    {
     "name": "stdout",
     "output_type": "stream",
     "text": [
      "Sampling frequency: 5.12 MHz\n",
      "###################################\n",
      "Testing: order=5, osr=128, nlev=3, Hinf=1.0, form=CRFBD\n",
      "###################################\n"
     ]
    },
    {
     "name": "stderr",
     "output_type": "stream",
     "text": [
      "WARNING:cbadc.digital_backend:Discrete time Wiener filter not properly implemented. Results may be incorrect.\n",
      "INFO:root:Simulating discrete-time analog frontend\n"
     ]
    },
    {
     "name": "stdout",
     "output_type": "stream",
     "text": [
      "Error encountered with order=5, osr=128, nlev=3, Hinf=1.0, form=CRFBD. Skipping this configuration\n",
      "Sampling frequency: 5.12 MHz\n",
      "###################################\n",
      "Testing: order=5, osr=128, nlev=3, Hinf=1.0, form=CRFFD\n",
      "###################################\n"
     ]
    },
    {
     "name": "stderr",
     "output_type": "stream",
     "text": [
      "WARNING:cbadc.digital_backend:Discrete time Wiener filter not properly implemented. Results may be incorrect.\n",
      "INFO:root:Simulating discrete-time analog frontend\n"
     ]
    },
    {
     "name": "stdout",
     "output_type": "stream",
     "text": [
      "Sampling frequency: 5.12 MHz\n",
      "###################################\n",
      "Testing: order=5, osr=128, nlev=3, Hinf=1.5, form=CRFB\n",
      "###################################\n"
     ]
    },
    {
     "name": "stderr",
     "output_type": "stream",
     "text": [
      "WARNING:cbadc.digital_backend:Discrete time Wiener filter not properly implemented. Results may be incorrect.\n",
      "INFO:root:Simulating discrete-time analog frontend\n"
     ]
    },
    {
     "name": "stdout",
     "output_type": "stream",
     "text": [
      "Sampling frequency: 5.12 MHz\n",
      "###################################\n",
      "Testing: order=5, osr=128, nlev=3, Hinf=1.5, form=CRFF\n",
      "###################################\n"
     ]
    },
    {
     "name": "stderr",
     "output_type": "stream",
     "text": [
      "WARNING:cbadc.digital_backend:Discrete time Wiener filter not properly implemented. Results may be incorrect.\n",
      "INFO:root:Simulating discrete-time analog frontend\n"
     ]
    },
    {
     "name": "stdout",
     "output_type": "stream",
     "text": [
      "Sampling frequency: 5.12 MHz\n",
      "###################################\n",
      "Testing: order=5, osr=128, nlev=3, Hinf=1.5, form=CIFB\n",
      "###################################\n"
     ]
    },
    {
     "name": "stderr",
     "output_type": "stream",
     "text": [
      "WARNING:cbadc.digital_backend:Discrete time Wiener filter not properly implemented. Results may be incorrect.\n",
      "INFO:root:Simulating discrete-time analog frontend\n"
     ]
    },
    {
     "name": "stdout",
     "output_type": "stream",
     "text": [
      "Sampling frequency: 5.12 MHz\n",
      "###################################\n",
      "Testing: order=5, osr=128, nlev=3, Hinf=1.5, form=CIFF\n",
      "###################################\n"
     ]
    },
    {
     "name": "stderr",
     "output_type": "stream",
     "text": [
      "WARNING:cbadc.digital_backend:Discrete time Wiener filter not properly implemented. Results may be incorrect.\n",
      "INFO:root:Simulating discrete-time analog frontend\n"
     ]
    },
    {
     "name": "stdout",
     "output_type": "stream",
     "text": [
      "Sampling frequency: 5.12 MHz\n",
      "###################################\n",
      "Testing: order=5, osr=128, nlev=3, Hinf=1.5, form=CRFBD\n",
      "###################################\n"
     ]
    },
    {
     "name": "stderr",
     "output_type": "stream",
     "text": [
      "WARNING:cbadc.digital_backend:Discrete time Wiener filter not properly implemented. Results may be incorrect.\n",
      "INFO:root:Simulating discrete-time analog frontend\n"
     ]
    },
    {
     "name": "stdout",
     "output_type": "stream",
     "text": [
      "Sampling frequency: 5.12 MHz\n",
      "###################################\n",
      "Testing: order=5, osr=128, nlev=3, Hinf=1.5, form=CRFFD\n",
      "###################################\n"
     ]
    },
    {
     "name": "stderr",
     "output_type": "stream",
     "text": [
      "WARNING:cbadc.digital_backend:Discrete time Wiener filter not properly implemented. Results may be incorrect.\n",
      "INFO:root:Simulating discrete-time analog frontend\n"
     ]
    },
    {
     "name": "stdout",
     "output_type": "stream",
     "text": [
      "Sampling frequency: 5.12 MHz\n",
      "###################################\n",
      "Testing: order=5, osr=128, nlev=3, Hinf=2.0, form=CRFB\n",
      "###################################\n"
     ]
    },
    {
     "name": "stderr",
     "output_type": "stream",
     "text": [
      "WARNING:cbadc.digital_backend:Discrete time Wiener filter not properly implemented. Results may be incorrect.\n",
      "INFO:root:Simulating discrete-time analog frontend\n"
     ]
    },
    {
     "name": "stdout",
     "output_type": "stream",
     "text": [
      "Sampling frequency: 5.12 MHz\n",
      "###################################\n",
      "Testing: order=5, osr=128, nlev=3, Hinf=2.0, form=CRFF\n",
      "###################################\n"
     ]
    },
    {
     "name": "stderr",
     "output_type": "stream",
     "text": [
      "WARNING:cbadc.digital_backend:Discrete time Wiener filter not properly implemented. Results may be incorrect.\n",
      "INFO:root:Simulating discrete-time analog frontend\n"
     ]
    },
    {
     "name": "stdout",
     "output_type": "stream",
     "text": [
      "Sampling frequency: 5.12 MHz\n",
      "###################################\n",
      "Testing: order=5, osr=128, nlev=3, Hinf=2.0, form=CIFB\n",
      "###################################\n"
     ]
    },
    {
     "name": "stderr",
     "output_type": "stream",
     "text": [
      "WARNING:cbadc.digital_backend:Discrete time Wiener filter not properly implemented. Results may be incorrect.\n",
      "INFO:root:Simulating discrete-time analog frontend\n"
     ]
    },
    {
     "name": "stdout",
     "output_type": "stream",
     "text": [
      "Sampling frequency: 5.12 MHz\n",
      "###################################\n",
      "Testing: order=5, osr=128, nlev=3, Hinf=2.0, form=CIFF\n",
      "###################################\n"
     ]
    },
    {
     "name": "stderr",
     "output_type": "stream",
     "text": [
      "WARNING:cbadc.digital_backend:Discrete time Wiener filter not properly implemented. Results may be incorrect.\n",
      "INFO:root:Simulating discrete-time analog frontend\n"
     ]
    },
    {
     "name": "stdout",
     "output_type": "stream",
     "text": [
      "Sampling frequency: 5.12 MHz\n",
      "###################################\n",
      "Testing: order=5, osr=128, nlev=3, Hinf=2.0, form=CRFBD\n",
      "###################################\n"
     ]
    },
    {
     "name": "stderr",
     "output_type": "stream",
     "text": [
      "WARNING:cbadc.digital_backend:Discrete time Wiener filter not properly implemented. Results may be incorrect.\n",
      "INFO:root:Simulating discrete-time analog frontend\n"
     ]
    },
    {
     "name": "stdout",
     "output_type": "stream",
     "text": [
      "Sampling frequency: 5.12 MHz\n",
      "###################################\n",
      "Testing: order=5, osr=128, nlev=3, Hinf=2.0, form=CRFFD\n",
      "###################################\n"
     ]
    },
    {
     "name": "stderr",
     "output_type": "stream",
     "text": [
      "WARNING:cbadc.digital_backend:Discrete time Wiener filter not properly implemented. Results may be incorrect.\n"
     ]
    },
    {
     "name": "stdout",
     "output_type": "stream",
     "text": [
      "Sampling frequency: 10.24 MHz\n",
      "###################################\n",
      "Testing: order=5, osr=256, nlev=2, Hinf=1.0, form=CRFB\n",
      "###################################\n"
     ]
    },
    {
     "name": "stderr",
     "output_type": "stream",
     "text": [
      "INFO:root:Simulating discrete-time analog frontend\n",
      "WARNING:cbadc.digital_backend:Discrete time Wiener filter not properly implemented. Results may be incorrect.\n",
      "INFO:root:Simulating discrete-time analog frontend\n"
     ]
    },
    {
     "name": "stdout",
     "output_type": "stream",
     "text": [
      "Error encountered with order=5, osr=256, nlev=2, Hinf=1.0, form=CRFB. Skipping this configuration\n",
      "Sampling frequency: 10.24 MHz\n",
      "###################################\n",
      "Testing: order=5, osr=256, nlev=2, Hinf=1.0, form=CRFF\n",
      "###################################\n"
     ]
    },
    {
     "name": "stderr",
     "output_type": "stream",
     "text": [
      "WARNING:cbadc.digital_backend:Discrete time Wiener filter not properly implemented. Results may be incorrect.\n",
      "INFO:root:Simulating discrete-time analog frontend\n"
     ]
    },
    {
     "name": "stdout",
     "output_type": "stream",
     "text": [
      "Sampling frequency: 10.24 MHz\n",
      "###################################\n",
      "Testing: order=5, osr=256, nlev=2, Hinf=1.0, form=CIFB\n",
      "###################################\n"
     ]
    },
    {
     "name": "stderr",
     "output_type": "stream",
     "text": [
      "WARNING:cbadc.digital_backend:Discrete time Wiener filter not properly implemented. Results may be incorrect.\n",
      "INFO:root:Simulating discrete-time analog frontend\n"
     ]
    },
    {
     "name": "stdout",
     "output_type": "stream",
     "text": [
      "Error encountered with order=5, osr=256, nlev=2, Hinf=1.0, form=CIFB. Skipping this configuration\n",
      "Sampling frequency: 10.24 MHz\n",
      "###################################\n",
      "Testing: order=5, osr=256, nlev=2, Hinf=1.0, form=CIFF\n",
      "###################################\n"
     ]
    },
    {
     "name": "stderr",
     "output_type": "stream",
     "text": [
      "WARNING:cbadc.digital_backend:Discrete time Wiener filter not properly implemented. Results may be incorrect.\n",
      "INFO:root:Simulating discrete-time analog frontend\n"
     ]
    },
    {
     "name": "stdout",
     "output_type": "stream",
     "text": [
      "Sampling frequency: 10.24 MHz\n",
      "###################################\n",
      "Testing: order=5, osr=256, nlev=2, Hinf=1.0, form=CRFBD\n",
      "###################################\n"
     ]
    },
    {
     "name": "stderr",
     "output_type": "stream",
     "text": [
      "WARNING:cbadc.digital_backend:Discrete time Wiener filter not properly implemented. Results may be incorrect.\n"
     ]
    },
    {
     "name": "stdout",
     "output_type": "stream",
     "text": [
      "Error encountered with order=5, osr=256, nlev=2, Hinf=1.0, form=CRFBD. Skipping this configuration\n",
      "Sampling frequency: 10.24 MHz\n",
      "###################################\n",
      "Testing: order=5, osr=256, nlev=2, Hinf=1.0, form=CRFFD\n",
      "###################################\n"
     ]
    },
    {
     "name": "stderr",
     "output_type": "stream",
     "text": [
      "INFO:root:Simulating discrete-time analog frontend\n",
      "WARNING:cbadc.digital_backend:Discrete time Wiener filter not properly implemented. Results may be incorrect.\n",
      "INFO:root:Simulating discrete-time analog frontend\n"
     ]
    },
    {
     "name": "stdout",
     "output_type": "stream",
     "text": [
      "Sampling frequency: 10.24 MHz\n",
      "###################################\n",
      "Testing: order=5, osr=256, nlev=2, Hinf=1.5, form=CRFB\n",
      "###################################\n"
     ]
    },
    {
     "name": "stderr",
     "output_type": "stream",
     "text": [
      "WARNING:cbadc.digital_backend:Discrete time Wiener filter not properly implemented. Results may be incorrect.\n",
      "INFO:root:Simulating discrete-time analog frontend\n"
     ]
    },
    {
     "name": "stdout",
     "output_type": "stream",
     "text": [
      "Sampling frequency: 10.24 MHz\n",
      "###################################\n",
      "Testing: order=5, osr=256, nlev=2, Hinf=1.5, form=CRFF\n",
      "###################################\n"
     ]
    },
    {
     "name": "stderr",
     "output_type": "stream",
     "text": [
      "WARNING:cbadc.digital_backend:Discrete time Wiener filter not properly implemented. Results may be incorrect.\n",
      "INFO:root:Simulating discrete-time analog frontend\n"
     ]
    },
    {
     "name": "stdout",
     "output_type": "stream",
     "text": [
      "Sampling frequency: 10.24 MHz\n",
      "###################################\n",
      "Testing: order=5, osr=256, nlev=2, Hinf=1.5, form=CIFB\n",
      "###################################\n"
     ]
    },
    {
     "name": "stderr",
     "output_type": "stream",
     "text": [
      "WARNING:cbadc.digital_backend:Discrete time Wiener filter not properly implemented. Results may be incorrect.\n",
      "INFO:root:Simulating discrete-time analog frontend\n"
     ]
    },
    {
     "name": "stdout",
     "output_type": "stream",
     "text": [
      "Sampling frequency: 10.24 MHz\n",
      "###################################\n",
      "Testing: order=5, osr=256, nlev=2, Hinf=1.5, form=CIFF\n",
      "###################################\n"
     ]
    },
    {
     "name": "stderr",
     "output_type": "stream",
     "text": [
      "WARNING:cbadc.digital_backend:Discrete time Wiener filter not properly implemented. Results may be incorrect.\n",
      "INFO:root:Simulating discrete-time analog frontend\n"
     ]
    },
    {
     "name": "stdout",
     "output_type": "stream",
     "text": [
      "Sampling frequency: 10.24 MHz\n",
      "###################################\n",
      "Testing: order=5, osr=256, nlev=2, Hinf=1.5, form=CRFBD\n",
      "###################################\n"
     ]
    },
    {
     "name": "stderr",
     "output_type": "stream",
     "text": [
      "WARNING:cbadc.digital_backend:Discrete time Wiener filter not properly implemented. Results may be incorrect.\n",
      "INFO:root:Simulating discrete-time analog frontend\n"
     ]
    },
    {
     "name": "stdout",
     "output_type": "stream",
     "text": [
      "Sampling frequency: 10.24 MHz\n",
      "###################################\n",
      "Testing: order=5, osr=256, nlev=2, Hinf=1.5, form=CRFFD\n",
      "###################################\n"
     ]
    },
    {
     "name": "stderr",
     "output_type": "stream",
     "text": [
      "WARNING:cbadc.digital_backend:Discrete time Wiener filter not properly implemented. Results may be incorrect.\n",
      "INFO:root:Simulating discrete-time analog frontend\n"
     ]
    },
    {
     "name": "stdout",
     "output_type": "stream",
     "text": [
      "Sampling frequency: 10.24 MHz\n",
      "###################################\n",
      "Testing: order=5, osr=256, nlev=2, Hinf=2.0, form=CRFB\n",
      "###################################\n"
     ]
    },
    {
     "name": "stderr",
     "output_type": "stream",
     "text": [
      "WARNING:cbadc.digital_backend:Discrete time Wiener filter not properly implemented. Results may be incorrect.\n",
      "INFO:root:Simulating discrete-time analog frontend\n"
     ]
    },
    {
     "name": "stdout",
     "output_type": "stream",
     "text": [
      "Sampling frequency: 10.24 MHz\n",
      "###################################\n",
      "Testing: order=5, osr=256, nlev=2, Hinf=2.0, form=CRFF\n",
      "###################################\n"
     ]
    },
    {
     "name": "stderr",
     "output_type": "stream",
     "text": [
      "WARNING:cbadc.digital_backend:Discrete time Wiener filter not properly implemented. Results may be incorrect.\n",
      "INFO:root:Simulating discrete-time analog frontend\n"
     ]
    },
    {
     "name": "stdout",
     "output_type": "stream",
     "text": [
      "Sampling frequency: 10.24 MHz\n",
      "###################################\n",
      "Testing: order=5, osr=256, nlev=2, Hinf=2.0, form=CIFB\n",
      "###################################\n"
     ]
    },
    {
     "name": "stderr",
     "output_type": "stream",
     "text": [
      "WARNING:cbadc.digital_backend:Discrete time Wiener filter not properly implemented. Results may be incorrect.\n",
      "INFO:root:Simulating discrete-time analog frontend\n"
     ]
    },
    {
     "name": "stdout",
     "output_type": "stream",
     "text": [
      "Sampling frequency: 10.24 MHz\n",
      "###################################\n",
      "Testing: order=5, osr=256, nlev=2, Hinf=2.0, form=CIFF\n",
      "###################################\n"
     ]
    },
    {
     "name": "stderr",
     "output_type": "stream",
     "text": [
      "WARNING:cbadc.digital_backend:Discrete time Wiener filter not properly implemented. Results may be incorrect.\n",
      "INFO:root:Simulating discrete-time analog frontend\n"
     ]
    },
    {
     "name": "stdout",
     "output_type": "stream",
     "text": [
      "Sampling frequency: 10.24 MHz\n",
      "###################################\n",
      "Testing: order=5, osr=256, nlev=2, Hinf=2.0, form=CRFBD\n",
      "###################################\n"
     ]
    },
    {
     "name": "stderr",
     "output_type": "stream",
     "text": [
      "WARNING:cbadc.digital_backend:Discrete time Wiener filter not properly implemented. Results may be incorrect.\n",
      "INFO:root:Simulating discrete-time analog frontend\n"
     ]
    },
    {
     "name": "stdout",
     "output_type": "stream",
     "text": [
      "Sampling frequency: 10.24 MHz\n",
      "###################################\n",
      "Testing: order=5, osr=256, nlev=2, Hinf=2.0, form=CRFFD\n",
      "###################################\n"
     ]
    },
    {
     "name": "stderr",
     "output_type": "stream",
     "text": [
      "WARNING:cbadc.digital_backend:Discrete time Wiener filter not properly implemented. Results may be incorrect.\n",
      "INFO:root:Simulating discrete-time analog frontend\n"
     ]
    },
    {
     "name": "stdout",
     "output_type": "stream",
     "text": [
      "Sampling frequency: 10.24 MHz\n",
      "###################################\n",
      "Testing: order=5, osr=256, nlev=3, Hinf=1.0, form=CRFB\n",
      "###################################\n"
     ]
    },
    {
     "name": "stderr",
     "output_type": "stream",
     "text": [
      "WARNING:cbadc.digital_backend:Discrete time Wiener filter not properly implemented. Results may be incorrect.\n",
      "INFO:root:Simulating discrete-time analog frontend\n"
     ]
    },
    {
     "name": "stdout",
     "output_type": "stream",
     "text": [
      "Error encountered with order=5, osr=256, nlev=3, Hinf=1.0, form=CRFB. Skipping this configuration\n",
      "Sampling frequency: 10.24 MHz\n",
      "###################################\n",
      "Testing: order=5, osr=256, nlev=3, Hinf=1.0, form=CRFF\n",
      "###################################\n"
     ]
    },
    {
     "name": "stderr",
     "output_type": "stream",
     "text": [
      "WARNING:cbadc.digital_backend:Discrete time Wiener filter not properly implemented. Results may be incorrect.\n",
      "INFO:root:Simulating discrete-time analog frontend\n"
     ]
    },
    {
     "name": "stdout",
     "output_type": "stream",
     "text": [
      "Sampling frequency: 10.24 MHz\n",
      "###################################\n",
      "Testing: order=5, osr=256, nlev=3, Hinf=1.0, form=CIFB\n",
      "###################################\n"
     ]
    },
    {
     "name": "stderr",
     "output_type": "stream",
     "text": [
      "WARNING:cbadc.digital_backend:Discrete time Wiener filter not properly implemented. Results may be incorrect.\n",
      "INFO:root:Simulating discrete-time analog frontend\n"
     ]
    },
    {
     "name": "stdout",
     "output_type": "stream",
     "text": [
      "Error encountered with order=5, osr=256, nlev=3, Hinf=1.0, form=CIFB. Skipping this configuration\n",
      "Sampling frequency: 10.24 MHz\n",
      "###################################\n",
      "Testing: order=5, osr=256, nlev=3, Hinf=1.0, form=CIFF\n",
      "###################################\n"
     ]
    },
    {
     "name": "stderr",
     "output_type": "stream",
     "text": [
      "WARNING:cbadc.digital_backend:Discrete time Wiener filter not properly implemented. Results may be incorrect.\n",
      "INFO:root:Simulating discrete-time analog frontend\n"
     ]
    },
    {
     "name": "stdout",
     "output_type": "stream",
     "text": [
      "Sampling frequency: 10.24 MHz\n",
      "###################################\n",
      "Testing: order=5, osr=256, nlev=3, Hinf=1.0, form=CRFBD\n",
      "###################################\n"
     ]
    },
    {
     "name": "stderr",
     "output_type": "stream",
     "text": [
      "WARNING:cbadc.digital_backend:Discrete time Wiener filter not properly implemented. Results may be incorrect.\n",
      "INFO:root:Simulating discrete-time analog frontend\n"
     ]
    },
    {
     "name": "stdout",
     "output_type": "stream",
     "text": [
      "Error encountered with order=5, osr=256, nlev=3, Hinf=1.0, form=CRFBD. Skipping this configuration\n",
      "Sampling frequency: 10.24 MHz\n",
      "###################################\n",
      "Testing: order=5, osr=256, nlev=3, Hinf=1.0, form=CRFFD\n",
      "###################################\n"
     ]
    },
    {
     "name": "stderr",
     "output_type": "stream",
     "text": [
      "WARNING:cbadc.digital_backend:Discrete time Wiener filter not properly implemented. Results may be incorrect.\n",
      "INFO:root:Simulating discrete-time analog frontend\n"
     ]
    },
    {
     "name": "stdout",
     "output_type": "stream",
     "text": [
      "Sampling frequency: 10.24 MHz\n",
      "###################################\n",
      "Testing: order=5, osr=256, nlev=3, Hinf=1.5, form=CRFB\n",
      "###################################\n"
     ]
    },
    {
     "name": "stderr",
     "output_type": "stream",
     "text": [
      "WARNING:cbadc.digital_backend:Discrete time Wiener filter not properly implemented. Results may be incorrect.\n",
      "INFO:root:Simulating discrete-time analog frontend\n"
     ]
    },
    {
     "name": "stdout",
     "output_type": "stream",
     "text": [
      "Sampling frequency: 10.24 MHz\n",
      "###################################\n",
      "Testing: order=5, osr=256, nlev=3, Hinf=1.5, form=CRFF\n",
      "###################################\n"
     ]
    },
    {
     "name": "stderr",
     "output_type": "stream",
     "text": [
      "WARNING:cbadc.digital_backend:Discrete time Wiener filter not properly implemented. Results may be incorrect.\n",
      "INFO:root:Simulating discrete-time analog frontend\n"
     ]
    },
    {
     "name": "stdout",
     "output_type": "stream",
     "text": [
      "Sampling frequency: 10.24 MHz\n",
      "###################################\n",
      "Testing: order=5, osr=256, nlev=3, Hinf=1.5, form=CIFB\n",
      "###################################\n"
     ]
    },
    {
     "name": "stderr",
     "output_type": "stream",
     "text": [
      "WARNING:cbadc.digital_backend:Discrete time Wiener filter not properly implemented. Results may be incorrect.\n",
      "INFO:root:Simulating discrete-time analog frontend\n"
     ]
    },
    {
     "name": "stdout",
     "output_type": "stream",
     "text": [
      "Sampling frequency: 10.24 MHz\n",
      "###################################\n",
      "Testing: order=5, osr=256, nlev=3, Hinf=1.5, form=CIFF\n",
      "###################################\n"
     ]
    },
    {
     "name": "stderr",
     "output_type": "stream",
     "text": [
      "WARNING:cbadc.digital_backend:Discrete time Wiener filter not properly implemented. Results may be incorrect.\n",
      "INFO:root:Simulating discrete-time analog frontend\n"
     ]
    },
    {
     "name": "stdout",
     "output_type": "stream",
     "text": [
      "Sampling frequency: 10.24 MHz\n",
      "###################################\n",
      "Testing: order=5, osr=256, nlev=3, Hinf=1.5, form=CRFBD\n",
      "###################################\n"
     ]
    },
    {
     "name": "stderr",
     "output_type": "stream",
     "text": [
      "WARNING:cbadc.digital_backend:Discrete time Wiener filter not properly implemented. Results may be incorrect.\n",
      "INFO:root:Simulating discrete-time analog frontend\n"
     ]
    },
    {
     "name": "stdout",
     "output_type": "stream",
     "text": [
      "Sampling frequency: 10.24 MHz\n",
      "###################################\n",
      "Testing: order=5, osr=256, nlev=3, Hinf=1.5, form=CRFFD\n",
      "###################################\n"
     ]
    },
    {
     "name": "stderr",
     "output_type": "stream",
     "text": [
      "WARNING:cbadc.digital_backend:Discrete time Wiener filter not properly implemented. Results may be incorrect.\n",
      "INFO:root:Simulating discrete-time analog frontend\n"
     ]
    },
    {
     "name": "stdout",
     "output_type": "stream",
     "text": [
      "Sampling frequency: 10.24 MHz\n",
      "###################################\n",
      "Testing: order=5, osr=256, nlev=3, Hinf=2.0, form=CRFB\n",
      "###################################\n"
     ]
    },
    {
     "name": "stderr",
     "output_type": "stream",
     "text": [
      "WARNING:cbadc.digital_backend:Discrete time Wiener filter not properly implemented. Results may be incorrect.\n",
      "INFO:root:Simulating discrete-time analog frontend\n"
     ]
    },
    {
     "name": "stdout",
     "output_type": "stream",
     "text": [
      "Sampling frequency: 10.24 MHz\n",
      "###################################\n",
      "Testing: order=5, osr=256, nlev=3, Hinf=2.0, form=CRFF\n",
      "###################################\n"
     ]
    },
    {
     "name": "stderr",
     "output_type": "stream",
     "text": [
      "WARNING:cbadc.digital_backend:Discrete time Wiener filter not properly implemented. Results may be incorrect.\n",
      "INFO:root:Simulating discrete-time analog frontend\n"
     ]
    },
    {
     "name": "stdout",
     "output_type": "stream",
     "text": [
      "Sampling frequency: 10.24 MHz\n",
      "###################################\n",
      "Testing: order=5, osr=256, nlev=3, Hinf=2.0, form=CIFB\n",
      "###################################\n"
     ]
    },
    {
     "name": "stderr",
     "output_type": "stream",
     "text": [
      "WARNING:cbadc.digital_backend:Discrete time Wiener filter not properly implemented. Results may be incorrect.\n",
      "INFO:root:Simulating discrete-time analog frontend\n"
     ]
    },
    {
     "name": "stdout",
     "output_type": "stream",
     "text": [
      "Sampling frequency: 10.24 MHz\n",
      "###################################\n",
      "Testing: order=5, osr=256, nlev=3, Hinf=2.0, form=CIFF\n",
      "###################################\n"
     ]
    },
    {
     "name": "stderr",
     "output_type": "stream",
     "text": [
      "WARNING:cbadc.digital_backend:Discrete time Wiener filter not properly implemented. Results may be incorrect.\n",
      "INFO:root:Simulating discrete-time analog frontend\n"
     ]
    },
    {
     "name": "stdout",
     "output_type": "stream",
     "text": [
      "Sampling frequency: 10.24 MHz\n",
      "###################################\n",
      "Testing: order=5, osr=256, nlev=3, Hinf=2.0, form=CRFBD\n",
      "###################################\n"
     ]
    },
    {
     "name": "stderr",
     "output_type": "stream",
     "text": [
      "WARNING:cbadc.digital_backend:Discrete time Wiener filter not properly implemented. Results may be incorrect.\n",
      "INFO:root:Simulating discrete-time analog frontend\n"
     ]
    },
    {
     "name": "stdout",
     "output_type": "stream",
     "text": [
      "Sampling frequency: 10.24 MHz\n",
      "###################################\n",
      "Testing: order=5, osr=256, nlev=3, Hinf=2.0, form=CRFFD\n",
      "###################################\n"
     ]
    },
    {
     "name": "stderr",
     "output_type": "stream",
     "text": [
      "WARNING:cbadc.digital_backend:Discrete time Wiener filter not properly implemented. Results may be incorrect.\n"
     ]
    }
   ],
   "source": [
    "# brute-force search:\n",
    "for order, osr, nlev, Hinf, form in product(orders, osr_values, nlev_values, Hinf_values, forms):\n",
    "    # compute the sampling frequency:\n",
    "    fs = Bw * osr * 2\n",
    "    print(f\"Sampling frequency: {fs / 1e6} MHz\")\n",
    "    \n",
    "    print(\"###################################\")\n",
    "    print(f\"Testing: order={order}, osr={osr}, nlev={nlev}, Hinf={Hinf}, form={form}\")\n",
    "    print(\"###################################\")\n",
    "    \n",
    "    # synthesize the Noise Transfer Function (NTF):\n",
    "    ntf = cb.delsig.synthesizeNTF(order, osr, 2, Hinf, 0.0)\n",
    "    \n",
    "    # realize the NTF in state-space representation:\n",
    "    a, g, b, c = cb.delsig.realizeNTF(ntf, form)\n",
    "    ABCD = cb.delsig.stuffABCD(a, g, b, c)\n",
    "    \n",
    "    \n",
    "    # create discrete-time analog frontend model:\n",
    "    dt_analog_frontend = cb.AnalogFrontend.dtsdm(ABCD, nlev)\n",
    "    \n",
    "    try:\n",
    "        # run an SNR simulation:\n",
    "        snr, amp, _ = dt_analog_frontend.simulateSNR(osr)\n",
    "        max_snr = max(snr)\n",
    "\n",
    "        # store result:\n",
    "        results.append({\"Order\": order, \"OSR\": osr, \"Levels\": nlev, \"Hinf\": Hinf, \"Form\": form, \"SNR\": max_snr})\n",
    "    \n",
    "    except (LinAlgError, ValueError) as e:\n",
    "        print(f\"Error encountered with order={order}, osr={osr}, nlev={nlev}, Hinf={Hinf}, form={form}. Skipping this configuration\")"
   ]
  },
  {
   "cell_type": "code",
   "execution_count": 6,
   "id": "52c9de53",
   "metadata": {},
   "outputs": [],
   "source": [
    "# convert to DataFrame:\n",
    "df_results = pd.DataFrame(results)\n",
    "\n",
    "# convert to CSV:\n",
    "df_results.to_csv(\"sigma_delta_results.csv\", index=False)"
   ]
  },
  {
   "cell_type": "markdown",
   "id": "21832ec0",
   "metadata": {},
   "source": [
    "## Visualizing desing parameters impact on SNR"
   ]
  },
  {
   "cell_type": "code",
   "execution_count": 7,
   "id": "3303871f",
   "metadata": {},
   "outputs": [],
   "source": [
    "df = pd.read_csv(\"sigma_delta_results.csv\")"
   ]
  },
  {
   "cell_type": "code",
   "execution_count": 8,
   "id": "c12f8d79",
   "metadata": {},
   "outputs": [
    {
     "name": "stderr",
     "output_type": "stream",
     "text": [
      "INFO:matplotlib.category:Using categorical units to plot a list of strings that are all parsable as floats or dates. If these strings should be plotted as numbers, cast to the appropriate data type before plotting.\n",
      "C:\\Users\\frang\\AppData\\Local\\Temp\\ipykernel_17436\\2263489202.py:2: FutureWarning: \n",
      "\n",
      "Passing `palette` without assigning `hue` is deprecated and will be removed in v0.14.0. Assign the `x` variable to `hue` and set `legend=False` for the same effect.\n",
      "\n",
      "  sns.boxplot(x=\"Order\", y=\"SNR\", data=df, palette=\"viridis\")\n",
      "INFO:matplotlib.category:Using categorical units to plot a list of strings that are all parsable as floats or dates. If these strings should be plotted as numbers, cast to the appropriate data type before plotting.\n"
     ]
    },
    {
     "data": {
      "image/png": "[encoded data removed]",
      "text/plain": [
       "<Figure size 1000x600 with 1 Axes>"
      ]
     },
     "metadata": {},
     "output_type": "display_data"
    }
   ],
   "source": [
    "plt.figure(figsize=(10, 6))\n",
    "sns.boxplot(x=\"Order\", y=\"SNR\", data=df, palette=\"viridis\")\n",
    "plt.title(\"Impact of the modulator order on SNR\", fontsize=14)\n",
    "plt.xlabel(\"Modulator order\", fontsize=12)\n",
    "plt.ylabel(\"SNR (dB)\", fontsize=12)\n",
    "plt.grid(True)\n",
    "plt.show()"
   ]
  },
  {
   "cell_type": "code",
   "execution_count": 9,
   "id": "95a72714",
   "metadata": {},
   "outputs": [
    {
     "data": {
      "image/png": "[encoded data removed]",
      "text/plain": [
       "<Figure size 1000x600 with 1 Axes>"
      ]
     },
     "metadata": {},
     "output_type": "display_data"
    }
   ],
   "source": [
    "plt.figure(figsize=(10, 6))\n",
    "sns.lineplot(data=df, x=\"OSR\", y=\"SNR\", hue=\"Order\", marker=\"o\")\n",
    "plt.title(\"Impact of the OSR on SNR\", fontsize=14)\n",
    "plt.xlabel(\"OSR\")\n",
    "plt.ylabel(\"SNR (dB)\")\n",
    "plt.legend(title=\"Order\")\n",
    "plt.xscale(\"log\") # logarithmic scale (better visualization)\n",
    "plt.show()"
   ]
  },
  {
   "cell_type": "code",
   "execution_count": 10,
   "id": "7e943072",
   "metadata": {},
   "outputs": [
    {
     "data": {
      "image/png": "[encoded data removed]",
      "text/plain": [
       "<Figure size 1000x600 with 1 Axes>"
      ]
     },
     "metadata": {},
     "output_type": "display_data"
    }
   ],
   "source": [
    "plt.figure(figsize=(10, 6))\n",
    "sns.lineplot(data=df, x=\"Hinf\", y=\"SNR\", hue=\"Order\", marker=\"o\")\n",
    "plt.title(\"Impact of the Hinf gain on SNR\", fontsize=14)\n",
    "plt.xlabel(\"Hinf\")\n",
    "plt.ylabel(\"SNR (dB)\")\n",
    "plt.legend(title=\"Order\")\n",
    "plt.show()"
   ]
  },
  {
   "cell_type": "code",
   "execution_count": 11,
   "id": "8cc1cc7b",
   "metadata": {},
   "outputs": [
    {
     "data": {
      "image/png": "[encoded data removed]",
      "text/plain": [
       "<Figure size 1000x600 with 1 Axes>"
      ]
     },
     "metadata": {},
     "output_type": "display_data"
    }
   ],
   "source": [
    "plt.figure(figsize=(10, 6))\n",
    "sns.scatterplot(data=df, x=\"Hinf\", y=\"SNR\", hue=\"Order\", style=\"Levels\", palette=\"coolwarm\", s=100)\n",
    "plt.title(\"Impact of the Hinf gain on SNR\", fontsize=14)\n",
    "plt.xlabel(\"Hinf gain\", fontsize=12)\n",
    "plt.ylabel(\"SNR (dB)\", fontsize=12)\n",
    "plt.legend(title=\"Order\", bbox_to_anchor=(1, 1), loc=\"upper left\")\n",
    "plt.grid(True)\n",
    "plt.show()"
   ]
  },
  {
   "cell_type": "code",
   "execution_count": 12,
   "id": "4bb5d561",
   "metadata": {},
   "outputs": [
    {
     "ename": "ValueError",
     "evalue": "could not convert string to float: 'CRFB'",
     "output_type": "error",
     "traceback": [
      "\u001b[1;31m---------------------------------------------------------------------------\u001b[0m",
      "\u001b[1;31mValueError\u001b[0m                                Traceback (most recent call last)",
      "Cell \u001b[1;32mIn[12], line 9\u001b[0m\n\u001b[0;32m      6\u001b[0m df_corr[\u001b[38;5;124m\"\u001b[39m\u001b[38;5;124mHinf\u001b[39m\u001b[38;5;124m\"\u001b[39m] \u001b[38;5;241m=\u001b[39m df_corr[\u001b[38;5;124m\"\u001b[39m\u001b[38;5;124mHinf\u001b[39m\u001b[38;5;124m\"\u001b[39m]\u001b[38;5;241m.\u001b[39mastype(\u001b[38;5;28mfloat\u001b[39m)\n\u001b[0;32m      8\u001b[0m \u001b[38;5;66;03m# correlation matrix:\u001b[39;00m\n\u001b[1;32m----> 9\u001b[0m corr_matrix \u001b[38;5;241m=\u001b[39m \u001b[43mdf_corr\u001b[49m\u001b[38;5;241;43m.\u001b[39;49m\u001b[43mcorr\u001b[49m\u001b[43m(\u001b[49m\u001b[43m)\u001b[49m\n\u001b[0;32m     11\u001b[0m \u001b[38;5;66;03m# heatmap:\u001b[39;00m\n\u001b[0;32m     12\u001b[0m plt\u001b[38;5;241m.\u001b[39mfigure(figsize\u001b[38;5;241m=\u001b[39m(\u001b[38;5;241m8\u001b[39m, \u001b[38;5;241m6\u001b[39m))\n",
      "File \u001b[1;32m~\\AppData\\Local\\Packages\\PythonSoftwareFoundation.Python.3.11_qbz5n2kfra8p0\\LocalCache\\local-packages\\Python311\\site-packages\\pandas\\core\\frame.py:11049\u001b[0m, in \u001b[0;36mDataFrame.corr\u001b[1;34m(self, method, min_periods, numeric_only)\u001b[0m\n\u001b[0;32m  11047\u001b[0m cols \u001b[38;5;241m=\u001b[39m data\u001b[38;5;241m.\u001b[39mcolumns\n\u001b[0;32m  11048\u001b[0m idx \u001b[38;5;241m=\u001b[39m cols\u001b[38;5;241m.\u001b[39mcopy()\n\u001b[1;32m> 11049\u001b[0m mat \u001b[38;5;241m=\u001b[39m \u001b[43mdata\u001b[49m\u001b[38;5;241;43m.\u001b[39;49m\u001b[43mto_numpy\u001b[49m\u001b[43m(\u001b[49m\u001b[43mdtype\u001b[49m\u001b[38;5;241;43m=\u001b[39;49m\u001b[38;5;28;43mfloat\u001b[39;49m\u001b[43m,\u001b[49m\u001b[43m \u001b[49m\u001b[43mna_value\u001b[49m\u001b[38;5;241;43m=\u001b[39;49m\u001b[43mnp\u001b[49m\u001b[38;5;241;43m.\u001b[39;49m\u001b[43mnan\u001b[49m\u001b[43m,\u001b[49m\u001b[43m \u001b[49m\u001b[43mcopy\u001b[49m\u001b[38;5;241;43m=\u001b[39;49m\u001b[38;5;28;43;01mFalse\u001b[39;49;00m\u001b[43m)\u001b[49m\n\u001b[0;32m  11051\u001b[0m \u001b[38;5;28;01mif\u001b[39;00m method \u001b[38;5;241m==\u001b[39m \u001b[38;5;124m\"\u001b[39m\u001b[38;5;124mpearson\u001b[39m\u001b[38;5;124m\"\u001b[39m:\n\u001b[0;32m  11052\u001b[0m     correl \u001b[38;5;241m=\u001b[39m libalgos\u001b[38;5;241m.\u001b[39mnancorr(mat, minp\u001b[38;5;241m=\u001b[39mmin_periods)\n",
      "File \u001b[1;32m~\\AppData\\Local\\Packages\\PythonSoftwareFoundation.Python.3.11_qbz5n2kfra8p0\\LocalCache\\local-packages\\Python311\\site-packages\\pandas\\core\\frame.py:1993\u001b[0m, in \u001b[0;36mDataFrame.to_numpy\u001b[1;34m(self, dtype, copy, na_value)\u001b[0m\n\u001b[0;32m   1991\u001b[0m \u001b[38;5;28;01mif\u001b[39;00m dtype \u001b[38;5;129;01mis\u001b[39;00m \u001b[38;5;129;01mnot\u001b[39;00m \u001b[38;5;28;01mNone\u001b[39;00m:\n\u001b[0;32m   1992\u001b[0m     dtype \u001b[38;5;241m=\u001b[39m np\u001b[38;5;241m.\u001b[39mdtype(dtype)\n\u001b[1;32m-> 1993\u001b[0m result \u001b[38;5;241m=\u001b[39m \u001b[38;5;28;43mself\u001b[39;49m\u001b[38;5;241;43m.\u001b[39;49m\u001b[43m_mgr\u001b[49m\u001b[38;5;241;43m.\u001b[39;49m\u001b[43mas_array\u001b[49m\u001b[43m(\u001b[49m\u001b[43mdtype\u001b[49m\u001b[38;5;241;43m=\u001b[39;49m\u001b[43mdtype\u001b[49m\u001b[43m,\u001b[49m\u001b[43m \u001b[49m\u001b[43mcopy\u001b[49m\u001b[38;5;241;43m=\u001b[39;49m\u001b[43mcopy\u001b[49m\u001b[43m,\u001b[49m\u001b[43m \u001b[49m\u001b[43mna_value\u001b[49m\u001b[38;5;241;43m=\u001b[39;49m\u001b[43mna_value\u001b[49m\u001b[43m)\u001b[49m\n\u001b[0;32m   1994\u001b[0m \u001b[38;5;28;01mif\u001b[39;00m result\u001b[38;5;241m.\u001b[39mdtype \u001b[38;5;129;01mis\u001b[39;00m \u001b[38;5;129;01mnot\u001b[39;00m dtype:\n\u001b[0;32m   1995\u001b[0m     result \u001b[38;5;241m=\u001b[39m np\u001b[38;5;241m.\u001b[39masarray(result, dtype\u001b[38;5;241m=\u001b[39mdtype)\n",
      "File \u001b[1;32m~\\AppData\\Local\\Packages\\PythonSoftwareFoundation.Python.3.11_qbz5n2kfra8p0\\LocalCache\\local-packages\\Python311\\site-packages\\pandas\\core\\internals\\managers.py:1694\u001b[0m, in \u001b[0;36mBlockManager.as_array\u001b[1;34m(self, dtype, copy, na_value)\u001b[0m\n\u001b[0;32m   1692\u001b[0m         arr\u001b[38;5;241m.\u001b[39mflags\u001b[38;5;241m.\u001b[39mwriteable \u001b[38;5;241m=\u001b[39m \u001b[38;5;28;01mFalse\u001b[39;00m\n\u001b[0;32m   1693\u001b[0m \u001b[38;5;28;01melse\u001b[39;00m:\n\u001b[1;32m-> 1694\u001b[0m     arr \u001b[38;5;241m=\u001b[39m \u001b[38;5;28;43mself\u001b[39;49m\u001b[38;5;241;43m.\u001b[39;49m\u001b[43m_interleave\u001b[49m\u001b[43m(\u001b[49m\u001b[43mdtype\u001b[49m\u001b[38;5;241;43m=\u001b[39;49m\u001b[43mdtype\u001b[49m\u001b[43m,\u001b[49m\u001b[43m \u001b[49m\u001b[43mna_value\u001b[49m\u001b[38;5;241;43m=\u001b[39;49m\u001b[43mna_value\u001b[49m\u001b[43m)\u001b[49m\n\u001b[0;32m   1695\u001b[0m     \u001b[38;5;66;03m# The underlying data was copied within _interleave, so no need\u001b[39;00m\n\u001b[0;32m   1696\u001b[0m     \u001b[38;5;66;03m# to further copy if copy=True or setting na_value\u001b[39;00m\n\u001b[0;32m   1698\u001b[0m \u001b[38;5;28;01mif\u001b[39;00m na_value \u001b[38;5;129;01mis\u001b[39;00m lib\u001b[38;5;241m.\u001b[39mno_default:\n",
      "File \u001b[1;32m~\\AppData\\Local\\Packages\\PythonSoftwareFoundation.Python.3.11_qbz5n2kfra8p0\\LocalCache\\local-packages\\Python311\\site-packages\\pandas\\core\\internals\\managers.py:1753\u001b[0m, in \u001b[0;36mBlockManager._interleave\u001b[1;34m(self, dtype, na_value)\u001b[0m\n\u001b[0;32m   1751\u001b[0m     \u001b[38;5;28;01melse\u001b[39;00m:\n\u001b[0;32m   1752\u001b[0m         arr \u001b[38;5;241m=\u001b[39m blk\u001b[38;5;241m.\u001b[39mget_values(dtype)\n\u001b[1;32m-> 1753\u001b[0m     \u001b[43mresult\u001b[49m\u001b[43m[\u001b[49m\u001b[43mrl\u001b[49m\u001b[38;5;241;43m.\u001b[39;49m\u001b[43mindexer\u001b[49m\u001b[43m]\u001b[49m \u001b[38;5;241m=\u001b[39m arr\n\u001b[0;32m   1754\u001b[0m     itemmask[rl\u001b[38;5;241m.\u001b[39mindexer] \u001b[38;5;241m=\u001b[39m \u001b[38;5;241m1\u001b[39m\n\u001b[0;32m   1756\u001b[0m \u001b[38;5;28;01mif\u001b[39;00m \u001b[38;5;129;01mnot\u001b[39;00m itemmask\u001b[38;5;241m.\u001b[39mall():\n",
      "\u001b[1;31mValueError\u001b[0m: could not convert string to float: 'CRFB'"
     ]
    }
   ],
   "source": [
    "# convert cathegoric parameters to number:\n",
    "df_corr = df.copy()\n",
    "df_corr[\"Order\"] = df_corr[\"Order\"].astype(float)\n",
    "df_corr[\"OSR\"] = df_corr[\"OSR\"].astype(float)\n",
    "df_corr[\"Levels\"] = df_corr[\"Levels\"].astype(float)\n",
    "df_corr[\"Hinf\"] = df_corr[\"Hinf\"].astype(float)\n",
    "\n",
    "# correlation matrix:\n",
    "corr_matrix = df_corr.corr()\n",
    "\n",
    "# heatmap:\n",
    "plt.figure(figsize=(8, 6))\n",
    "sns.heatmap(corr_matrix, annot=True, cmap=\"coolwarm\", linewidths=0.5)\n",
    "plt.title(\"Correlation between parameters and SNR\", fontsize=14)\n",
    "plt.show()"
   ]
  },
  {
   "cell_type": "code",
   "execution_count": 13,
   "id": "23bc1ff8",
   "metadata": {},
   "outputs": [
    {
     "data": {
      "image/png": "[encoded data removed]",
      "text/plain": [
       "<Figure size 800x600 with 2 Axes>"
      ]
     },
     "metadata": {},
     "output_type": "display_data"
    }
   ],
   "source": [
    "# first solution: not including the modulator architecture\n",
    "\n",
    "# select only number columns:\n",
    "df_corr_numeric = df.select_dtypes(include=[\"number\"])\n",
    "\n",
    "# correlation matrix:\n",
    "corr_matrix = df_corr_numeric.corr()\n",
    "\n",
    "# heatmap:\n",
    "plt.figure(figsize=(8, 6))\n",
    "sns.heatmap(corr_matrix, annot=True, cmap=\"coolwarm\", linewidths=0.5)\n",
    "plt.title(\"Correlation between parameters and SNR\", fontsize=14)\n",
    "plt.show()"
   ]
  },
  {
   "cell_type": "code",
   "execution_count": 14,
   "id": "5b2b4f00",
   "metadata": {},
   "outputs": [
    {
     "data": {
      "image/png": "[encoded data removed]",
      "text/plain": [
       "<Figure size 800x600 with 2 Axes>"
      ]
     },
     "metadata": {},
     "output_type": "display_data"
    }
   ],
   "source": [
    "# second solution: codify cathegorical values\n",
    "\n",
    "# codifying the modulator architecture:\n",
    "df_corr[\"Form\"] = df_corr[\"Form\"].astype(\"category\").cat.codes\n",
    "\n",
    "# select only number columns:\n",
    "df_corr_numeric = df.select_dtypes(include=[\"number\"])\n",
    "\n",
    "# correlation matrix:\n",
    "corr_matrix = df_corr_numeric.corr()\n",
    "\n",
    "# heatmap:\n",
    "plt.figure(figsize=(8, 6))\n",
    "sns.heatmap(corr_matrix, annot=True, cmap=\"coolwarm\", linewidths=0.5)\n",
    "plt.title(\"Correlation between parameters and SNR\", fontsize=14)\n",
    "plt.show()"
   ]
  },
  {
   "cell_type": "code",
   "execution_count": 15,
   "id": "71d13dc3",
   "metadata": {},
   "outputs": [
    {
     "data": {
      "image/png": "[encoded data removed]",
      "text/plain": [
       "<Figure size 1058.75x1000 with 20 Axes>"
      ]
     },
     "metadata": {},
     "output_type": "display_data"
    }
   ],
   "source": [
    "sns.pairplot(df, hue=\"Order\", palette=\"coolwarm\")\n",
    "plt.show()"
   ]
  },
  {
   "cell_type": "markdown",
   "id": "87164fe1",
   "metadata": {},
   "source": [
    "## Creating an interactive interface with Streamlit"
   ]
  },
  {
   "cell_type": "markdown",
   "id": "62b78f6d",
   "metadata": {},
   "source": [
    "See **streamlit_app.py**."
   ]
  },
  {
   "cell_type": "code",
   "execution_count": 16,
   "id": "79686fcb",
   "metadata": {},
   "outputs": [],
   "source": [
    "# run in a terminal:\n",
    "# streamlit run streamlit_app.py"
   ]
  }
 ],
 "metadata": {
  "kernelspec": {
   "display_name": "Python 3 (ipykernel)",
   "language": "python",
   "name": "python3"
  },
  "language_info": {
   "codemirror_mode": {
    "name": "ipython",
    "version": 3
   },
   "file_extension": ".py",
   "mimetype": "text/x-python",
   "name": "python",
   "nbconvert_exporter": "python",
   "pygments_lexer": "ipython3",
   "version": "3.11.9"
  }
 },
 "nbformat": 4,
 "nbformat_minor": 5
}
