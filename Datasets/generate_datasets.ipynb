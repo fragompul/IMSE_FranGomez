{
 "cells": [
  {
   "cell_type": "code",
   "execution_count": 1,
   "id": "0768f297",
   "metadata": {},
   "outputs": [],
   "source": [
    "import numpy as np\n",
    "import pandas as pd\n",
    "from scipy.stats import uniform\n",
    "import cbadc as cb\n",
    "from itertools import product\n",
    "from numpy.linalg import LinAlgError\n",
    "from scipy.stats import qmc"
   ]
  },
  {
   "cell_type": "code",
   "execution_count": 2,
   "id": "14fa6eac",
   "metadata": {},
   "outputs": [],
   "source": [
    "def generate_dataset(form, order, implementation, num_samples, min_snr, parameter_ranges, discrete_params):\n",
    "    \"\"\"\n",
    "    Generate a dataset based on the selected form, order, implementation\n",
    "    \n",
    "    Args:\n",
    "    - form (str): The (continuous) form of the filter ('FB', 'FF')\n",
    "    - order (int): The order of the filter (2, 3, 4)\n",
    "    - implementation (str): The implementation type ('Active-RC', 'Gm-C')\n",
    "    - num_samples (int): Initial number of samples to run LHS\n",
    "    - min_snr (float): Minimum SNR accepted.\n",
    "    - parameter_ranges (list): List with the range of each parameter\n",
    "    - discrete_parameters (list): List with the discrete parameters and each values\n",
    "    \n",
    "    Returns:\n",
    "    - dataset (pd.DataFrame): A DataFrame containing the generated dataset,\n",
    "                              named: dataset_form_order_implementation.csv\n",
    "    \"\"\"\n",
    "    \n",
    "    cont = 0 # counter to reach at least num_samples samples in the final dataset\n",
    "    \n",
    "    # initialize lists to store the parameters and corresponding SNR values after simulation:\n",
    "    snr_values = []\n",
    "    all_params = []\n",
    "    \n",
    "    while cont <= num_samples:\n",
    "        # Latin Hypercube Sampling (LHS) to sample the parameter space:\n",
    "        lhs_samples = lhs_sampling(parameter_ranges, num_samples, discrete_params)\n",
    "\n",
    "        # iterate through each set of parameters from the LHS samples:\n",
    "        for sample in lhs_samples:\n",
    "            # map the sampled values to parameter names:\n",
    "            if implementation == 'Active-RC':\n",
    "                params = {'Bw': sample[0], 'osr': int(sample[1]), 'nlev': int(sample[2]), 'Hinf': sample[3], \n",
    "                          'Cint': sample[4], 'gm': sample[5], 'Ro': sample[6], 'Co': sample[7]}\n",
    "            elif implementation == 'Gm-C':\n",
    "                params = {'Bw': sample[0], 'osr': int(sample[1]), 'nlev': int(sample[2]), 'Hinf': sample[3], \n",
    "                          'Cint': sample[4], 'Ro': sample[5], 'Cp': sample[6], 'v_n': sample[7], \n",
    "                          'slew_rate': sample[8], 'output_swing': sample[9]}\n",
    "\n",
    "            # apply parameter relationships filters to ensure validity (not implemented yet):\n",
    "            if not filter_parameter_relationships(params, implementation):\n",
    "                continue # skip this sample if it doesn't pass the filter\n",
    "\n",
    "            # simulate the circuit and get the SNR value:\n",
    "            snr = simulate_circuit(form, order, implementation, params)\n",
    "\n",
    "            # store the the parameters and corresponding SNR value:\n",
    "            if snr is not None and np.isfinite(snr) and snr > min_snr:\n",
    "                snr_values.append(snr)\n",
    "                all_params.append(params)\n",
    "                cont += 1\n",
    "    \n",
    "    # create a DataFrame and save it as CSV:\n",
    "    dataset = pd.DataFrame(all_params)\n",
    "    dataset['SNR'] = snr_values\n",
    "    filename = f\"datasets/dataset_{form}_{order}_{implementation}.csv\"\n",
    "    dataset.to_csv(filename, index=False)\n",
    "    print(f\"\\n\\tDataset saved as {filename}\\n\")\n",
    "    \n",
    "    return dataset"
   ]
  },
  {
   "cell_type": "code",
   "execution_count": null,
   "id": "a20055fe",
   "metadata": {},
   "outputs": [],
   "source": []
  },
  {
   "cell_type": "code",
   "execution_count": null,
   "id": "19345f41",
   "metadata": {},
   "outputs": [],
   "source": []
  },
  {
   "cell_type": "code",
   "execution_count": 3,
   "id": "7aae090c",
   "metadata": {},
   "outputs": [],
   "source": [
    "def lhs_sampling(parameter_ranges, num_samples, discrete_params):\n",
    "    \"\"\"\n",
    "    Latin Hypercube Sampling (LHS) for a given set of parameter ranges,\n",
    "    handling both continuous and discrete parameters\n",
    "\n",
    "    Args:\n",
    "    - parameter_ranges (list): List of tuples [(min, max), ...] defining the range for each parameter\n",
    "    - num_samples (int): Number of samples to generate\n",
    "    - discrete_params (list): List of tuples [(index, values)] where:\n",
    "        - index: The position of the discrete parameter in parameter_ranges\n",
    "        - values: A list of possible discrete values\n",
    "\n",
    "    Returns:\n",
    "    - samples (list): A NumPy array of shape (num_samples, len(parameter_ranges)) containing the generated samples\n",
    "    \"\"\"\n",
    "\n",
    "    # separate continuous and discrete parameters:\n",
    "    continuous_params = [p for i, p in enumerate(parameter_ranges) if i not in [d[0] for d in discrete_params]]\n",
    "    discrete_indices = {d[0]: d[1] for d in discrete_params}\n",
    "\n",
    "    # create an LHS design only for continuous parameters:\n",
    "    sampler = qmc.LatinHypercube(d=len(continuous_params)) # d = number of continuous parameters\n",
    "    sample_cont = sampler.random(num_samples) # generate LHS samples in [0,1] range\n",
    "    \n",
    "    # rescale LHS samples to match the specified ranges for continuous parameters:\n",
    "    cont_scaled = qmc.scale(sample_cont, \n",
    "                            [p[0] for p in continuous_params], # min values\n",
    "                            [p[1] for p in continuous_params]) # max values\n",
    "    \n",
    "    # initialize the result matrix:\n",
    "    samples = np.zeros((num_samples, len(parameter_ranges)))\n",
    "\n",
    "    # insert continuous values into the result matrix:\n",
    "    cont_idx = 0 # index to track continuous parameters in cont_scaled\n",
    "    for i, p in enumerate(parameter_ranges):\n",
    "        if i in discrete_indices: # skip discrete parameters\n",
    "            continue\n",
    "        samples[:, i] = cont_scaled[:, cont_idx] # assign LHS-sampled values\n",
    "        cont_idx += 1\n",
    "\n",
    "    # insert discrete parameters using random selection with replacement:\n",
    "    for idx, values in discrete_indices.items():\n",
    "        samples[:, idx] = np.random.choice(values, size=num_samples, replace=True)\n",
    "\n",
    "    return samples"
   ]
  },
  {
   "cell_type": "code",
   "execution_count": 4,
   "id": "96199fe2",
   "metadata": {},
   "outputs": [
    {
     "name": "stdout",
     "output_type": "stream",
     "text": [
      "[[2.51961566e+08 1.28000000e+02 3.00000000e+00 4.07627118e+00\n",
      "  4.24527468e-07 6.68838935e-02 7.09258853e+05 5.33346469e-07]\n",
      " [6.44550286e+08 2.56000000e+02 5.00000000e+00 4.10692814e-01\n",
      "  3.49044719e-07 4.33035572e-02 4.64040859e+05 7.80558826e-07]\n",
      " [4.76299260e+08 1.28000000e+02 5.00000000e+00 4.11441667e+00\n",
      "  5.31389622e-07 7.31428479e-02 1.22986710e+05 6.73703035e-07]\n",
      " [1.28887170e+08 6.40000000e+01 4.00000000e+00 1.60951473e+00\n",
      "  5.52931049e-07 7.72803022e-02 6.94705096e+05 1.39593999e-07]\n",
      " [2.88427013e+08 1.28000000e+02 3.00000000e+00 3.87582102e+00\n",
      "  4.54443548e-07 4.89698537e-03 6.19535800e+05 3.98390790e-07]\n",
      " [6.87285949e+08 1.60000000e+01 3.00000000e+00 5.88903561e+00\n",
      "  5.24087797e-07 9.86032928e-02 9.49601804e+05 6.03361338e-07]\n",
      " [4.87633963e+08 1.28000000e+02 4.00000000e+00 8.60891859e+00\n",
      "  8.58100993e-07 4.91913376e-02 7.74987362e+05 3.24029955e-07]\n",
      " [3.88578958e+08 6.40000000e+01 3.00000000e+00 6.00955524e-03\n",
      "  2.61417937e-07 6.32884985e-02 6.85410777e+05 7.06215447e-07]\n",
      " [2.00586173e+08 8.00000000e+00 2.00000000e+00 8.10915236e+00\n",
      "  7.52743160e-07 4.99011380e-02 1.57552451e+05 4.21282537e-07]\n",
      " [8.53062594e+07 1.60000000e+01 4.00000000e+00 2.30111361e+00\n",
      "  2.87235065e-07 2.53901276e-02 9.18930734e+05 1.53969705e-07]\n",
      " [8.97851220e+08 8.00000000e+00 2.00000000e+00 1.41162638e+00\n",
      "  8.41416159e-07 5.11097496e-02 2.40981949e+05 6.98651150e-07]\n",
      " [7.44363118e+08 2.56000000e+02 5.00000000e+00 2.03864059e+00\n",
      "  7.30158393e-07 1.48067320e-02 3.80977187e+05 9.29181523e-07]\n",
      " [1.68875025e+08 6.40000000e+01 2.00000000e+00 5.22462427e+00\n",
      "  3.63703816e-07 2.98623449e-02 9.08576521e+05 9.84658383e-07]\n",
      " [3.84240401e+07 2.56000000e+02 4.00000000e+00 3.28601813e-01\n",
      "  7.41209686e-08 6.47502739e-02 6.25665395e+05 9.60522508e-07]\n",
      " [7.58355825e+08 2.56000000e+02 3.00000000e+00 4.56930702e+00\n",
      "  1.67037865e-07 1.61958364e-02 3.78770730e+05 8.43892810e-07]\n",
      " [3.79464857e+08 2.56000000e+02 2.00000000e+00 9.25674165e+00\n",
      "  3.83645732e-07 9.50566242e-02 6.09388282e+05 3.00117564e-07]\n",
      " [7.85775216e+08 2.56000000e+02 5.00000000e+00 4.25144875e+00\n",
      "  1.83136256e-07 6.33879739e-02 5.17833377e+05 1.78275263e-07]\n",
      " [5.09469268e+08 1.60000000e+01 5.00000000e+00 3.21338678e+00\n",
      "  5.16877516e-07 8.28077463e-02 8.96344492e+04 4.01990047e-07]\n",
      " [4.45344339e+07 6.40000000e+01 3.00000000e+00 8.48680255e+00\n",
      "  9.64584728e-07 1.36236178e-02 4.82936197e+05 6.21172118e-07]\n",
      " [5.77678480e+08 1.28000000e+02 2.00000000e+00 3.72449764e+00\n",
      "  2.05659162e-07 7.93310995e-02 8.87661575e+05 2.52686344e-07]\n",
      " [6.27653860e+08 3.20000000e+01 3.00000000e+00 8.89548498e+00\n",
      "  7.81183050e-07 5.33836886e-02 4.07381272e+04 4.75304612e-08]\n",
      " [2.61194164e+08 2.56000000e+02 2.00000000e+00 9.42389053e-01\n",
      "  2.90821405e-07 8.12734304e-02 1.45181397e+05 7.70531371e-08]\n",
      " [1.70076653e+08 8.00000000e+00 4.00000000e+00 9.95975580e+00\n",
      "  6.64259864e-07 9.47454628e-02 4.18299004e+05 9.52497465e-07]\n",
      " [7.68602688e+08 2.56000000e+02 4.00000000e+00 6.23211819e+00\n",
      "  7.12042600e-07 2.67809509e-03 6.51678620e+05 2.29216903e-07]\n",
      " [9.37663469e+08 1.28000000e+02 2.00000000e+00 5.54026308e+00\n",
      "  4.66111735e-07 8.07467313e-02 4.35632316e+05 7.14595613e-07]\n",
      " [1.78725244e+07 6.40000000e+01 2.00000000e+00 6.69177774e+00\n",
      "  9.84923570e-07 3.10002499e-02 6.50119108e+05 3.12604186e-07]\n",
      " [6.52089939e+08 3.20000000e+01 5.00000000e+00 1.15884439e-01\n",
      "  1.57086987e-07 8.38523307e-02 1.14750221e+05 4.95128224e-07]\n",
      " [6.03954905e+08 2.56000000e+02 2.00000000e+00 8.03130092e+00\n",
      "  1.18239745e-07 5.97344703e-02 1.66412037e+05 2.16193260e-07]\n",
      " [7.99946726e+08 2.56000000e+02 4.00000000e+00 7.63401362e-01\n",
      "  3.98409975e-07 9.95943765e-02 9.60111879e+05 8.93750124e-07]\n",
      " [5.34354211e+08 1.28000000e+02 5.00000000e+00 2.67905284e+00\n",
      "  6.12403485e-07 1.12197816e-02 2.81445184e+05 8.08462794e-07]\n",
      " [4.57774820e+08 8.00000000e+00 3.00000000e+00 6.70703796e+00\n",
      "  6.08993110e-07 3.07912875e-03 7.80467468e+04 3.30669146e-07]\n",
      " [1.96343365e+08 1.60000000e+01 4.00000000e+00 2.51957265e+00\n",
      "  5.86875234e-07 9.40577122e-02 8.47749955e+05 6.41734053e-07]\n",
      " [2.73298969e+08 1.28000000e+02 2.00000000e+00 7.92827171e+00\n",
      "  7.23657221e-07 7.62666839e-02 8.08307859e+05 1.66629121e-07]\n",
      " [1.32409307e+08 2.56000000e+02 2.00000000e+00 5.40422946e+00\n",
      "  8.37944842e-07 6.08617895e-02 8.12617101e+05 6.42458507e-08]\n",
      " [8.72167234e+08 8.00000000e+00 4.00000000e+00 3.66045708e+00\n",
      "  5.02614495e-07 3.87305804e-02 4.56016129e+05 5.40043061e-07]\n",
      " [2.48175737e+08 1.28000000e+02 5.00000000e+00 1.10064199e+00\n",
      "  7.66861681e-07 9.04962531e-02 1.89728516e+05 8.17783414e-07]\n",
      " [8.53653784e+08 1.28000000e+02 5.00000000e+00 9.16072261e+00\n",
      "  9.96656010e-07 4.43644472e-02 3.42857643e+05 3.47357657e-07]\n",
      " [9.03269058e+08 8.00000000e+00 2.00000000e+00 8.36700433e+00\n",
      "  4.88111236e-07 4.12211019e-02 7.36368052e+05 7.60378065e-07]\n",
      " [4.35015453e+08 1.60000000e+01 3.00000000e+00 3.36609704e+00\n",
      "  3.24961137e-07 9.14847788e-02 9.88185576e+05 8.24636978e-07]\n",
      " [3.20783610e+08 2.56000000e+02 4.00000000e+00 4.89115691e+00\n",
      "  9.42664418e-07 1.16903515e-03 9.31670219e+03 6.33722975e-07]\n",
      " [9.92566869e+08 6.40000000e+01 4.00000000e+00 1.58041212e+00\n",
      "  6.49730427e-07 6.18296595e-03 3.56565304e+05 1.15443697e-07]\n",
      " [5.50013107e+08 8.00000000e+00 2.00000000e+00 6.36815760e+00\n",
      "  7.73380405e-07 2.25839506e-02 9.95288495e+05 1.88925944e-07]\n",
      " [5.11046252e+08 6.40000000e+01 5.00000000e+00 7.19527058e+00\n",
      "  1.42387750e-07 8.99081772e-03 1.35590299e+05 7.93284346e-07]\n",
      " [9.54640997e+08 1.60000000e+01 3.00000000e+00 4.75397407e+00\n",
      "  6.31507594e-07 9.69004145e-02 3.22385729e+05 9.79499630e-07]\n",
      " [4.16949277e+08 8.00000000e+00 4.00000000e+00 6.84135279e+00\n",
      "  9.28072885e-07 1.84353386e-02 8.51925737e+05 1.01152206e-07]\n",
      " [4.94051034e+08 8.00000000e+00 4.00000000e+00 9.78310402e+00\n",
      "  9.52317066e-07 3.99869472e-02 3.97648116e+05 3.66763900e-07]\n",
      " [1.16660001e+08 8.00000000e+00 5.00000000e+00 8.27275669e+00\n",
      "  4.03532523e-08 4.70131681e-02 5.78608903e+05 1.98856459e-07]\n",
      " [4.06569552e+08 1.60000000e+01 5.00000000e+00 2.82938731e+00\n",
      "  1.31784085e-07 8.85679302e-02 4.27887776e+05 2.77316602e-07]\n",
      " [6.97270080e+07 2.56000000e+02 2.00000000e+00 9.81934367e+00\n",
      "  4.73944310e-07 1.72973074e-02 8.63352983e+05 6.10629601e-07]\n",
      " [9.10034237e+08 1.28000000e+02 3.00000000e+00 6.55427633e+00\n",
      "  8.17490287e-07 4.19871272e-02 3.64211272e+05 5.73069964e-07]\n",
      " [9.48989595e+08 2.56000000e+02 3.00000000e+00 7.33965384e+00\n",
      "  1.08095935e-07 7.08507730e-02 6.34450785e+05 3.84423431e-07]\n",
      " [8.66049586e+08 3.20000000e+01 4.00000000e+00 9.00224206e+00\n",
      "  8.85557450e-07 5.87467895e-02 7.44920517e+05 7.54943484e-07]\n",
      " [9.79899205e+08 2.56000000e+02 3.00000000e+00 9.44502095e+00\n",
      "  5.72905912e-07 2.58315593e-02 2.02379491e+05 7.26885179e-07]\n",
      " [1.55299894e+08 8.00000000e+00 3.00000000e+00 4.40290770e+00\n",
      "  7.90938015e-07 2.81211955e-02 8.95805432e+05 3.84352118e-08]\n",
      " [6.35546630e+08 1.28000000e+02 4.00000000e+00 6.44158464e+00\n",
      "  8.98964654e-07 8.58275736e-02 5.54414944e+05 6.59530927e-07]\n",
      " [8.48752786e+08 8.00000000e+00 3.00000000e+00 1.27662813e+00\n",
      "  3.08473577e-07 2.74908003e-02 9.78444360e+04 9.67829476e-08]\n",
      " [8.24816065e+08 2.56000000e+02 3.00000000e+00 1.93926068e+00\n",
      "  2.12860814e-07 6.55726497e-02 4.02370541e+05 4.86933098e-07]\n",
      " [7.79418479e+08 1.28000000e+02 3.00000000e+00 5.41832271e-01\n",
      "  5.43847623e-07 5.54714779e-02 3.40060975e+05 5.68596557e-07]\n",
      " [2.27990982e+08 1.60000000e+01 2.00000000e+00 6.04602760e+00\n",
      "  7.09998910e-07 2.35679241e-02 5.34937732e+05 4.78792065e-07]\n",
      " [2.98271739e+08 2.56000000e+02 2.00000000e+00 5.07412399e+00\n",
      "  5.99606486e-09 6.81834696e-02 2.26137590e+05 8.67315506e-07]\n",
      " [3.62930271e+08 1.28000000e+02 2.00000000e+00 2.37516249e-01\n",
      "  3.11659037e-07 2.08160510e-02 9.25798179e+05 5.24648636e-07]\n",
      " [6.74549807e+08 8.00000000e+00 4.00000000e+00 1.83580932e+00\n",
      "  3.79737777e-07 2.40633897e-02 9.30290972e+05 5.11451783e-07]\n",
      " [8.31573916e+08 1.60000000e+01 5.00000000e+00 9.55580902e+00\n",
      "  9.52465801e-08 1.01714001e-02 6.10778120e+04 9.16355633e-07]\n",
      " [3.43809444e+08 1.28000000e+02 2.00000000e+00 7.89814742e+00\n",
      "  7.42225859e-07 3.21885078e-02 7.52643823e+05 7.70214138e-07]\n",
      " [6.16661912e+08 6.40000000e+01 3.00000000e+00 2.20636733e+00\n",
      "  4.36830360e-07 6.94311202e-02 4.71977208e+05 5.52688912e-07]\n",
      " [5.44183144e+08 8.00000000e+00 3.00000000e+00 1.75629973e+00\n",
      "  6.57917465e-07 2.05152784e-02 7.63133613e+05 7.32560982e-07]\n",
      " [7.09738043e+08 1.28000000e+02 3.00000000e+00 2.47856857e+00\n",
      "  2.79359831e-07 8.45039986e-03 2.13369864e+05 2.89143600e-07]\n",
      " [9.71587965e+07 1.60000000e+01 5.00000000e+00 3.00930722e+00\n",
      "  1.29452127e-07 7.51649624e-02 1.71721114e+05 8.36401791e-08]\n",
      " [3.33814841e+08 3.20000000e+01 3.00000000e+00 3.17383814e+00\n",
      "  8.60268646e-07 9.30335363e-02 5.69813331e+05 4.14580570e-07]\n",
      " [4.63919561e+08 1.60000000e+01 5.00000000e+00 8.58188898e+00\n",
      "  4.92499665e-07 8.73428411e-02 6.73691152e+05 6.84437028e-07]\n",
      " [7.32305387e+08 6.40000000e+01 3.00000000e+00 8.71453481e+00\n",
      "  6.70443488e-07 6.93077373e-02 2.54532093e+05 2.05473379e-07]\n",
      " [6.63714388e+08 1.28000000e+02 3.00000000e+00 4.99045348e+00\n",
      "  9.09633839e-07 3.64911813e-02 8.76870423e+05 5.02676917e-07]\n",
      " [5.06967321e+06 1.60000000e+01 2.00000000e+00 7.04882442e+00\n",
      "  6.29382509e-07 7.87190357e-03 5.91821600e+05 3.75058646e-07]\n",
      " [4.46937916e+08 1.28000000e+02 2.00000000e+00 6.95121797e-01\n",
      "  8.79707382e-07 6.23556939e-02 3.10031950e+05 8.56521528e-07]\n",
      " [4.29014986e+08 1.60000000e+01 3.00000000e+00 5.15279564e+00\n",
      "  5.15971416e-08 8.44009521e-02 7.20788908e+05 7.46574992e-07]\n",
      " [5.25038597e+08 6.40000000e+01 3.00000000e+00 1.18084556e+00\n",
      "  9.30814252e-07 5.81323842e-02 7.83799357e+05 4.55049672e-07]\n",
      " [2.89801641e+07 8.00000000e+00 5.00000000e+00 6.15480851e+00\n",
      "  6.72748055e-08 7.84394800e-02 2.64184598e+05 6.61935503e-07]\n",
      " [5.99929462e+08 3.20000000e+01 5.00000000e+00 3.58712685e+00\n",
      "  4.04218486e-07 7.21999673e-02 7.14509854e+05 1.17998460e-10]\n",
      " [1.07586147e+08 3.20000000e+01 2.00000000e+00 5.96948715e+00\n",
      "  3.51950236e-07 3.76365798e-02 5.25244603e+05 1.46422044e-07]\n",
      " [7.19550867e+08 3.20000000e+01 5.00000000e+00 9.39806493e+00\n",
      "  4.43667417e-07 5.38598021e-02 5.06083682e+05 5.81999538e-07]\n",
      " [2.39448615e+08 1.28000000e+02 5.00000000e+00 5.66655939e+00\n",
      "  2.39929265e-07 5.64514399e-02 2.39039669e+05 2.60639013e-07]\n",
      " [8.15104532e+08 3.20000000e+01 5.00000000e+00 7.69838641e+00\n",
      "  2.23766582e-07 3.40769529e-02 3.00228011e+05 8.73192674e-07]\n",
      " [5.82604141e+08 8.00000000e+00 3.00000000e+00 5.77738077e+00\n",
      "  5.62469157e-07 4.57856700e-02 5.36152958e+04 2.95763814e-07]\n",
      " [7.23154834e+08 1.60000000e+01 2.00000000e+00 9.00284249e-01\n",
      "  8.28042749e-07 9.76902478e-02 1.97233029e+05 5.94725519e-07]\n",
      " [3.18797506e+08 1.28000000e+02 3.00000000e+00 7.70971049e+00\n",
      "  9.71768733e-07 4.75362089e-02 7.95961088e+05 2.47445491e-07]\n",
      " [3.95498573e+08 8.00000000e+00 2.00000000e+00 2.94583454e+00\n",
      "  8.04135839e-07 4.47504686e-02 4.94451056e+05 4.49328730e-07]\n",
      " [9.69030051e+08 1.28000000e+02 4.00000000e+00 4.33278393e+00\n",
      "  6.83209881e-07 7.59683364e-02 6.69366780e+05 8.85345359e-07]\n",
      " [3.04739709e+08 8.00000000e+00 2.00000000e+00 1.36784990e+00\n",
      "  1.74198316e-07 1.50431994e-02 5.90335770e+05 5.06113613e-08]\n",
      " [3.56749790e+08 2.56000000e+02 3.00000000e+00 3.92749947e+00\n",
      "  3.44002632e-08 2.88147651e-02 1.20571216e+04 1.28489728e-07]\n",
      " [6.90929761e+08 1.28000000e+02 2.00000000e+00 7.23996448e+00\n",
      "  1.93689876e-08 3.73947761e-02 1.10184253e+05 9.42084839e-07]\n",
      " [5.71265853e+07 1.28000000e+02 3.00000000e+00 6.94547697e+00\n",
      "  2.30144185e-08 7.33306578e-02 4.49391575e+05 2.89491315e-08]\n",
      " [7.48914451e+07 1.60000000e+01 4.00000000e+00 4.64020505e+00\n",
      "  5.92357017e-07 8.67398919e-02 3.19645018e+05 9.93589939e-07]\n",
      " [9.24391376e+08 3.20000000e+01 5.00000000e+00 3.40421218e+00\n",
      "  9.18957923e-07 5.47714326e-02 5.48638662e+05 2.35628190e-07]\n",
      " [2.11606336e+08 1.60000000e+01 4.00000000e+00 2.77316191e+00\n",
      "  2.54802231e-07 8.93891362e-02 9.71686111e+05 9.33215725e-07]\n",
      " [9.87017633e+08 1.28000000e+02 2.00000000e+00 9.60397002e+00\n",
      "  8.18946788e-08 1.90330205e-02 2.79972534e+05 4.66213484e-07]\n",
      " [8.89041925e+08 8.00000000e+00 5.00000000e+00 7.53702859e+00\n",
      "  6.92326905e-07 3.48092234e-02 4.73590438e+04 1.49096095e-08]\n",
      " [8.06022677e+08 8.00000000e+00 4.00000000e+00 8.97390233e+00\n",
      "  1.95384579e-07 5.23775708e-02 9.58590343e+05 8.34586125e-07]\n",
      " [1.43619185e+08 3.20000000e+01 2.00000000e+00 7.46973279e+00\n",
      "  3.33558227e-07 3.32590768e-02 8.25004474e+05 3.58149331e-07]\n",
      " [1.84151975e+08 8.00000000e+00 3.00000000e+00 5.34336634e+00\n",
      "  4.12229323e-07 5.46575808e-03 8.38947937e+05 9.03652558e-07]\n",
      " [5.63434083e+08 2.56000000e+02 4.00000000e+00 2.12185564e+00\n",
      "  2.49114413e-07 1.21521188e-02 3.06988194e+04 4.36756554e-07]]\n",
      "100\n"
     ]
    }
   ],
   "source": [
    "# LHS test:\n",
    "\n",
    "parameter_ranges = [\n",
    "            (1e3, 1e9), # Bw (Bandwidth)\n",
    "            [8, 16, 32, 64, 128, 256], # osr (Oversampling Ratio) - Discrete\n",
    "            [2, 3, 4, 5], # nlev (Number of Levels) - Discrete\n",
    "            (1e-3, 1e1), # Hinf (Infinity Gain)\n",
    "            (1e-12, 1e-6), # Cint (Integration Capacitance)\n",
    "            (1e-3, 1e-1), # gm (Transconductance)\n",
    "            (1e3, 1e6), # Ro (Output Resistance)\n",
    "            (1e-12, 1e-6), # Co (Output Capacitance)\n",
    "        ]\n",
    "discrete_params = [\n",
    "        (1, [8, 16, 32, 64, 128, 256]), # osr (discrete)\n",
    "        (2, [2, 3, 4, 5]) # nlev (discrete)\n",
    "    ]\n",
    "\n",
    "num_samples = 100 # number of samples\n",
    "lhs_samples = lhs_sampling(parameter_ranges, num_samples, discrete_params)\n",
    "\n",
    "print(lhs_samples)\n",
    "print(len(lhs_samples))"
   ]
  },
  {
   "cell_type": "code",
   "execution_count": null,
   "id": "dfb77902",
   "metadata": {},
   "outputs": [],
   "source": []
  },
  {
   "cell_type": "code",
   "execution_count": null,
   "id": "6fa3f615",
   "metadata": {},
   "outputs": [],
   "source": []
  },
  {
   "cell_type": "code",
   "execution_count": 5,
   "id": "4462d38c",
   "metadata": {},
   "outputs": [],
   "source": [
    "def simulate_circuit(form, order, implementation, params):\n",
    "    \"\"\"\n",
    "    Simulate the circuit and return the SNR value based on the selected\n",
    "    form, order and implementation\n",
    "    \n",
    "    Args:\n",
    "    - form (str): The (continuous) form of the filter ('FB', 'FF')\n",
    "    - order (int): The order of the filter (2, 3, 4)\n",
    "    - implementation (str): The implementation type ('Active-RC', 'Gm-C')\n",
    "    - params (dict): A dictionary containing the parameters for the simulation\n",
    "    \n",
    "    Returns:\n",
    "    - max_snr (float): The maximum SNR value obtained from the simulation\n",
    "    \"\"\"\n",
    "    \n",
    "    # define parameters:\n",
    "    Bw = params.get('Bw')\n",
    "    osr = params.get('osr')\n",
    "    nlev = params.get('nlev')\n",
    "    Hinf = params.get('Hinf')\n",
    "    f0 = 0.\n",
    "    tdac = [0, 1]\n",
    "    \n",
    "    # compute the sampling frequency:\n",
    "    fs = Bw * osr * 2\n",
    "    \n",
    "    # synthesize the optimal NTF (Noise Transfer Function)\n",
    "    ntf = cb.delsig.synthesizeNTF(order, osr, 2, Hinf, f0)\n",
    "    \n",
    "    # create analog frontend:\n",
    "    dt = 1.0 / fs\n",
    "    ABCDc, tdac2 = cb.delsig.realizeNTF_ct(ntf, form, tdac)\n",
    "    analog_frontend = cb.AnalogFrontend.ctsdm(ABCDc, tdac2, dt, nlev)\n",
    "    analog_frontend.dt = 1.0 / fs\n",
    "    \n",
    "    # run the SNR simulation (depending on the implementation):\n",
    "    if implementation == 'Active-RC':\n",
    "        max_snr = simulate_snr_active_rc(params, order, osr, analog_frontend)\n",
    "    elif implementation == 'Gm-C':\n",
    "        max_snr = simulate_snr_gm_c(params, order, osr, analog_frontend)    \n",
    "    else:\n",
    "        raise ValueError(f\"Unknown implementation type: {implementation}\")\n",
    "    \n",
    "    return max_snr\n",
    "\n",
    "\n",
    "\n",
    "def simulate_snr_active_rc(params, order, osr, analog_frontend):\n",
    "    \"\"\"\n",
    "    Simulate the SNR for Active-RC implementation\n",
    "    \n",
    "    Args:\n",
    "    - params (dict): The parameter set\n",
    "    - order (int): The order of the filter (2, 3, 4)\n",
    "    - osr (int): The oversampling ratio\n",
    "    \n",
    "    Returns:\n",
    "    - snr (float): The simulated SNR value.\n",
    "    \"\"\"\n",
    "    \n",
    "    # define parameters:\n",
    "    Cint = np.ones(order) * params.get('Cint')\n",
    "    gm = np.ones(order) * params.get('gm')\n",
    "    Ro = np.ones(order) * params.get('Ro')\n",
    "    Co = np.ones(order) * params.get('Co')\n",
    "    \n",
    "    # simulate SNR:\n",
    "    try:\n",
    "        ActiveRC_analog_frontend = cb.ActiveRC(\n",
    "            analog_frontend, Cint, gm, Ro, Co\n",
    "        )\n",
    "                \n",
    "        snr_ActiveRC, amp_ActiveRC, _ = ActiveRC_analog_frontend.simulateSNR(osr)\n",
    "        max_snr_ActiveRC = max(snr_ActiveRC)\n",
    "        \n",
    "        if not np.isnan(max_snr_ActiveRC):\n",
    "            print(f\"Achieved SNR: {max_snr_ActiveRC} db\")\n",
    "            return max_snr_ActiveRC\n",
    "        else:\n",
    "            return None\n",
    "        \n",
    "    except (LinAlgError, ValueError) as e:\n",
    "        print(f\"Error with Active-RC parameters {params}: {e}\")\n",
    "        return None\n",
    "\n",
    "\n",
    "\n",
    "# Function to simulate SNR for Gm-C\n",
    "def simulate_snr_gm_c(params, order, osr, analog_frontend):\n",
    "    \"\"\"\n",
    "    Simulate the SNR for Gm-C implementation\n",
    "    \n",
    "    Args:\n",
    "    - params (dict): The parameter set\n",
    "    - order (int): The order of the filter (2, 3, 4)\n",
    "    - osr (int): The oversampling ratio\n",
    "    \n",
    "    Returns:\n",
    "    - snr (float): The simulated SNR value\n",
    "    \"\"\" \n",
    "    \n",
    "    # define parameters:\n",
    "    Cint = np.ones(order) * params.get('Cint')\n",
    "    Ro = np.ones(order) * params.get('Ro')\n",
    "    Cp = np.ones(order) * params.get('Cp')\n",
    "    v_n = np.ones(order) * params.get('v_n')\n",
    "    slew_rate = np.ones(order) * params.get('slew_rate')\n",
    "    v_out_max = np.ones(order) * params.get('output_swing')\n",
    "    v_out_min = -v_out_max\n",
    "    \n",
    "    # simulate SNR:\n",
    "    try:\n",
    "        GmC_analog_frontend = cb.GmC(\n",
    "            analog_frontend, Cint, Ro, Cp, v_n, v_out_max, v_out_min, slew_rate\n",
    "        )\n",
    "    \n",
    "        snr_GmC, amp_GmC, _ = GmC_analog_frontend.simulateSNR(osr)\n",
    "        max_snr_GmC = max(snr_GmC)\n",
    "\n",
    "        if not np.isnan(max_snr_GmC):\n",
    "            print(f\"Achieved SNR: {max_snr_GmC} db\")\n",
    "            return max_snr_GmC\n",
    "        else:\n",
    "            return None\n",
    "    \n",
    "    except (LinAlgError, ValueError) as e:\n",
    "        print(f\"Error with Gm-C parameters {params}: {e}\")\n",
    "        return None"
   ]
  },
  {
   "cell_type": "code",
   "execution_count": 6,
   "id": "380fa324",
   "metadata": {},
   "outputs": [
    {
     "name": "stderr",
     "output_type": "stream",
     "text": [
      "C:\\Users\\frang\\AppData\\Local\\Packages\\PythonSoftwareFoundation.Python.3.11_qbz5n2kfra8p0\\LocalCache\\local-packages\\Python311\\site-packages\\scipy\\signal\\_ltisys.py:599: BadCoefficients: Badly conditioned filter coefficients (numerator): the results may be meaningless\n",
      "  self.num, self.den = normalize(*system)\n",
      "C:\\Users\\frang\\AppData\\Local\\Packages\\PythonSoftwareFoundation.Python.3.11_qbz5n2kfra8p0\\LocalCache\\local-packages\\Python311\\site-packages\\scipy\\signal\\_filter_design.py:1125: BadCoefficients: Badly conditioned filter coefficients (numerator): the results may be meaningless\n",
      "  b, a = normalize(b, a)\n",
      "INFO:root:Simulating continuous-time analog frontend for sinusoidal input\n"
     ]
    },
    {
     "name": "stdout",
     "output_type": "stream",
     "text": [
      "Achieved SNR: 73.9091408220696 db\n"
     ]
    }
   ],
   "source": [
    "# simulation test:\n",
    "\n",
    "params = {'form': 'FB', 'order': 2, 'Bw': 20e3, 'osr': 64, 'nlev': 2.0, 'Hinf': 1.5, 'implementation': 'Active-RC', 'Cint': 1e-12, 'gm': 0.01, 'Ro': 1e4, 'Co': 1e-12}\n",
    "snr = simulate_circuit('FB', 2, 'Active-RC', params)"
   ]
  },
  {
   "cell_type": "code",
   "execution_count": null,
   "id": "b45b2d80",
   "metadata": {},
   "outputs": [],
   "source": []
  },
  {
   "cell_type": "code",
   "execution_count": null,
   "id": "99f2e199",
   "metadata": {},
   "outputs": [],
   "source": []
  },
  {
   "cell_type": "code",
   "execution_count": 7,
   "id": "25b66335",
   "metadata": {},
   "outputs": [],
   "source": [
    "def filter_parameter_relationships(params, implementation):\n",
    "    \"\"\"\n",
    "    Apply relationships-based filters to ensure that the parameters \n",
    "    comply with physical and stability constraints\n",
    "\n",
    "    Args:\n",
    "    - params (dict): The parameters set\n",
    "    - implementation (str): The implementation type ('Active-RC', 'Gm-C')\n",
    "\n",
    "    Returns:\n",
    "    - cond (bool): True if the parameters are valid, False otherwise\n",
    "    \"\"\"\n",
    "    \n",
    "    # add relationships between parameters as needed:\n",
    "    \n",
    "    \"\"\"\n",
    "    Example:\n",
    "    \n",
    "    if implementation == 'Active-RC':\n",
    "        gm = params.get('gm')\n",
    "        Ro = params.get('Ro')\n",
    "\n",
    "        if gm * Ro > 1e3:\n",
    "            return False # invalid relationship\n",
    "\n",
    "    elif implementation == 'Gm-C':\n",
    "        gm = params.get('gm')\n",
    "        Ro = params.get('Ro')\n",
    "\n",
    "        if gm * Ro < 1e-2:\n",
    "            return False # invalid relationship\n",
    "    \"\"\"\n",
    "    \n",
    "    return True # if no issues, return True to indicate the parameters are valid"
   ]
  },
  {
   "cell_type": "code",
   "execution_count": null,
   "id": "17c75465",
   "metadata": {},
   "outputs": [],
   "source": []
  },
  {
   "cell_type": "code",
   "execution_count": null,
   "id": "c7ca7aa7",
   "metadata": {},
   "outputs": [],
   "source": []
  },
  {
   "cell_type": "code",
   "execution_count": 8,
   "id": "304247ff",
   "metadata": {},
   "outputs": [
    {
     "name": "stderr",
     "output_type": "stream",
     "text": [
      "INFO:root:Simulating continuous-time analog frontend for sinusoidal input\n",
      "C:\\Users\\frang\\AppData\\Local\\Packages\\PythonSoftwareFoundation.Python.3.11_qbz5n2kfra8p0\\LocalCache\\local-packages\\Python311\\site-packages\\scipy\\signal\\_ltisys.py:3137: ComplexWarning: Casting complex values to real discards the imaginary part\n",
      "  yout[i, :] = (np.dot(system.C, xout[i, :]) +\n",
      "C:\\Users\\frang\\AppData\\Local\\Packages\\PythonSoftwareFoundation.Python.3.11_qbz5n2kfra8p0\\LocalCache\\local-packages\\Python311\\site-packages\\scipy\\signal\\_ltisys.py:3141: ComplexWarning: Casting complex values to real discards the imaginary part\n",
      "  yout[out_samples-1, :] = (np.dot(system.C, xout[out_samples-1, :]) +\n",
      "INFO:root:Simulating continuous-time analog frontend for sinusoidal input\n"
     ]
    },
    {
     "name": "stdout",
     "output_type": "stream",
     "text": [
      "Error with Active-RC parameters {'Bw': np.float64(7097446766.865976), 'osr': 64, 'nlev': 4, 'Hinf': np.float64(1.2901971117563211), 'Cint': np.float64(3.579581163631779e-12), 'gm': np.float64(0.0006109817879558087), 'Ro': np.float64(7509795.882788671), 'Co': np.float64(4.81969295730607e-13)}: The associated Hamiltonian pencil has eigenvalues too close to the imaginary axis\n"
     ]
    },
    {
     "name": "stderr",
     "output_type": "stream",
     "text": [
      "INFO:root:Simulating continuous-time analog frontend for sinusoidal input\n"
     ]
    },
    {
     "name": "stdout",
     "output_type": "stream",
     "text": [
      "Error with Active-RC parameters {'Bw': np.float64(3524372896.915697), 'osr': 256, 'nlev': 2, 'Hinf': np.float64(1.544402154487626), 'Cint': np.float64(4.912388862891682e-12), 'gm': np.float64(7.658827816036257e-05), 'Ro': np.float64(3264340.8607567814), 'Co': np.float64(1.0887339215989456e-13)}: The associated Hamiltonian pencil has eigenvalues too close to the imaginary axis\n"
     ]
    },
    {
     "name": "stderr",
     "output_type": "stream",
     "text": [
      "INFO:root:Simulating continuous-time analog frontend for sinusoidal input\n"
     ]
    },
    {
     "name": "stdout",
     "output_type": "stream",
     "text": [
      "Error with Active-RC parameters {'Bw': np.float64(7203537290.666051), 'osr': 8, 'nlev': 5, 'Hinf': np.float64(1.9803216836626305), 'Cint': np.float64(1.3962207598997134e-12), 'gm': np.float64(0.00029133852972663965), 'Ro': np.float64(5768051.5018725395), 'Co': np.float64(6.89182649111088e-13)}: Failed to find a finite solution.\n"
     ]
    },
    {
     "name": "stderr",
     "output_type": "stream",
     "text": [
      "INFO:root:Simulating continuous-time analog frontend for sinusoidal input\n"
     ]
    },
    {
     "name": "stdout",
     "output_type": "stream",
     "text": [
      "Achieved SNR: 5.278834912975752 db\n"
     ]
    },
    {
     "name": "stderr",
     "output_type": "stream",
     "text": [
      "INFO:root:Simulating continuous-time analog frontend for sinusoidal input\n"
     ]
    },
    {
     "name": "stdout",
     "output_type": "stream",
     "text": [
      "Error with Active-RC parameters {'Bw': np.float64(738157646.2743722), 'osr': 8, 'nlev': 5, 'Hinf': np.float64(1.048967673869971), 'Cint': np.float64(4.224306438702894e-12), 'gm': np.float64(0.00026607164150099517), 'Ro': np.float64(2134770.2806465626), 'Co': np.float64(8.639250470933949e-13)}: The associated Hamiltonian pencil has eigenvalues too close to the imaginary axis\n"
     ]
    },
    {
     "name": "stderr",
     "output_type": "stream",
     "text": [
      "INFO:root:Simulating continuous-time analog frontend for sinusoidal input\n"
     ]
    },
    {
     "name": "stdout",
     "output_type": "stream",
     "text": [
      "Error with Active-RC parameters {'Bw': np.float64(5703541976.6986), 'osr': 16, 'nlev': 4, 'Hinf': np.float64(1.6644483325557227), 'Cint': np.float64(1.943885602757033e-12), 'gm': np.float64(0.0007518882818745044), 'Ro': np.float64(5519209.196776688), 'Co': np.float64(9.90359625504017e-13)}: The associated Hamiltonian pencil has eigenvalues too close to the imaginary axis\n"
     ]
    },
    {
     "name": "stderr",
     "output_type": "stream",
     "text": [
      "INFO:root:Simulating continuous-time analog frontend for sinusoidal input\n"
     ]
    },
    {
     "name": "stdout",
     "output_type": "stream",
     "text": [
      "Error with Active-RC parameters {'Bw': np.float64(9214460995.532766), 'osr': 64, 'nlev': 2, 'Hinf': np.float64(1.2421499331793144), 'Cint': np.float64(2.4395476265759183e-12), 'gm': np.float64(0.0008605267789422252), 'Ro': np.float64(8729423.362687076), 'Co': np.float64(3.730873938762196e-13)}: The associated Hamiltonian pencil has eigenvalues too close to the imaginary axis\n"
     ]
    },
    {
     "name": "stderr",
     "output_type": "stream",
     "text": [
      "INFO:root:Simulating continuous-time analog frontend for sinusoidal input\n"
     ]
    },
    {
     "name": "stdout",
     "output_type": "stream",
     "text": [
      "Error with Active-RC parameters {'Bw': np.float64(8282267415.462397), 'osr': 8, 'nlev': 3, 'Hinf': np.float64(1.4516799242158622), 'Cint': np.float64(3.699280915547596e-12), 'gm': np.float64(5.5826589749470305e-05), 'Ro': np.float64(4531258.494796172), 'Co': np.float64(6.637311155850092e-13)}: Failed to find a finite solution.\n"
     ]
    },
    {
     "name": "stderr",
     "output_type": "stream",
     "text": [
      "INFO:root:Simulating continuous-time analog frontend for sinusoidal input\n"
     ]
    },
    {
     "name": "stdout",
     "output_type": "stream",
     "text": [
      "Achieved SNR: 77.75380254778239 db\n"
     ]
    },
    {
     "name": "stderr",
     "output_type": "stream",
     "text": [
      "INFO:root:Simulating continuous-time analog frontend for sinusoidal input\n"
     ]
    },
    {
     "name": "stdout",
     "output_type": "stream",
     "text": [
      "Error with Active-RC parameters {'Bw': np.float64(4658814965.038241), 'osr': 32, 'nlev': 4, 'Hinf': np.float64(1.0229178772197527), 'Cint': np.float64(3.232777059076935e-12), 'gm': np.float64(0.0006683103409422722), 'Ro': np.float64(829006.318895304), 'Co': np.float64(1.5898029193577134e-13)}: The associated Hamiltonian pencil has eigenvalues too close to the imaginary axis\n"
     ]
    },
    {
     "name": "stderr",
     "output_type": "stream",
     "text": [
      "INFO:root:Simulating continuous-time analog frontend for sinusoidal input\n"
     ]
    },
    {
     "name": "stdout",
     "output_type": "stream",
     "text": [
      "Error with Active-RC parameters {'Bw': np.float64(5820462302.91093), 'osr': 64, 'nlev': 4, 'Hinf': np.float64(1.6706597755391122), 'Cint': np.float64(1.397766281357799e-12), 'gm': np.float64(0.0007947589748065431), 'Ro': np.float64(8067239.450398857), 'Co': np.float64(4.4857733101631135e-13)}: The associated Hamiltonian pencil has eigenvalues too close to the imaginary axis\n"
     ]
    },
    {
     "name": "stderr",
     "output_type": "stream",
     "text": [
      "INFO:root:Simulating continuous-time analog frontend for sinusoidal input\n"
     ]
    },
    {
     "name": "stdout",
     "output_type": "stream",
     "text": [
      "Achieved SNR: 68.65957975056239 db\n"
     ]
    },
    {
     "name": "stderr",
     "output_type": "stream",
     "text": [
      "INFO:root:Simulating continuous-time analog frontend for sinusoidal input\n"
     ]
    },
    {
     "name": "stdout",
     "output_type": "stream",
     "text": [
      "Error with Active-RC parameters {'Bw': np.float64(4037907408.3184175), 'osr': 64, 'nlev': 5, 'Hinf': np.float64(1.3197860997662403), 'Cint': np.float64(2.626099974651964e-12), 'gm': np.float64(0.0003196988013870571), 'Ro': np.float64(6721841.002428785), 'Co': np.float64(8.382693459196655e-13)}: The associated Hamiltonian pencil has eigenvalues too close to the imaginary axis\n"
     ]
    },
    {
     "name": "stderr",
     "output_type": "stream",
     "text": [
      "INFO:root:Simulating continuous-time analog frontend for sinusoidal input\n"
     ]
    },
    {
     "name": "stdout",
     "output_type": "stream",
     "text": [
      "Error with Active-RC parameters {'Bw': np.float64(9768216110.267977), 'osr': 128, 'nlev': 4, 'Hinf': np.float64(1.741741461198846), 'Cint': np.float64(4.898927329131173e-12), 'gm': np.float64(0.0004878993198636189), 'Ro': np.float64(3455055.7944824332), 'Co': np.float64(9.5019963584765e-13)}: The associated Hamiltonian pencil has eigenvalues too close to the imaginary axis\n"
     ]
    },
    {
     "name": "stderr",
     "output_type": "stream",
     "text": [
      "INFO:root:Simulating continuous-time analog frontend for sinusoidal input\n"
     ]
    },
    {
     "name": "stdout",
     "output_type": "stream",
     "text": [
      "Achieved SNR: 74.02761882141647 db\n"
     ]
    },
    {
     "name": "stderr",
     "output_type": "stream",
     "text": [
      "INFO:root:Simulating continuous-time analog frontend for sinusoidal input\n"
     ]
    },
    {
     "name": "stdout",
     "output_type": "stream",
     "text": [
      "Error with Active-RC parameters {'Bw': np.float64(1596462162.2909708), 'osr': 8, 'nlev': 4, 'Hinf': np.float64(1.8789557783706496), 'Cint': np.float64(2.6125339570104234e-12), 'gm': np.float64(0.0003594625495149248), 'Ro': np.float64(9831055.394938406), 'Co': np.float64(9.398378598759958e-13)}: The associated Hamiltonian pencil has eigenvalues too close to the imaginary axis\n"
     ]
    },
    {
     "name": "stderr",
     "output_type": "stream",
     "text": [
      "INFO:root:Simulating continuous-time analog frontend for sinusoidal input\n"
     ]
    },
    {
     "name": "stdout",
     "output_type": "stream",
     "text": [
      "Error with Active-RC parameters {'Bw': np.float64(4302537695.628593), 'osr': 128, 'nlev': 5, 'Hinf': np.float64(1.076794729011917), 'Cint': np.float64(4.548629223621389e-12), 'gm': np.float64(0.0007645471423232293), 'Ro': np.float64(4929114.562882846), 'Co': np.float64(4.0903809981354615e-13)}: The associated Hamiltonian pencil has eigenvalues too close to the imaginary axis\n"
     ]
    },
    {
     "name": "stderr",
     "output_type": "stream",
     "text": [
      "INFO:root:Simulating continuous-time analog frontend for sinusoidal input\n"
     ]
    },
    {
     "name": "stdout",
     "output_type": "stream",
     "text": [
      "Error with Active-RC parameters {'Bw': np.float64(5954394301.224453), 'osr': 64, 'nlev': 5, 'Hinf': np.float64(1.6039539816709716), 'Cint': np.float64(9.905167271997596e-13), 'gm': np.float64(0.0006961574346046909), 'Ro': np.float64(464411.0114347069), 'Co': np.float64(5.453065679666396e-13)}: The associated Hamiltonian pencil has eigenvalues too close to the imaginary axis\n"
     ]
    },
    {
     "name": "stderr",
     "output_type": "stream",
     "text": [
      "INFO:root:Simulating continuous-time analog frontend for sinusoidal input\n"
     ]
    },
    {
     "name": "stdout",
     "output_type": "stream",
     "text": [
      "Error with Active-RC parameters {'Bw': np.float64(8270544540.781471), 'osr': 128, 'nlev': 2, 'Hinf': np.float64(1.826624493942456), 'Cint': np.float64(2.4429738958763947e-13), 'gm': np.float64(4.59328782161011e-05), 'Ro': np.float64(7691865.2852543015), 'Co': np.float64(7.370839945174233e-14)}: The associated Hamiltonian pencil has eigenvalues too close to the imaginary axis\n"
     ]
    },
    {
     "name": "stderr",
     "output_type": "stream",
     "text": [
      "INFO:root:Simulating continuous-time analog frontend for sinusoidal input\n"
     ]
    },
    {
     "name": "stdout",
     "output_type": "stream",
     "text": [
      "Error with Active-RC parameters {'Bw': np.float64(9073058411.716764), 'osr': 128, 'nlev': 5, 'Hinf': np.float64(1.5167954292065908), 'Cint': np.float64(3.350824207369355e-12), 'gm': np.float64(0.00023275584361694935), 'Ro': np.float64(6050724.095904501), 'Co': np.float64(7.617783814953355e-13)}: Failed to find a finite solution.\n"
     ]
    },
    {
     "name": "stderr",
     "output_type": "stream",
     "text": [
      "INFO:root:Simulating continuous-time analog frontend for sinusoidal input\n"
     ]
    },
    {
     "name": "stdout",
     "output_type": "stream",
     "text": [
      "Achieved SNR: 17.265796825942118 db\n"
     ]
    },
    {
     "name": "stderr",
     "output_type": "stream",
     "text": [
      "INFO:root:Simulating continuous-time analog frontend for sinusoidal input\n"
     ]
    },
    {
     "name": "stdout",
     "output_type": "stream",
     "text": [
      "Error with Active-RC parameters {'Bw': np.float64(8516856695.225299), 'osr': 32, 'nlev': 2, 'Hinf': np.float64(1.391752046826459), 'Cint': np.float64(1.2658532280122107e-12), 'gm': np.float64(0.0009756965258284415), 'Ro': np.float64(9179208.36940638), 'Co': np.float64(2.335032139810244e-13)}: The associated Hamiltonian pencil has eigenvalues too close to the imaginary axis\n"
     ]
    },
    {
     "name": "stderr",
     "output_type": "stream",
     "text": [
      "INFO:root:Simulating continuous-time analog frontend for sinusoidal input\n"
     ]
    },
    {
     "name": "stdout",
     "output_type": "stream",
     "text": [
      "Achieved SNR: 16.374318580352405 db\n"
     ]
    },
    {
     "name": "stderr",
     "output_type": "stream",
     "text": [
      "INFO:root:Simulating continuous-time analog frontend for sinusoidal input\n"
     ]
    },
    {
     "name": "stdout",
     "output_type": "stream",
     "text": [
      "Error with Active-RC parameters {'Bw': np.float64(5495626604.6856785), 'osr': 128, 'nlev': 2, 'Hinf': np.float64(1.2378893283715429), 'Cint': np.float64(4.862004836553165e-12), 'gm': np.float64(0.0005836701181107975), 'Ro': np.float64(7288051.733792398), 'Co': np.float64(7.404551911781007e-13)}: The associated Hamiltonian pencil has eigenvalues too close to the imaginary axis\n"
     ]
    },
    {
     "name": "stderr",
     "output_type": "stream",
     "text": [
      "INFO:root:Simulating continuous-time analog frontend for sinusoidal input\n"
     ]
    },
    {
     "name": "stdout",
     "output_type": "stream",
     "text": [
      "Error with Active-RC parameters {'Bw': np.float64(3315018422.7322474), 'osr': 16, 'nlev': 2, 'Hinf': np.float64(1.628656339661509), 'Cint': np.float64(1.5282583040824948e-12), 'gm': np.float64(0.00039387051349324824), 'Ro': np.float64(6108863.411198186), 'Co': np.float64(5.278422261543826e-13)}: The associated Hamiltonian pencil has eigenvalues too close to the imaginary axis\n"
     ]
    },
    {
     "name": "stderr",
     "output_type": "stream",
     "text": [
      "INFO:root:Simulating continuous-time analog frontend for sinusoidal input\n"
     ]
    },
    {
     "name": "stdout",
     "output_type": "stream",
     "text": [
      "Error with Active-RC parameters {'Bw': np.float64(1649179496.401135), 'osr': 16, 'nlev': 5, 'Hinf': np.float64(1.759997489919232), 'Cint': np.float64(4.0637936296686e-12), 'gm': np.float64(4.669090363078057e-05), 'Ro': np.float64(3619862.1730756033), 'Co': np.float64(1.2136311290882668e-13)}: The associated Hamiltonian pencil has eigenvalues too close to the imaginary axis\n"
     ]
    },
    {
     "name": "stderr",
     "output_type": "stream",
     "text": [
      "INFO:root:Simulating continuous-time analog frontend for sinusoidal input\n"
     ]
    },
    {
     "name": "stdout",
     "output_type": "stream",
     "text": [
      "Error with Active-RC parameters {'Bw': np.float64(9053087556.06323), 'osr': 8, 'nlev': 2, 'Hinf': np.float64(1.5415233614517172), 'Cint': np.float64(2.7352786692689285e-12), 'gm': np.float64(0.0004867321248112299), 'Ro': np.float64(4828474.264500967), 'Co': np.float64(9.469265778079562e-13)}: Failed to find a finite solution.\n"
     ]
    },
    {
     "name": "stderr",
     "output_type": "stream",
     "text": [
      "INFO:root:Simulating continuous-time analog frontend for sinusoidal input\n"
     ]
    },
    {
     "name": "stdout",
     "output_type": "stream",
     "text": [
      "Error with Active-RC parameters {'Bw': np.float64(5735411850.191339), 'osr': 64, 'nlev': 4, 'Hinf': np.float64(1.1298364630499482), 'Cint': np.float64(6.886589914204282e-13), 'gm': np.float64(0.0007621717698223964), 'Ro': np.float64(1496850.78965513), 'Co': np.float64(6.562907608343403e-13)}: The associated Hamiltonian pencil has eigenvalues too close to the imaginary axis\n"
     ]
    },
    {
     "name": "stderr",
     "output_type": "stream",
     "text": [
      "INFO:root:Simulating continuous-time analog frontend for sinusoidal input\n"
     ]
    },
    {
     "name": "stdout",
     "output_type": "stream",
     "text": [
      "Error with Active-RC parameters {'Bw': np.float64(8401302279.224988), 'osr': 32, 'nlev': 3, 'Hinf': np.float64(1.2674630241525868), 'Cint': np.float64(7.567905440447771e-13), 'gm': np.float64(0.00012858452668906497), 'Ro': np.float64(6251980.432417594), 'Co': np.float64(3.8091276403632014e-13)}: Failed to find a finite solution.\n"
     ]
    },
    {
     "name": "stderr",
     "output_type": "stream",
     "text": [
      "INFO:root:Simulating continuous-time analog frontend for sinusoidal input\n"
     ]
    },
    {
     "name": "stdout",
     "output_type": "stream",
     "text": [
      "Achieved SNR: 35.258981622749786 db\n"
     ]
    },
    {
     "name": "stderr",
     "output_type": "stream",
     "text": [
      "INFO:root:Simulating continuous-time analog frontend for sinusoidal input\n"
     ]
    },
    {
     "name": "stdout",
     "output_type": "stream",
     "text": [
      "Achieved SNR: 83.01111662949909 db\n"
     ]
    },
    {
     "name": "stderr",
     "output_type": "stream",
     "text": [
      "INFO:root:Simulating continuous-time analog frontend for sinusoidal input\n"
     ]
    },
    {
     "name": "stdout",
     "output_type": "stream",
     "text": [
      "Achieved SNR: 3.4570046042446685 db\n"
     ]
    },
    {
     "name": "stderr",
     "output_type": "stream",
     "text": [
      "INFO:root:Simulating continuous-time analog frontend for sinusoidal input\n"
     ]
    },
    {
     "name": "stdout",
     "output_type": "stream",
     "text": [
      "Error with Active-RC parameters {'Bw': np.float64(4934309726.383787), 'osr': 256, 'nlev': 4, 'Hinf': np.float64(1.7145651987806385), 'Cint': np.float64(3.782717214265876e-12), 'gm': np.float64(0.0005856802698287113), 'Ro': np.float64(3407105.746177001), 'Co': np.float64(6.641550723612098e-13)}: The associated Hamiltonian pencil has eigenvalues too close to the imaginary axis\n"
     ]
    },
    {
     "name": "stderr",
     "output_type": "stream",
     "text": [
      "INFO:root:Simulating continuous-time analog frontend for sinusoidal input\n"
     ]
    },
    {
     "name": "stdout",
     "output_type": "stream",
     "text": [
      "Error with Active-RC parameters {'Bw': np.float64(9339548540.202785), 'osr': 16, 'nlev': 4, 'Hinf': np.float64(1.570371018726981), 'Cint': np.float64(1.3813565326674906e-12), 'gm': np.float64(0.00021038643140536167), 'Ro': np.float64(631647.9853201983), 'Co': np.float64(5.383679997215135e-13)}: Failed to find a finite solution.\n"
     ]
    },
    {
     "name": "stderr",
     "output_type": "stream",
     "text": [
      "INFO:root:Simulating continuous-time analog frontend for sinusoidal input\n"
     ]
    },
    {
     "name": "stdout",
     "output_type": "stream",
     "text": [
      "Error with Active-RC parameters {'Bw': np.float64(4150819386.2631764), 'osr': 128, 'nlev': 3, 'Hinf': np.float64(1.0118473414533846), 'Cint': np.float64(3.3760439745621134e-12), 'gm': np.float64(0.0002947656853894135), 'Ro': np.float64(7905151.81043976), 'Co': np.float64(8.235309389295656e-13)}: The associated Hamiltonian pencil has eigenvalues too close to the imaginary axis\n"
     ]
    },
    {
     "name": "stderr",
     "output_type": "stream",
     "text": [
      "INFO:root:Simulating continuous-time analog frontend for sinusoidal input\n"
     ]
    },
    {
     "name": "stdout",
     "output_type": "stream",
     "text": [
      "Error with Active-RC parameters {'Bw': np.float64(9265695164.290354), 'osr': 16, 'nlev': 5, 'Hinf': np.float64(1.7235942418119965), 'Cint': np.float64(1.670861388432274e-12), 'gm': np.float64(0.0009443341168144351), 'Ro': np.float64(5748943.623125264), 'Co': np.float64(2.4338005035328655e-13)}: The associated Hamiltonian pencil has eigenvalues too close to the imaginary axis\n"
     ]
    },
    {
     "name": "stderr",
     "output_type": "stream",
     "text": [
      "INFO:root:Simulating continuous-time analog frontend for sinusoidal input\n"
     ]
    },
    {
     "name": "stdout",
     "output_type": "stream",
     "text": [
      "Error with Active-RC parameters {'Bw': np.float64(1339959703.3200645), 'osr': 64, 'nlev': 2, 'Hinf': np.float64(1.8732124209964742), 'Cint': np.float64(4.59625218172299e-12), 'gm': np.float64(0.0006647389319716827), 'Ro': np.float64(8575993.81954212), 'Co': np.float64(7.553359775912239e-13)}: Reordering of (A, B) failed because the transformed matrix pair (A, B) would be too far from generalized Schur form; the problem is very ill-conditioned. (A, B) may have been partially reordered.\n"
     ]
    },
    {
     "name": "stderr",
     "output_type": "stream",
     "text": [
      "INFO:root:Simulating continuous-time analog frontend for sinusoidal input\n"
     ]
    },
    {
     "name": "stdout",
     "output_type": "stream",
     "text": [
      "Achieved SNR: 40.22480420283485 db\n"
     ]
    },
    {
     "name": "stderr",
     "output_type": "stream",
     "text": [
      "INFO:root:Simulating continuous-time analog frontend for sinusoidal input\n"
     ]
    },
    {
     "name": "stdout",
     "output_type": "stream",
     "text": [
      "Error with Active-RC parameters {'Bw': np.float64(4588765227.432726), 'osr': 128, 'nlev': 3, 'Hinf': np.float64(1.2098052456522066), 'Cint': np.float64(3.865387080412185e-12), 'gm': np.float64(0.00014010368311469655), 'Ro': np.float64(6426004.91275568), 'Co': np.float64(5.20654203039038e-13)}: Failed to find a finite solution.\n"
     ]
    },
    {
     "name": "stderr",
     "output_type": "stream",
     "text": [
      "INFO:root:Simulating continuous-time analog frontend for sinusoidal input\n"
     ]
    },
    {
     "name": "stdout",
     "output_type": "stream",
     "text": [
      "Error with Active-RC parameters {'Bw': np.float64(6308292572.143851), 'osr': 32, 'nlev': 2, 'Hinf': np.float64(1.4717657402897724), 'Cint': np.float64(1.0214996282111889e-12), 'gm': np.float64(0.0008347128974537544), 'Ro': np.float64(1135464.6253088308), 'Co': np.float64(4.523648519725526e-13)}: The associated Hamiltonian pencil has eigenvalues too close to the imaginary axis\n"
     ]
    },
    {
     "name": "stderr",
     "output_type": "stream",
     "text": [
      "INFO:root:Simulating continuous-time analog frontend for sinusoidal input\n"
     ]
    },
    {
     "name": "stdout",
     "output_type": "stream",
     "text": [
      "Error with Active-RC parameters {'Bw': np.float64(7342390817.845665), 'osr': 32, 'nlev': 4, 'Hinf': np.float64(1.0844992227623116), 'Cint': np.float64(3.3016289162476663e-12), 'gm': np.float64(0.0004908806997308489), 'Ro': np.float64(9697791.15398669), 'Co': np.float64(9.110530904282503e-13)}: The associated Hamiltonian pencil has eigenvalues too close to the imaginary axis\n"
     ]
    },
    {
     "name": "stderr",
     "output_type": "stream",
     "text": [
      "INFO:root:Simulating continuous-time analog frontend for sinusoidal input\n"
     ]
    },
    {
     "name": "stdout",
     "output_type": "stream",
     "text": [
      "Error with Active-RC parameters {'Bw': np.float64(4044746273.315798), 'osr': 8, 'nlev': 5, 'Hinf': np.float64(1.6125788835429622), 'Cint': np.float64(2.599136694497431e-12), 'gm': np.float64(0.00032463451431679827), 'Ro': np.float64(2447676.142151458), 'Co': np.float64(6.167839048750436e-13)}: The associated Hamiltonian pencil has eigenvalues too close to the imaginary axis\n"
     ]
    },
    {
     "name": "stderr",
     "output_type": "stream",
     "text": [
      "INFO:root:Simulating continuous-time analog frontend for sinusoidal input\n"
     ]
    },
    {
     "name": "stdout",
     "output_type": "stream",
     "text": [
      "Error with Active-RC parameters {'Bw': np.float64(7861166433.342782), 'osr': 256, 'nlev': 2, 'Hinf': np.float64(1.3484470676572577), 'Cint': np.float64(9.492664536723392e-13), 'gm': np.float64(0.0008597648020491282), 'Ro': np.float64(8046148.500776003), 'Co': np.float64(7.678541587781463e-13)}: The associated Hamiltonian pencil has eigenvalues too close to the imaginary axis\n"
     ]
    },
    {
     "name": "stderr",
     "output_type": "stream",
     "text": [
      "INFO:root:Simulating continuous-time analog frontend for sinusoidal input\n"
     ]
    },
    {
     "name": "stdout",
     "output_type": "stream",
     "text": [
      "Error with Active-RC parameters {'Bw': np.float64(4088896822.2591815), 'osr': 16, 'nlev': 5, 'Hinf': np.float64(1.226246248798954), 'Cint': np.float64(3.215550069183208e-12), 'gm': np.float64(0.0004981640591009087), 'Ro': np.float64(4294122.343981733), 'Co': np.float64(1.782851710307622e-13)}: The associated Hamiltonian pencil has eigenvalues too close to the imaginary axis\n"
     ]
    },
    {
     "name": "stderr",
     "output_type": "stream",
     "text": [
      "INFO:root:Simulating continuous-time analog frontend for sinusoidal input\n"
     ]
    },
    {
     "name": "stdout",
     "output_type": "stream",
     "text": [
      "Error with Active-RC parameters {'Bw': np.float64(5161132419.414327), 'osr': 8, 'nlev': 4, 'Hinf': np.float64(1.0061799757974876), 'Cint': np.float64(3.998962248268142e-12), 'gm': np.float64(0.0006194102002231264), 'Ro': np.float64(5915077.960553819), 'Co': np.float64(2.951890248915963e-13)}: Failed to find a finite solution.\n"
     ]
    },
    {
     "name": "stderr",
     "output_type": "stream",
     "text": [
      "INFO:root:Simulating continuous-time analog frontend for sinusoidal input\n"
     ]
    },
    {
     "name": "stdout",
     "output_type": "stream",
     "text": [
      "Error with Active-RC parameters {'Bw': np.float64(1696874045.8395216), 'osr': 256, 'nlev': 4, 'Hinf': np.float64(1.6876385255212984), 'Cint': np.float64(4.8841249946239295e-12), 'gm': np.float64(6.931633908348575e-05), 'Ro': np.float64(9803081.170436032), 'Co': np.float64(5.926370644682913e-13)}: The associated Hamiltonian pencil has eigenvalues too close to the imaginary axis\n"
     ]
    },
    {
     "name": "stderr",
     "output_type": "stream",
     "text": [
      "INFO:root:Simulating continuous-time analog frontend for sinusoidal input\n"
     ]
    },
    {
     "name": "stdout",
     "output_type": "stream",
     "text": [
      "Error with Active-RC parameters {'Bw': np.float64(9340732674.425549), 'osr': 128, 'nlev': 3, 'Hinf': np.float64(1.7683378277909898), 'Cint': np.float64(2.4834153524523095e-12), 'gm': np.float64(0.0007596709976689283), 'Ro': np.float64(1000600.2629360744), 'Co': np.float64(7.247622679238126e-13)}: The associated Hamiltonian pencil has eigenvalues too close to the imaginary axis\n"
     ]
    },
    {
     "name": "stderr",
     "output_type": "stream",
     "text": [
      "INFO:root:Simulating continuous-time analog frontend for sinusoidal input\n"
     ]
    },
    {
     "name": "stdout",
     "output_type": "stream",
     "text": [
      "Error with Active-RC parameters {'Bw': np.float64(466890700.2000796), 'osr': 64, 'nlev': 4, 'Hinf': np.float64(1.9627728072807407), 'Cint': np.float64(7.25262872634248e-13), 'gm': np.float64(0.00024317241353747084), 'Ro': np.float64(4375223.098465137), 'Co': np.float64(8.998842842592288e-13)}: Reordering of (A, B) failed because the transformed matrix pair (A, B) would be too far from generalized Schur form; the problem is very ill-conditioned. (A, B) may have been partially reordered.\n"
     ]
    },
    {
     "name": "stderr",
     "output_type": "stream",
     "text": [
      "INFO:root:Simulating continuous-time analog frontend for sinusoidal input\n"
     ]
    },
    {
     "name": "stdout",
     "output_type": "stream",
     "text": [
      "Error with Active-RC parameters {'Bw': np.float64(6579383520.049208), 'osr': 32, 'nlev': 3, 'Hinf': np.float64(1.5510420407275842), 'Cint': np.float64(1.7872518850361666e-12), 'gm': np.float64(0.00037500387804267866), 'Ro': np.float64(2722608.6645994456), 'Co': np.float64(4.006632145930522e-13)}: The associated Hamiltonian pencil has eigenvalues too close to the imaginary axis\n"
     ]
    },
    {
     "name": "stderr",
     "output_type": "stream",
     "text": [
      "INFO:root:Simulating continuous-time analog frontend for sinusoidal input\n"
     ]
    },
    {
     "name": "stdout",
     "output_type": "stream",
     "text": [
      "Error with Active-RC parameters {'Bw': np.float64(9064556293.871832), 'osr': 32, 'nlev': 4, 'Hinf': np.float64(1.9635254741839199), 'Cint': np.float64(1.0016249010155776e-12), 'gm': np.float64(0.0005331341276494743), 'Ro': np.float64(1721173.502578994), 'Co': np.float64(8.147206696939567e-13)}: Failed to find a finite solution.\n"
     ]
    },
    {
     "name": "stderr",
     "output_type": "stream",
     "text": [
      "INFO:root:Simulating continuous-time analog frontend for sinusoidal input\n"
     ]
    },
    {
     "name": "stdout",
     "output_type": "stream",
     "text": [
      "Error with Active-RC parameters {'Bw': np.float64(433436508.7016838), 'osr': 8, 'nlev': 5, 'Hinf': np.float64(1.8278220656852975), 'Cint': np.float64(3.218965474889607e-12), 'gm': np.float64(0.0003129771205775572), 'Ro': np.float64(831825.9989098198), 'Co': np.float64(9.95329400992726e-13)}: Reordering of (A, B) failed because the transformed matrix pair (A, B) would be too far from generalized Schur form; the problem is very ill-conditioned. (A, B) may have been partially reordered.\n"
     ]
    },
    {
     "name": "stderr",
     "output_type": "stream",
     "text": [
      "INFO:root:Simulating continuous-time analog frontend for sinusoidal input\n"
     ]
    },
    {
     "name": "stdout",
     "output_type": "stream",
     "text": [
      "Error with Active-RC parameters {'Bw': np.float64(3391482165.5054965), 'osr': 256, 'nlev': 2, 'Hinf': np.float64(1.0906294734019626), 'Cint': np.float64(5.209357550680497e-13), 'gm': np.float64(4.741035080900289e-06), 'Ro': np.float64(8320628.370687334), 'Co': np.float64(5.775016226653731e-13)}: The associated Hamiltonian pencil has eigenvalues too close to the imaginary axis\n"
     ]
    },
    {
     "name": "stderr",
     "output_type": "stream",
     "text": [
      "INFO:root:Simulating continuous-time analog frontend for sinusoidal input\n"
     ]
    },
    {
     "name": "stdout",
     "output_type": "stream",
     "text": [
      "Error with Active-RC parameters {'Bw': np.float64(6524536370.38545), 'osr': 128, 'nlev': 5, 'Hinf': np.float64(1.4418996387300673), 'Cint': np.float64(2.5120716646166497e-12), 'gm': np.float64(0.0001969824639148073), 'Ro': np.float64(4036510.4366846564), 'Co': np.float64(3.0040950087503415e-13)}: The associated Hamiltonian pencil has eigenvalues too close to the imaginary axis\n"
     ]
    },
    {
     "name": "stderr",
     "output_type": "stream",
     "text": [
      "INFO:root:Simulating continuous-time analog frontend for sinusoidal input\n"
     ]
    },
    {
     "name": "stdout",
     "output_type": "stream",
     "text": [
      "Error with Active-RC parameters {'Bw': np.float64(5505809054.473601), 'osr': 256, 'nlev': 5, 'Hinf': np.float64(1.2310090356371859), 'Cint': np.float64(1.5583950222652674e-12), 'gm': np.float64(0.0009268641322553278), 'Ro': np.float64(4620024.990479565), 'Co': np.float64(6.529466301629879e-13)}: The associated Hamiltonian pencil has eigenvalues too close to the imaginary axis\n"
     ]
    },
    {
     "name": "stderr",
     "output_type": "stream",
     "text": [
      "INFO:root:Simulating continuous-time analog frontend for sinusoidal input\n"
     ]
    },
    {
     "name": "stdout",
     "output_type": "stream",
     "text": [
      "Achieved SNR: 33.621232586447206 db\n"
     ]
    },
    {
     "name": "stderr",
     "output_type": "stream",
     "text": [
      "INFO:root:Simulating continuous-time analog frontend for sinusoidal input\n"
     ]
    },
    {
     "name": "stdout",
     "output_type": "stream",
     "text": [
      "Achieved SNR: 37.84328628108922 db\n"
     ]
    },
    {
     "name": "stderr",
     "output_type": "stream",
     "text": [
      "INFO:root:Simulating continuous-time analog frontend for sinusoidal input\n"
     ]
    },
    {
     "name": "stdout",
     "output_type": "stream",
     "text": [
      "Error with Active-RC parameters {'Bw': np.float64(4238600175.4272103), 'osr': 16, 'nlev': 5, 'Hinf': np.float64(1.193536296868316), 'Cint': np.float64(2.5969498590773606e-12), 'gm': np.float64(0.0006406934776892593), 'Ro': np.float64(8533666.511535257), 'Co': np.float64(1.0359254925805005e-13)}: Reordering of (A, B) failed because the transformed matrix pair (A, B) would be too far from generalized Schur form; the problem is very ill-conditioned. (A, B) may have been partially reordered.\n"
     ]
    },
    {
     "name": "stderr",
     "output_type": "stream",
     "text": [
      "INFO:root:Simulating continuous-time analog frontend for sinusoidal input\n"
     ]
    },
    {
     "name": "stdout",
     "output_type": "stream",
     "text": [
      "Error with Active-RC parameters {'Bw': np.float64(9920260604.35697), 'osr': 16, 'nlev': 2, 'Hinf': np.float64(1.7500046388414758), 'Cint': np.float64(1.8534898136841493e-12), 'gm': np.float64(8.139371446648294e-05), 'Ro': np.float64(3780500.8425411144), 'Co': np.float64(4.635092163916773e-13)}: The associated Hamiltonian pencil has eigenvalues too close to the imaginary axis\n"
     ]
    },
    {
     "name": "stderr",
     "output_type": "stream",
     "text": [
      "INFO:root:Simulating continuous-time analog frontend for sinusoidal input\n"
     ]
    },
    {
     "name": "stdout",
     "output_type": "stream",
     "text": [
      "Achieved SNR: 56.95515099300714 db\n"
     ]
    },
    {
     "name": "stderr",
     "output_type": "stream",
     "text": [
      "INFO:root:Simulating continuous-time analog frontend for sinusoidal input\n"
     ]
    },
    {
     "name": "stdout",
     "output_type": "stream",
     "text": [
      "Error with Active-RC parameters {'Bw': np.float64(6961810991.558152), 'osr': 16, 'nlev': 2, 'Hinf': np.float64(1.070560179267984), 'Cint': np.float64(4.674259000156042e-12), 'gm': np.float64(0.000860576309597478), 'Ro': np.float64(8772467.969083043), 'Co': np.float64(8.990820414187813e-13)}: Failed to find a finite solution.\n"
     ]
    },
    {
     "name": "stderr",
     "output_type": "stream",
     "text": [
      "INFO:root:Simulating continuous-time analog frontend for sinusoidal input\n"
     ]
    },
    {
     "name": "stdout",
     "output_type": "stream",
     "text": [
      "Achieved SNR: 78.78572165458785 db\n"
     ]
    },
    {
     "name": "stderr",
     "output_type": "stream",
     "text": [
      "INFO:root:Simulating continuous-time analog frontend for sinusoidal input\n"
     ]
    },
    {
     "name": "stdout",
     "output_type": "stream",
     "text": [
      "Error with Active-RC parameters {'Bw': np.float64(5427980180.905573), 'osr': 8, 'nlev': 3, 'Hinf': np.float64(1.5133492298313669), 'Cint': np.float64(4.125188192466921e-12), 'gm': np.float64(0.00036433277248013995), 'Ro': np.float64(599119.1360433344), 'Co': np.float64(8.409917521769817e-13)}: Failed to find a finite solution.\n"
     ]
    },
    {
     "name": "stderr",
     "output_type": "stream",
     "text": [
      "INFO:root:Simulating continuous-time analog frontend for sinusoidal input\n"
     ]
    },
    {
     "name": "stdout",
     "output_type": "stream",
     "text": [
      "Error with Active-RC parameters {'Bw': np.float64(7764572270.366142), 'osr': 128, 'nlev': 5, 'Hinf': np.float64(1.6846825129475809), 'Cint': np.float64(1.2096926540763967e-12), 'gm': np.float64(0.0004311373789278844), 'Ro': np.float64(4773002.06573685), 'Co': np.float64(3.2191735297864744e-13)}: The associated Hamiltonian pencil has eigenvalues too close to the imaginary axis\n"
     ]
    },
    {
     "name": "stderr",
     "output_type": "stream",
     "text": [
      "INFO:root:Simulating continuous-time analog frontend for sinusoidal input\n"
     ]
    },
    {
     "name": "stdout",
     "output_type": "stream",
     "text": [
      "Error with Active-RC parameters {'Bw': np.float64(9620883819.997982), 'osr': 128, 'nlev': 5, 'Hinf': np.float64(1.8738521051090844), 'Cint': np.float64(4.535699969340983e-12), 'gm': np.float64(0.0003926202491961875), 'Ro': np.float64(4151626.416272685), 'Co': np.float64(3.2808267091874163e-13)}: The associated Hamiltonian pencil has eigenvalues too close to the imaginary axis\n"
     ]
    },
    {
     "name": "stderr",
     "output_type": "stream",
     "text": [
      "INFO:root:Simulating continuous-time analog frontend for sinusoidal input\n"
     ]
    },
    {
     "name": "stdout",
     "output_type": "stream",
     "text": [
      "Error with Active-RC parameters {'Bw': np.float64(3435580972.5481086), 'osr': 128, 'nlev': 3, 'Hinf': np.float64(1.2675054137417323), 'Cint': np.float64(1.623319184672874e-12), 'gm': np.float64(9.494715355072103e-05), 'Ro': np.float64(6230053.062544228), 'Co': np.float64(1.1722052697937788e-13)}: The associated Hamiltonian pencil has eigenvalues too close to the imaginary axis\n"
     ]
    },
    {
     "name": "stderr",
     "output_type": "stream",
     "text": [
      "INFO:root:Simulating continuous-time analog frontend for sinusoidal input\n"
     ]
    },
    {
     "name": "stdout",
     "output_type": "stream",
     "text": [
      "Achieved SNR: 33.49602137905828 db\n"
     ]
    },
    {
     "name": "stderr",
     "output_type": "stream",
     "text": [
      "INFO:root:Simulating continuous-time analog frontend for sinusoidal input\n"
     ]
    },
    {
     "name": "stdout",
     "output_type": "stream",
     "text": [
      "Error with Active-RC parameters {'Bw': np.float64(6210214506.211872), 'osr': 256, 'nlev': 4, 'Hinf': np.float64(1.5358250317946611), 'Cint': np.float64(3.2478763492030426e-12), 'gm': np.float64(0.0005726564646829811), 'Ro': np.float64(7331508.726611787), 'Co': np.float64(7.612693768993382e-13)}: The associated Hamiltonian pencil has eigenvalues too close to the imaginary axis\n"
     ]
    },
    {
     "name": "stderr",
     "output_type": "stream",
     "text": [
      "INFO:root:Simulating continuous-time analog frontend for sinusoidal input\n"
     ]
    },
    {
     "name": "stdout",
     "output_type": "stream",
     "text": [
      "Error with Active-RC parameters {'Bw': np.float64(4662804068.254161), 'osr': 32, 'nlev': 2, 'Hinf': np.float64(1.3512673981422205), 'Cint': np.float64(4.163020041328951e-12), 'gm': np.float64(0.0005671037452571828), 'Ro': np.float64(469810.32082614896), 'Co': np.float64(3.079984948007061e-13)}: The associated Hamiltonian pencil has eigenvalues too close to the imaginary axis\n"
     ]
    },
    {
     "name": "stderr",
     "output_type": "stream",
     "text": [
      "INFO:root:Simulating continuous-time analog frontend for sinusoidal input\n"
     ]
    },
    {
     "name": "stdout",
     "output_type": "stream",
     "text": [
      "Error with Active-RC parameters {'Bw': np.float64(7921077721.812916), 'osr': 16, 'nlev': 5, 'Hinf': np.float64(1.1387660173419432), 'Cint': np.float64(7.056975622135237e-13), 'gm': np.float64(0.000978328422761711), 'Ro': np.float64(5021782.792337237), 'Co': np.float64(6.874120469417391e-13)}: Failed to find a finite solution.\n"
     ]
    },
    {
     "name": "stderr",
     "output_type": "stream",
     "text": [
      "INFO:root:Simulating continuous-time analog frontend for sinusoidal input\n"
     ]
    },
    {
     "name": "stdout",
     "output_type": "stream",
     "text": [
      "Achieved SNR: 64.09447935302084 db\n"
     ]
    },
    {
     "name": "stderr",
     "output_type": "stream",
     "text": [
      "INFO:root:Simulating continuous-time analog frontend for sinusoidal input\n"
     ]
    },
    {
     "name": "stdout",
     "output_type": "stream",
     "text": [
      "Error with Active-RC parameters {'Bw': np.float64(5403098819.906861), 'osr': 64, 'nlev': 3, 'Hinf': np.float64(1.0003901186190076), 'Cint': np.float64(3.8205225717762605e-12), 'gm': np.float64(0.0002945452067859633), 'Ro': np.float64(5673621.0379545), 'Co': np.float64(9.314801800447933e-14)}: Failed to find a finite solution.\n"
     ]
    },
    {
     "name": "stderr",
     "output_type": "stream",
     "text": [
      "INFO:root:Simulating continuous-time analog frontend for sinusoidal input\n"
     ]
    },
    {
     "name": "stdout",
     "output_type": "stream",
     "text": [
      "Achieved SNR: 29.24816392528362 db\n"
     ]
    },
    {
     "name": "stderr",
     "output_type": "stream",
     "text": [
      "INFO:root:Simulating continuous-time analog frontend for sinusoidal input\n"
     ]
    },
    {
     "name": "stdout",
     "output_type": "stream",
     "text": [
      "Error with Active-RC parameters {'Bw': np.float64(5770176223.947112), 'osr': 256, 'nlev': 4, 'Hinf': np.float64(1.3175204371899056), 'Cint': np.float64(8.387457459973192e-13), 'gm': np.float64(0.0006596110811346193), 'Ro': np.float64(6534636.605612738), 'Co': np.float64(2.757938636243159e-13)}: The associated Hamiltonian pencil has eigenvalues too close to the imaginary axis\n"
     ]
    },
    {
     "name": "stderr",
     "output_type": "stream",
     "text": [
      "INFO:root:Simulating continuous-time analog frontend for sinusoidal input\n"
     ]
    },
    {
     "name": "stdout",
     "output_type": "stream",
     "text": [
      "Error with Active-RC parameters {'Bw': np.float64(9630456013.942411), 'osr': 8, 'nlev': 4, 'Hinf': np.float64(1.6674988329670821), 'Cint': np.float64(3.4579044329142353e-12), 'gm': np.float64(0.0008170014012899726), 'Ro': np.float64(9554494.983296264), 'Co': np.float64(4.4882709084177646e-13)}: The associated Hamiltonian pencil has eigenvalues too close to the imaginary axis\n"
     ]
    },
    {
     "name": "stderr",
     "output_type": "stream",
     "text": [
      "INFO:root:Simulating continuous-time analog frontend for sinusoidal input\n"
     ]
    },
    {
     "name": "stdout",
     "output_type": "stream",
     "text": [
      "Error with Active-RC parameters {'Bw': np.float64(4181472943.38206), 'osr': 32, 'nlev': 3, 'Hinf': np.float64(1.175935470124254), 'Cint': np.float64(1.98125145772267e-12), 'gm': np.float64(0.00043136430393234283), 'Ro': np.float64(2504774.177037407), 'Co': np.float64(8.475231336149228e-13)}: Failed to find a finite solution.\n"
     ]
    },
    {
     "name": "stderr",
     "output_type": "stream",
     "text": [
      "INFO:root:Simulating continuous-time analog frontend for sinusoidal input\n"
     ]
    },
    {
     "name": "stdout",
     "output_type": "stream",
     "text": [
      "Error with Active-RC parameters {'Bw': np.float64(2325607868.1910577), 'osr': 64, 'nlev': 3, 'Hinf': np.float64(1.7849788171253809), 'Cint': np.float64(4.499002436366275e-12), 'gm': np.float64(0.00027285816478257757), 'Ro': np.float64(4047287.927353108), 'Co': np.float64(5.441072986437124e-13)}: The associated Hamiltonian pencil has eigenvalues too close to the imaginary axis\n"
     ]
    },
    {
     "name": "stderr",
     "output_type": "stream",
     "text": [
      "INFO:root:Simulating continuous-time analog frontend for sinusoidal input\n"
     ]
    },
    {
     "name": "stdout",
     "output_type": "stream",
     "text": [
      "Error with Active-RC parameters {'Bw': np.float64(8069057449.298846), 'osr': 8, 'nlev': 4, 'Hinf': np.float64(1.450426413187481), 'Cint': np.float64(2.8505474266003274e-12), 'gm': np.float64(0.0009200129618217015), 'Ro': np.float64(7251211.773449947), 'Co': np.float64(6.615793192965316e-13)}: Failed to find a finite solution.\n"
     ]
    },
    {
     "name": "stderr",
     "output_type": "stream",
     "text": [
      "INFO:root:Simulating continuous-time analog frontend for sinusoidal input\n"
     ]
    },
    {
     "name": "stdout",
     "output_type": "stream",
     "text": [
      "Error with Active-RC parameters {'Bw': np.float64(6513216464.395446), 'osr': 32, 'nlev': 5, 'Hinf': np.float64(1.649221159499322), 'Cint': np.float64(3.2328744050917683e-12), 'gm': np.float64(0.0006862758075116202), 'Ro': np.float64(1117119.6053570043), 'Co': np.float64(6.747372560011489e-13)}: The associated Hamiltonian pencil has eigenvalues too close to the imaginary axis\n"
     ]
    },
    {
     "name": "stderr",
     "output_type": "stream",
     "text": [
      "INFO:root:Simulating continuous-time analog frontend for sinusoidal input\n"
     ]
    },
    {
     "name": "stdout",
     "output_type": "stream",
     "text": [
      "Achieved SNR: 35.707322441507195 db\n"
     ]
    },
    {
     "name": "stderr",
     "output_type": "stream",
     "text": [
      "INFO:root:Simulating continuous-time analog frontend for sinusoidal input\n"
     ]
    },
    {
     "name": "stdout",
     "output_type": "stream",
     "text": [
      "Achieved SNR: 70.14264889427139 db\n"
     ]
    },
    {
     "name": "stderr",
     "output_type": "stream",
     "text": [
      "INFO:root:Simulating continuous-time analog frontend for sinusoidal input\n"
     ]
    },
    {
     "name": "stdout",
     "output_type": "stream",
     "text": [
      "Error with Active-RC parameters {'Bw': np.float64(9642804456.7386), 'osr': 128, 'nlev': 3, 'Hinf': np.float64(1.8465767657469003), 'Cint': np.float64(3.939582191631325e-12), 'gm': np.float64(0.0005023556389005045), 'Ro': np.float64(5914781.266988719), 'Co': np.float64(3.179031369402818e-13)}: The associated Hamiltonian pencil has eigenvalues too close to the imaginary axis\n"
     ]
    },
    {
     "name": "stderr",
     "output_type": "stream",
     "text": [
      "INFO:root:Simulating continuous-time analog frontend for sinusoidal input\n"
     ]
    },
    {
     "name": "stdout",
     "output_type": "stream",
     "text": [
      "Error with Active-RC parameters {'Bw': np.float64(7499982596.817185), 'osr': 16, 'nlev': 2, 'Hinf': np.float64(1.3012439215543468), 'Cint': np.float64(8.232861482062001e-13), 'gm': np.float64(0.000956892857010341), 'Ro': np.float64(3723791.2831714246), 'Co': np.float64(7.591402567656122e-13)}: Failed to find a finite solution.\n"
     ]
    },
    {
     "name": "stderr",
     "output_type": "stream",
     "text": [
      "INFO:root:Simulating continuous-time analog frontend for sinusoidal input\n"
     ]
    },
    {
     "name": "stdout",
     "output_type": "stream",
     "text": [
      "Achieved SNR: 4.716379049461771 db\n",
      "Error with Active-RC parameters {'Bw': np.float64(4328138896.165132), 'osr': 32, 'nlev': 4, 'Hinf': np.float64(1.2241368211739845), 'Cint': np.float64(4.306152426764411e-12), 'gm': np.float64(0.00014557833468468166), 'Ro': np.float64(5538044.552408453), 'Co': np.float64(4.4256112999013353e-13)}: Failed to find a finite solution.\n",
      "\n",
      "\tDataset saved as datasets/dataset_FB_2_Active-RC.csv\n",
      "\n",
      "             Bw  osr  nlev      Hinf          Cint        gm            Ro  \\\n",
      "0  1.386141e+09  256     2  1.968385  2.029875e-12  0.000257  2.527794e+06   \n",
      "1  1.644046e+09  128     4  1.145150  5.957712e-13  0.000900  8.639163e+06   \n",
      "2  3.780387e+09  256     3  1.146855  1.914391e-12  0.000981  3.459372e+06   \n",
      "3  5.951083e+09  256     5  1.936055  2.359900e-12  0.000845  8.982091e+06   \n",
      "4  1.520502e+08   64     5  1.302211  1.533912e-13  0.000235  6.024396e+06   \n",
      "\n",
      "             Co        SNR  \n",
      "0  4.584401e-13  77.753803  \n",
      "1  2.356851e-13  68.659580  \n",
      "2  2.339022e-13  74.027619  \n",
      "3  1.844246e-13  83.011117  \n",
      "4  6.867728e-13  56.955151  \n"
     ]
    }
   ],
   "source": [
    "# dataset generator test:\n",
    "\n",
    "form = 'FB'\n",
    "order = 2\n",
    "implementation = 'Active-RC'\n",
    "num_samples = 7\n",
    "min_snr = 50\n",
    "\n",
    "# define parameter ranges (set as function args better?):\n",
    "if implementation == 'Active-RC':\n",
    "    parameter_ranges = [\n",
    "        (10e3, 10e9), # Bw (Bandwidth)\n",
    "        [8, 16, 32, 64, 128, 256], # osr (Oversampling Ratio) - Discrete\n",
    "        [2, 3, 4, 5], # nlev (Number of Levels) - Discrete\n",
    "        (1.0, 2.0), # Hinf (Infinity Gain)\n",
    "        (100e-15, 5e-12), # Cint (Integration Capacitance)\n",
    "        (1e-6, 1e-3), # gm (Transconductance)\n",
    "        (100e3, 10e6), # Ro (Output Resistance)\n",
    "        (50e-15, 1e-12), # Co (Output Capacitance)\n",
    "    ]\n",
    "elif implementation == 'Gm-C':\n",
    "    parameter_ranges = [\n",
    "        (10e3, 10e9), # Bw (Bandwidth)\n",
    "        [8, 16, 32, 64, 128, 256], # osr (Oversampling Ratio) - Discrete\n",
    "        [2, 3, 4, 5], # nlev (Number of Levels) - Discrete\n",
    "        (1.0, 2.0), # Hinf (Infinity Gain)\n",
    "        (100e-15, 2e-12), # Cint (Integration Capacitance)\n",
    "        (10e3, 1e6), # Ro (Output Resistance)\n",
    "        (1e-15, 100e-15), # Cp (Capacitor)\n",
    "        (10e-9, 1e-6), # v_n (Noise Voltage)\n",
    "        (1e-6, 100e-6), # slew_rate (Slew Rate)\n",
    "        (0.5, 3.0), # output_swing (Output Swing)\n",
    "    ]\n",
    "\n",
    "# define discrete parameters:\n",
    "discrete_params = [\n",
    "    (1, [8, 16, 32, 64, 128, 256]), # osr (discrete)\n",
    "    (2, [2, 3, 4, 5]) # nlev (discrete)\n",
    "]\n",
    "\n",
    "dataset = generate_dataset(form, order, implementation, num_samples, min_snr, parameter_ranges, discrete_params)\n",
    "print(dataset.head())"
   ]
  },
  {
   "cell_type": "code",
   "execution_count": null,
   "id": "f58c6ee4",
   "metadata": {},
   "outputs": [],
   "source": []
  }
 ],
 "metadata": {
  "kernelspec": {
   "display_name": "Python 3 (ipykernel)",
   "language": "python",
   "name": "python3"
  },
  "language_info": {
   "codemirror_mode": {
    "name": "ipython",
    "version": 3
   },
   "file_extension": ".py",
   "mimetype": "text/x-python",
   "name": "python",
   "nbconvert_exporter": "python",
   "pygments_lexer": "ipython3",
   "version": "3.11.9"
  }
 },
 "nbformat": 4,
 "nbformat_minor": 5
}
