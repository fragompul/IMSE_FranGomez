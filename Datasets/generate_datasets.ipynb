{
 "cells": [
  {
   "cell_type": "code",
   "execution_count": 1,
   "id": "0768f297",
   "metadata": {},
   "outputs": [],
   "source": [
    "import numpy as np\n",
    "import pandas as pd\n",
    "from scipy.stats import uniform\n",
    "import cbadc as cb\n",
    "from itertools import product\n",
    "from numpy.linalg import LinAlgError\n",
    "from scipy.stats import qmc"
   ]
  },
  {
   "cell_type": "code",
   "execution_count": 2,
   "id": "14fa6eac",
   "metadata": {},
   "outputs": [],
   "source": [
    "def generate_dataset(form, order, implementation, num_samples, min_snr, parameter_ranges, discrete_params):\n",
    "    \"\"\"\n",
    "    Generate a dataset based on the selected form, order, implementation\n",
    "    \n",
    "    Args:\n",
    "    - form (str): The (continuous) form of the filter ('FB', 'FF')\n",
    "    - order (int): The order of the filter (2, 3, 4)\n",
    "    - implementation (str): The implementation type ('Active-RC', 'Gm-C')\n",
    "    - num_samples (int): Initial number of samples to run LHS\n",
    "    - min_snr (float): Minimum SNR accepted.\n",
    "    - parameter_ranges (list): List with the range of each parameter\n",
    "    - discrete_parameters (list): List with the discrete parameters and each values\n",
    "    \n",
    "    Returns:\n",
    "    - dataset (pd.DataFrame): A DataFrame containing the generated dataset,\n",
    "                              named: dataset_form_order_implementation.csv\n",
    "    \"\"\"\n",
    "    \n",
    "    counter = 0 # counter to reach at least num_samples samples in the final dataset\n",
    "    \n",
    "    # initialize lists to store the parameters and corresponding SNR values after simulation:\n",
    "    snr_values = []\n",
    "    all_params = []\n",
    "    \n",
    "    while counter <= num_samples:\n",
    "        # Latin Hypercube Sampling (LHS) to sample the parameter space:\n",
    "        lhs_samples = lhs_sampling(parameter_ranges, num_samples, discrete_params)\n",
    "\n",
    "        # iterate through each set of parameters from the LHS samples:\n",
    "        for sample in lhs_samples:\n",
    "            # map the sampled values to parameter names:\n",
    "            if implementation == 'Active-RC':\n",
    "                params = {'Bw': sample[0], 'osr': int(sample[1]), 'nlev': int(sample[2]), 'Hinf': sample[3], \n",
    "                          'Cint': sample[4], 'gm': sample[5], 'Ro': sample[6], 'Co': sample[7]}\n",
    "            elif implementation == 'Gm-C':\n",
    "                params = {'Bw': sample[0], 'osr': int(sample[1]), 'nlev': int(sample[2]), 'Hinf': sample[3], \n",
    "                          'Cint': sample[4], 'Ro': sample[5], 'Cp': sample[6], 'v_n': sample[7], \n",
    "                          'slew_rate': sample[8], 'output_swing': sample[9]}\n",
    "\n",
    "            # apply parameter relationships filters to ensure validity (not implemented yet):\n",
    "            if not filter_parameter_relationships(params, implementation):\n",
    "                continue # skip this sample if it doesn't pass the filter\n",
    "\n",
    "            # simulate the circuit and get the SNR value:\n",
    "            snr = simulate_circuit(form, order, implementation, params)\n",
    "\n",
    "            # store the the parameters and corresponding SNR value:\n",
    "            if snr is not None and np.isfinite(snr) and snr > min_snr:\n",
    "                snr_values.append(snr)\n",
    "                all_params.append(params)\n",
    "                counter += 1\n",
    "    \n",
    "    # create a DataFrame and save it as CSV:\n",
    "    dataset = pd.DataFrame(all_params)\n",
    "    dataset['SNR'] = snr_values\n",
    "    filename = f\"datasets/dataset_{form}_{order}_{implementation}.csv\"\n",
    "    dataset.to_csv(filename, index=False)\n",
    "    print(f\"\\n\\tDataset saved as {filename}\\n\")\n",
    "    \n",
    "    return dataset"
   ]
  },
  {
   "cell_type": "code",
   "execution_count": null,
   "id": "a20055fe",
   "metadata": {},
   "outputs": [],
   "source": []
  },
  {
   "cell_type": "code",
   "execution_count": null,
   "id": "19345f41",
   "metadata": {},
   "outputs": [],
   "source": []
  },
  {
   "cell_type": "code",
   "execution_count": 3,
   "id": "7aae090c",
   "metadata": {},
   "outputs": [],
   "source": [
    "def lhs_sampling(parameter_ranges, num_samples, discrete_params):\n",
    "    \"\"\"\n",
    "    Latin Hypercube Sampling (LHS) for a given set of parameter ranges,\n",
    "    handling both continuous and discrete parameters\n",
    "\n",
    "    Args:\n",
    "    - parameter_ranges (list): List of tuples [(min, max), ...] defining the range for each parameter\n",
    "    - num_samples (int): Number of samples to generate\n",
    "    - discrete_params (list): List of tuples [(index, values)] where:\n",
    "        - index: The position of the discrete parameter in parameter_ranges\n",
    "        - values: A list of possible discrete values\n",
    "\n",
    "    Returns:\n",
    "    - samples (list): A NumPy array of shape (num_samples, len(parameter_ranges)) containing the generated samples\n",
    "    \"\"\"\n",
    "\n",
    "    # separate continuous and discrete parameters:\n",
    "    continuous_params = [p for i, p in enumerate(parameter_ranges) if i not in [d[0] for d in discrete_params]]\n",
    "    discrete_indices = {d[0]: d[1] for d in discrete_params}\n",
    "\n",
    "    # create an LHS design only for continuous parameters:\n",
    "    sampler = qmc.LatinHypercube(d=len(continuous_params)) # d = number of continuous parameters\n",
    "    sample_cont = sampler.random(num_samples) # generate LHS samples in [0,1] range\n",
    "    \n",
    "    # rescale LHS samples to match the specified ranges for continuous parameters:\n",
    "    cont_scaled = qmc.scale(sample_cont, \n",
    "                            [p[0] for p in continuous_params], # min values\n",
    "                            [p[1] for p in continuous_params]) # max values\n",
    "    \n",
    "    # initialize the result matrix:\n",
    "    samples = np.zeros((num_samples, len(parameter_ranges)))\n",
    "\n",
    "    # insert continuous values into the result matrix:\n",
    "    cont_idx = 0 # index to track continuous parameters in cont_scaled\n",
    "    for i, p in enumerate(parameter_ranges):\n",
    "        if i in discrete_indices: # skip discrete parameters\n",
    "            continue\n",
    "        samples[:, i] = cont_scaled[:, cont_idx] # assign LHS-sampled values\n",
    "        cont_idx += 1\n",
    "\n",
    "    # insert discrete parameters using random selection with replacement:\n",
    "    for idx, values in discrete_indices.items():\n",
    "        samples[:, idx] = np.random.choice(values, size=num_samples, replace=True)\n",
    "\n",
    "    return samples"
   ]
  },
  {
   "cell_type": "code",
   "execution_count": 4,
   "id": "96199fe2",
   "metadata": {},
   "outputs": [
    {
     "name": "stdout",
     "output_type": "stream",
     "text": [
      "[[4.65585572e+08 8.00000000e+00 4.00000000e+00 2.46235264e+00\n",
      "  8.21944392e-07 2.68998293e-02 6.33190785e+05 1.19348703e-07]\n",
      " [6.60794421e+08 3.20000000e+01 4.00000000e+00 4.56545925e+00\n",
      "  6.14523971e-07 2.65172997e-02 2.17673443e+05 6.55233708e-08]\n",
      " [2.33158198e+08 2.56000000e+02 5.00000000e+00 6.47528835e+00\n",
      "  4.95644121e-07 5.64738358e-02 1.46722705e+05 8.11430447e-07]\n",
      " [9.67999471e+08 8.00000000e+00 5.00000000e+00 2.74890756e+00\n",
      "  8.91527637e-07 5.88190356e-02 9.72142208e+05 2.10123470e-07]\n",
      " [8.56819184e+08 3.20000000e+01 4.00000000e+00 6.06030615e+00\n",
      "  4.17525920e-07 3.92507025e-02 2.96552523e+05 7.12430988e-07]\n",
      " [4.25328459e+08 1.60000000e+01 3.00000000e+00 1.85495337e+00\n",
      "  1.64478249e-07 7.46182485e-02 3.89199469e+05 4.57023213e-07]\n",
      " [9.76500447e+08 8.00000000e+00 4.00000000e+00 7.76288056e+00\n",
      "  1.31547374e-08 7.56283859e-02 9.25045148e+05 5.43123058e-07]\n",
      " [7.50473103e+08 2.56000000e+02 3.00000000e+00 2.68133460e+00\n",
      "  4.39564846e-07 9.91953590e-02 2.01409800e+05 5.05785713e-07]\n",
      " [5.33691477e+08 1.28000000e+02 5.00000000e+00 2.81519011e+00\n",
      "  8.86283917e-07 1.29549761e-02 6.08546902e+05 9.47075465e-07]\n",
      " [6.88699654e+08 1.60000000e+01 2.00000000e+00 2.92581391e+00\n",
      "  3.01362114e-07 3.33727772e-02 2.35784964e+05 8.40095879e-07]\n",
      " [3.97789732e+08 6.40000000e+01 4.00000000e+00 4.14501450e+00\n",
      "  6.65711193e-07 1.64938277e-03 6.98342223e+05 8.56640624e-07]\n",
      " [7.14089044e+08 6.40000000e+01 2.00000000e+00 3.53258870e+00\n",
      "  5.09785309e-07 5.07149127e-02 7.01374332e+05 3.19245995e-07]\n",
      " [3.73924938e+08 1.28000000e+02 2.00000000e+00 5.38663148e+00\n",
      "  5.62625214e-08 8.13940555e-02 4.82847304e+04 3.75098930e-07]\n",
      " [1.61883836e+08 1.60000000e+01 3.00000000e+00 3.95101905e+00\n",
      "  9.65147400e-07 8.86683985e-03 1.73004821e+05 2.83095142e-07]\n",
      " [7.00655274e+07 3.20000000e+01 3.00000000e+00 9.66419909e+00\n",
      "  5.57073958e-07 4.53121149e-02 4.72979517e+05 9.73730629e-07]\n",
      " [3.59415592e+08 6.40000000e+01 3.00000000e+00 8.62315526e+00\n",
      "  7.28790697e-07 8.43401947e-02 6.69164885e+05 7.73156574e-07]\n",
      " [2.97521752e+08 3.20000000e+01 4.00000000e+00 9.91854260e-01\n",
      "  9.06061174e-08 7.05676415e-02 2.61280536e+05 5.36561072e-08]\n",
      " [1.34951175e+07 8.00000000e+00 3.00000000e+00 2.16444203e+00\n",
      "  1.56112129e-07 5.83214581e-02 4.99038163e+05 7.51011825e-07]\n",
      " [6.02661489e+08 6.40000000e+01 4.00000000e+00 6.20454107e+00\n",
      "  8.46810005e-07 4.73654258e-02 8.94649267e+05 7.27932951e-07]\n",
      " [1.71472931e+08 2.56000000e+02 3.00000000e+00 3.21970478e+00\n",
      "  3.05675140e-08 5.55032055e-02 7.89847547e+05 7.46041524e-07]\n",
      " [4.06262510e+08 8.00000000e+00 4.00000000e+00 6.90850235e+00\n",
      "  7.73696884e-07 4.19208188e-03 9.90861824e+05 1.00812563e-07]\n",
      " [2.70994132e+08 1.28000000e+02 3.00000000e+00 4.19525935e-01\n",
      "  3.96783466e-07 1.05104926e-02 2.57522335e+05 7.82733903e-07]\n",
      " [2.16830276e+08 1.28000000e+02 3.00000000e+00 8.36734142e+00\n",
      "  5.43240801e-07 4.38907378e-02 1.37547788e+04 6.43173305e-07]\n",
      " [9.59149007e+08 2.56000000e+02 2.00000000e+00 1.93699788e+00\n",
      "  9.83716742e-07 3.39169542e-02 1.03561038e+05 6.70209864e-07]\n",
      " [5.24733961e+08 1.28000000e+02 2.00000000e+00 7.96687103e-01\n",
      "  8.02863375e-07 3.62394449e-02 4.17710517e+05 2.27342373e-07]\n",
      " [7.95595146e+08 2.56000000e+02 2.00000000e+00 6.56218688e-01\n",
      "  4.91010629e-08 8.80070773e-02 3.49244521e+05 7.65870882e-07]\n",
      " [8.10494941e+08 3.20000000e+01 4.00000000e+00 6.11321202e+00\n",
      "  9.08972109e-07 5.21279352e-03 3.63981357e+05 2.78271222e-07]\n",
      " [3.05176056e+06 1.28000000e+02 3.00000000e+00 3.14490745e+00\n",
      "  7.00626695e-07 9.85271637e-02 5.83716778e+04 5.66360002e-07]\n",
      " [8.25660947e+08 8.00000000e+00 4.00000000e+00 9.16679041e+00\n",
      "  3.32637113e-07 2.05526872e-02 5.86493111e+05 2.56174276e-07]\n",
      " [1.15217369e+08 1.60000000e+01 3.00000000e+00 6.75913634e+00\n",
      "  7.63640613e-07 6.15983688e-02 8.61747053e+04 9.27149327e-07]\n",
      " [4.18663334e+08 2.56000000e+02 4.00000000e+00 3.09879617e+00\n",
      "  3.76355905e-07 8.93942242e-02 2.84629615e+05 1.54029370e-07]\n",
      " [6.20151009e+08 2.56000000e+02 5.00000000e+00 4.47268631e+00\n",
      "  6.07734704e-07 9.10124036e-02 1.16982736e+05 4.60478094e-07]\n",
      " [3.27225534e+08 1.60000000e+01 5.00000000e+00 9.48566384e+00\n",
      "  2.76996723e-07 9.45106311e-02 4.44524026e+05 8.91408192e-07]\n",
      " [5.15768798e+08 3.20000000e+01 5.00000000e+00 7.55586453e+00\n",
      "  6.80630183e-09 1.53309257e-02 3.39025271e+05 4.46550986e-07]\n",
      " [4.86087291e+08 3.20000000e+01 3.00000000e+00 3.49903935e+00\n",
      "  6.59349279e-07 6.47289268e-02 6.77663185e+05 3.97020038e-07]\n",
      " [2.60173386e+08 1.28000000e+02 4.00000000e+00 8.27615568e+00\n",
      "  4.06671586e-07 8.30993652e-02 3.16634960e+05 9.94455865e-08]\n",
      " [5.81263695e+08 6.40000000e+01 2.00000000e+00 8.75545378e+00\n",
      "  2.86337539e-08 1.13230418e-02 3.55769711e+05 6.31802722e-07]\n",
      " [2.58261574e+08 1.60000000e+01 2.00000000e+00 3.46502966e-01\n",
      "  8.65209219e-07 2.26524547e-02 8.14119815e+05 2.45044282e-07]\n",
      " [8.43187818e+08 3.20000000e+01 3.00000000e+00 4.99238992e+00\n",
      "  5.91520302e-07 4.27058817e-02 5.18280653e+05 7.07428570e-07]\n",
      " [3.06378768e+08 2.56000000e+02 4.00000000e+00 6.37780896e+00\n",
      "  9.46710244e-07 3.24094570e-02 8.24234233e+05 5.27218264e-07]\n",
      " [6.74980644e+08 2.56000000e+02 3.00000000e+00 7.67389430e+00\n",
      "  6.78882450e-07 2.79125907e-02 3.29824623e+05 3.84727456e-07]\n",
      " [8.74248310e+08 2.56000000e+02 4.00000000e+00 9.78756324e+00\n",
      "  3.88713115e-07 3.74415803e-02 3.72958118e+05 6.53469566e-07]\n",
      " [5.65671537e+07 6.40000000e+01 5.00000000e+00 9.02071639e+00\n",
      "  9.20834857e-07 2.56377968e-02 9.53705637e+05 2.04529992e-07]\n",
      " [9.80820526e+08 1.28000000e+02 5.00000000e+00 3.74459117e+00\n",
      "  2.50799955e-07 5.33649893e-02 7.16369762e+05 9.69881255e-07]\n",
      " [6.16965700e+08 8.00000000e+00 4.00000000e+00 7.93146386e+00\n",
      "  2.19898834e-07 6.35874268e-02 8.09196400e+04 6.25460891e-07]\n",
      " [5.41565325e+08 2.56000000e+02 3.00000000e+00 9.29753227e+00\n",
      "  5.13076543e-07 9.34468665e-02 6.49651775e+05 6.83946944e-07]\n",
      " [8.69581894e+08 8.00000000e+00 3.00000000e+00 1.36360849e+00\n",
      "  4.46224544e-07 5.17629526e-02 4.60740522e+05 4.99336626e-07]\n",
      " [7.00429513e+08 6.40000000e+01 3.00000000e+00 8.42358119e+00\n",
      "  5.63588067e-07 9.12777163e-02 4.00051261e+05 3.33795584e-08]\n",
      " [3.69085495e+08 3.20000000e+01 2.00000000e+00 2.03617206e+00\n",
      "  1.04495424e-07 5.53983245e-02 1.00436724e+05 5.35020001e-07]\n",
      " [9.98952231e+07 3.20000000e+01 2.00000000e+00 4.63537203e+00\n",
      "  2.85793206e-07 4.07579484e-02 7.80026527e+05 6.97564762e-07]\n",
      " [4.14703802e+07 3.20000000e+01 3.00000000e+00 8.52304816e+00\n",
      "  3.53291268e-07 6.85364747e-02 4.90207406e+05 8.78124171e-07]\n",
      " [1.09394599e+08 8.00000000e+00 2.00000000e+00 7.29685417e+00\n",
      "  7.48352779e-07 6.33332574e-03 2.30338336e+05 4.13402591e-07]\n",
      " [7.66968543e+08 3.20000000e+01 3.00000000e+00 2.27093152e+00\n",
      "  8.57025365e-07 7.42398191e-02 9.00175060e+05 3.64734588e-07]\n",
      " [3.46031975e+08 3.20000000e+01 3.00000000e+00 5.04273773e+00\n",
      "  6.31655394e-07 3.96198689e-02 5.76253478e+05 1.86561736e-07]\n",
      " [5.50775531e+08 2.56000000e+02 5.00000000e+00 8.81145475e+00\n",
      "  6.92045363e-07 2.36512442e-02 4.54761494e+05 4.83287013e-07]\n",
      " [4.77813226e+08 3.20000000e+01 4.00000000e+00 1.61824165e+00\n",
      "  2.49837068e-07 7.30927386e-03 8.84601483e+05 9.52768433e-07]\n",
      " [7.38981232e+08 1.28000000e+02 2.00000000e+00 5.47037709e-01\n",
      "  9.38724733e-07 9.56152436e-02 6.10835176e+05 3.31573147e-07]\n",
      " [5.66800817e+08 6.40000000e+01 3.00000000e+00 2.58033489e-01\n",
      "  4.58128461e-07 5.42500040e-02 5.68365324e+05 1.49147363e-07]\n",
      " [6.29812986e+07 3.20000000e+01 2.00000000e+00 1.59004081e+00\n",
      "  2.90943356e-07 9.73953522e-02 7.45263189e+05 8.64984706e-07]\n",
      " [9.94256632e+08 1.28000000e+02 3.00000000e+00 3.31866965e+00\n",
      "  8.75961009e-07 5.97883340e-02 2.49730771e+05 6.10521308e-07]\n",
      " [8.05201305e+08 1.60000000e+01 4.00000000e+00 8.29476560e-01\n",
      "  3.68749290e-07 7.86561350e-02 2.74599030e+05 3.08921793e-07]\n",
      " [1.98155873e+08 8.00000000e+00 5.00000000e+00 5.17025939e+00\n",
      "  4.85701298e-07 8.61595442e-02 1.67008478e+05 3.54242481e-07]\n",
      " [7.29470306e+08 8.00000000e+00 2.00000000e+00 1.07104656e+00\n",
      "  2.06611463e-07 3.15190039e-02 5.08861208e+05 4.33241902e-07]\n",
      " [6.46372834e+08 1.60000000e+01 2.00000000e+00 4.85179177e+00\n",
      "  6.48459075e-07 6.07759894e-02 6.82402257e+05 4.22468892e-07]\n",
      " [8.31687378e+08 6.40000000e+01 4.00000000e+00 7.35581410e+00\n",
      "  9.75392021e-07 6.61678823e-02 7.53606859e+05 9.36270839e-07]\n",
      " [5.99002990e+08 8.00000000e+00 2.00000000e+00 4.71609912e+00\n",
      "  4.74048710e-07 1.91305274e-02 8.03828810e+05 5.72969712e-07]\n",
      " [2.41587427e+08 1.60000000e+01 3.00000000e+00 9.92015135e+00\n",
      "  7.13832883e-08 1.62537126e-02 7.99305414e+05 9.88702648e-07]\n",
      " [2.82548062e+08 1.60000000e+01 3.00000000e+00 5.42700297e+00\n",
      "  3.13732150e-07 4.88691393e-02 9.80506694e+05 1.30399409e-07]\n",
      " [8.32211693e+07 8.00000000e+00 5.00000000e+00 7.04177050e+00\n",
      "  8.01964308e-08 4.97207595e-02 1.84900550e+05 3.38139999e-10]\n",
      " [1.27202393e+08 8.00000000e+00 3.00000000e+00 4.00099089e+00\n",
      "  2.37395170e-07 1.41796198e-02 8.45062139e+05 5.99224936e-07]\n",
      " [1.87133926e+08 3.20000000e+01 5.00000000e+00 5.73770317e+00\n",
      "  3.22043930e-07 9.63897967e-02 9.38362137e+05 4.76142516e-07]\n",
      " [7.46541866e+08 3.20000000e+01 4.00000000e+00 3.64432445e+00\n",
      "  1.78076788e-07 2.97452737e-02 1.01030246e+04 7.85463608e-08]\n",
      " [9.04237630e+08 8.00000000e+00 2.00000000e+00 9.39533549e+00\n",
      "  1.82663811e-07 8.56528004e-02 7.32080332e+05 5.18916932e-07]\n",
      " [9.29950837e+08 3.20000000e+01 5.00000000e+00 7.40645487e+00\n",
      "  5.80677169e-07 4.80185317e-02 6.25753567e+04 2.91621461e-08]\n",
      " [9.40271977e+08 2.56000000e+02 5.00000000e+00 4.39624045e+00\n",
      "  2.64292194e-07 7.01829453e-02 7.66612290e+05 9.98322819e-07]\n",
      " [3.34371551e+08 8.00000000e+00 3.00000000e+00 9.56043010e+00\n",
      "  1.13096157e-07 7.22646315e-02 5.21011488e+05 8.20219173e-07]\n",
      " [1.31520938e+08 6.40000000e+01 2.00000000e+00 6.55438966e+00\n",
      "  5.23703463e-07 9.89200587e-03 7.26967511e+05 8.83019489e-07]\n",
      " [9.35541035e+08 8.00000000e+00 5.00000000e+00 7.64125962e-03\n",
      "  1.98531929e-07 2.46793128e-02 4.33939287e+05 3.22540583e-07]\n",
      " [1.53350721e+08 2.56000000e+02 2.00000000e+00 4.27489942e+00\n",
      "  7.54825555e-07 1.85882461e-02 5.96142113e+05 2.36327764e-07]\n",
      " [4.40957789e+08 1.28000000e+02 2.00000000e+00 5.27991887e+00\n",
      "  4.27373491e-07 7.31271507e-02 5.51718191e+05 7.98337272e-07]\n",
      " [7.89376378e+08 8.00000000e+00 3.00000000e+00 1.71824789e+00\n",
      "  7.18797517e-07 8.32943297e-02 1.32770263e+05 1.67164461e-08]\n",
      " [3.89744928e+08 6.40000000e+01 3.00000000e+00 8.17736839e+00\n",
      "  8.19145508e-07 4.25141572e-02 4.09319016e+05 5.58717329e-07]\n",
      " [6.53869515e+08 1.60000000e+01 5.00000000e+00 1.19406497e+00\n",
      "  4.69557357e-07 8.08659719e-02 8.38833529e+05 8.38738198e-07]\n",
      " [9.18018222e+08 6.40000000e+01 4.00000000e+00 9.84580756e+00\n",
      "  6.81794233e-07 7.66231819e-02 9.69154755e+05 7.32271498e-07]\n",
      " [4.34238013e+08 1.28000000e+02 3.00000000e+00 5.60455375e+00\n",
      "  8.39836659e-07 2.90929198e-02 3.07812716e+05 9.11752181e-07]\n",
      " [6.97431308e+08 1.28000000e+02 4.00000000e+00 2.33505308e+00\n",
      "  2.28121737e-07 3.27485337e-03 2.64517433e+04 1.66352762e-07]\n",
      " [4.57140618e+08 6.40000000e+01 5.00000000e+00 7.88687462e+00\n",
      "  3.40527028e-07 9.23887930e-02 6.58061236e+05 6.62170983e-07]\n",
      " [5.72758143e+08 3.20000000e+01 2.00000000e+00 2.50551812e+00\n",
      "  7.92360199e-07 1.27634547e-02 5.33146449e+05 1.23564610e-07]\n",
      " [1.40605749e+08 3.20000000e+01 4.00000000e+00 7.16746486e+00\n",
      "  7.34457846e-07 4.56361535e-02 1.95654132e+05 3.47247094e-07]\n",
      " [5.07100731e+08 1.28000000e+02 2.00000000e+00 3.82710931e+00\n",
      "  6.26253364e-07 6.65259946e-02 1.30654279e+05 1.73195099e-07]\n",
      " [2.21848090e+08 1.28000000e+02 4.00000000e+00 5.81950087e+00\n",
      "  9.51038928e-07 7.79519873e-02 4.29013463e+05 2.64650519e-07]\n",
      " [8.81041810e+08 1.28000000e+02 3.00000000e+00 1.24117570e+00\n",
      "  5.76882250e-07 2.13125895e-02 9.46721184e+05 9.04846890e-07]\n",
      " [6.32344680e+08 8.00000000e+00 3.00000000e+00 8.01557198e+00\n",
      "  1.46916878e-07 6.24602240e-02 4.02403699e+04 8.09296340e-07]\n",
      " [3.73005944e+07 6.40000000e+01 3.00000000e+00 1.45634215e+00\n",
      "  1.28691551e-07 3.82773025e-02 6.21381389e+05 8.44811822e-08]\n",
      " [4.94927669e+08 2.56000000e+02 2.00000000e+00 6.82139223e+00\n",
      "  6.99149105e-08 8.88471395e-02 1.59982938e+05 6.08368684e-07]\n",
      " [3.15619831e+08 1.28000000e+02 3.00000000e+00 5.96214143e+00\n",
      "  5.30734164e-07 7.92915264e-02 9.11786778e+05 5.82668029e-07]\n",
      " [2.00183793e+08 1.28000000e+02 4.00000000e+00 8.97945786e+00\n",
      "  7.80411585e-07 1.76108252e-02 8.73651125e+05 1.99524408e-07]\n",
      " [7.75165678e+08 1.60000000e+01 4.00000000e+00 6.69614401e+00\n",
      "  1.35919221e-07 2.64787912e-03 5.47058568e+05 2.92601605e-07]\n",
      " [2.90911420e+07 6.40000000e+01 5.00000000e+00 5.54903230e+00\n",
      "  9.14473942e-07 6.81665778e-02 8.51418733e+05 4.38567726e-08]\n",
      " [8.98553580e+08 6.40000000e+01 3.00000000e+00 1.03138818e-01\n",
      "  9.99697086e-07 3.49832569e-02 8.66956704e+05 4.03906298e-07]]\n",
      "100\n"
     ]
    }
   ],
   "source": [
    "# LHS test:\n",
    "\n",
    "parameter_ranges = [\n",
    "            (1e3, 1e9), # Bw (Bandwidth)\n",
    "            [8, 16, 32, 64, 128, 256], # osr (Oversampling Ratio) - Discrete\n",
    "            [2, 3, 4, 5], # nlev (Number of Levels) - Discrete\n",
    "            (1e-3, 1e1), # Hinf (Infinity Gain)\n",
    "            (1e-12, 1e-6), # Cint (Integration Capacitance)\n",
    "            (1e-3, 1e-1), # gm (Transconductance)\n",
    "            (1e3, 1e6), # Ro (Output Resistance)\n",
    "            (1e-12, 1e-6), # Co (Output Capacitance)\n",
    "        ]\n",
    "discrete_params = [\n",
    "        (1, [8, 16, 32, 64, 128, 256]), # osr (discrete)\n",
    "        (2, [2, 3, 4, 5]) # nlev (discrete)\n",
    "    ]\n",
    "\n",
    "num_samples = 100 # number of samples\n",
    "lhs_samples = lhs_sampling(parameter_ranges, num_samples, discrete_params)\n",
    "\n",
    "print(lhs_samples)\n",
    "print(len(lhs_samples))"
   ]
  },
  {
   "cell_type": "code",
   "execution_count": null,
   "id": "dfb77902",
   "metadata": {},
   "outputs": [],
   "source": []
  },
  {
   "cell_type": "code",
   "execution_count": null,
   "id": "6fa3f615",
   "metadata": {},
   "outputs": [],
   "source": []
  },
  {
   "cell_type": "code",
   "execution_count": 5,
   "id": "4462d38c",
   "metadata": {},
   "outputs": [],
   "source": [
    "def simulate_circuit(form, order, implementation, params):\n",
    "    \"\"\"\n",
    "    Simulate the circuit and return the SNR value based on the selected\n",
    "    form, order and implementation\n",
    "    \n",
    "    Args:\n",
    "    - form (str): The (continuous) form of the filter ('FB', 'FF')\n",
    "    - order (int): The order of the filter (2, 3, 4)\n",
    "    - implementation (str): The implementation type ('Active-RC', 'Gm-C')\n",
    "    - params (dict): A dictionary containing the parameters for the simulation\n",
    "    \n",
    "    Returns:\n",
    "    - max_snr (float): The maximum SNR value obtained from the simulation\n",
    "    \"\"\"\n",
    "    \n",
    "    # define parameters:\n",
    "    Bw = params.get('Bw')\n",
    "    osr = params.get('osr')\n",
    "    nlev = params.get('nlev')\n",
    "    Hinf = params.get('Hinf')\n",
    "    f0 = 0.\n",
    "    tdac = [0, 1]\n",
    "    \n",
    "    # compute the sampling frequency:\n",
    "    fs = Bw * osr * 2\n",
    "    \n",
    "    # synthesize the optimal NTF (Noise Transfer Function)\n",
    "    ntf = cb.delsig.synthesizeNTF(order, osr, 2, Hinf, f0)\n",
    "    \n",
    "    # create analog frontend:\n",
    "    dt = 1.0 / fs\n",
    "    ABCDc, tdac2 = cb.delsig.realizeNTF_ct(ntf, form, tdac)\n",
    "    analog_frontend = cb.AnalogFrontend.ctsdm(ABCDc, tdac2, dt, nlev)\n",
    "    analog_frontend.dt = 1.0 / fs\n",
    "    \n",
    "    # run the SNR simulation (depending on the implementation):\n",
    "    if implementation == 'Active-RC':\n",
    "        max_snr = simulate_snr_active_rc(params, order, osr, analog_frontend)\n",
    "    elif implementation == 'Gm-C':\n",
    "        max_snr = simulate_snr_gm_c(params, order, osr, analog_frontend)    \n",
    "    else:\n",
    "        raise ValueError(f\"Unknown implementation type: {implementation}\")\n",
    "    \n",
    "    return max_snr\n",
    "\n",
    "\n",
    "\n",
    "def simulate_snr_active_rc(params, order, osr, analog_frontend):\n",
    "    \"\"\"\n",
    "    Simulate the SNR for Active-RC implementation\n",
    "    \n",
    "    Args:\n",
    "    - params (dict): The parameter set\n",
    "    - order (int): The order of the filter (2, 3, 4)\n",
    "    - osr (int): The oversampling ratio\n",
    "    \n",
    "    Returns:\n",
    "    - snr (float): The simulated SNR value.\n",
    "    \"\"\"\n",
    "    \n",
    "    # define parameters:\n",
    "    Cint = np.ones(order) * params.get('Cint')\n",
    "    gm = np.ones(order) * params.get('gm')\n",
    "    Ro = np.ones(order) * params.get('Ro')\n",
    "    Co = np.ones(order) * params.get('Co')\n",
    "    \n",
    "    # simulate SNR:\n",
    "    try:\n",
    "        ActiveRC_analog_frontend = cb.ActiveRC(\n",
    "            analog_frontend, Cint, gm, Ro, Co\n",
    "        )\n",
    "                \n",
    "        snr_ActiveRC, amp_ActiveRC, _ = ActiveRC_analog_frontend.simulateSNR(osr)\n",
    "        max_snr_ActiveRC = max(snr_ActiveRC)\n",
    "        \n",
    "        if not np.isnan(max_snr_ActiveRC):\n",
    "            print(f\"Achieved SNR: {max_snr_ActiveRC} db\")\n",
    "            return max_snr_ActiveRC\n",
    "        else:\n",
    "            return None\n",
    "        \n",
    "    except (LinAlgError, ValueError) as e:\n",
    "        print(f\"Error with Active-RC parameters {params}: {e}\")\n",
    "        return None\n",
    "\n",
    "\n",
    "\n",
    "# Function to simulate SNR for Gm-C\n",
    "def simulate_snr_gm_c(params, order, osr, analog_frontend):\n",
    "    \"\"\"\n",
    "    Simulate the SNR for Gm-C implementation\n",
    "    \n",
    "    Args:\n",
    "    - params (dict): The parameter set\n",
    "    - order (int): The order of the filter (2, 3, 4)\n",
    "    - osr (int): The oversampling ratio\n",
    "    \n",
    "    Returns:\n",
    "    - snr (float): The simulated SNR value\n",
    "    \"\"\" \n",
    "    \n",
    "    # define parameters:\n",
    "    Cint = np.ones(order) * params.get('Cint')\n",
    "    Ro = np.ones(order) * params.get('Ro')\n",
    "    Cp = np.ones(order) * params.get('Cp')\n",
    "    v_n = np.ones(order) * params.get('v_n')\n",
    "    slew_rate = np.ones(order) * params.get('slew_rate')\n",
    "    v_out_max = np.ones(order) * params.get('output_swing')\n",
    "    v_out_min = -v_out_max\n",
    "    \n",
    "    # simulate SNR:\n",
    "    try:\n",
    "        GmC_analog_frontend = cb.GmC(\n",
    "            analog_frontend, Cint, Ro, Cp, v_n, v_out_max, v_out_min, slew_rate\n",
    "        )\n",
    "    \n",
    "        snr_GmC, amp_GmC, _ = GmC_analog_frontend.simulateSNR(osr)\n",
    "        max_snr_GmC = max(snr_GmC)\n",
    "\n",
    "        if not np.isnan(max_snr_GmC):\n",
    "            print(f\"Achieved SNR: {max_snr_GmC} db\")\n",
    "            return max_snr_GmC\n",
    "        else:\n",
    "            return None\n",
    "    \n",
    "    except (LinAlgError, ValueError) as e:\n",
    "        print(f\"Error with Gm-C parameters {params}: {e}\")\n",
    "        return None"
   ]
  },
  {
   "cell_type": "code",
   "execution_count": 6,
   "id": "380fa324",
   "metadata": {},
   "outputs": [
    {
     "name": "stderr",
     "output_type": "stream",
     "text": [
      "/home/fgomez/.local/lib/python3.10/site-packages/scipy/signal/_ltisys.py:599: BadCoefficients: Badly conditioned filter coefficients (numerator): the results may be meaningless\n",
      "  self.num, self.den = normalize(*system)\n",
      "/home/fgomez/.local/lib/python3.10/site-packages/scipy/signal/_filter_design.py:1125: BadCoefficients: Badly conditioned filter coefficients (numerator): the results may be meaningless\n",
      "  b, a = normalize(b, a)\n",
      "INFO:root:Simulating continuous-time analog frontend for sinusoidal input\n"
     ]
    },
    {
     "name": "stdout",
     "output_type": "stream",
     "text": [
      "Achieved SNR: 73.90913681655965 db\n"
     ]
    }
   ],
   "source": [
    "# simulation test:\n",
    "\n",
    "params = {'form': 'FB', 'order': 2, 'Bw': 20e3, 'osr': 64, 'nlev': 2.0, 'Hinf': 1.5, 'implementation': 'Active-RC', 'Cint': 1e-12, 'gm': 0.01, 'Ro': 1e4, 'Co': 1e-12}\n",
    "snr = simulate_circuit('FB', 2, 'Active-RC', params)"
   ]
  },
  {
   "cell_type": "code",
   "execution_count": null,
   "id": "b45b2d80",
   "metadata": {},
   "outputs": [],
   "source": []
  },
  {
   "cell_type": "code",
   "execution_count": null,
   "id": "99f2e199",
   "metadata": {},
   "outputs": [],
   "source": []
  },
  {
   "cell_type": "code",
   "execution_count": 7,
   "id": "25b66335",
   "metadata": {},
   "outputs": [],
   "source": [
    "def filter_parameter_relationships(params, implementation):\n",
    "    \"\"\"\n",
    "    Apply relationships-based filters to ensure that the parameters \n",
    "    comply with physical and stability constraints\n",
    "\n",
    "    Args:\n",
    "    - params (dict): The parameters set\n",
    "    - implementation (str): The implementation type ('Active-RC', 'Gm-C')\n",
    "\n",
    "    Returns:\n",
    "    - cond (bool): True if the parameters are valid, False otherwise\n",
    "    \"\"\"\n",
    "    \n",
    "    # add relationships between parameters as needed:\n",
    "    \n",
    "    \"\"\"\n",
    "    Example:\n",
    "    \n",
    "    if implementation == 'Active-RC':\n",
    "        gm = params.get('gm')\n",
    "        Ro = params.get('Ro')\n",
    "\n",
    "        if gm * Ro > 1e3:\n",
    "            return False # invalid relationship\n",
    "\n",
    "    elif implementation == 'Gm-C':\n",
    "        gm = params.get('gm')\n",
    "        Ro = params.get('Ro')\n",
    "\n",
    "        if gm * Ro < 1e-2:\n",
    "            return False # invalid relationship\n",
    "    \"\"\"\n",
    "    \n",
    "    return True # if no issues, return True to indicate the parameters are valid"
   ]
  },
  {
   "cell_type": "code",
   "execution_count": null,
   "id": "17c75465",
   "metadata": {},
   "outputs": [],
   "source": []
  },
  {
   "cell_type": "code",
   "execution_count": null,
   "id": "c7ca7aa7",
   "metadata": {},
   "outputs": [],
   "source": []
  },
  {
   "cell_type": "code",
   "execution_count": 12,
   "id": "304247ff",
   "metadata": {},
   "outputs": [
    {
     "name": "stderr",
     "output_type": "stream",
     "text": [
      "INFO:root:Simulating continuous-time analog frontend for sinusoidal input\n",
      "INFO:root:Simulating continuous-time analog frontend for sinusoidal input\n",
      "INFO:root:Simulating continuous-time analog frontend for sinusoidal input\n"
     ]
    },
    {
     "name": "stdout",
     "output_type": "stream",
     "text": [
      "Error with Active-RC parameters {'Bw': np.float64(2521464022.1312065), 'osr': 8, 'nlev': 4, 'Hinf': np.float64(1.4023671221564067), 'Cint': np.float64(5.132323333063712e-13), 'gm': np.float64(0.0006048753109920111), 'Ro': np.float64(8984771.656387355), 'Co': np.float64(6.891072386394927e-13)}: The associated Hamiltonian pencil has eigenvalues too close to the imaginary axis\n",
      "Error with Active-RC parameters {'Bw': np.float64(4898858717.672142), 'osr': 64, 'nlev': 3, 'Hinf': np.float64(1.3372739360192283), 'Cint': np.float64(1.0937773562740378e-12), 'gm': np.float64(0.00015843514947398745), 'Ro': np.float64(8152500.176228689), 'Co': np.float64(4.2135881308653573e-13)}: Failed to find a finite solution.\n"
     ]
    },
    {
     "name": "stderr",
     "output_type": "stream",
     "text": [
      "INFO:root:Simulating continuous-time analog frontend for sinusoidal input\n",
      "INFO:root:Simulating continuous-time analog frontend for sinusoidal input\n"
     ]
    },
    {
     "name": "stdout",
     "output_type": "stream",
     "text": [
      "Achieved SNR: 3.9206693925404252 db\n",
      "Error with Active-RC parameters {'Bw': np.float64(6575986715.712154), 'osr': 16, 'nlev': 4, 'Hinf': np.float64(1.9381648061681007), 'Cint': np.float64(3.204072851603955e-12), 'gm': np.float64(8.674468810535993e-05), 'Ro': np.float64(4477328.305800382), 'Co': np.float64(9.46775271775976e-13)}: The associated Hamiltonian pencil has eigenvalues too close to the imaginary axis\n"
     ]
    },
    {
     "name": "stderr",
     "output_type": "stream",
     "text": [
      "INFO:root:Simulating continuous-time analog frontend for sinusoidal input\n"
     ]
    },
    {
     "name": "stdout",
     "output_type": "stream",
     "text": [
      "Error with Active-RC parameters {'Bw': np.float64(8481759617.060589), 'osr': 256, 'nlev': 3, 'Hinf': np.float64(1.1716497282550464), 'Cint': np.float64(1.8229389665424402e-12), 'gm': np.float64(0.0003920141296550409), 'Ro': np.float64(5027864.109596825), 'Co': np.float64(5.545657170520187e-13)}: Failed to find a finite solution.\n",
      "Achieved SNR: 74.89132626973336 db\n"
     ]
    },
    {
     "name": "stderr",
     "output_type": "stream",
     "text": [
      "INFO:root:Simulating continuous-time analog frontend for sinusoidal input\n",
      "INFO:root:Simulating continuous-time analog frontend for sinusoidal input\n",
      "INFO:root:Simulating continuous-time analog frontend for sinusoidal input\n"
     ]
    },
    {
     "name": "stdout",
     "output_type": "stream",
     "text": [
      "Error with Active-RC parameters {'Bw': np.float64(7280645876.9432), 'osr': 128, 'nlev': 3, 'Hinf': np.float64(1.8154276353027903), 'Cint': np.float64(1.2491196529004907e-12), 'gm': np.float64(4.901353532093021e-05), 'Ro': np.float64(9898979.292019157), 'Co': np.float64(7.735568076856527e-13)}: The associated Hamiltonian pencil has eigenvalues too close to the imaginary axis\n",
      "Error with Active-RC parameters {'Bw': np.float64(6244126797.599787), 'osr': 128, 'nlev': 4, 'Hinf': np.float64(1.919173772407817), 'Cint': np.float64(1.0697191897445996e-12), 'gm': np.float64(0.0006770350981388373), 'Ro': np.float64(7352898.699519482), 'Co': np.float64(3.58497529182238e-13)}: The associated Hamiltonian pencil has eigenvalues too close to the imaginary axis\n"
     ]
    },
    {
     "name": "stderr",
     "output_type": "stream",
     "text": [
      "INFO:root:Simulating continuous-time analog frontend for sinusoidal input\n",
      "INFO:root:Simulating continuous-time analog frontend for sinusoidal input\n"
     ]
    },
    {
     "name": "stdout",
     "output_type": "stream",
     "text": [
      "Error with Active-RC parameters {'Bw': np.float64(1177198655.2910624), 'osr': 32, 'nlev': 2, 'Hinf': np.float64(1.245368067435805), 'Cint': np.float64(4.5284609203111e-12), 'gm': np.float64(0.00010638855186686328), 'Ro': np.float64(3705838.6423477745), 'Co': np.float64(9.070114145517996e-13)}: The associated Hamiltonian pencil has eigenvalues too close to the imaginary axis\n",
      "Error with Active-RC parameters {'Bw': np.float64(6648453225.728675), 'osr': 16, 'nlev': 2, 'Hinf': np.float64(1.5227651839409768), 'Cint': np.float64(1.4663389128890752e-12), 'gm': np.float64(0.0003132090769851018), 'Ro': np.float64(8283634.616823596), 'Co': np.float64(7.676640255785187e-13)}: Failed to find a finite solution.\n"
     ]
    },
    {
     "name": "stderr",
     "output_type": "stream",
     "text": [
      "INFO:root:Simulating continuous-time analog frontend for sinusoidal input\n",
      "INFO:root:Simulating continuous-time analog frontend for sinusoidal input\n"
     ]
    },
    {
     "name": "stdout",
     "output_type": "stream",
     "text": [
      "Error with Active-RC parameters {'Bw': np.float64(8996641805.113504), 'osr': 128, 'nlev': 3, 'Hinf': np.float64(1.6003859533457006), 'Cint': np.float64(2.3168944836219786e-12), 'gm': np.float64(0.0006978531985326504), 'Ro': np.float64(5463606.819469255), 'Co': np.float64(4.950969265012975e-13)}: The associated Hamiltonian pencil has eigenvalues too close to the imaginary axis\n",
      "Achieved SNR: 84.14381957454637 db\n"
     ]
    },
    {
     "name": "stderr",
     "output_type": "stream",
     "text": [
      "INFO:root:Simulating continuous-time analog frontend for sinusoidal input\n",
      "INFO:root:Simulating continuous-time analog frontend for sinusoidal input\n"
     ]
    },
    {
     "name": "stdout",
     "output_type": "stream",
     "text": [
      "Error with Active-RC parameters {'Bw': np.float64(9722436082.014797), 'osr': 32, 'nlev': 4, 'Hinf': np.float64(1.6998209749424538), 'Cint': np.float64(7.159483866574678e-13), 'gm': np.float64(6.772462526542592e-05), 'Ro': np.float64(5223697.188222448), 'Co': np.float64(8.16044780394686e-13)}: Failed to find a finite solution.\n",
      "Achieved SNR: 27.242363329627658 db\n"
     ]
    },
    {
     "name": "stderr",
     "output_type": "stream",
     "text": [
      "INFO:root:Simulating continuous-time analog frontend for sinusoidal input\n"
     ]
    },
    {
     "name": "stdout",
     "output_type": "stream",
     "text": [
      "Error with Active-RC parameters {'Bw': np.float64(5522247397.151697), 'osr': 32, 'nlev': 5, 'Hinf': np.float64(1.9641962797557326), 'Cint': np.float64(2.6881630324255768e-12), 'gm': np.float64(0.0001373632073917521), 'Ro': np.float64(1528750.3202751323), 'Co': np.float64(6.99429073118918e-13)}: Failed to find a finite solution.\n"
     ]
    },
    {
     "name": "stderr",
     "output_type": "stream",
     "text": [
      "INFO:root:Simulating continuous-time analog frontend for sinusoidal input\n",
      "INFO:root:Simulating continuous-time analog frontend for sinusoidal input\n"
     ]
    },
    {
     "name": "stdout",
     "output_type": "stream",
     "text": [
      "Achieved SNR: 40.80840187329991 db\n",
      "Error with Active-RC parameters {'Bw': np.float64(1702942948.3762903), 'osr': 64, 'nlev': 2, 'Hinf': np.float64(1.0804736254253389), 'Cint': np.float64(1.6117201646864166e-13), 'gm': np.float64(0.0006271282947400834), 'Ro': np.float64(4654078.741689672), 'Co': np.float64(5.184749861198448e-13)}: The associated Hamiltonian pencil has eigenvalues too close to the imaginary axis\n"
     ]
    },
    {
     "name": "stderr",
     "output_type": "stream",
     "text": [
      "INFO:root:Simulating continuous-time analog frontend for sinusoidal input\n",
      "INFO:root:Simulating continuous-time analog frontend for sinusoidal input\n"
     ]
    },
    {
     "name": "stdout",
     "output_type": "stream",
     "text": [
      "Achieved SNR: 21.065588763452627 db\n",
      "Error with Active-RC parameters {'Bw': np.float64(7179207155.906062), 'osr': 32, 'nlev': 5, 'Hinf': np.float64(1.0096579452689118), 'Cint': np.float64(4.8406843383900165e-12), 'gm': np.float64(0.0005571723388796867), 'Ro': np.float64(1806382.2494747085), 'Co': np.float64(2.7038473711026577e-13)}: Failed to find a finite solution.\n"
     ]
    },
    {
     "name": "stderr",
     "output_type": "stream",
     "text": [
      "INFO:root:Simulating continuous-time analog frontend for sinusoidal input\n",
      "INFO:root:Simulating continuous-time analog frontend for sinusoidal input\n"
     ]
    },
    {
     "name": "stdout",
     "output_type": "stream",
     "text": [
      "Achieved SNR: 22.134512255590653 db\n",
      "Error with Active-RC parameters {'Bw': np.float64(2245863809.4748707), 'osr': 128, 'nlev': 5, 'Hinf': np.float64(1.6792806382634753), 'Cint': np.float64(3.1068998549337268e-12), 'gm': np.float64(0.0005924178444398902), 'Ro': np.float64(2150545.279421986), 'Co': np.float64(9.629317141543467e-13)}: The associated Hamiltonian pencil has eigenvalues too close to the imaginary axis\n"
     ]
    },
    {
     "name": "stderr",
     "output_type": "stream",
     "text": [
      "INFO:root:Simulating continuous-time analog frontend for sinusoidal input\n",
      "INFO:root:Simulating continuous-time analog frontend for sinusoidal input\n"
     ]
    },
    {
     "name": "stdout",
     "output_type": "stream",
     "text": [
      "Error with Active-RC parameters {'Bw': np.float64(7978771316.924819), 'osr': 32, 'nlev': 3, 'Hinf': np.float64(1.274422495003353), 'Cint': np.float64(3.246435091420332e-12), 'gm': np.float64(0.00019376510386846929), 'Ro': np.float64(8599287.956542496), 'Co': np.float64(2.793226524248763e-13)}: Failed to find a finite solution.\n",
      "Error with Active-RC parameters {'Bw': np.float64(2943199743.6398125), 'osr': 256, 'nlev': 5, 'Hinf': np.float64(1.8586599483120956), 'Cint': np.float64(3.5837049252222775e-12), 'gm': np.float64(0.0002838577216865659), 'Ro': np.float64(758059.5209916796), 'Co': np.float64(8.969444923762305e-13)}: The associated Hamiltonian pencil has eigenvalues too close to the imaginary axis\n"
     ]
    },
    {
     "name": "stderr",
     "output_type": "stream",
     "text": [
      "INFO:root:Simulating continuous-time analog frontend for sinusoidal input\n",
      "INFO:root:Simulating continuous-time analog frontend for sinusoidal input\n"
     ]
    },
    {
     "name": "stdout",
     "output_type": "stream",
     "text": [
      "Error with Active-RC parameters {'Bw': np.float64(9005131091.891119), 'osr': 32, 'nlev': 2, 'Hinf': np.float64(1.6316687027850727), 'Cint': np.float64(4.145933849787117e-12), 'gm': np.float64(0.0008750780564197533), 'Ro': np.float64(7811652.826480026), 'Co': np.float64(3.4898678466936924e-13)}: The associated Hamiltonian pencil has eigenvalues too close to the imaginary axis\n",
      "Achieved SNR: -12.028927352062118 db\n"
     ]
    },
    {
     "name": "stderr",
     "output_type": "stream",
     "text": [
      "INFO:root:Simulating continuous-time analog frontend for sinusoidal input\n",
      "INFO:root:Simulating continuous-time analog frontend for sinusoidal input\n"
     ]
    },
    {
     "name": "stdout",
     "output_type": "stream",
     "text": [
      "Error with Active-RC parameters {'Bw': np.float64(3398576532.640538), 'osr': 128, 'nlev': 4, 'Hinf': np.float64(1.9563590293352031), 'Cint': np.float64(2.1944281094561216e-12), 'gm': np.float64(0.0007539394129448728), 'Ro': np.float64(6700939.0181279415), 'Co': np.float64(9.926570463469243e-13)}: The associated Hamiltonian pencil has eigenvalues too close to the imaginary axis\n",
      "Error with Active-RC parameters {'Bw': np.float64(9567529519.291891), 'osr': 64, 'nlev': 2, 'Hinf': np.float64(1.7448481201470325), 'Cint': np.float64(4.506485450900449e-12), 'gm': np.float64(0.00042498794081693737), 'Ro': np.float64(8724776.939459654), 'Co': np.float64(8.687235584788649e-13)}: Failed to find a finite solution.\n"
     ]
    },
    {
     "name": "stderr",
     "output_type": "stream",
     "text": [
      "INFO:root:Simulating continuous-time analog frontend for sinusoidal input\n",
      "INFO:root:Simulating continuous-time analog frontend for sinusoidal input\n"
     ]
    },
    {
     "name": "stdout",
     "output_type": "stream",
     "text": [
      "Error with Active-RC parameters {'Bw': np.float64(4160004350.9038215), 'osr': 128, 'nlev': 2, 'Hinf': np.float64(1.2349413866838277), 'Cint': np.float64(4.755949687492103e-12), 'gm': np.float64(0.00035865106153417834), 'Ro': np.float64(1908776.5713499393), 'Co': np.float64(6.15544271671425e-13)}: The associated Hamiltonian pencil has eigenvalues too close to the imaginary axis\n",
      "Error with Active-RC parameters {'Bw': np.float64(6814771422.706836), 'osr': 32, 'nlev': 2, 'Hinf': np.float64(1.6574576081032166), 'Cint': np.float64(2.02681098899227e-12), 'gm': np.float64(0.00021641703630686528), 'Ro': np.float64(6011084.57451194), 'Co': np.float64(2.0934176526420396e-13)}: The associated Hamiltonian pencil has eigenvalues too close to the imaginary axis\n"
     ]
    },
    {
     "name": "stderr",
     "output_type": "stream",
     "text": [
      "INFO:root:Simulating continuous-time analog frontend for sinusoidal input\n",
      "INFO:root:Simulating continuous-time analog frontend for sinusoidal input\n"
     ]
    },
    {
     "name": "stdout",
     "output_type": "stream",
     "text": [
      "Error with Active-RC parameters {'Bw': np.float64(3574436541.623838), 'osr': 64, 'nlev': 5, 'Hinf': np.float64(1.3738857654958454), 'Cint': np.float64(9.75528997471571e-13), 'gm': np.float64(4.96546119228963e-06), 'Ro': np.float64(7109652.653406502), 'Co': np.float64(5.407987318306388e-13)}: The associated Hamiltonian pencil has eigenvalues too close to the imaginary axis\n",
      "Error with Active-RC parameters {'Bw': np.float64(8255505234.212479), 'osr': 16, 'nlev': 4, 'Hinf': np.float64(1.1529129454620302), 'Cint': np.float64(3.028020774418637e-12), 'gm': np.float64(0.0005120348031454367), 'Ro': np.float64(252552.99159672437), 'Co': np.float64(3.793834040214452e-13)}: The associated Hamiltonian pencil has eigenvalues too close to the imaginary axis\n"
     ]
    },
    {
     "name": "stderr",
     "output_type": "stream",
     "text": [
      "INFO:root:Simulating continuous-time analog frontend for sinusoidal input\n"
     ]
    },
    {
     "name": "stdout",
     "output_type": "stream",
     "text": [
      "Error with Active-RC parameters {'Bw': np.float64(5002459923.2860985), 'osr': 256, 'nlev': 5, 'Hinf': np.float64(1.0419186626977808), 'Cint': np.float64(3.780572862138755e-12), 'gm': np.float64(0.0005310048409639884), 'Ro': np.float64(6860359.677716402), 'Co': np.float64(7.342711420483761e-13)}: Failed to find a finite solution.\n",
      "Achieved SNR: 37.56750482141154 db\n"
     ]
    },
    {
     "name": "stderr",
     "output_type": "stream",
     "text": [
      "INFO:root:Simulating continuous-time analog frontend for sinusoidal input\n",
      "INFO:root:Simulating continuous-time analog frontend for sinusoidal input\n",
      "INFO:root:Simulating continuous-time analog frontend for sinusoidal input\n"
     ]
    },
    {
     "name": "stdout",
     "output_type": "stream",
     "text": [
      "Error with Active-RC parameters {'Bw': np.float64(1588437251.5305812), 'osr': 8, 'nlev': 2, 'Hinf': np.float64(1.4424882766029796), 'Cint': np.float64(2.1315938692932305e-12), 'gm': np.float64(0.0002550331668857647), 'Ro': np.float64(9723369.615560725), 'Co': np.float64(5.789122117814721e-13)}: The associated Hamiltonian pencil has eigenvalues too close to the imaginary axis\n",
      "Error with Active-RC parameters {'Bw': np.float64(3714665117.728326), 'osr': 64, 'nlev': 3, 'Hinf': np.float64(1.2119219174749425), 'Cint': np.float64(3.3760468589414514e-13), 'gm': np.float64(0.0004964545558120148), 'Ro': np.float64(3560523.9662972074), 'Co': np.float64(8.398465783930511e-13)}: The associated Hamiltonian pencil has eigenvalues too close to the imaginary axis\n"
     ]
    },
    {
     "name": "stderr",
     "output_type": "stream",
     "text": [
      "INFO:root:Simulating continuous-time analog frontend for sinusoidal input\n",
      "INFO:root:Simulating continuous-time analog frontend for sinusoidal input\n"
     ]
    },
    {
     "name": "stdout",
     "output_type": "stream",
     "text": [
      "Achieved SNR: 43.55052960190913 db\n",
      "Error with Active-RC parameters {'Bw': np.float64(9341534434.909843), 'osr': 64, 'nlev': 3, 'Hinf': np.float64(1.0698531131291198), 'Cint': np.float64(2.815439226274711e-12), 'gm': np.float64(0.0009985320069942991), 'Ro': np.float64(9143935.074016443), 'Co': np.float64(4.710390219275145e-13)}: Failed to find a finite solution.\n"
     ]
    },
    {
     "name": "stderr",
     "output_type": "stream",
     "text": [
      "INFO:root:Simulating continuous-time analog frontend for sinusoidal input\n"
     ]
    },
    {
     "name": "stdout",
     "output_type": "stream",
     "text": [
      "Error with Active-RC parameters {'Bw': np.float64(9807764225.71811), 'osr': 8, 'nlev': 2, 'Hinf': np.float64(1.4880938505790486), 'Cint': np.float64(2.3018060238211656e-13), 'gm': np.float64(0.0004675076654724374), 'Ro': np.float64(3875096.5433102143), 'Co': np.float64(6.419864880183161e-13)}: Failed to find a finite solution.\n",
      "Achieved SNR: 4.478132670623714 db\n"
     ]
    },
    {
     "name": "stderr",
     "output_type": "stream",
     "text": [
      "INFO:root:Simulating continuous-time analog frontend for sinusoidal input\n",
      "INFO:root:Simulating continuous-time analog frontend for sinusoidal input\n",
      "INFO:root:Simulating continuous-time analog frontend for sinusoidal input\n"
     ]
    },
    {
     "name": "stdout",
     "output_type": "stream",
     "text": [
      "Error with Active-RC parameters {'Bw': np.float64(1943139868.2957466), 'osr': 64, 'nlev': 2, 'Hinf': np.float64(1.7858236190780852), 'Cint': np.float64(1.4970216905179561e-12), 'gm': np.float64(0.00032109648260832233), 'Ro': np.float64(6564011.76547286), 'Co': np.float64(6.590552928954038e-13)}: The associated Hamiltonian pencil has eigenvalues too close to the imaginary axis\n",
      "Error with Active-RC parameters {'Bw': np.float64(7743442918.601855), 'osr': 64, 'nlev': 4, 'Hinf': np.float64(1.3820299063576735), 'Cint': np.float64(3.824149966364261e-12), 'gm': np.float64(0.0005799284531529507), 'Ro': np.float64(4187692.5430200673), 'Co': np.float64(3.2660326110576315e-13)}: The associated Hamiltonian pencil has eigenvalues too close to the imaginary axis\n"
     ]
    },
    {
     "name": "stderr",
     "output_type": "stream",
     "text": [
      "INFO:root:Simulating continuous-time analog frontend for sinusoidal input\n",
      "INFO:root:Simulating continuous-time analog frontend for sinusoidal input\n"
     ]
    },
    {
     "name": "stdout",
     "output_type": "stream",
     "text": [
      "Error with Active-RC parameters {'Bw': np.float64(5885384790.115198), 'osr': 16, 'nlev': 2, 'Hinf': np.float64(1.4692675494354288), 'Cint': np.float64(2.420978476289547e-12), 'gm': np.float64(0.00036796852194361933), 'Ro': np.float64(6303858.151228268), 'Co': np.float64(4.107339996462776e-13)}: The associated Hamiltonian pencil has eigenvalues too close to the imaginary axis\n",
      "Error with Active-RC parameters {'Bw': np.float64(4253874903.404533), 'osr': 64, 'nlev': 5, 'Hinf': np.float64(1.9949515992252622), 'Cint': np.float64(4.276764429688752e-12), 'gm': np.float64(0.00017877909776773212), 'Ro': np.float64(1414603.1799446736), 'Co': np.float64(2.2953725267790184e-13)}: The associated Hamiltonian pencil has eigenvalues too close to the imaginary axis\n"
     ]
    },
    {
     "name": "stderr",
     "output_type": "stream",
     "text": [
      "INFO:root:Simulating continuous-time analog frontend for sinusoidal input\n",
      "INFO:root:Simulating continuous-time analog frontend for sinusoidal input\n"
     ]
    },
    {
     "name": "stdout",
     "output_type": "stream",
     "text": [
      "Error with Active-RC parameters {'Bw': np.float64(8700575668.793753), 'osr': 256, 'nlev': 3, 'Hinf': np.float64(1.115603063311143), 'Cint': np.float64(3.986054463069961e-12), 'gm': np.float64(3.304146314953447e-05), 'Ro': np.float64(5351811.166487337), 'Co': np.float64(6.001801736134157e-13)}: The associated Hamiltonian pencil has eigenvalues too close to the imaginary axis\n",
      "Error with Active-RC parameters {'Bw': np.float64(7550584532.73615), 'osr': 128, 'nlev': 5, 'Hinf': np.float64(1.557792572205301), 'Cint': np.float64(2.6022230153262236e-12), 'gm': np.float64(0.0007933209584554976), 'Ro': np.float64(3290916.112270353), 'Co': np.float64(1.0853985419107405e-13)}: Reordering of (A, B) failed because the transformed matrix pair (A, B) would be too far from generalized Schur form; the problem is very ill-conditioned. (A, B) may have been partially reordered.\n"
     ]
    },
    {
     "name": "stderr",
     "output_type": "stream",
     "text": [
      "INFO:root:Simulating continuous-time analog frontend for sinusoidal input\n"
     ]
    },
    {
     "name": "stdout",
     "output_type": "stream",
     "text": [
      "Achieved SNR: 47.598739268284305 db\n"
     ]
    },
    {
     "name": "stderr",
     "output_type": "stream",
     "text": [
      "INFO:root:Simulating continuous-time analog frontend for sinusoidal input\n",
      "INFO:root:Simulating continuous-time analog frontend for sinusoidal input\n"
     ]
    },
    {
     "name": "stdout",
     "output_type": "stream",
     "text": [
      "Achieved SNR: 58.36343528141299 db\n",
      "Error with Active-RC parameters {'Bw': np.float64(3861963736.5964313), 'osr': 16, 'nlev': 5, 'Hinf': np.float64(1.0385550525747917), 'Cint': np.float64(4.351564486740006e-12), 'gm': np.float64(0.00023209084332717614), 'Ro': np.float64(7503193.427494235), 'Co': np.float64(8.665960617179425e-13)}: Failed to find a finite solution.\n"
     ]
    },
    {
     "name": "stderr",
     "output_type": "stream",
     "text": [
      "INFO:root:Simulating continuous-time analog frontend for sinusoidal input\n",
      "INFO:root:Simulating continuous-time analog frontend for sinusoidal input\n"
     ]
    },
    {
     "name": "stdout",
     "output_type": "stream",
     "text": [
      "Error with Active-RC parameters {'Bw': np.float64(4548160880.339343), 'osr': 8, 'nlev': 4, 'Hinf': np.float64(1.3102641770783858), 'Cint': np.float64(4.104851908666569e-12), 'gm': np.float64(0.0009134389855429956), 'Ro': np.float64(6176460.056953072), 'Co': np.float64(2.4766244779194236e-13)}: Reordering of (A, B) failed because the transformed matrix pair (A, B) would be too far from generalized Schur form; the problem is very ill-conditioned. (A, B) may have been partially reordered.\n",
      "Error with Active-RC parameters {'Bw': np.float64(5302552866.803266), 'osr': 64, 'nlev': 2, 'Hinf': np.float64(1.1295125488246343), 'Cint': np.float64(4.665798832956958e-12), 'gm': np.float64(0.0007705961089733216), 'Ro': np.float64(4380288.147826042), 'Co': np.float64(7.956028167415876e-13)}: The associated Hamiltonian pencil has eigenvalues too close to the imaginary axis\n"
     ]
    },
    {
     "name": "stderr",
     "output_type": "stream",
     "text": [
      "INFO:root:Simulating continuous-time analog frontend for sinusoidal input\n"
     ]
    },
    {
     "name": "stdout",
     "output_type": "stream",
     "text": [
      "Error with Active-RC parameters {'Bw': np.float64(5689157041.731934), 'osr': 128, 'nlev': 4, 'Hinf': np.float64(1.5881377144094102), 'Cint': np.float64(4.181866490753344e-12), 'gm': np.float64(0.0005218234204626585), 'Ro': np.float64(1443583.5307235732), 'Co': np.float64(9.011033243499579e-13)}: The associated Hamiltonian pencil has eigenvalues too close to the imaginary axis\n",
      "Achieved SNR: 82.81356261723906 db\n"
     ]
    },
    {
     "name": "stderr",
     "output_type": "stream",
     "text": [
      "INFO:root:Simulating continuous-time analog frontend for sinusoidal input\n",
      "INFO:root:Simulating continuous-time analog frontend for sinusoidal input\n",
      "INFO:root:Simulating continuous-time analog frontend for sinusoidal input\n"
     ]
    },
    {
     "name": "stdout",
     "output_type": "stream",
     "text": [
      "Error with Active-RC parameters {'Bw': np.float64(9103987089.576862), 'osr': 32, 'nlev': 4, 'Hinf': np.float64(1.7362902030672949), 'Cint': np.float64(6.053526019254462e-13), 'gm': np.float64(0.000417866130567963), 'Ro': np.float64(6199629.534062719), 'Co': np.float64(7.925313397050122e-13)}: Failed to find a finite solution.\n",
      "Error with Active-RC parameters {'Bw': np.float64(6912837648.274436), 'osr': 16, 'nlev': 5, 'Hinf': np.float64(1.102952645996921), 'Cint': np.float64(1.1879242315553111e-12), 'gm': np.float64(0.00043161285220533874), 'Ro': np.float64(3791323.280851223), 'Co': np.float64(4.606194305109625e-13)}: Failed to find a finite solution.\n"
     ]
    },
    {
     "name": "stderr",
     "output_type": "stream",
     "text": [
      "INFO:root:Simulating continuous-time analog frontend for sinusoidal input\n",
      "INFO:root:Simulating continuous-time analog frontend for sinusoidal input\n"
     ]
    },
    {
     "name": "stdout",
     "output_type": "stream",
     "text": [
      "Error with Active-RC parameters {'Bw': np.float64(7312805433.840782), 'osr': 8, 'nlev': 4, 'Hinf': np.float64(1.906854171978246), 'Cint': np.float64(2.498256104520825e-12), 'gm': np.float64(0.0003680077657624884), 'Ro': np.float64(140519.30650307273), 'Co': np.float64(1.5045840854533884e-13)}: The associated Hamiltonian pencil has eigenvalues too close to the imaginary axis\n",
      "Error with Active-RC parameters {'Bw': np.float64(9221152833.126825), 'osr': 64, 'nlev': 5, 'Hinf': np.float64(1.0250394946681805), 'Cint': np.float64(1.9673049759703787e-13), 'gm': np.float64(9.83057037277445e-05), 'Ro': np.float64(7716484.153339527), 'Co': np.float64(5.740120027668871e-14)}: Failed to find a finite solution.\n"
     ]
    },
    {
     "name": "stderr",
     "output_type": "stream",
     "text": [
      "INFO:root:Simulating continuous-time analog frontend for sinusoidal input\n"
     ]
    },
    {
     "name": "stdout",
     "output_type": "stream",
     "text": [
      "Error with Active-RC parameters {'Bw': np.float64(2742336308.730289), 'osr': 128, 'nlev': 2, 'Hinf': np.float64(1.0194026829154585), 'Cint': np.float64(2.640210038486947e-13), 'gm': np.float64(0.0009724571312742316), 'Ro': np.float64(5582071.288631961), 'Co': np.float64(6.955799200981571e-13)}: The associated Hamiltonian pencil has eigenvalues too close to the imaginary axis\n",
      "Achieved SNR: 41.381905217212356 db\n"
     ]
    },
    {
     "name": "stderr",
     "output_type": "stream",
     "text": [
      "INFO:root:Simulating continuous-time analog frontend for sinusoidal input\n",
      "INFO:root:Simulating continuous-time analog frontend for sinusoidal input\n",
      "INFO:root:Simulating continuous-time analog frontend for sinusoidal input\n"
     ]
    },
    {
     "name": "stdout",
     "output_type": "stream",
     "text": [
      "Error with Active-RC parameters {'Bw': np.float64(6663779004.248163), 'osr': 128, 'nlev': 3, 'Hinf': np.float64(1.4433081736703262), 'Cint': np.float64(3.4317162975930067e-12), 'gm': np.float64(0.00025790750069830626), 'Ro': np.float64(8137955.8916256735), 'Co': np.float64(9.917033887135598e-13)}: Failed to find a finite solution.\n",
      "Error with Active-RC parameters {'Bw': np.float64(7471207720.090759), 'osr': 128, 'nlev': 2, 'Hinf': np.float64(1.8050697325791285), 'Cint': np.float64(3.9526321495333634e-12), 'gm': np.float64(0.00023497619632980264), 'Ro': np.float64(6631704.590740341), 'Co': np.float64(2.470546632369288e-13)}: The associated Hamiltonian pencil has eigenvalues too close to the imaginary axis\n"
     ]
    },
    {
     "name": "stderr",
     "output_type": "stream",
     "text": [
      "INFO:root:Simulating continuous-time analog frontend for sinusoidal input\n",
      "INFO:root:Simulating continuous-time analog frontend for sinusoidal input\n"
     ]
    },
    {
     "name": "stdout",
     "output_type": "stream",
     "text": [
      "Achieved SNR: 1.1610670425691711 db\n",
      "Error with Active-RC parameters {'Bw': np.float64(8929193272.61725), 'osr': 64, 'nlev': 3, 'Hinf': np.float64(1.8761578878174654), 'Cint': np.float64(7.014183187535406e-13), 'gm': np.float64(0.0009848262416009925), 'Ro': np.float64(5953869.466963191), 'Co': np.float64(4.947203767331126e-13)}: The associated Hamiltonian pencil has eigenvalues too close to the imaginary axis\n"
     ]
    },
    {
     "name": "stderr",
     "output_type": "stream",
     "text": [
      "INFO:root:Simulating continuous-time analog frontend for sinusoidal input\n"
     ]
    },
    {
     "name": "stdout",
     "output_type": "stream",
     "text": [
      "Error with Active-RC parameters {'Bw': np.float64(8455675755.640929), 'osr': 256, 'nlev': 5, 'Hinf': np.float64(1.2495567918547001), 'Cint': np.float64(1.0553214367379241e-12), 'gm': np.float64(0.0009178966462550105), 'Ro': np.float64(1666325.6498654133), 'Co': np.float64(4.234100663707197e-13)}: The associated Hamiltonian pencil has eigenvalues too close to the imaginary axis\n",
      "Achieved SNR: 5.449919822251623 db\n"
     ]
    },
    {
     "name": "stderr",
     "output_type": "stream",
     "text": [
      "INFO:root:Simulating continuous-time analog frontend for sinusoidal input\n",
      "INFO:root:Simulating continuous-time analog frontend for sinusoidal input\n",
      "INFO:root:Simulating continuous-time analog frontend for sinusoidal input\n"
     ]
    },
    {
     "name": "stdout",
     "output_type": "stream",
     "text": [
      "Error with Active-RC parameters {'Bw': np.float64(5383884286.671407), 'osr': 32, 'nlev': 5, 'Hinf': np.float64(1.7122358271679445), 'Cint': np.float64(3.725047464709921e-12), 'gm': np.float64(0.0002978239960690159), 'Ro': np.float64(8257539.4252708955), 'Co': np.float64(3.5196927915952623e-13)}: The associated Hamiltonian pencil has eigenvalues too close to the imaginary axis\n",
      "Error with Active-RC parameters {'Bw': np.float64(3666013322.507771), 'osr': 16, 'nlev': 3, 'Hinf': np.float64(1.236617229205051), 'Cint': np.float64(1.3930847578993277e-12), 'gm': np.float64(0.00014822093909574958), 'Ro': np.float64(8912576.359392585), 'Co': np.float64(6.755585547030501e-13)}: Failed to find a finite solution.\n"
     ]
    },
    {
     "name": "stderr",
     "output_type": "stream",
     "text": [
      "INFO:root:Simulating continuous-time analog frontend for sinusoidal input\n",
      "INFO:root:Simulating continuous-time analog frontend for sinusoidal input\n"
     ]
    },
    {
     "name": "stdout",
     "output_type": "stream",
     "text": [
      "Error with Active-RC parameters {'Bw': np.float64(5584534688.433215), 'osr': 64, 'nlev': 3, 'Hinf': np.float64(1.0653702988544593), 'Cint': np.float64(1.5973242286017951e-12), 'gm': np.float64(5.881737222813017e-05), 'Ro': np.float64(1931976.56387601), 'Co': np.float64(3.8935425407646837e-13)}: Failed to find a finite solution.\n",
      "Error with Active-RC parameters {'Bw': np.float64(8784580246.70651), 'osr': 256, 'nlev': 5, 'Hinf': np.float64(1.9706303151069742), 'Cint': np.float64(4.937290643778843e-12), 'gm': np.float64(0.0006001869134721568), 'Ro': np.float64(5834045.380892231), 'Co': np.float64(2.7599098126191125e-13)}: The associated Hamiltonian pencil has eigenvalues too close to the imaginary axis\n"
     ]
    },
    {
     "name": "stderr",
     "output_type": "stream",
     "text": [
      "INFO:root:Simulating continuous-time analog frontend for sinusoidal input\n"
     ]
    },
    {
     "name": "stdout",
     "output_type": "stream",
     "text": [
      "Achieved SNR: 6.072820928045116 db\n"
     ]
    },
    {
     "name": "stderr",
     "output_type": "stream",
     "text": [
      "INFO:root:Simulating continuous-time analog frontend for sinusoidal input\n",
      "INFO:root:Simulating continuous-time analog frontend for sinusoidal input\n"
     ]
    },
    {
     "name": "stdout",
     "output_type": "stream",
     "text": [
      "Achieved SNR: 62.71301579410786 db\n",
      "Error with Active-RC parameters {'Bw': np.float64(4713574012.540043), 'osr': 16, 'nlev': 5, 'Hinf': np.float64(1.7646405677303818), 'Cint': np.float64(2.006893720650229e-12), 'gm': np.float64(0.0007460781169095622), 'Ro': np.float64(4068190.5827088454), 'Co': np.float64(8.131155379755935e-13)}: The associated Hamiltonian pencil has eigenvalues too close to the imaginary axis\n"
     ]
    },
    {
     "name": "stderr",
     "output_type": "stream",
     "text": [
      "INFO:root:Simulating continuous-time analog frontend for sinusoidal input\n"
     ]
    },
    {
     "name": "stdout",
     "output_type": "stream",
     "text": [
      "Error with Active-RC parameters {'Bw': np.float64(2848575148.124099), 'osr': 128, 'nlev': 4, 'Hinf': np.float64(1.4614716908237049), 'Cint': np.float64(2.7835240980155777e-12), 'gm': np.float64(0.0005575045021701521), 'Ro': np.float64(2617751.427549257), 'Co': np.float64(1.9399912597186445e-13)}: Reordering of (A, B) failed because the transformed matrix pair (A, B) would be too far from generalized Schur form; the problem is very ill-conditioned. (A, B) may have been partially reordered.\n",
      "Achieved SNR: 21.290187932752545 db\n"
     ]
    },
    {
     "name": "stderr",
     "output_type": "stream",
     "text": [
      "INFO:root:Simulating continuous-time analog frontend for sinusoidal input\n",
      "INFO:root:Simulating continuous-time analog frontend for sinusoidal input\n",
      "INFO:root:Simulating continuous-time analog frontend for sinusoidal input\n"
     ]
    },
    {
     "name": "stdout",
     "output_type": "stream",
     "text": [
      "Error with Active-RC parameters {'Bw': np.float64(6014278437.1404295), 'osr': 256, 'nlev': 3, 'Hinf': np.float64(1.8979136527665452), 'Cint': np.float64(3.862016472041355e-12), 'gm': np.float64(0.00038974960102154395), 'Ro': np.float64(9973081.506831588), 'Co': np.float64(6.365589956222424e-13)}: The associated Hamiltonian pencil has eigenvalues too close to the imaginary axis\n",
      "Error with Active-RC parameters {'Bw': np.float64(8043970803.910913), 'osr': 128, 'nlev': 2, 'Hinf': np.float64(1.0544630417180765), 'Cint': np.float64(2.375429140623298e-12), 'gm': np.float64(0.00048487673083237056), 'Ro': np.float64(8009373.315247508), 'Co': np.float64(8.248607890280917e-14)}: The associated Hamiltonian pencil has eigenvalues too close to the imaginary axis\n"
     ]
    },
    {
     "name": "stderr",
     "output_type": "stream",
     "text": [
      "INFO:root:Simulating continuous-time analog frontend for sinusoidal input\n",
      "INFO:root:Simulating continuous-time analog frontend for sinusoidal input\n"
     ]
    },
    {
     "name": "stdout",
     "output_type": "stream",
     "text": [
      "Achieved SNR: 34.049832726287256 db\n",
      "Error with Active-RC parameters {'Bw': np.float64(1872861024.3030794), 'osr': 16, 'nlev': 2, 'Hinf': np.float64(1.1373659262266056), 'Cint': np.float64(1.6712351912956537e-12), 'gm': np.float64(0.0006508744359902141), 'Ro': np.float64(4478598.032244249), 'Co': np.float64(6.090810664108047e-13)}: The associated Hamiltonian pencil has eigenvalues too close to the imaginary axis\n"
     ]
    },
    {
     "name": "stderr",
     "output_type": "stream",
     "text": [
      "INFO:root:Simulating continuous-time analog frontend for sinusoidal input\n",
      "INFO:root:Simulating continuous-time analog frontend for sinusoidal input\n"
     ]
    },
    {
     "name": "stdout",
     "output_type": "stream",
     "text": [
      "Error with Active-RC parameters {'Bw': np.float64(5850513725.187145), 'osr': 128, 'nlev': 5, 'Hinf': np.float64(1.685449808351887), 'Cint': np.float64(4.6452277140899064e-12), 'gm': np.float64(0.00019417694485349824), 'Ro': np.float64(1066608.5739674242), 'Co': np.float64(7.73885374095181e-13)}: Failed to find a finite solution.\n",
      "Error with Active-RC parameters {'Bw': np.float64(1512537449.6936033), 'osr': 64, 'nlev': 2, 'Hinf': np.float64(1.2843106212212443), 'Cint': np.float64(1.1655102669712055e-12), 'gm': np.float64(0.0002133623569602505), 'Ro': np.float64(9127759.119075676), 'Co': np.float64(9.055170672678185e-13)}: The associated Hamiltonian pencil has eigenvalues too close to the imaginary axis\n"
     ]
    },
    {
     "name": "stderr",
     "output_type": "stream",
     "text": [
      "INFO:root:Simulating continuous-time analog frontend for sinusoidal input\n",
      "INFO:root:Simulating continuous-time analog frontend for sinusoidal input\n"
     ]
    },
    {
     "name": "stdout",
     "output_type": "stream",
     "text": [
      "Error with Active-RC parameters {'Bw': np.float64(9985135625.188202), 'osr': 64, 'nlev': 2, 'Hinf': np.float64(1.5061617689839393), 'Cint': np.float64(4.796609613242558e-12), 'gm': np.float64(0.00026991307790665535), 'Ro': np.float64(7097314.623058422), 'Co': np.float64(7.164740509021022e-13)}: Failed to find a finite solution.\n",
      "Error with Active-RC parameters {'Bw': np.float64(3328407294.920384), 'osr': 128, 'nlev': 2, 'Hinf': np.float64(1.95124473330891), 'Cint': np.float64(3.122775152473269e-12), 'gm': np.float64(0.00013543508881186739), 'Ro': np.float64(595031.1250067572), 'Co': np.float64(5.506985550829637e-13)}: The associated Hamiltonian pencil has eigenvalues too close to the imaginary axis\n"
     ]
    },
    {
     "name": "stderr",
     "output_type": "stream",
     "text": [
      "INFO:root:Simulating continuous-time analog frontend for sinusoidal input\n"
     ]
    },
    {
     "name": "stdout",
     "output_type": "stream",
     "text": [
      "Error with Active-RC parameters {'Bw': np.float64(2250927482.9148626), 'osr': 128, 'nlev': 4, 'Hinf': np.float64(1.9818175498030155), 'Cint': np.float64(8.537431881206703e-13), 'gm': np.float64(0.0009315327164009524), 'Ro': np.float64(9253663.687406898), 'Co': np.float64(4.75786002289905e-13)}: Reordering of (A, B) failed because the transformed matrix pair (A, B) would be too far from generalized Schur form; the problem is very ill-conditioned. (A, B) may have been partially reordered.\n"
     ]
    },
    {
     "name": "stderr",
     "output_type": "stream",
     "text": [
      "INFO:root:Simulating continuous-time analog frontend for sinusoidal input\n",
      "INFO:root:Simulating continuous-time analog frontend for sinusoidal input\n"
     ]
    },
    {
     "name": "stdout",
     "output_type": "stream",
     "text": [
      "Achieved SNR: 27.893788046036462 db\n",
      "Error with Active-RC parameters {'Bw': np.float64(9663957631.558903), 'osr': 32, 'nlev': 2, 'Hinf': np.float64(1.1496797317230443), 'Cint': np.float64(2.6125858447170053e-12), 'gm': np.float64(0.0006828584965656209), 'Ro': np.float64(6395149.531843484), 'Co': np.float64(8.668836710528e-13)}: Failed to find a finite solution.\n"
     ]
    },
    {
     "name": "stderr",
     "output_type": "stream",
     "text": [
      "INFO:root:Simulating continuous-time analog frontend for sinusoidal input\n",
      "INFO:root:Simulating continuous-time analog frontend for sinusoidal input\n"
     ]
    },
    {
     "name": "stdout",
     "output_type": "stream",
     "text": [
      "Error with Active-RC parameters {'Bw': np.float64(9508630698.665827), 'osr': 16, 'nlev': 5, 'Hinf': np.float64(1.540258457767001), 'Cint': np.float64(2.7058763749896353e-12), 'gm': np.float64(0.00016987057788606113), 'Ro': np.float64(425033.1741861044), 'Co': np.float64(3.319483344192599e-13)}: Failed to find a finite solution.\n",
      "Error with Active-RC parameters {'Bw': np.float64(5115937512.436616), 'osr': 32, 'nlev': 2, 'Hinf': np.float64(1.6564409702274787), 'Cint': np.float64(2.9803100322922024e-12), 'gm': np.float64(0.0006332467541355254), 'Ro': np.float64(2830523.3136782204), 'Co': np.float64(6.995564756834039e-13)}: The associated Hamiltonian pencil has eigenvalues too close to the imaginary axis\n"
     ]
    },
    {
     "name": "stderr",
     "output_type": "stream",
     "text": [
      "INFO:root:Simulating continuous-time analog frontend for sinusoidal input\n",
      "INFO:root:Simulating continuous-time analog frontend for sinusoidal input\n"
     ]
    },
    {
     "name": "stdout",
     "output_type": "stream",
     "text": [
      "Error with Active-RC parameters {'Bw': np.float64(7615261940.291461), 'osr': 256, 'nlev': 5, 'Hinf': np.float64(1.7961181726404227), 'Cint': np.float64(9.362741564401316e-13), 'gm': np.float64(3.462782103906882e-05), 'Ro': np.float64(3396060.4501784537), 'Co': np.float64(2.3995752555002144e-13)}: Failed to find a finite solution.\n",
      "Error with Active-RC parameters {'Bw': np.float64(4370330330.1875105), 'osr': 64, 'nlev': 4, 'Hinf': np.float64(1.6208007901318142), 'Cint': np.float64(4.35563913158961e-12), 'gm': np.float64(0.0005162195702043408), 'Ro': np.float64(6803577.631328931), 'Co': np.float64(8.451255523979143e-13)}: The associated Hamiltonian pencil has eigenvalues too close to the imaginary axis\n"
     ]
    },
    {
     "name": "stderr",
     "output_type": "stream",
     "text": [
      "INFO:root:Simulating continuous-time analog frontend for sinusoidal input\n"
     ]
    },
    {
     "name": "stdout",
     "output_type": "stream",
     "text": [
      "Error with Active-RC parameters {'Bw': np.float64(4426611766.762271), 'osr': 64, 'nlev': 2, 'Hinf': np.float64(1.4398060292960937), 'Cint': np.float64(4.593281489442204e-12), 'gm': np.float64(6.453039189529289e-05), 'Ro': np.float64(5074362.550443306), 'Co': np.float64(1.816168598901154e-13)}: The associated Hamiltonian pencil has eigenvalues too close to the imaginary axis\n",
      "Achieved SNR: -18.3506781630607 db\n"
     ]
    },
    {
     "name": "stderr",
     "output_type": "stream",
     "text": [
      "INFO:root:Simulating continuous-time analog frontend for sinusoidal input\n",
      "INFO:root:Simulating continuous-time analog frontend for sinusoidal input\n",
      "INFO:root:Simulating continuous-time analog frontend for sinusoidal input\n"
     ]
    },
    {
     "name": "stdout",
     "output_type": "stream",
     "text": [
      "Error with Active-RC parameters {'Bw': np.float64(2488873718.5038857), 'osr': 64, 'nlev': 4, 'Hinf': np.float64(1.6142819904434738), 'Cint': np.float64(4.074697458912414e-12), 'gm': np.float64(0.0008728134711214552), 'Ro': np.float64(7499375.831216078), 'Co': np.float64(4.0539763702380006e-13)}: Reordering of (A, B) failed because the transformed matrix pair (A, B) would be too far from generalized Schur form; the problem is very ill-conditioned. (A, B) may have been partially reordered.\n",
      "Error with Active-RC parameters {'Bw': np.float64(3464895470.142218), 'osr': 16, 'nlev': 5, 'Hinf': np.float64(1.1636175577870442), 'Cint': np.float64(2.070644459727129e-12), 'gm': np.float64(0.0009402725614798102), 'Ro': np.float64(7005621.769863082), 'Co': np.float64(7.573699804691482e-13)}: The associated Hamiltonian pencil has eigenvalues too close to the imaginary axis\n"
     ]
    },
    {
     "name": "stderr",
     "output_type": "stream",
     "text": [
      "INFO:root:Simulating continuous-time analog frontend for sinusoidal input\n",
      "INFO:root:Simulating continuous-time analog frontend for sinusoidal input\n"
     ]
    },
    {
     "name": "stdout",
     "output_type": "stream",
     "text": [
      "Achieved SNR: 38.03227922137879 db\n",
      "Error with Active-RC parameters {'Bw': np.float64(4006184426.5912924), 'osr': 8, 'nlev': 4, 'Hinf': np.float64(1.0938559355761124), 'Cint': np.float64(2.8939279564888724e-12), 'gm': np.float64(0.0006151679705494142), 'Ro': np.float64(1784432.1424937581), 'Co': np.float64(7.426155603633887e-13)}: The associated Hamiltonian pencil has eigenvalues too close to the imaginary axis\n"
     ]
    },
    {
     "name": "stderr",
     "output_type": "stream",
     "text": [
      "INFO:root:Simulating continuous-time analog frontend for sinusoidal input\n",
      "INFO:root:Simulating continuous-time analog frontend for sinusoidal input\n"
     ]
    },
    {
     "name": "stdout",
     "output_type": "stream",
     "text": [
      "Error with Active-RC parameters {'Bw': np.float64(6320762065.302233), 'osr': 32, 'nlev': 2, 'Hinf': np.float64(1.312751122412723), 'Cint': np.float64(4.236387061253223e-12), 'gm': np.float64(0.00010389982820248339), 'Ro': np.float64(2196728.126411356), 'Co': np.float64(5.989920798832584e-13)}: The associated Hamiltonian pencil has eigenvalues too close to the imaginary axis\n",
      "Error with Active-RC parameters {'Bw': np.float64(4907040631.175499), 'osr': 8, 'nlev': 3, 'Hinf': np.float64(1.331313366210842), 'Cint': np.float64(4.492397456902609e-12), 'gm': np.float64(0.0006676556880993233), 'Ro': np.float64(4848278.321029639), 'Co': np.float64(6.416512661989528e-13)}: The associated Hamiltonian pencil has eigenvalues too close to the imaginary axis\n"
     ]
    },
    {
     "name": "stderr",
     "output_type": "stream",
     "text": [
      "INFO:root:Simulating continuous-time analog frontend for sinusoidal input\n",
      "INFO:root:Simulating continuous-time analog frontend for sinusoidal input\n"
     ]
    },
    {
     "name": "stdout",
     "output_type": "stream",
     "text": [
      "Achieved SNR: 38.20439010351021 db\n",
      "Error with Active-RC parameters {'Bw': np.float64(7118299563.865922), 'osr': 64, 'nlev': 4, 'Hinf': np.float64(1.202815910544444), 'Cint': np.float64(4.234542216786682e-13), 'gm': np.float64(0.0008981230886893364), 'Ro': np.float64(2893546.0031389697), 'Co': np.float64(3.552912530568645e-13)}: The associated Hamiltonian pencil has eigenvalues too close to the imaginary axis\n"
     ]
    },
    {
     "name": "stderr",
     "output_type": "stream",
     "text": [
      "INFO:root:Simulating continuous-time analog frontend for sinusoidal input\n",
      "INFO:root:Simulating continuous-time analog frontend for sinusoidal input\n"
     ]
    },
    {
     "name": "stdout",
     "output_type": "stream",
     "text": [
      "Error with Active-RC parameters {'Bw': np.float64(7874864245.954515), 'osr': 8, 'nlev': 2, 'Hinf': np.float64(1.2654981307241986), 'Cint': np.float64(2.1622241743761726e-12), 'gm': np.float64(2.681436505711871e-06), 'Ro': np.float64(9647331.76672128), 'Co': np.float64(3.1599890178704267e-13)}: The associated Hamiltonian pencil has eigenvalues too close to the imaginary axis\n",
      "Error with Active-RC parameters {'Bw': np.float64(8235870061.220073), 'osr': 16, 'nlev': 5, 'Hinf': np.float64(1.5240545370858567), 'Cint': np.float64(3.756553838219832e-12), 'gm': np.float64(0.0007870398039222056), 'Ro': np.float64(1261736.3093378574), 'Co': np.float64(5.664947985130489e-13)}: The associated Hamiltonian pencil has eigenvalues too close to the imaginary axis\n"
     ]
    },
    {
     "name": "stderr",
     "output_type": "stream",
     "text": [
      "INFO:root:Simulating continuous-time analog frontend for sinusoidal input\n"
     ]
    },
    {
     "name": "stdout",
     "output_type": "stream",
     "text": [
      "Error with Active-RC parameters {'Bw': np.float64(3926288196.857356), 'osr': 64, 'nlev': 2, 'Hinf': np.float64(1.1741722265303984), 'Cint': np.float64(4.445132403585788e-12), 'gm': np.float64(0.0008963036403772853), 'Ro': np.float64(3866392.654926788), 'Co': np.float64(4.743638669752127e-13)}: The associated Hamiltonian pencil has eigenvalues too close to the imaginary axis\n"
     ]
    },
    {
     "name": "stderr",
     "output_type": "stream",
     "text": [
      "INFO:root:Simulating continuous-time analog frontend for sinusoidal input\n",
      "INFO:root:Simulating continuous-time analog frontend for sinusoidal input\n"
     ]
    },
    {
     "name": "stdout",
     "output_type": "stream",
     "text": [
      "Error with Active-RC parameters {'Bw': np.float64(7763522260.947564), 'osr': 64, 'nlev': 2, 'Hinf': np.float64(1.854303057744605), 'Cint': np.float64(1.924197527157878e-12), 'gm': np.float64(0.0009130948264277401), 'Ro': np.float64(9208375.526493805), 'Co': np.float64(6.363788171364912e-13)}: The associated Hamiltonian pencil has eigenvalues too close to the imaginary axis\n",
      "Error with Active-RC parameters {'Bw': np.float64(784532151.5903438), 'osr': 128, 'nlev': 3, 'Hinf': np.float64(1.6270111714047357), 'Cint': np.float64(6.463895605655387e-13), 'gm': np.float64(0.0005794662479832324), 'Ro': np.float64(8563677.911844345), 'Co': np.float64(8.654419309803138e-13)}: Reordering of (A, B) failed because the transformed matrix pair (A, B) would be too far from generalized Schur form; the problem is very ill-conditioned. (A, B) may have been partially reordered.\n"
     ]
    },
    {
     "name": "stderr",
     "output_type": "stream",
     "text": [
      "INFO:root:Simulating continuous-time analog frontend for sinusoidal input\n",
      "INFO:root:Simulating continuous-time analog frontend for sinusoidal input\n"
     ]
    },
    {
     "name": "stdout",
     "output_type": "stream",
     "text": [
      "Error with Active-RC parameters {'Bw': np.float64(5309004876.404374), 'osr': 8, 'nlev': 5, 'Hinf': np.float64(1.8618820859238845), 'Cint': np.float64(1.020323900961904e-12), 'gm': np.float64(0.0009909911228014952), 'Ro': np.float64(6655429.319903947), 'Co': np.float64(2.67503948499374e-13)}: Reordering of (A, B) failed because the transformed matrix pair (A, B) would be too far from generalized Schur form; the problem is very ill-conditioned. (A, B) may have been partially reordered.\n",
      "Error with Active-RC parameters {'Bw': np.float64(5974907953.729914), 'osr': 64, 'nlev': 5, 'Hinf': np.float64(1.7163470860726502), 'Cint': np.float64(1.7088705715645352e-12), 'gm': np.float64(0.0007489320565338116), 'Ro': np.float64(6454829.423133774), 'Co': np.float64(4.1675800634056986e-13)}: The associated Hamiltonian pencil has eigenvalues too close to the imaginary axis\n"
     ]
    },
    {
     "name": "stderr",
     "output_type": "stream",
     "text": [
      "INFO:root:Simulating continuous-time analog frontend for sinusoidal input\n",
      "INFO:root:Simulating continuous-time analog frontend for sinusoidal input\n"
     ]
    },
    {
     "name": "stdout",
     "output_type": "stream",
     "text": [
      "Error with Active-RC parameters {'Bw': np.float64(9819484007.886463), 'osr': 32, 'nlev': 4, 'Hinf': np.float64(1.9079602651982843), 'Cint': np.float64(2.407269055086882e-12), 'gm': np.float64(3.691275638084722e-05), 'Ro': np.float64(6310289.4210639335), 'Co': np.float64(3.798971165769667e-13)}: The associated Hamiltonian pencil has eigenvalues too close to the imaginary axis\n",
      "Error with Active-RC parameters {'Bw': np.float64(9460348942.952), 'osr': 16, 'nlev': 2, 'Hinf': np.float64(1.5895454105223934), 'Cint': np.float64(4.934485327500584e-12), 'gm': np.float64(0.0003655300716149183), 'Ro': np.float64(1333026.7985618047), 'Co': np.float64(3.050689731017645e-13)}: The associated Hamiltonian pencil has eigenvalues too close to the imaginary axis\n"
     ]
    },
    {
     "name": "stderr",
     "output_type": "stream",
     "text": [
      "INFO:root:Simulating continuous-time analog frontend for sinusoidal input\n",
      "INFO:root:Simulating continuous-time analog frontend for sinusoidal input\n"
     ]
    },
    {
     "name": "stdout",
     "output_type": "stream",
     "text": [
      "Achieved SNR: -11.061786763509595 db\n",
      "Error with Active-RC parameters {'Bw': np.float64(7501264956.765168), 'osr': 8, 'nlev': 5, 'Hinf': np.float64(1.8981841844463934), 'Cint': np.float64(2.3525194386319686e-13), 'gm': np.float64(0.00010091269124351987), 'Ro': np.float64(4327374.306318085), 'Co': np.float64(6.157000160406749e-13)}: Failed to find a finite solution.\n"
     ]
    },
    {
     "name": "stderr",
     "output_type": "stream",
     "text": [
      "INFO:root:Simulating continuous-time analog frontend for sinusoidal input\n",
      "INFO:root:Simulating continuous-time analog frontend for sinusoidal input\n"
     ]
    },
    {
     "name": "stdout",
     "output_type": "stream",
     "text": [
      "Error with Active-RC parameters {'Bw': np.float64(4042285245.6060157), 'osr': 64, 'nlev': 3, 'Hinf': np.float64(1.61081525764452), 'Cint': np.float64(1.2097997069510438e-12), 'gm': np.float64(0.0004308837530054726), 'Ro': np.float64(1776004.9708012228), 'Co': np.float64(9.742299690007807e-13)}: The associated Hamiltonian pencil has eigenvalues too close to the imaginary axis\n",
      "Error with Active-RC parameters {'Bw': np.float64(9714940079.643711), 'osr': 256, 'nlev': 3, 'Hinf': np.float64(1.5601969391069508), 'Cint': np.float64(1.4047001623595083e-12), 'gm': np.float64(0.0008740116471860082), 'Ro': np.float64(2931591.2323595453), 'Co': np.float64(8.079397513352791e-13)}: The associated Hamiltonian pencil has eigenvalues too close to the imaginary axis\n"
     ]
    },
    {
     "name": "stderr",
     "output_type": "stream",
     "text": [
      "INFO:root:Simulating continuous-time analog frontend for sinusoidal input\n"
     ]
    },
    {
     "name": "stdout",
     "output_type": "stream",
     "text": [
      "Error with Active-RC parameters {'Bw': np.float64(4742582518.488443), 'osr': 64, 'nlev': 3, 'Hinf': np.float64(1.1458853135272555), 'Cint': np.float64(3.661778905635504e-12), 'gm': np.float64(0.0002700964486913554), 'Ro': np.float64(970551.6665108966), 'Co': np.float64(7.285780476422953e-13)}: The associated Hamiltonian pencil has eigenvalues too close to the imaginary axis\n",
      "Achieved SNR: 81.13727233300465 db\n"
     ]
    },
    {
     "name": "stderr",
     "output_type": "stream",
     "text": [
      "INFO:root:Simulating continuous-time analog frontend for sinusoidal input\n",
      "INFO:root:Simulating continuous-time analog frontend for sinusoidal input\n",
      "INFO:root:Simulating continuous-time analog frontend for sinusoidal input\n"
     ]
    },
    {
     "name": "stdout",
     "output_type": "stream",
     "text": [
      "Error with Active-RC parameters {'Bw': np.float64(2262286943.01956), 'osr': 128, 'nlev': 4, 'Hinf': np.float64(1.1322783406982802), 'Cint': np.float64(5.798845570276256e-13), 'gm': np.float64(0.000722082229226418), 'Ro': np.float64(830284.1407847501), 'Co': np.float64(6.506941367562253e-13)}: The associated Hamiltonian pencil has eigenvalues too close to the imaginary axis\n",
      "Error with Active-RC parameters {'Bw': np.float64(1403889962.7467024), 'osr': 16, 'nlev': 2, 'Hinf': np.float64(1.462197044888027), 'Cint': np.float64(2.6982283650692353e-12), 'gm': np.float64(0.0007659598413825555), 'Ro': np.float64(8905692.060546506), 'Co': np.float64(6.796896790039968e-13)}: Reordering of (A, B) failed because the transformed matrix pair (A, B) would be too far from generalized Schur form; the problem is very ill-conditioned. (A, B) may have been partially reordered.\n"
     ]
    },
    {
     "name": "stderr",
     "output_type": "stream",
     "text": [
      "INFO:root:Simulating continuous-time analog frontend for sinusoidal input\n",
      "INFO:root:Simulating continuous-time analog frontend for sinusoidal input\n"
     ]
    },
    {
     "name": "stdout",
     "output_type": "stream",
     "text": [
      "Error with Active-RC parameters {'Bw': np.float64(6921391677.727577), 'osr': 8, 'nlev': 4, 'Hinf': np.float64(1.3640833565692263), 'Cint': np.float64(3.591006326157774e-12), 'gm': np.float64(0.00021362096189228946), 'Ro': np.float64(2498082.1559066144), 'Co': np.float64(3.599170213659964e-13)}: The associated Hamiltonian pencil has eigenvalues too close to the imaginary axis\n",
      "Error with Active-RC parameters {'Bw': np.float64(2698424026.529542), 'osr': 16, 'nlev': 3, 'Hinf': np.float64(1.4590641915204383), 'Cint': np.float64(2.209260588551781e-12), 'gm': np.float64(0.0002481410714973221), 'Ro': np.float64(9545238.21057684), 'Co': np.float64(9.3837993832053e-13)}: The associated Hamiltonian pencil has eigenvalues too close to the imaginary axis\n"
     ]
    },
    {
     "name": "stderr",
     "output_type": "stream",
     "text": [
      "INFO:root:Simulating continuous-time analog frontend for sinusoidal input\n",
      "INFO:root:Simulating continuous-time analog frontend for sinusoidal input\n"
     ]
    },
    {
     "name": "stdout",
     "output_type": "stream",
     "text": [
      "Error with Active-RC parameters {'Bw': np.float64(9251772435.432053), 'osr': 32, 'nlev': 2, 'Hinf': np.float64(1.294001136856523), 'Cint': np.float64(3.092452712549044e-12), 'gm': np.float64(0.000504108281046166), 'Ro': np.float64(4613770.026199697), 'Co': np.float64(4.3199191491817614e-13)}: The associated Hamiltonian pencil has eigenvalues too close to the imaginary axis\n",
      "Error with Active-RC parameters {'Bw': np.float64(7225974848.421756), 'osr': 8, 'nlev': 5, 'Hinf': np.float64(1.407285019691085), 'Cint': np.float64(2.1500218574117916e-12), 'gm': np.float64(0.0009212262244009387), 'Ro': np.float64(7856344.305879601), 'Co': np.float64(1.432562055953467e-13)}: Reordering of (A, B) failed because the transformed matrix pair (A, B) would be too far from generalized Schur form; the problem is very ill-conditioned. (A, B) may have been partially reordered.\n"
     ]
    },
    {
     "name": "stderr",
     "output_type": "stream",
     "text": [
      "INFO:root:Simulating continuous-time analog frontend for sinusoidal input\n"
     ]
    },
    {
     "name": "stdout",
     "output_type": "stream",
     "text": [
      "Achieved SNR: 1.6424114956039353 db\n"
     ]
    },
    {
     "name": "stderr",
     "output_type": "stream",
     "text": [
      "INFO:root:Simulating continuous-time analog frontend for sinusoidal input\n",
      "INFO:root:Simulating continuous-time analog frontend for sinusoidal input\n"
     ]
    },
    {
     "name": "stdout",
     "output_type": "stream",
     "text": [
      "Achieved SNR: 57.899295999258094 db\n",
      "Error with Active-RC parameters {'Bw': np.float64(8186979039.35357), 'osr': 128, 'nlev': 3, 'Hinf': np.float64(1.7518449611619122), 'Cint': np.float64(4.118093006058886e-12), 'gm': np.float64(0.0006100966507055069), 'Ro': np.float64(7018353.919520616), 'Co': np.float64(5.766714882230168e-13)}: The associated Hamiltonian pencil has eigenvalues too close to the imaginary axis\n"
     ]
    },
    {
     "name": "stderr",
     "output_type": "stream",
     "text": [
      "INFO:root:Simulating continuous-time analog frontend for sinusoidal input\n",
      "INFO:root:Simulating continuous-time analog frontend for sinusoidal input\n"
     ]
    },
    {
     "name": "stdout",
     "output_type": "stream",
     "text": [
      "Error with Active-RC parameters {'Bw': np.float64(9164850535.10145), 'osr': 32, 'nlev': 4, 'Hinf': np.float64(1.9207308016169207), 'Cint': np.float64(1.4439304489616927e-13), 'gm': np.float64(0.0002226554610545476), 'Ro': np.float64(7433768.199312266), 'Co': np.float64(7.38638276752007e-13)}: Failed to find a finite solution.\n",
      "Error with Active-RC parameters {'Bw': np.float64(5745586332.186907), 'osr': 64, 'nlev': 2, 'Hinf': np.float64(1.4349582791473807), 'Cint': np.float64(3.253853449506015e-12), 'gm': np.float64(0.0002891200494658899), 'Ro': np.float64(5409536.303399958), 'Co': np.float64(2.8418633825473645e-13)}: The associated Hamiltonian pencil has eigenvalues too close to the imaginary axis\n"
     ]
    },
    {
     "name": "stderr",
     "output_type": "stream",
     "text": [
      "INFO:root:Simulating continuous-time analog frontend for sinusoidal input\n",
      "INFO:root:Simulating continuous-time analog frontend for sinusoidal input\n"
     ]
    },
    {
     "name": "stdout",
     "output_type": "stream",
     "text": [
      "Achieved SNR: 10.008432949572867 db\n",
      "Error with Active-RC parameters {'Bw': np.float64(2035853636.1833227), 'osr': 16, 'nlev': 3, 'Hinf': np.float64(1.4896338172746095), 'Cint': np.float64(4.805638769524172e-12), 'gm': np.float64(0.00031343345392228605), 'Ro': np.float64(7103608.707050838), 'Co': np.float64(8.796548162082508e-13)}: The associated Hamiltonian pencil has eigenvalues too close to the imaginary axis\n"
     ]
    },
    {
     "name": "stderr",
     "output_type": "stream",
     "text": [
      "INFO:root:Simulating continuous-time analog frontend for sinusoidal input\n"
     ]
    },
    {
     "name": "stdout",
     "output_type": "stream",
     "text": [
      "Error with Active-RC parameters {'Bw': np.float64(6406211737.798895), 'osr': 64, 'nlev': 2, 'Hinf': np.float64(1.3435040703865644), 'Cint': np.float64(3.0101604862719034e-12), 'gm': np.float64(0.0006514808421972351), 'Ro': np.float64(4161455.7079830626), 'Co': np.float64(4.634313169134553e-13)}: The associated Hamiltonian pencil has eigenvalues too close to the imaginary axis\n"
     ]
    },
    {
     "name": "stderr",
     "output_type": "stream",
     "text": [
      "INFO:root:Simulating continuous-time analog frontend for sinusoidal input\n",
      "INFO:root:Simulating continuous-time analog frontend for sinusoidal input\n"
     ]
    },
    {
     "name": "stdout",
     "output_type": "stream",
     "text": [
      "Achieved SNR: 6.082209181221261 db\n",
      "Error with Active-RC parameters {'Bw': np.float64(4376380905.301777), 'osr': 8, 'nlev': 4, 'Hinf': np.float64(1.0724961418366237), 'Cint': np.float64(2.473436248354952e-12), 'gm': np.float64(0.0006368766875665928), 'Ro': np.float64(3323587.3526717834), 'Co': np.float64(5.226539816854097e-13)}: The associated Hamiltonian pencil has eigenvalues too close to the imaginary axis\n"
     ]
    },
    {
     "name": "stderr",
     "output_type": "stream",
     "text": [
      "INFO:root:Simulating continuous-time analog frontend for sinusoidal input\n",
      "INFO:root:Simulating continuous-time analog frontend for sinusoidal input\n"
     ]
    },
    {
     "name": "stdout",
     "output_type": "stream",
     "text": [
      "Achieved SNR: 51.328583887500955 db\n",
      "Error with Active-RC parameters {'Bw': np.float64(8765025405.164318), 'osr': 16, 'nlev': 4, 'Hinf': np.float64(1.210250451649705), 'Cint': np.float64(1.276636988048316e-12), 'gm': np.float64(0.0007147730621818813), 'Ro': np.float64(6033993.6129797585), 'Co': np.float64(1.9915591383493596e-13)}: The associated Hamiltonian pencil has eigenvalues too close to the imaginary axis\n"
     ]
    },
    {
     "name": "stderr",
     "output_type": "stream",
     "text": [
      "INFO:root:Simulating continuous-time analog frontend for sinusoidal input\n",
      "INFO:root:Simulating continuous-time analog frontend for sinusoidal input\n"
     ]
    },
    {
     "name": "stdout",
     "output_type": "stream",
     "text": [
      "Error with Active-RC parameters {'Bw': np.float64(1724888709.4741347), 'osr': 64, 'nlev': 4, 'Hinf': np.float64(1.684209424079915), 'Cint': np.float64(3.5220602489173864e-12), 'gm': np.float64(0.0001716168834572059), 'Ro': np.float64(2252450.0346755357), 'Co': np.float64(3.325535706201734e-13)}: The associated Hamiltonian pencil has eigenvalues too close to the imaginary axis\n",
      "Error with Active-RC parameters {'Bw': np.float64(3239322126.5967574), 'osr': 16, 'nlev': 5, 'Hinf': np.float64(1.08922692102045), 'Cint': np.float64(1.9712766359724314e-12), 'gm': np.float64(0.0006833803860085033), 'Ro': np.float64(2056192.76140785), 'Co': np.float64(2.2748437303215005e-13)}: The associated Hamiltonian pencil has eigenvalues too close to the imaginary axis\n"
     ]
    },
    {
     "name": "stderr",
     "output_type": "stream",
     "text": [
      "INFO:root:Simulating continuous-time analog frontend for sinusoidal input\n",
      "INFO:root:Simulating continuous-time analog frontend for sinusoidal input\n"
     ]
    },
    {
     "name": "stdout",
     "output_type": "stream",
     "text": [
      "Error with Active-RC parameters {'Bw': np.float64(5576023910.776606), 'osr': 16, 'nlev': 2, 'Hinf': np.float64(1.6775627720002557), 'Cint': np.float64(4.6193595428677155e-12), 'gm': np.float64(0.00038988075440375615), 'Ro': np.float64(556506.742113532), 'Co': np.float64(5.842097620044251e-13)}: The associated Hamiltonian pencil has eigenvalues too close to the imaginary axis\n",
      "Error with Active-RC parameters {'Bw': np.float64(2920534760.73238), 'osr': 64, 'nlev': 4, 'Hinf': np.float64(1.3108149714972324), 'Cint': np.float64(4.0715978814106895e-12), 'gm': np.float64(0.0001587882437871438), 'Ro': np.float64(8032903.335337789), 'Co': np.float64(7.642956257873456e-13)}: Failed to find a finite solution.\n"
     ]
    },
    {
     "name": "stderr",
     "output_type": "stream",
     "text": [
      "INFO:root:Simulating continuous-time analog frontend for sinusoidal input\n",
      "INFO:root:Simulating continuous-time analog frontend for sinusoidal input\n"
     ]
    },
    {
     "name": "stdout",
     "output_type": "stream",
     "text": [
      "Error with Active-RC parameters {'Bw': np.float64(6176151490.939386), 'osr': 8, 'nlev': 2, 'Hinf': np.float64(1.320767991327741), 'Cint': np.float64(2.8496610106115127e-12), 'gm': np.float64(4.9104925142714663e-05), 'Ro': np.float64(5796112.691483216), 'Co': np.float64(7.053632898177073e-13)}: Failed to find a finite solution.\n",
      "Error with Active-RC parameters {'Bw': np.float64(8293627453.462532), 'osr': 256, 'nlev': 4, 'Hinf': np.float64(1.5572969167049802), 'Cint': np.float64(1.825839882153404e-12), 'gm': np.float64(0.00046912820486691187), 'Ro': np.float64(7378464.59059715), 'Co': np.float64(5.362816854373899e-13)}: The associated Hamiltonian pencil has eigenvalues too close to the imaginary axis\n"
     ]
    },
    {
     "name": "stderr",
     "output_type": "stream",
     "text": [
      "INFO:root:Simulating continuous-time analog frontend for sinusoidal input\n",
      "INFO:root:Simulating continuous-time analog frontend for sinusoidal input\n"
     ]
    },
    {
     "name": "stdout",
     "output_type": "stream",
     "text": [
      "Error with Active-RC parameters {'Bw': np.float64(4960403224.454559), 'osr': 32, 'nlev': 2, 'Hinf': np.float64(1.0130506965414863), 'Cint': np.float64(3.773515646118924e-12), 'gm': np.float64(1.898965862254846e-05), 'Ro': np.float64(6081113.0966193415), 'Co': np.float64(5.417419076357144e-14)}: Failed to find a finite solution.\n",
      "Error with Active-RC parameters {'Bw': np.float64(3516152834.737672), 'osr': 32, 'nlev': 3, 'Hinf': np.float64(1.1976542215907076), 'Cint': np.float64(1.5680925227311022e-12), 'gm': np.float64(0.00013457376332409176), 'Ro': np.float64(391316.8886832095), 'Co': np.float64(6.672785336206548e-13)}: The associated Hamiltonian pencil has eigenvalues too close to the imaginary axis\n"
     ]
    },
    {
     "name": "stderr",
     "output_type": "stream",
     "text": [
      "INFO:root:Simulating continuous-time analog frontend for sinusoidal input\n",
      "INFO:root:Simulating continuous-time analog frontend for sinusoidal input\n"
     ]
    },
    {
     "name": "stdout",
     "output_type": "stream",
     "text": [
      "Error with Active-RC parameters {'Bw': np.float64(1022817535.6215008), 'osr': 16, 'nlev': 5, 'Hinf': np.float64(1.2378737801213895), 'Cint': np.float64(4.259980317015735e-12), 'gm': np.float64(0.0004513285445364863), 'Ro': np.float64(3198808.2056778045), 'Co': np.float64(9.957165246105037e-13)}: The associated Hamiltonian pencil has eigenvalues too close to the imaginary axis\n",
      "Error with Active-RC parameters {'Bw': np.float64(3738453515.5133), 'osr': 128, 'nlev': 3, 'Hinf': np.float64(1.10290570497782), 'Cint': np.float64(3.8314319073875895e-12), 'gm': np.float64(0.0004994545636215397), 'Ro': np.float64(5021238.051771213), 'Co': np.float64(1.5850005780276726e-13)}: The associated Hamiltonian pencil has eigenvalues too close to the imaginary axis\n"
     ]
    },
    {
     "name": "stderr",
     "output_type": "stream",
     "text": [
      "INFO:root:Simulating continuous-time analog frontend for sinusoidal input\n",
      "INFO:root:Simulating continuous-time analog frontend for sinusoidal input\n"
     ]
    },
    {
     "name": "stdout",
     "output_type": "stream",
     "text": [
      "Achieved SNR: 50.76204844675517 db\n",
      "Error with Active-RC parameters {'Bw': np.float64(6625526015.383049), 'osr': 256, 'nlev': 5, 'Hinf': np.float64(1.9506513144391864), 'Cint': np.float64(3.252838336093352e-13), 'gm': np.float64(0.0004204676913305572), 'Ro': np.float64(2700010.613334999), 'Co': np.float64(4.019909151643039e-13)}: The associated Hamiltonian pencil has eigenvalues too close to the imaginary axis\n"
     ]
    },
    {
     "name": "stderr",
     "output_type": "stream",
     "text": [
      "INFO:root:Simulating continuous-time analog frontend for sinusoidal input\n",
      "INFO:root:Simulating continuous-time analog frontend for sinusoidal input\n"
     ]
    },
    {
     "name": "stdout",
     "output_type": "stream",
     "text": [
      "Error with Active-RC parameters {'Bw': np.float64(5001960123.645048), 'osr': 16, 'nlev': 4, 'Hinf': np.float64(1.2792471780142853), 'Cint': np.float64(3.230739438383433e-12), 'gm': np.float64(0.0006765917845786885), 'Ro': np.float64(2377304.040442694), 'Co': np.float64(9.567045349053135e-13)}: The associated Hamiltonian pencil has eigenvalues too close to the imaginary axis\n",
      "Error with Active-RC parameters {'Bw': np.float64(8890562061.005566), 'osr': 256, 'nlev': 2, 'Hinf': np.float64(1.2581812417112261), 'Cint': np.float64(2.8437233480845084e-12), 'gm': np.float64(0.0008292550650248068), 'Ro': np.float64(8298835.461960689), 'Co': np.float64(9.031315330380846e-13)}: The associated Hamiltonian pencil has eigenvalues too close to the imaginary axis\n"
     ]
    },
    {
     "name": "stderr",
     "output_type": "stream",
     "text": [
      "INFO:root:Simulating continuous-time analog frontend for sinusoidal input\n",
      "INFO:root:Simulating continuous-time analog frontend for sinusoidal input\n"
     ]
    },
    {
     "name": "stdout",
     "output_type": "stream",
     "text": [
      "Achieved SNR: 62.10247272439111 db\n",
      "Error with Active-RC parameters {'Bw': np.float64(7982435600.559052), 'osr': 8, 'nlev': 5, 'Hinf': np.float64(1.7620129943378902), 'Cint': np.float64(7.306613234802296e-13), 'gm': np.float64(0.0008043530768624421), 'Ro': np.float64(9091341.51598638), 'Co': np.float64(3.433466082408422e-13)}: The associated Hamiltonian pencil has eigenvalues too close to the imaginary axis\n"
     ]
    },
    {
     "name": "stderr",
     "output_type": "stream",
     "text": [
      "INFO:root:Simulating continuous-time analog frontend for sinusoidal input\n",
      "INFO:root:Simulating continuous-time analog frontend for sinusoidal input\n"
     ]
    },
    {
     "name": "stdout",
     "output_type": "stream",
     "text": [
      "Error with Active-RC parameters {'Bw': np.float64(7121529201.579869), 'osr': 256, 'nlev': 3, 'Hinf': np.float64(1.3987755275792648), 'Cint': np.float64(2.573590403069812e-12), 'gm': np.float64(9.863826170921303e-05), 'Ro': np.float64(1195781.301984583), 'Co': np.float64(8.220823924406064e-13)}: Failed to find a finite solution.\n",
      "Error with Active-RC parameters {'Bw': np.float64(4414943833.410439), 'osr': 256, 'nlev': 5, 'Hinf': np.float64(1.6473362823797348), 'Cint': np.float64(4.273615951851812e-13), 'gm': np.float64(0.00020069172933701718), 'Ro': np.float64(3670438.6479152977), 'Co': np.float64(8.311292236217147e-13)}: The associated Hamiltonian pencil has eigenvalues too close to the imaginary axis\n"
     ]
    },
    {
     "name": "stderr",
     "output_type": "stream",
     "text": [
      "INFO:root:Simulating continuous-time analog frontend for sinusoidal input\n",
      "INFO:root:Simulating continuous-time analog frontend for sinusoidal input\n"
     ]
    },
    {
     "name": "stdout",
     "output_type": "stream",
     "text": [
      "Error with Active-RC parameters {'Bw': np.float64(6356503342.809607), 'osr': 8, 'nlev': 5, 'Hinf': np.float64(1.9922642041227496), 'Cint': np.float64(4.349322693496181e-12), 'gm': np.float64(0.00035618896614801946), 'Ro': np.float64(4846264.318901503), 'Co': np.float64(8.201526812058188e-14)}: Reordering of (A, B) failed because the transformed matrix pair (A, B) would be too far from generalized Schur form; the problem is very ill-conditioned. (A, B) may have been partially reordered.\n",
      "Error with Active-RC parameters {'Bw': np.float64(7805304300.052362), 'osr': 64, 'nlev': 4, 'Hinf': np.float64(1.343399818069365), 'Cint': np.float64(3.4117738550111485e-12), 'gm': np.float64(0.0009015742386383204), 'Ro': np.float64(3694300.6107148957), 'Co': np.float64(2.1634462110629714e-13)}: The associated Hamiltonian pencil has eigenvalues too close to the imaginary axis\n"
     ]
    },
    {
     "name": "stderr",
     "output_type": "stream",
     "text": [
      "INFO:root:Simulating continuous-time analog frontend for sinusoidal input\n",
      "INFO:root:Simulating continuous-time analog frontend for sinusoidal input\n"
     ]
    },
    {
     "name": "stdout",
     "output_type": "stream",
     "text": [
      "Error with Active-RC parameters {'Bw': np.float64(9881098041.061464), 'osr': 64, 'nlev': 4, 'Hinf': np.float64(1.3399535842632395), 'Cint': np.float64(4.754263579783343e-12), 'gm': np.float64(0.00039089378826776656), 'Ro': np.float64(2344620.5211385936), 'Co': np.float64(5.750429944891809e-13)}: The associated Hamiltonian pencil has eigenvalues too close to the imaginary axis\n",
      "Error with Active-RC parameters {'Bw': np.float64(7132278128.814722), 'osr': 16, 'nlev': 3, 'Hinf': np.float64(1.7361622475345269), 'Cint': np.float64(3.957323522073853e-12), 'gm': np.float64(0.0005963642222151544), 'Ro': np.float64(8724373.532679604), 'Co': np.float64(2.6751804025634037e-13)}: The associated Hamiltonian pencil has eigenvalues too close to the imaginary axis\n"
     ]
    },
    {
     "name": "stderr",
     "output_type": "stream",
     "text": [
      "INFO:root:Simulating continuous-time analog frontend for sinusoidal input\n",
      "INFO:root:Simulating continuous-time analog frontend for sinusoidal input\n"
     ]
    },
    {
     "name": "stdout",
     "output_type": "stream",
     "text": [
      "Error with Active-RC parameters {'Bw': np.float64(4615358709.006811), 'osr': 64, 'nlev': 3, 'Hinf': np.float64(1.9012689281308868), 'Cint': np.float64(2.0511924913224433e-12), 'gm': np.float64(0.0007429689271701945), 'Ro': np.float64(9894948.565687008), 'Co': np.float64(9.937274964841532e-13)}: The associated Hamiltonian pencil has eigenvalues too close to the imaginary axis\n",
      "Error with Active-RC parameters {'Bw': np.float64(1398629277.186546), 'osr': 256, 'nlev': 3, 'Hinf': np.float64(1.4586209668944625), 'Cint': np.float64(2.390501762060677e-12), 'gm': np.float64(0.0006533151980787429), 'Ro': np.float64(3280301.839382652), 'Co': np.float64(3.114791896297705e-13)}: Reordering of (A, B) failed because the transformed matrix pair (A, B) would be too far from generalized Schur form; the problem is very ill-conditioned. (A, B) may have been partially reordered.\n"
     ]
    },
    {
     "name": "stderr",
     "output_type": "stream",
     "text": [
      "INFO:root:Simulating continuous-time analog frontend for sinusoidal input\n",
      "INFO:root:Simulating continuous-time analog frontend for sinusoidal input\n"
     ]
    },
    {
     "name": "stdout",
     "output_type": "stream",
     "text": [
      "Error with Active-RC parameters {'Bw': np.float64(8426328399.038526), 'osr': 8, 'nlev': 2, 'Hinf': np.float64(1.7184612349934814), 'Cint': np.float64(1.4457084251895566e-13), 'gm': np.float64(0.000547353092353143), 'Ro': np.float64(6150764.139129353), 'Co': np.float64(5.313010673498971e-13)}: Failed to find a finite solution.\n",
      "Error with Active-RC parameters {'Bw': np.float64(4944887280.883842), 'osr': 16, 'nlev': 5, 'Hinf': np.float64(1.5920895504394525), 'Cint': np.float64(1.5985331300666182e-12), 'gm': np.float64(0.000293604514724265), 'Ro': np.float64(7402106.001923728), 'Co': np.float64(2.5422236166465477e-13)}: The associated Hamiltonian pencil has eigenvalues too close to the imaginary axis\n"
     ]
    },
    {
     "name": "stderr",
     "output_type": "stream",
     "text": [
      "INFO:root:Simulating continuous-time analog frontend for sinusoidal input\n",
      "INFO:root:Simulating continuous-time analog frontend for sinusoidal input\n"
     ]
    },
    {
     "name": "stdout",
     "output_type": "stream",
     "text": [
      "Error with Active-RC parameters {'Bw': np.float64(660792290.8334392), 'osr': 64, 'nlev': 2, 'Hinf': np.float64(1.5508484996977643), 'Cint': np.float64(1.7498598019248643e-12), 'gm': np.float64(9.921273408497926e-05), 'Ro': np.float64(6320781.536921591), 'Co': np.float64(6.087895804535397e-13)}: The associated Hamiltonian pencil has eigenvalues too close to the imaginary axis\n",
      "Achieved SNR: 2.902710318639863 db\n"
     ]
    },
    {
     "name": "stderr",
     "output_type": "stream",
     "text": [
      "INFO:root:Simulating continuous-time analog frontend for sinusoidal input\n"
     ]
    },
    {
     "name": "stdout",
     "output_type": "stream",
     "text": [
      "Error with Active-RC parameters {'Bw': np.float64(7535548729.828906), 'osr': 256, 'nlev': 4, 'Hinf': np.float64(1.821026509570426), 'Cint': np.float64(1.1364258662409088e-12), 'gm': np.float64(0.0009663072933808739), 'Ro': np.float64(6998327.141184152), 'Co': np.float64(4.751260204282157e-13)}: The associated Hamiltonian pencil has eigenvalues too close to the imaginary axis\n"
     ]
    },
    {
     "name": "stderr",
     "output_type": "stream",
     "text": [
      "INFO:root:Simulating continuous-time analog frontend for sinusoidal input\n"
     ]
    },
    {
     "name": "stdout",
     "output_type": "stream",
     "text": [
      "Error with Active-RC parameters {'Bw': np.float64(5422108911.080862), 'osr': 8, 'nlev': 3, 'Hinf': np.float64(1.0012311228614261), 'Cint': np.float64(2.9308600786678504e-12), 'gm': np.float64(0.0008229628321396638), 'Ro': np.float64(4907565.591832228), 'Co': np.float64(3.812966091180416e-13)}: The associated Hamiltonian pencil has eigenvalues too close to the imaginary axis\n",
      "Achieved SNR: 72.33013904371121 db\n"
     ]
    },
    {
     "name": "stderr",
     "output_type": "stream",
     "text": [
      "INFO:root:Simulating continuous-time analog frontend for sinusoidal input\n",
      "INFO:root:Simulating continuous-time analog frontend for sinusoidal input\n",
      "INFO:root:Simulating continuous-time analog frontend for sinusoidal input\n"
     ]
    },
    {
     "name": "stdout",
     "output_type": "stream",
     "text": [
      "Error with Active-RC parameters {'Bw': np.float64(5752110693.313943), 'osr': 64, 'nlev': 4, 'Hinf': np.float64(1.969341181787259), 'Cint': np.float64(4.573854537713029e-12), 'gm': np.float64(0.0004262939346291162), 'Ro': np.float64(9658000.469456492), 'Co': np.float64(8.804141181528193e-13)}: The associated Hamiltonian pencil has eigenvalues too close to the imaginary axis\n",
      "Error with Active-RC parameters {'Bw': np.float64(1047059102.5616293), 'osr': 64, 'nlev': 3, 'Hinf': np.float64(1.0413905578627205), 'Cint': np.float64(2.261316279628592e-12), 'gm': np.float64(0.0001687427029212668), 'Ro': np.float64(5666910.571338796), 'Co': np.float64(7.113565557069268e-13)}: The associated Hamiltonian pencil has eigenvalues too close to the imaginary axis\n"
     ]
    },
    {
     "name": "stderr",
     "output_type": "stream",
     "text": [
      "INFO:root:Simulating continuous-time analog frontend for sinusoidal input\n",
      "INFO:root:Simulating continuous-time analog frontend for sinusoidal input\n"
     ]
    },
    {
     "name": "stdout",
     "output_type": "stream",
     "text": [
      "Error with Active-RC parameters {'Bw': np.float64(3071513060.30763), 'osr': 64, 'nlev': 4, 'Hinf': np.float64(1.25079470404817), 'Cint': np.float64(1.376186609768888e-12), 'gm': np.float64(0.0009306107831431777), 'Ro': np.float64(8832433.978617247), 'Co': np.float64(8.420376289665237e-13)}: The associated Hamiltonian pencil has eigenvalues too close to the imaginary axis\n",
      "Error with Active-RC parameters {'Bw': np.float64(8266967244.187013), 'osr': 256, 'nlev': 5, 'Hinf': np.float64(1.4079527543702153), 'Cint': np.float64(4.129235606045995e-12), 'gm': np.float64(0.00027965571588300616), 'Ro': np.float64(262204.4956639231), 'Co': np.float64(6.728445330485066e-13)}: Failed to find a finite solution.\n"
     ]
    },
    {
     "name": "stderr",
     "output_type": "stream",
     "text": [
      "INFO:root:Simulating continuous-time analog frontend for sinusoidal input\n",
      "INFO:root:Simulating continuous-time analog frontend for sinusoidal input\n"
     ]
    },
    {
     "name": "stdout",
     "output_type": "stream",
     "text": [
      "Achieved SNR: 69.59241645176822 db\n",
      "Error with Active-RC parameters {'Bw': np.float64(7766745418.205082), 'osr': 256, 'nlev': 4, 'Hinf': np.float64(1.1033514388121357), 'Cint': np.float64(1.5246000959931567e-12), 'gm': np.float64(0.00037163223478024575), 'Ro': np.float64(5323078.17433789), 'Co': np.float64(2.950269329242448e-13)}: The associated Hamiltonian pencil has eigenvalues too close to the imaginary axis\n"
     ]
    },
    {
     "name": "stderr",
     "output_type": "stream",
     "text": [
      "INFO:root:Simulating continuous-time analog frontend for sinusoidal input\n"
     ]
    },
    {
     "name": "stdout",
     "output_type": "stream",
     "text": [
      "Achieved SNR: 27.915465699752524 db\n"
     ]
    },
    {
     "name": "stderr",
     "output_type": "stream",
     "text": [
      "INFO:root:Simulating continuous-time analog frontend for sinusoidal input\n",
      "INFO:root:Simulating continuous-time analog frontend for sinusoidal input\n"
     ]
    },
    {
     "name": "stdout",
     "output_type": "stream",
     "text": [
      "Achieved SNR: 79.50556354627872 db\n",
      "Error with Active-RC parameters {'Bw': np.float64(6782035917.939648), 'osr': 256, 'nlev': 4, 'Hinf': np.float64(1.2189627959693503), 'Cint': np.float64(2.7363392300142743e-12), 'gm': np.float64(0.00014519276935255734), 'Ro': np.float64(4297939.048944491), 'Co': np.float64(4.219017091363904e-13)}: Failed to find a finite solution.\n"
     ]
    },
    {
     "name": "stderr",
     "output_type": "stream",
     "text": [
      "INFO:root:Simulating continuous-time analog frontend for sinusoidal input\n",
      "INFO:root:Simulating continuous-time analog frontend for sinusoidal input\n"
     ]
    },
    {
     "name": "stdout",
     "output_type": "stream",
     "text": [
      "Error with Active-RC parameters {'Bw': np.float64(1474922396.9244878), 'osr': 32, 'nlev': 3, 'Hinf': np.float64(1.4388557142710325), 'Cint': np.float64(1.3219869596944784e-12), 'gm': np.float64(1.4384386234527432e-05), 'Ro': np.float64(8292943.080982335), 'Co': np.float64(8.871384751738056e-13)}: The associated Hamiltonian pencil has eigenvalues too close to the imaginary axis\n",
      "Error with Active-RC parameters {'Bw': np.float64(9772068236.566153), 'osr': 64, 'nlev': 5, 'Hinf': np.float64(1.8904919622872152), 'Cint': np.float64(4.671537942268475e-12), 'gm': np.float64(0.00047328638185377365), 'Ro': np.float64(1508483.5359934713), 'Co': np.float64(1.7107908176509077e-13)}: The associated Hamiltonian pencil has eigenvalues too close to the imaginary axis\n"
     ]
    },
    {
     "name": "stderr",
     "output_type": "stream",
     "text": [
      "INFO:root:Simulating continuous-time analog frontend for sinusoidal input\n"
     ]
    },
    {
     "name": "stdout",
     "output_type": "stream",
     "text": [
      "Error with Active-RC parameters {'Bw': np.float64(8768083671.693935), 'osr': 8, 'nlev': 3, 'Hinf': np.float64(1.4898059766734926), 'Cint': np.float64(2.6329252179914516e-12), 'gm': np.float64(0.00011742171191747277), 'Ro': np.float64(2785633.150007934), 'Co': np.float64(1.5797745597481916e-13)}: Failed to find a finite solution.\n",
      "Achieved SNR: 57.667231463090154 db\n"
     ]
    },
    {
     "name": "stderr",
     "output_type": "stream",
     "text": [
      "INFO:root:Simulating continuous-time analog frontend for sinusoidal input\n",
      "INFO:root:Simulating continuous-time analog frontend for sinusoidal input\n",
      "INFO:root:Simulating continuous-time analog frontend for sinusoidal input\n"
     ]
    },
    {
     "name": "stdout",
     "output_type": "stream",
     "text": [
      "Error with Active-RC parameters {'Bw': np.float64(4347968090.758889), 'osr': 8, 'nlev': 5, 'Hinf': np.float64(1.9238568251692785), 'Cint': np.float64(1.8170761793429082e-12), 'gm': np.float64(0.0007181723068119247), 'Ro': np.float64(4145036.5269794636), 'Co': np.float64(7.256942829717682e-13)}: The associated Hamiltonian pencil has eigenvalues too close to the imaginary axis\n",
      "Error with Active-RC parameters {'Bw': np.float64(3613828388.815797), 'osr': 64, 'nlev': 4, 'Hinf': np.float64(1.6048197013251184), 'Cint': np.float64(2.137822592461437e-12), 'gm': np.float64(0.00018315458086246275), 'Ro': np.float64(8431274.091463953), 'Co': np.float64(3.4961340435662443e-13)}: The associated Hamiltonian pencil has eigenvalues too close to the imaginary axis\n"
     ]
    },
    {
     "name": "stderr",
     "output_type": "stream",
     "text": [
      "INFO:root:Simulating continuous-time analog frontend for sinusoidal input\n",
      "INFO:root:Simulating continuous-time analog frontend for sinusoidal input\n"
     ]
    },
    {
     "name": "stdout",
     "output_type": "stream",
     "text": [
      "Error with Active-RC parameters {'Bw': np.float64(3468327435.901506), 'osr': 128, 'nlev': 5, 'Hinf': np.float64(1.1937952329552672), 'Cint': np.float64(2.9630375681239498e-12), 'gm': np.float64(7.811018827758991e-05), 'Ro': np.float64(7475901.9397945115), 'Co': np.float64(5.238375397544518e-13)}: Failed to find a finite solution.\n",
      "Error with Active-RC parameters {'Bw': np.float64(445112628.7942005), 'osr': 256, 'nlev': 4, 'Hinf': np.float64(1.648955150890973), 'Cint': np.float64(4.465690191095468e-12), 'gm': np.float64(0.0003078966777318634), 'Ro': np.float64(415904.9355884289), 'Co': np.float64(7.423316500971568e-13)}: Reordering of (A, B) failed because the transformed matrix pair (A, B) would be too far from generalized Schur form; the problem is very ill-conditioned. (A, B) may have been partially reordered.\n"
     ]
    },
    {
     "name": "stderr",
     "output_type": "stream",
     "text": [
      "INFO:root:Simulating continuous-time analog frontend for sinusoidal input\n",
      "INFO:root:Simulating continuous-time analog frontend for sinusoidal input\n"
     ]
    },
    {
     "name": "stdout",
     "output_type": "stream",
     "text": [
      "Error with Active-RC parameters {'Bw': np.float64(2322441287.5480905), 'osr': 32, 'nlev': 3, 'Hinf': np.float64(1.0699902190827855), 'Cint': np.float64(3.302850333450049e-12), 'gm': np.float64(0.00041171480694044256), 'Ro': np.float64(2574577.245949467), 'Co': np.float64(7.661324055309892e-13)}: The associated Hamiltonian pencil has eigenvalues too close to the imaginary axis\n",
      "Error with Active-RC parameters {'Bw': np.float64(3228815665.1227384), 'osr': 16, 'nlev': 2, 'Hinf': np.float64(1.1733472720031757), 'Cint': np.float64(2.5324544110395443e-12), 'gm': np.float64(0.0005397541305523305), 'Ro': np.float64(3585921.9636045927), 'Co': np.float64(3.9445230112310727e-13)}: The associated Hamiltonian pencil has eigenvalues too close to the imaginary axis\n"
     ]
    },
    {
     "name": "stderr",
     "output_type": "stream",
     "text": [
      "INFO:root:Simulating continuous-time analog frontend for sinusoidal input\n",
      "INFO:root:Simulating continuous-time analog frontend for sinusoidal input\n"
     ]
    },
    {
     "name": "stdout",
     "output_type": "stream",
     "text": [
      "Error with Active-RC parameters {'Bw': np.float64(6059106671.970069), 'osr': 32, 'nlev': 5, 'Hinf': np.float64(1.6729472570556227), 'Cint': np.float64(3.0044076538364756e-13), 'gm': np.float64(0.0002452093492205373), 'Ro': np.float64(7166256.871709952), 'Co': np.float64(7.922997552023115e-13)}: Failed to find a finite solution.\n",
      "Error with Active-RC parameters {'Bw': np.float64(5953289638.829116), 'osr': 256, 'nlev': 5, 'Hinf': np.float64(1.229815744642581), 'Cint': np.float64(6.68518132110549e-13), 'gm': np.float64(0.0007605237675149081), 'Ro': np.float64(1074267.8659410137), 'Co': np.float64(7.752551702316097e-13)}: The associated Hamiltonian pencil has eigenvalues too close to the imaginary axis\n"
     ]
    },
    {
     "name": "stderr",
     "output_type": "stream",
     "text": [
      "INFO:root:Simulating continuous-time analog frontend for sinusoidal input\n",
      "INFO:root:Simulating continuous-time analog frontend for sinusoidal input\n"
     ]
    },
    {
     "name": "stdout",
     "output_type": "stream",
     "text": [
      "Error with Active-RC parameters {'Bw': np.float64(1718451449.2053914), 'osr': 32, 'nlev': 2, 'Hinf': np.float64(1.260897404636629), 'Cint': np.float64(7.426098755072076e-13), 'gm': np.float64(0.00020609917738863902), 'Ro': np.float64(3932430.2377913035), 'Co': np.float64(8.567180161937258e-13)}: The associated Hamiltonian pencil has eigenvalues too close to the imaginary axis\n",
      "Error with Active-RC parameters {'Bw': np.float64(9009380215.220444), 'osr': 8, 'nlev': 5, 'Hinf': np.float64(1.5640605495380049), 'Cint': np.float64(4.320768563631449e-12), 'gm': np.float64(0.0008884469658525697), 'Ro': np.float64(6625891.7742205495), 'Co': np.float64(6.819439940104606e-13)}: The associated Hamiltonian pencil has eigenvalues too close to the imaginary axis\n"
     ]
    },
    {
     "name": "stderr",
     "output_type": "stream",
     "text": [
      "INFO:root:Simulating continuous-time analog frontend for sinusoidal input\n",
      "INFO:root:Simulating continuous-time analog frontend for sinusoidal input\n"
     ]
    },
    {
     "name": "stdout",
     "output_type": "stream",
     "text": [
      "Error with Active-RC parameters {'Bw': np.float64(6427247255.943096), 'osr': 32, 'nlev': 3, 'Hinf': np.float64(1.5365238737857698), 'Cint': np.float64(3.8960989342589276e-12), 'gm': np.float64(4.995863725397297e-05), 'Ro': np.float64(5107652.018284626), 'Co': np.float64(9.591460515174024e-13)}: The associated Hamiltonian pencil has eigenvalues too close to the imaginary axis\n",
      "Achieved SNR: -8.548260464609912 db\n"
     ]
    },
    {
     "name": "stderr",
     "output_type": "stream",
     "text": [
      "INFO:root:Simulating continuous-time analog frontend for sinusoidal input\n",
      "INFO:root:Simulating continuous-time analog frontend for sinusoidal input\n"
     ]
    },
    {
     "name": "stdout",
     "output_type": "stream",
     "text": [
      "Error with Active-RC parameters {'Bw': np.float64(1869124620.9698753), 'osr': 16, 'nlev': 4, 'Hinf': np.float64(1.1342132589053768), 'Cint': np.float64(2.767037364448776e-12), 'gm': np.float64(0.0004579137927575391), 'Ro': np.float64(3091730.256672167), 'Co': np.float64(6.255087451467434e-13)}: The associated Hamiltonian pencil has eigenvalues too close to the imaginary axis\n",
      "Error with Active-RC parameters {'Bw': np.float64(8078367336.201767), 'osr': 16, 'nlev': 4, 'Hinf': np.float64(1.8089526929110784), 'Cint': np.float64(1.184855339527713e-12), 'gm': np.float64(0.0006401214313163024), 'Ro': np.float64(9162542.064914135), 'Co': np.float64(5.570906843751855e-13)}: The associated Hamiltonian pencil has eigenvalues too close to the imaginary axis\n"
     ]
    },
    {
     "name": "stderr",
     "output_type": "stream",
     "text": [
      "INFO:root:Simulating continuous-time analog frontend for sinusoidal input\n"
     ]
    },
    {
     "name": "stdout",
     "output_type": "stream",
     "text": [
      "Error with Active-RC parameters {'Bw': np.float64(7283965192.225906), 'osr': 32, 'nlev': 3, 'Hinf': np.float64(1.0309314665814058), 'Cint': np.float64(3.1568979108730933e-12), 'gm': np.float64(0.000866477161968443), 'Ro': np.float64(5884750.975664103), 'Co': np.float64(8.245412878426724e-13)}: Failed to find a finite solution.\n",
      "Achieved SNR: 34.813752389079575 db\n"
     ]
    },
    {
     "name": "stderr",
     "output_type": "stream",
     "text": [
      "INFO:root:Simulating continuous-time analog frontend for sinusoidal input\n",
      "INFO:root:Simulating continuous-time analog frontend for sinusoidal input\n",
      "INFO:root:Simulating continuous-time analog frontend for sinusoidal input\n"
     ]
    },
    {
     "name": "stdout",
     "output_type": "stream",
     "text": [
      "Achieved SNR: 75.05925698867793 db\n",
      "Error with Active-RC parameters {'Bw': np.float64(6390153390.499728), 'osr': 32, 'nlev': 3, 'Hinf': np.float64(1.8687562531929078), 'Cint': np.float64(3.1253409330109884e-12), 'gm': np.float64(0.00023095856583185524), 'Ro': np.float64(7632458.433769081), 'Co': np.float64(6.458650109146716e-13)}: Failed to find a finite solution.\n"
     ]
    },
    {
     "name": "stderr",
     "output_type": "stream",
     "text": [
      "INFO:root:Simulating continuous-time analog frontend for sinusoidal input\n",
      "INFO:root:Simulating continuous-time analog frontend for sinusoidal input\n"
     ]
    },
    {
     "name": "stdout",
     "output_type": "stream",
     "text": [
      "Error with Active-RC parameters {'Bw': np.float64(9270471404.08169), 'osr': 128, 'nlev': 3, 'Hinf': np.float64(1.0954051453341853), 'Cint': np.float64(3.759137715244929e-12), 'gm': np.float64(0.0004929405592124172), 'Ro': np.float64(1709584.2446413324), 'Co': np.float64(9.181005830193553e-13)}: Failed to find a finite solution.\n",
      "Error with Active-RC parameters {'Bw': np.float64(8966818223.605995), 'osr': 32, 'nlev': 3, 'Hinf': np.float64(1.3897874772070136), 'Cint': np.float64(7.885943712430989e-13), 'gm': np.float64(0.0005008308344488186), 'Ro': np.float64(5588297.652382332), 'Co': np.float64(9.2993939058705e-13)}: Failed to find a finite solution.\n"
     ]
    },
    {
     "name": "stderr",
     "output_type": "stream",
     "text": [
      "INFO:root:Simulating continuous-time analog frontend for sinusoidal input\n",
      "INFO:root:Simulating continuous-time analog frontend for sinusoidal input\n"
     ]
    },
    {
     "name": "stdout",
     "output_type": "stream",
     "text": [
      "Error with Active-RC parameters {'Bw': np.float64(3874011133.006601), 'osr': 256, 'nlev': 3, 'Hinf': np.float64(1.1523286316955883), 'Cint': np.float64(1.9055557841195025e-12), 'gm': np.float64(0.0003567884317489631), 'Ro': np.float64(725927.4971917347), 'Co': np.float64(9.73799641945829e-13)}: The associated Hamiltonian pencil has eigenvalues too close to the imaginary axis\n",
      "Error with Active-RC parameters {'Bw': np.float64(4117138430.6973424), 'osr': 32, 'nlev': 4, 'Hinf': np.float64(1.77906584278313), 'Cint': np.float64(3.4610212620405275e-12), 'gm': np.float64(0.0006202032180628503), 'Ro': np.float64(1370155.0403531292), 'Co': np.float64(4.3626727322601905e-13)}: The associated Hamiltonian pencil has eigenvalues too close to the imaginary axis\n"
     ]
    },
    {
     "name": "stderr",
     "output_type": "stream",
     "text": [
      "INFO:root:Simulating continuous-time analog frontend for sinusoidal input\n"
     ]
    },
    {
     "name": "stdout",
     "output_type": "stream",
     "text": [
      "Error with Active-RC parameters {'Bw': np.float64(9452889877.476143), 'osr': 64, 'nlev': 3, 'Hinf': np.float64(1.3643278475647629), 'Cint': np.float64(4.86773561208504e-12), 'gm': np.float64(0.0006626357200534086), 'Ro': np.float64(9497490.097337691), 'Co': np.float64(4.975525620232471e-13)}: The associated Hamiltonian pencil has eigenvalues too close to the imaginary axis\n",
      "Achieved SNR: 49.84197060951707 db\n"
     ]
    },
    {
     "name": "stderr",
     "output_type": "stream",
     "text": [
      "INFO:root:Simulating continuous-time analog frontend for sinusoidal input\n",
      "INFO:root:Simulating continuous-time analog frontend for sinusoidal input\n"
     ]
    },
    {
     "name": "stdout",
     "output_type": "stream",
     "text": [
      "Achieved SNR: 4.1666445674846555 db\n"
     ]
    },
    {
     "name": "stderr",
     "output_type": "stream",
     "text": [
      "INFO:root:Simulating continuous-time analog frontend for sinusoidal input\n",
      "INFO:root:Simulating continuous-time analog frontend for sinusoidal input\n"
     ]
    },
    {
     "name": "stdout",
     "output_type": "stream",
     "text": [
      "Achieved SNR: 82.40039950248357 db\n",
      "Error with Active-RC parameters {'Bw': np.float64(2548042545.4750996), 'osr': 8, 'nlev': 2, 'Hinf': np.float64(1.3414747017799993), 'Cint': np.float64(3.128703091656853e-12), 'gm': np.float64(2.2312911593998027e-05), 'Ro': np.float64(9088090.322542282), 'Co': np.float64(2.3020507549156745e-13)}: Failed to find a finite solution.\n"
     ]
    },
    {
     "name": "stderr",
     "output_type": "stream",
     "text": [
      "INFO:root:Simulating continuous-time analog frontend for sinusoidal input\n"
     ]
    },
    {
     "name": "stdout",
     "output_type": "stream",
     "text": [
      "Error with Active-RC parameters {'Bw': np.float64(3972502753.671487), 'osr': 8, 'nlev': 4, 'Hinf': np.float64(1.9847191429384128), 'Cint': np.float64(1.6688015905705589e-12), 'gm': np.float64(0.0009541315142641355), 'Ro': np.float64(7115395.3834683625), 'Co': np.float64(8.507809388581718e-13)}: The associated Hamiltonian pencil has eigenvalues too close to the imaginary axis\n"
     ]
    },
    {
     "name": "stderr",
     "output_type": "stream",
     "text": [
      "INFO:root:Simulating continuous-time analog frontend for sinusoidal input\n",
      "INFO:root:Simulating continuous-time analog frontend for sinusoidal input\n"
     ]
    },
    {
     "name": "stdout",
     "output_type": "stream",
     "text": [
      "Error with Active-RC parameters {'Bw': np.float64(9596591130.479612), 'osr': 256, 'nlev': 5, 'Hinf': np.float64(1.8847067612984745), 'Cint': np.float64(4.158242954148226e-12), 'gm': np.float64(6.0840305009580486e-05), 'Ro': np.float64(2468412.0745139057), 'Co': np.float64(4.4196488114539034e-13)}: Failed to find a finite solution.\n",
      "Error with Active-RC parameters {'Bw': np.float64(8788098785.52002), 'osr': 32, 'nlev': 2, 'Hinf': np.float64(1.3607682389006417), 'Cint': np.float64(4.326148415616672e-12), 'gm': np.float64(0.00020875947313535258), 'Ro': np.float64(6253786.423644631), 'Co': np.float64(1.839791253384669e-13)}: The associated Hamiltonian pencil has eigenvalues too close to the imaginary axis\n"
     ]
    },
    {
     "name": "stderr",
     "output_type": "stream",
     "text": [
      "INFO:root:Simulating continuous-time analog frontend for sinusoidal input\n",
      "INFO:root:Simulating continuous-time analog frontend for sinusoidal input\n"
     ]
    },
    {
     "name": "stdout",
     "output_type": "stream",
     "text": [
      "Error with Active-RC parameters {'Bw': np.float64(7016410837.865991), 'osr': 128, 'nlev': 3, 'Hinf': np.float64(1.1113977946642426), 'Cint': np.float64(3.1939443392978376e-12), 'gm': np.float64(0.00024021804470335142), 'Ro': np.float64(4370329.291222441), 'Co': np.float64(7.791188294586908e-13)}: Failed to find a finite solution.\n",
      "Error with Active-RC parameters {'Bw': np.float64(5396346046.430997), 'osr': 64, 'nlev': 2, 'Hinf': np.float64(1.248313930592874), 'Cint': np.float64(2.509242093838196e-13), 'gm': np.float64(0.0009294861929633698), 'Ro': np.float64(1877000.0951886426), 'Co': np.float64(3.33069365085675e-13)}: The associated Hamiltonian pencil has eigenvalues too close to the imaginary axis\n"
     ]
    },
    {
     "name": "stderr",
     "output_type": "stream",
     "text": [
      "INFO:root:Simulating continuous-time analog frontend for sinusoidal input\n",
      "INFO:root:Simulating continuous-time analog frontend for sinusoidal input\n"
     ]
    },
    {
     "name": "stdout",
     "output_type": "stream",
     "text": [
      "Error with Active-RC parameters {'Bw': np.float64(2862898091.815735), 'osr': 64, 'nlev': 2, 'Hinf': np.float64(1.0123246725697075), 'Cint': np.float64(1.5147182301643257e-12), 'gm': np.float64(0.0008066856752672085), 'Ro': np.float64(8161110.8147572875), 'Co': np.float64(8.226554465348994e-13)}: The associated Hamiltonian pencil has eigenvalues too close to the imaginary axis\n",
      "Error with Active-RC parameters {'Bw': np.float64(4763079741.52163), 'osr': 16, 'nlev': 2, 'Hinf': np.float64(1.7480804627335313), 'Cint': np.float64(3.705815170788839e-12), 'gm': np.float64(0.0002512795432798906), 'Ro': np.float64(3070973.445565665), 'Co': np.float64(7.988758199872493e-13)}: Failed to find a finite solution.\n"
     ]
    },
    {
     "name": "stderr",
     "output_type": "stream",
     "text": [
      "INFO:root:Simulating continuous-time analog frontend for sinusoidal input\n",
      "INFO:root:Simulating continuous-time analog frontend for sinusoidal input\n"
     ]
    },
    {
     "name": "stdout",
     "output_type": "stream",
     "text": [
      "Error with Active-RC parameters {'Bw': np.float64(1939491380.4822996), 'osr': 8, 'nlev': 2, 'Hinf': np.float64(1.0583342200235575), 'Cint': np.float64(1.2221322824052196e-12), 'gm': np.float64(0.0006689094739125964), 'Ro': np.float64(3626938.217364665), 'Co': np.float64(5.204855150464749e-13)}: The associated Hamiltonian pencil has eigenvalues too close to the imaginary axis\n",
      "Error with Active-RC parameters {'Bw': np.float64(8172745329.763166), 'osr': 64, 'nlev': 5, 'Hinf': np.float64(1.951077297254158), 'Cint': np.float64(8.608051951488704e-13), 'gm': np.float64(0.0005994475819024882), 'Ro': np.float64(487873.5740428169), 'Co': np.float64(4.613511639988703e-13)}: The associated Hamiltonian pencil has eigenvalues too close to the imaginary axis\n"
     ]
    },
    {
     "name": "stderr",
     "output_type": "stream",
     "text": [
      "INFO:root:Simulating continuous-time analog frontend for sinusoidal input\n",
      "INFO:root:Simulating continuous-time analog frontend for sinusoidal input\n"
     ]
    },
    {
     "name": "stdout",
     "output_type": "stream",
     "text": [
      "Error with Active-RC parameters {'Bw': np.float64(5552691120.287326), 'osr': 32, 'nlev': 3, 'Hinf': np.float64(1.865437236851478), 'Cint': np.float64(2.264062110724073e-12), 'gm': np.float64(0.0004264998874833851), 'Ro': np.float64(5062989.212322362), 'Co': np.float64(9.370530944764765e-13)}: The associated Hamiltonian pencil has eigenvalues too close to the imaginary axis\n",
      "Error with Active-RC parameters {'Bw': np.float64(8863205101.556738), 'osr': 256, 'nlev': 5, 'Hinf': np.float64(1.84195097880882), 'Cint': np.float64(2.2176397938694318e-12), 'gm': np.float64(0.00048070050623343194), 'Ro': np.float64(5570418.019725159), 'Co': np.float64(8.993660361538945e-13)}: The associated Hamiltonian pencil has eigenvalues too close to the imaginary axis\n"
     ]
    },
    {
     "name": "stderr",
     "output_type": "stream",
     "text": [
      "INFO:root:Simulating continuous-time analog frontend for sinusoidal input\n",
      "INFO:root:Simulating continuous-time analog frontend for sinusoidal input\n"
     ]
    },
    {
     "name": "stdout",
     "output_type": "stream",
     "text": [
      "Error with Active-RC parameters {'Bw': np.float64(2123303784.408851), 'osr': 128, 'nlev': 5, 'Hinf': np.float64(1.5926746289316476), 'Cint': np.float64(4.776853559641443e-12), 'gm': np.float64(0.0001780100633116725), 'Ro': np.float64(623872.6061202788), 'Co': np.float64(8.720138502957547e-13)}: The associated Hamiltonian pencil has eigenvalues too close to the imaginary axis\n",
      "Error with Active-RC parameters {'Bw': np.float64(9280905848.370209), 'osr': 8, 'nlev': 4, 'Hinf': np.float64(1.1766206465686895), 'Cint': np.float64(4.954931597379667e-12), 'gm': np.float64(0.0009126998874661059), 'Ro': np.float64(7514574.601613433), 'Co': np.float64(6.45110839124567e-13)}: Failed to find a finite solution.\n"
     ]
    },
    {
     "name": "stderr",
     "output_type": "stream",
     "text": [
      "INFO:root:Simulating continuous-time analog frontend for sinusoidal input\n",
      "INFO:root:Simulating continuous-time analog frontend for sinusoidal input\n"
     ]
    },
    {
     "name": "stdout",
     "output_type": "stream",
     "text": [
      "Achieved SNR: 27.124028250549767 db\n",
      "Error with Active-RC parameters {'Bw': np.float64(9097181199.817825), 'osr': 32, 'nlev': 5, 'Hinf': np.float64(1.474159716879831), 'Cint': np.float64(1.3630158580098488e-12), 'gm': np.float64(0.0001865868083248105), 'Ro': np.float64(1980426.9016715374), 'Co': np.float64(4.690225704116649e-13)}: Failed to find a finite solution.\n"
     ]
    },
    {
     "name": "stderr",
     "output_type": "stream",
     "text": [
      "INFO:root:Simulating continuous-time analog frontend for sinusoidal input\n"
     ]
    },
    {
     "name": "stdout",
     "output_type": "stream",
     "text": [
      "Achieved SNR: 5.485995816052935 db\n"
     ]
    },
    {
     "name": "stderr",
     "output_type": "stream",
     "text": [
      "INFO:root:Simulating continuous-time analog frontend for sinusoidal input\n"
     ]
    },
    {
     "name": "stdout",
     "output_type": "stream",
     "text": [
      "Achieved SNR: 68.7016945589531 db\n",
      "Achieved SNR: 30.277627583507318 db\n"
     ]
    },
    {
     "name": "stderr",
     "output_type": "stream",
     "text": [
      "INFO:root:Simulating continuous-time analog frontend for sinusoidal input\n",
      "INFO:root:Simulating continuous-time analog frontend for sinusoidal input\n",
      "INFO:root:Simulating continuous-time analog frontend for sinusoidal input\n"
     ]
    },
    {
     "name": "stdout",
     "output_type": "stream",
     "text": [
      "Error with Active-RC parameters {'Bw': np.float64(9711046521.560793), 'osr': 64, 'nlev': 5, 'Hinf': np.float64(1.0886519548441775), 'Cint': np.float64(4.565468115797355e-12), 'gm': np.float64(0.0006377533384962519), 'Ro': np.float64(7925394.1113658575), 'Co': np.float64(2.6163936107284477e-13)}: Failed to find a finite solution.\n",
      "Error with Active-RC parameters {'Bw': np.float64(6933670273.753392), 'osr': 128, 'nlev': 4, 'Hinf': np.float64(1.4037350261449366), 'Cint': np.float64(3.287681548082917e-12), 'gm': np.float64(0.0008435117528516228), 'Ro': np.float64(2913962.9703006744), 'Co': np.float64(6.649785170212409e-13)}: The associated Hamiltonian pencil has eigenvalues too close to the imaginary axis\n"
     ]
    },
    {
     "name": "stderr",
     "output_type": "stream",
     "text": [
      "INFO:root:Simulating continuous-time analog frontend for sinusoidal input\n",
      "INFO:root:Simulating continuous-time analog frontend for sinusoidal input\n"
     ]
    },
    {
     "name": "stdout",
     "output_type": "stream",
     "text": [
      "Error with Active-RC parameters {'Bw': np.float64(8493943889.041937), 'osr': 8, 'nlev': 5, 'Hinf': np.float64(1.5490090258110463), 'Cint': np.float64(4.101722333512455e-13), 'gm': np.float64(0.0007857531333483055), 'Ro': np.float64(5045519.420296707), 'Co': np.float64(7.244468014128737e-13)}: Failed to find a finite solution.\n",
      "Error with Active-RC parameters {'Bw': np.float64(7825514695.5476265), 'osr': 8, 'nlev': 3, 'Hinf': np.float64(1.972629929240767), 'Cint': np.float64(1.4323758983857533e-12), 'gm': np.float64(0.0008800781536818968), 'Ro': np.float64(6028058.148207674), 'Co': np.float64(5.286539895542198e-13)}: The associated Hamiltonian pencil has eigenvalues too close to the imaginary axis\n"
     ]
    },
    {
     "name": "stderr",
     "output_type": "stream",
     "text": [
      "INFO:root:Simulating continuous-time analog frontend for sinusoidal input\n",
      "INFO:root:Simulating continuous-time analog frontend for sinusoidal input\n"
     ]
    },
    {
     "name": "stdout",
     "output_type": "stream",
     "text": [
      "Error with Active-RC parameters {'Bw': np.float64(7236499964.384726), 'osr': 8, 'nlev': 5, 'Hinf': np.float64(1.3938597800291475), 'Cint': np.float64(2.9662203514853244e-12), 'gm': np.float64(0.00041795931117303463), 'Ro': np.float64(5727641.2016275), 'Co': np.float64(3.669642995053578e-13)}: Failed to find a finite solution.\n",
      "Error with Active-RC parameters {'Bw': np.float64(7419118717.809682), 'osr': 32, 'nlev': 3, 'Hinf': np.float64(1.7779828190376326), 'Cint': np.float64(4.047110682485889e-12), 'gm': np.float64(0.0003827465479841497), 'Ro': np.float64(3412858.0112026962), 'Co': np.float64(5.579035092747675e-13)}: The associated Hamiltonian pencil has eigenvalues too close to the imaginary axis\n"
     ]
    },
    {
     "name": "stderr",
     "output_type": "stream",
     "text": [
      "INFO:root:Simulating continuous-time analog frontend for sinusoidal input\n",
      "INFO:root:Simulating continuous-time analog frontend for sinusoidal input\n"
     ]
    },
    {
     "name": "stdout",
     "output_type": "stream",
     "text": [
      "Error with Active-RC parameters {'Bw': np.float64(6795175680.860633), 'osr': 128, 'nlev': 2, 'Hinf': np.float64(1.1209901514906215), 'Cint': np.float64(2.580750861891409e-12), 'gm': np.float64(0.0004523091518124933), 'Ro': np.float64(6721277.77409721), 'Co': np.float64(3.0183374463606975e-13)}: The associated Hamiltonian pencil has eigenvalues too close to the imaginary axis\n",
      "Error with Active-RC parameters {'Bw': np.float64(3663968177.1359725), 'osr': 64, 'nlev': 3, 'Hinf': np.float64(1.5760155372960027), 'Cint': np.float64(4.693850981742007e-12), 'gm': np.float64(9.941032827633618e-05), 'Ro': np.float64(1097196.4429275566), 'Co': np.float64(4.072214514413189e-13)}: The associated Hamiltonian pencil has eigenvalues too close to the imaginary axis\n"
     ]
    },
    {
     "name": "stderr",
     "output_type": "stream",
     "text": [
      "INFO:root:Simulating continuous-time analog frontend for sinusoidal input\n",
      "INFO:root:Simulating continuous-time analog frontend for sinusoidal input\n"
     ]
    },
    {
     "name": "stdout",
     "output_type": "stream",
     "text": [
      "Error with Active-RC parameters {'Bw': np.float64(6540159631.17815), 'osr': 16, 'nlev': 2, 'Hinf': np.float64(1.696025743097354), 'Cint': np.float64(4.858175376920329e-12), 'gm': np.float64(0.000351299584339948), 'Ro': np.float64(4751405.787669896), 'Co': np.float64(1.8041370775820689e-13)}: The associated Hamiltonian pencil has eigenvalues too close to the imaginary axis\n",
      "Error with Active-RC parameters {'Bw': np.float64(3452576893.9120026), 'osr': 128, 'nlev': 4, 'Hinf': np.float64(1.2118619646879805), 'Cint': np.float64(4.2282266817488246e-12), 'gm': np.float64(0.0008884047803883398), 'Ro': np.float64(189924.67421501223), 'Co': np.float64(6.251642148984804e-13)}: The associated Hamiltonian pencil has eigenvalues too close to the imaginary axis\n"
     ]
    },
    {
     "name": "stderr",
     "output_type": "stream",
     "text": [
      "INFO:root:Simulating continuous-time analog frontend for sinusoidal input\n",
      "INFO:root:Simulating continuous-time analog frontend for sinusoidal input\n"
     ]
    },
    {
     "name": "stdout",
     "output_type": "stream",
     "text": [
      "Error with Active-RC parameters {'Bw': np.float64(4501559511.766987), 'osr': 8, 'nlev': 5, 'Hinf': np.float64(1.4982293672997693), 'Cint': np.float64(2.926440817772378e-12), 'gm': np.float64(0.0005310373581112652), 'Ro': np.float64(9664982.18935068), 'Co': np.float64(3.4283537404165394e-13)}: The associated Hamiltonian pencil has eigenvalues too close to the imaginary axis\n",
      "Error with Active-RC parameters {'Bw': np.float64(6387916899.292194), 'osr': 64, 'nlev': 3, 'Hinf': np.float64(1.6797920553596457), 'Cint': np.float64(1.7996499411228545e-12), 'gm': np.float64(0.0005556686153059497), 'Ro': np.float64(8928948.430677162), 'Co': np.float64(7.1362510435145e-13)}: The associated Hamiltonian pencil has eigenvalues too close to the imaginary axis\n"
     ]
    },
    {
     "name": "stderr",
     "output_type": "stream",
     "text": [
      "INFO:root:Simulating continuous-time analog frontend for sinusoidal input\n",
      "INFO:root:Simulating continuous-time analog frontend for sinusoidal input\n"
     ]
    },
    {
     "name": "stdout",
     "output_type": "stream",
     "text": [
      "Achieved SNR: 83.6368548262862 db\n",
      "Error with Active-RC parameters {'Bw': np.float64(5963760967.870597), 'osr': 256, 'nlev': 3, 'Hinf': np.float64(1.7069284419366317), 'Cint': np.float64(4.463454642595851e-12), 'gm': np.float64(0.0007135018324447627), 'Ro': np.float64(2711389.6018476863), 'Co': np.float64(4.2618193105519655e-13)}: The associated Hamiltonian pencil has eigenvalues too close to the imaginary axis\n"
     ]
    },
    {
     "name": "stderr",
     "output_type": "stream",
     "text": [
      "INFO:root:Simulating continuous-time analog frontend for sinusoidal input\n",
      "INFO:root:Simulating continuous-time analog frontend for sinusoidal input\n"
     ]
    },
    {
     "name": "stdout",
     "output_type": "stream",
     "text": [
      "Error with Active-RC parameters {'Bw': np.float64(2351886506.203894), 'osr': 8, 'nlev': 3, 'Hinf': np.float64(1.7329003636920852), 'Cint': np.float64(3.811223891926227e-12), 'gm': np.float64(0.0007794700650673743), 'Ro': np.float64(4133253.1370852347), 'Co': np.float64(3.8098125996988395e-13)}: Reordering of (A, B) failed because the transformed matrix pair (A, B) would be too far from generalized Schur form; the problem is very ill-conditioned. (A, B) may have been partially reordered.\n",
      "Error with Active-RC parameters {'Bw': np.float64(9882103565.968855), 'osr': 64, 'nlev': 2, 'Hinf': np.float64(1.792718283834819), 'Cint': np.float64(2.0813686080389104e-12), 'gm': np.float64(0.0006992858881234181), 'Ro': np.float64(1529389.2137425619), 'Co': np.float64(2.1884291062214463e-13)}: The associated Hamiltonian pencil has eigenvalues too close to the imaginary axis\n"
     ]
    },
    {
     "name": "stderr",
     "output_type": "stream",
     "text": [
      "INFO:root:Simulating continuous-time analog frontend for sinusoidal input\n",
      "INFO:root:Simulating continuous-time analog frontend for sinusoidal input\n"
     ]
    },
    {
     "name": "stdout",
     "output_type": "stream",
     "text": [
      "Error with Active-RC parameters {'Bw': np.float64(769269100.7778556), 'osr': 256, 'nlev': 4, 'Hinf': np.float64(1.5236016582085088), 'Cint': np.float64(2.3800549075093154e-12), 'gm': np.float64(8.463148128546406e-06), 'Ro': np.float64(6957679.520480005), 'Co': np.float64(8.918857271709866e-14)}: The associated Hamiltonian pencil has eigenvalues too close to the imaginary axis\n",
      "Error with Active-RC parameters {'Bw': np.float64(5601086757.193509), 'osr': 64, 'nlev': 4, 'Hinf': np.float64(1.2232642735602877), 'Cint': np.float64(2.0291610772329785e-12), 'gm': np.float64(0.000561312075832932), 'Ro': np.float64(5264716.486469988), 'Co': np.float64(5.056095779551005e-13)}: The associated Hamiltonian pencil has eigenvalues too close to the imaginary axis\n"
     ]
    },
    {
     "name": "stderr",
     "output_type": "stream",
     "text": [
      "INFO:root:Simulating continuous-time analog frontend for sinusoidal input\n",
      "INFO:root:Simulating continuous-time analog frontend for sinusoidal input\n"
     ]
    },
    {
     "name": "stdout",
     "output_type": "stream",
     "text": [
      "Error with Active-RC parameters {'Bw': np.float64(5133048025.898802), 'osr': 64, 'nlev': 5, 'Hinf': np.float64(1.1912381269319672), 'Cint': np.float64(2.479899518106898e-12), 'gm': np.float64(0.00010374201359139907), 'Ro': np.float64(9935974.007332657), 'Co': np.float64(9.197500034911473e-13)}: The associated Hamiltonian pencil has eigenvalues too close to the imaginary axis\n",
      "Error with Active-RC parameters {'Bw': np.float64(2637205306.2321224), 'osr': 8, 'nlev': 3, 'Hinf': np.float64(1.9324180180449673), 'Cint': np.float64(1.917430747171645e-12), 'gm': np.float64(0.0007215264266302272), 'Ro': np.float64(9366995.295206223), 'Co': np.float64(8.426828073669273e-13)}: The associated Hamiltonian pencil has eigenvalues too close to the imaginary axis\n"
     ]
    },
    {
     "name": "stderr",
     "output_type": "stream",
     "text": [
      "INFO:root:Simulating continuous-time analog frontend for sinusoidal input\n"
     ]
    },
    {
     "name": "stdout",
     "output_type": "stream",
     "text": [
      "Error with Active-RC parameters {'Bw': np.float64(4030584590.7151513), 'osr': 64, 'nlev': 3, 'Hinf': np.float64(1.031661465243687), 'Cint': np.float64(3.594370271409938e-12), 'gm': np.float64(0.00032812711648847587), 'Ro': np.float64(7715183.7330272235), 'Co': np.float64(9.612112245131996e-13)}: Failed to find a finite solution.\n",
      "Achieved SNR: 54.00097865546283 db\n"
     ]
    },
    {
     "name": "stderr",
     "output_type": "stream",
     "text": [
      "INFO:root:Simulating continuous-time analog frontend for sinusoidal input\n",
      "INFO:root:Simulating continuous-time analog frontend for sinusoidal input\n"
     ]
    },
    {
     "name": "stdout",
     "output_type": "stream",
     "text": [
      "Achieved SNR: 1.6749440709180576 db\n"
     ]
    },
    {
     "name": "stderr",
     "output_type": "stream",
     "text": [
      "INFO:root:Simulating continuous-time analog frontend for sinusoidal input\n"
     ]
    },
    {
     "name": "stdout",
     "output_type": "stream",
     "text": [
      "Achieved SNR: 5.004966308576625 db\n"
     ]
    },
    {
     "name": "stderr",
     "output_type": "stream",
     "text": [
      "INFO:root:Simulating continuous-time analog frontend for sinusoidal input\n",
      "INFO:root:Simulating continuous-time analog frontend for sinusoidal input\n"
     ]
    },
    {
     "name": "stdout",
     "output_type": "stream",
     "text": [
      "Achieved SNR: 5.143555103690654 db\n",
      "Error with Active-RC parameters {'Bw': np.float64(4252722434.106159), 'osr': 8, 'nlev': 4, 'Hinf': np.float64(1.0761181497214483), 'Cint': np.float64(3.3796886007214684e-12), 'gm': np.float64(6.591344014109316e-05), 'Ro': np.float64(3801310.1263909154), 'Co': np.float64(1.469745865821727e-13)}: Failed to find a finite solution.\n"
     ]
    },
    {
     "name": "stderr",
     "output_type": "stream",
     "text": [
      "INFO:root:Simulating continuous-time analog frontend for sinusoidal input\n",
      "INFO:root:Simulating continuous-time analog frontend for sinusoidal input\n"
     ]
    },
    {
     "name": "stdout",
     "output_type": "stream",
     "text": [
      "Error with Active-RC parameters {'Bw': np.float64(8318715717.775906), 'osr': 128, 'nlev': 3, 'Hinf': np.float64(1.2755950146948203), 'Cint': np.float64(1.769011586737534e-13), 'gm': np.float64(0.0007580757545861265), 'Ro': np.float64(3901673.4238536013), 'Co': np.float64(2.8269868947781727e-13)}: The associated Hamiltonian pencil has eigenvalues too close to the imaginary axis\n",
      "Error with Active-RC parameters {'Bw': np.float64(1186543305.918009), 'osr': 16, 'nlev': 3, 'Hinf': np.float64(1.4397912258977035), 'Cint': np.float64(4.00537313064312e-12), 'gm': np.float64(0.00013326304928084614), 'Ro': np.float64(2083002.9320344504), 'Co': np.float64(9.78295551366705e-13)}: The associated Hamiltonian pencil has eigenvalues too close to the imaginary axis\n"
     ]
    },
    {
     "name": "stderr",
     "output_type": "stream",
     "text": [
      "INFO:root:Simulating continuous-time analog frontend for sinusoidal input\n",
      "INFO:root:Simulating continuous-time analog frontend for sinusoidal input\n"
     ]
    },
    {
     "name": "stdout",
     "output_type": "stream",
     "text": [
      "Error with Active-RC parameters {'Bw': np.float64(6032162823.9365635), 'osr': 64, 'nlev': 5, 'Hinf': np.float64(1.6278068798935692), 'Cint': np.float64(3.814990011198636e-13), 'gm': np.float64(0.0004674849426312338), 'Ro': np.float64(2616391.874189037), 'Co': np.float64(6.91177884261628e-13)}: The associated Hamiltonian pencil has eigenvalues too close to the imaginary axis\n",
      "Error with Active-RC parameters {'Bw': np.float64(1350557900.108588), 'osr': 32, 'nlev': 5, 'Hinf': np.float64(1.3110116036232529), 'Cint': np.float64(6.819348278719197e-13), 'gm': np.float64(0.0002838157557651724), 'Ro': np.float64(6158450.545721894), 'Co': np.float64(7.431313741443972e-13)}: The associated Hamiltonian pencil has eigenvalues too close to the imaginary axis\n"
     ]
    },
    {
     "name": "stderr",
     "output_type": "stream",
     "text": [
      "INFO:root:Simulating continuous-time analog frontend for sinusoidal input\n"
     ]
    },
    {
     "name": "stdout",
     "output_type": "stream",
     "text": [
      "Error with Active-RC parameters {'Bw': np.float64(8663517494.722776), 'osr': 32, 'nlev': 3, 'Hinf': np.float64(1.8719392973994289), 'Cint': np.float64(4.905440347967714e-12), 'gm': np.float64(0.0003968855666075196), 'Ro': np.float64(6087703.976165598), 'Co': np.float64(2.8769807845960645e-13)}: The associated Hamiltonian pencil has eigenvalues too close to the imaginary axis\n"
     ]
    },
    {
     "name": "stderr",
     "output_type": "stream",
     "text": [
      "INFO:root:Simulating continuous-time analog frontend for sinusoidal input\n",
      "INFO:root:Simulating continuous-time analog frontend for sinusoidal input\n"
     ]
    },
    {
     "name": "stdout",
     "output_type": "stream",
     "text": [
      "Error with Active-RC parameters {'Bw': np.float64(5622341891.806467), 'osr': 32, 'nlev': 3, 'Hinf': np.float64(1.483171531646886), 'Cint': np.float64(2.352451349243566e-12), 'gm': np.float64(0.0005937953250129771), 'Ro': np.float64(3880001.218990104), 'Co': np.float64(9.294715458374807e-13)}: The associated Hamiltonian pencil has eigenvalues too close to the imaginary axis\n",
      "Error with Active-RC parameters {'Bw': np.float64(4857159488.8633795), 'osr': 256, 'nlev': 3, 'Hinf': np.float64(1.7203462341636917), 'Cint': np.float64(4.197976503711945e-12), 'gm': np.float64(0.0006127546880988964), 'Ro': np.float64(3344931.184154616), 'Co': np.float64(8.265562086812522e-14)}: Reordering of (A, B) failed because the transformed matrix pair (A, B) would be too far from generalized Schur form; the problem is very ill-conditioned. (A, B) may have been partially reordered.\n"
     ]
    },
    {
     "name": "stderr",
     "output_type": "stream",
     "text": [
      "INFO:root:Simulating continuous-time analog frontend for sinusoidal input\n"
     ]
    },
    {
     "name": "stdout",
     "output_type": "stream",
     "text": [
      "Error with Active-RC parameters {'Bw': np.float64(1289215097.089943), 'osr': 256, 'nlev': 2, 'Hinf': np.float64(1.3233731628944134), 'Cint': np.float64(1.3680684649531309e-12), 'gm': np.float64(0.0006541776484750458), 'Ro': np.float64(8031874.784696465), 'Co': np.float64(5.29377340342085e-13)}: Reordering of (A, B) failed because the transformed matrix pair (A, B) would be too far from generalized Schur form; the problem is very ill-conditioned. (A, B) may have been partially reordered.\n",
      "Achieved SNR: 84.20036353461897 db\n"
     ]
    },
    {
     "name": "stderr",
     "output_type": "stream",
     "text": [
      "INFO:root:Simulating continuous-time analog frontend for sinusoidal input\n",
      "INFO:root:Simulating continuous-time analog frontend for sinusoidal input\n",
      "INFO:root:Simulating continuous-time analog frontend for sinusoidal input\n"
     ]
    },
    {
     "name": "stdout",
     "output_type": "stream",
     "text": [
      "Error with Active-RC parameters {'Bw': np.float64(7713303768.472388), 'osr': 64, 'nlev': 4, 'Hinf': np.float64(1.5179398929752796), 'Cint': np.float64(3.471206975873485e-12), 'gm': np.float64(0.0005170372905355303), 'Ro': np.float64(8687215.85320288), 'Co': np.float64(8.34737222469748e-13)}: Failed to find a finite solution.\n",
      "Error with Active-RC parameters {'Bw': np.float64(5313102771.094986), 'osr': 128, 'nlev': 5, 'Hinf': np.float64(1.558883540781911), 'Cint': np.float64(5.930363092025697e-13), 'gm': np.float64(0.0006909342197108115), 'Ro': np.float64(9596375.229087453), 'Co': np.float64(5.504579624066765e-13)}: The associated Hamiltonian pencil has eigenvalues too close to the imaginary axis\n"
     ]
    },
    {
     "name": "stderr",
     "output_type": "stream",
     "text": [
      "INFO:root:Simulating continuous-time analog frontend for sinusoidal input\n",
      "INFO:root:Simulating continuous-time analog frontend for sinusoidal input\n"
     ]
    },
    {
     "name": "stdout",
     "output_type": "stream",
     "text": [
      "Error with Active-RC parameters {'Bw': np.float64(8314305379.098956), 'osr': 16, 'nlev': 4, 'Hinf': np.float64(1.3604434978182771), 'Cint': np.float64(2.156902705852495e-12), 'gm': np.float64(0.00016263907583615128), 'Ro': np.float64(9247972.837142348), 'Co': np.float64(7.782430125403679e-13)}: Failed to find a finite solution.\n",
      "Error with Active-RC parameters {'Bw': np.float64(4202424538.086513), 'osr': 256, 'nlev': 3, 'Hinf': np.float64(1.226019561985062), 'Cint': np.float64(1.0900214604336805e-12), 'gm': np.float64(0.0009159285471894507), 'Ro': np.float64(1172333.3092793273), 'Co': np.float64(6.947214049006593e-13)}: The associated Hamiltonian pencil has eigenvalues too close to the imaginary axis\n"
     ]
    },
    {
     "name": "stderr",
     "output_type": "stream",
     "text": [
      "INFO:root:Simulating continuous-time analog frontend for sinusoidal input\n"
     ]
    },
    {
     "name": "stdout",
     "output_type": "stream",
     "text": [
      "Error with Active-RC parameters {'Bw': np.float64(3532379993.0066857), 'osr': 256, 'nlev': 5, 'Hinf': np.float64(1.0803493678148421), 'Cint': np.float64(3.289092573411594e-12), 'gm': np.float64(0.00024332972565932576), 'Ro': np.float64(4564265.637113803), 'Co': np.float64(9.238332489815872e-13)}: Failed to find a finite solution.\n"
     ]
    },
    {
     "name": "stderr",
     "output_type": "stream",
     "text": [
      "INFO:root:Simulating continuous-time analog frontend for sinusoidal input\n",
      "INFO:root:Simulating continuous-time analog frontend for sinusoidal input\n"
     ]
    },
    {
     "name": "stdout",
     "output_type": "stream",
     "text": [
      "Achieved SNR: 6.122859896047074 db\n",
      "Error with Active-RC parameters {'Bw': np.float64(6312395185.044217), 'osr': 256, 'nlev': 3, 'Hinf': np.float64(1.999785031596724), 'Cint': np.float64(2.5784049006474635e-12), 'gm': np.float64(0.0009477704137121201), 'Ro': np.float64(5328322.27845155), 'Co': np.float64(1.0869401253541204e-13)}: Reordering of (A, B) failed because the transformed matrix pair (A, B) would be too far from generalized Schur form; the problem is very ill-conditioned. (A, B) may have been partially reordered.\n"
     ]
    },
    {
     "name": "stderr",
     "output_type": "stream",
     "text": [
      "INFO:root:Simulating continuous-time analog frontend for sinusoidal input\n",
      "INFO:root:Simulating continuous-time analog frontend for sinusoidal input\n"
     ]
    },
    {
     "name": "stdout",
     "output_type": "stream",
     "text": [
      "Error with Active-RC parameters {'Bw': np.float64(5543776941.454137), 'osr': 64, 'nlev': 2, 'Hinf': np.float64(1.0152304324691852), 'Cint': np.float64(2.013407012017705e-12), 'gm': np.float64(0.0009862738707135266), 'Ro': np.float64(7223651.123610189), 'Co': np.float64(2.737649827473928e-13)}: The associated Hamiltonian pencil has eigenvalues too close to the imaginary axis\n",
      "Error with Active-RC parameters {'Bw': np.float64(8044821757.650322), 'osr': 32, 'nlev': 5, 'Hinf': np.float64(1.760335367532527), 'Cint': np.float64(1.6956560465517116e-12), 'gm': np.float64(0.0004512116670982549), 'Ro': np.float64(9782314.712654417), 'Co': np.float64(3.047710275365076e-13)}: The associated Hamiltonian pencil has eigenvalues too close to the imaginary axis\n"
     ]
    },
    {
     "name": "stderr",
     "output_type": "stream",
     "text": [
      "INFO:root:Simulating continuous-time analog frontend for sinusoidal input\n"
     ]
    },
    {
     "name": "stdout",
     "output_type": "stream",
     "text": [
      "Error with Active-RC parameters {'Bw': np.float64(7167336086.239698), 'osr': 256, 'nlev': 3, 'Hinf': np.float64(1.9065215562607227), 'Cint': np.float64(7.378138538274476e-13), 'gm': np.float64(0.00013718044943347634), 'Ro': np.float64(1707021.4837717884), 'Co': np.float64(3.472014628190096e-13)}: The associated Hamiltonian pencil has eigenvalues too close to the imaginary axis\n"
     ]
    },
    {
     "name": "stderr",
     "output_type": "stream",
     "text": [
      "INFO:root:Simulating continuous-time analog frontend for sinusoidal input\n",
      "INFO:root:Simulating continuous-time analog frontend for sinusoidal input\n",
      "INFO:root:Simulating continuous-time analog frontend for sinusoidal input\n"
     ]
    },
    {
     "name": "stdout",
     "output_type": "stream",
     "text": [
      "Achieved SNR: 57.935797528903954 db\n",
      "Error with Active-RC parameters {'Bw': np.float64(6830074204.68299), 'osr': 64, 'nlev': 3, 'Hinf': np.float64(1.2494735540801942), 'Cint': np.float64(2.3797137857044328e-12), 'gm': np.float64(0.00022682766872779875), 'Ro': np.float64(8418573.30087037), 'Co': np.float64(8.974386460894392e-14)}: The associated Hamiltonian pencil has eigenvalues too close to the imaginary axis\n"
     ]
    },
    {
     "name": "stderr",
     "output_type": "stream",
     "text": [
      "INFO:root:Simulating continuous-time analog frontend for sinusoidal input\n",
      "INFO:root:Simulating continuous-time analog frontend for sinusoidal input\n"
     ]
    },
    {
     "name": "stdout",
     "output_type": "stream",
     "text": [
      "Error with Active-RC parameters {'Bw': np.float64(3097832065.8428636), 'osr': 8, 'nlev': 4, 'Hinf': np.float64(1.8961726493900906), 'Cint': np.float64(3.6294321033036287e-12), 'gm': np.float64(0.0007224981605843481), 'Ro': np.float64(6809032.887757487), 'Co': np.float64(9.683698769699663e-13)}: The associated Hamiltonian pencil has eigenvalues too close to the imaginary axis\n",
      "Error with Active-RC parameters {'Bw': np.float64(90487643.3784768), 'osr': 8, 'nlev': 3, 'Hinf': np.float64(1.2052759458166333), 'Cint': np.float64(3.5482036931142573e-12), 'gm': np.float64(5.059228342944992e-06), 'Ro': np.float64(1318941.6787606925), 'Co': np.float64(7.59938766125054e-13)}: The associated Hamiltonian pencil has eigenvalues too close to the imaginary axis\n"
     ]
    },
    {
     "name": "stderr",
     "output_type": "stream",
     "text": [
      "INFO:root:Simulating continuous-time analog frontend for sinusoidal input\n"
     ]
    },
    {
     "name": "stdout",
     "output_type": "stream",
     "text": [
      "Error with Active-RC parameters {'Bw': np.float64(9405691123.226002), 'osr': 256, 'nlev': 5, 'Hinf': np.float64(1.6530656845837122), 'Cint': np.float64(3.746241978903779e-12), 'gm': np.float64(0.0005777097024940843), 'Ro': np.float64(2405777.0042516994), 'Co': np.float64(5.037769037155315e-13)}: The associated Hamiltonian pencil has eigenvalues too close to the imaginary axis\n",
      "Achieved SNR: 40.043499512650136 db\n"
     ]
    },
    {
     "name": "stderr",
     "output_type": "stream",
     "text": [
      "INFO:root:Simulating continuous-time analog frontend for sinusoidal input\n",
      "INFO:root:Simulating continuous-time analog frontend for sinusoidal input\n"
     ]
    },
    {
     "name": "stdout",
     "output_type": "stream",
     "text": [
      "Error with Active-RC parameters {'Bw': np.float64(3826102248.413011), 'osr': 256, 'nlev': 3, 'Hinf': np.float64(1.1418050727534246), 'Cint': np.float64(2.486039751038922e-13), 'gm': np.float64(2.686902874280052e-05), 'Ro': np.float64(5864155.917527988), 'Co': np.float64(8.970084517247935e-13)}: The associated Hamiltonian pencil has eigenvalues too close to the imaginary axis\n"
     ]
    },
    {
     "name": "stderr",
     "output_type": "stream",
     "text": [
      "INFO:root:Simulating continuous-time analog frontend for sinusoidal input\n"
     ]
    },
    {
     "name": "stdout",
     "output_type": "stream",
     "text": [
      "Achieved SNR: 77.32307015085874 db\n"
     ]
    },
    {
     "name": "stderr",
     "output_type": "stream",
     "text": [
      "INFO:root:Simulating continuous-time analog frontend for sinusoidal input\n",
      "INFO:root:Simulating continuous-time analog frontend for sinusoidal input\n"
     ]
    },
    {
     "name": "stdout",
     "output_type": "stream",
     "text": [
      "Achieved SNR: 54.79232519590538 db\n",
      "Error with Active-RC parameters {'Bw': np.float64(6750038325.590479), 'osr': 16, 'nlev': 5, 'Hinf': np.float64(1.820382116386238), 'Cint': np.float64(5.182890623811962e-13), 'gm': np.float64(0.0004211233108141368), 'Ro': np.float64(9933605.611099707), 'Co': np.float64(2.347819923617811e-13)}: The associated Hamiltonian pencil has eigenvalues too close to the imaginary axis\n"
     ]
    },
    {
     "name": "stderr",
     "output_type": "stream",
     "text": [
      "INFO:root:Simulating continuous-time analog frontend for sinusoidal input\n",
      "INFO:root:Simulating continuous-time analog frontend for sinusoidal input\n"
     ]
    },
    {
     "name": "stdout",
     "output_type": "stream",
     "text": [
      "Achieved SNR: 29.58176334011806 db\n",
      "Error with Active-RC parameters {'Bw': np.float64(6449582685.47567), 'osr': 128, 'nlev': 3, 'Hinf': np.float64(1.13441365161761), 'Cint': np.float64(1.1811933850120534e-12), 'gm': np.float64(0.0009641306435399363), 'Ro': np.float64(8361410.283370314), 'Co': np.float64(7.301382727006658e-13)}: The associated Hamiltonian pencil has eigenvalues too close to the imaginary axis\n"
     ]
    },
    {
     "name": "stderr",
     "output_type": "stream",
     "text": [
      "INFO:root:Simulating continuous-time analog frontend for sinusoidal input\n",
      "INFO:root:Simulating continuous-time analog frontend for sinusoidal input\n"
     ]
    },
    {
     "name": "stdout",
     "output_type": "stream",
     "text": [
      "Achieved SNR: 34.178097290489276 db\n",
      "Error with Active-RC parameters {'Bw': np.float64(1871172320.6559675), 'osr': 8, 'nlev': 4, 'Hinf': np.float64(1.6675585329036429), 'Cint': np.float64(1.869032506249857e-12), 'gm': np.float64(0.000532895576145551), 'Ro': np.float64(5479130.258177214), 'Co': np.float64(7.477424193694002e-13)}: The associated Hamiltonian pencil has eigenvalues too close to the imaginary axis\n"
     ]
    },
    {
     "name": "stderr",
     "output_type": "stream",
     "text": [
      "INFO:root:Simulating continuous-time analog frontend for sinusoidal input\n",
      "INFO:root:Simulating continuous-time analog frontend for sinusoidal input\n"
     ]
    },
    {
     "name": "stdout",
     "output_type": "stream",
     "text": [
      "Error with Active-RC parameters {'Bw': np.float64(5073104213.833591), 'osr': 32, 'nlev': 5, 'Hinf': np.float64(1.4254527779820714), 'Cint': np.float64(4.025308985897547e-12), 'gm': np.float64(0.00020071998111949446), 'Ro': np.float64(6889726.845983878), 'Co': np.float64(4.638252940508473e-13)}: Failed to find a finite solution.\n",
      "Error with Active-RC parameters {'Bw': np.float64(2219945315.76471), 'osr': 256, 'nlev': 3, 'Hinf': np.float64(1.5818693702470812), 'Cint': np.float64(2.2100718940440976e-12), 'gm': np.float64(0.00035259933979790286), 'Ro': np.float64(5715194.104274145), 'Co': np.float64(4.846903145165305e-13)}: The associated Hamiltonian pencil has eigenvalues too close to the imaginary axis\n"
     ]
    },
    {
     "name": "stderr",
     "output_type": "stream",
     "text": [
      "INFO:root:Simulating continuous-time analog frontend for sinusoidal input\n",
      "INFO:root:Simulating continuous-time analog frontend for sinusoidal input\n"
     ]
    },
    {
     "name": "stdout",
     "output_type": "stream",
     "text": [
      "Error with Active-RC parameters {'Bw': np.float64(7509289264.367278), 'osr': 64, 'nlev': 5, 'Hinf': np.float64(1.0385564139128993), 'Cint': np.float64(4.714601700433096e-12), 'gm': np.float64(0.0009263175717150086), 'Ro': np.float64(1546306.7701370674), 'Co': np.float64(7.95234993617626e-13)}: The associated Hamiltonian pencil has eigenvalues too close to the imaginary axis\n",
      "Error with Active-RC parameters {'Bw': np.float64(3303585890.9151006), 'osr': 64, 'nlev': 2, 'Hinf': np.float64(1.101537751119407), 'Cint': np.float64(3.854460781723687e-12), 'gm': np.float64(0.0006285322078501921), 'Ro': np.float64(1995122.5814446716), 'Co': np.float64(8.682365880391784e-13)}: The associated Hamiltonian pencil has eigenvalues too close to the imaginary axis\n"
     ]
    },
    {
     "name": "stderr",
     "output_type": "stream",
     "text": [
      "INFO:root:Simulating continuous-time analog frontend for sinusoidal input\n",
      "INFO:root:Simulating continuous-time analog frontend for sinusoidal input\n"
     ]
    },
    {
     "name": "stdout",
     "output_type": "stream",
     "text": [
      "Error with Active-RC parameters {'Bw': np.float64(9926794270.197027), 'osr': 8, 'nlev': 4, 'Hinf': np.float64(1.8508241145414546), 'Cint': np.float64(1.6540813667914178e-12), 'gm': np.float64(0.00030179139008478987), 'Ro': np.float64(6488116.924240175), 'Co': np.float64(6.708291385649449e-13)}: Failed to find a finite solution.\n",
      "Error with Active-RC parameters {'Bw': np.float64(9721302548.808691), 'osr': 32, 'nlev': 2, 'Hinf': np.float64(1.1947733771449927), 'Cint': np.float64(1.8489480221727203e-12), 'gm': np.float64(0.0008932320014598544), 'Ro': np.float64(796448.8358311119), 'Co': np.float64(5.91769774950502e-13)}: Failed to find a finite solution.\n"
     ]
    },
    {
     "name": "stderr",
     "output_type": "stream",
     "text": [
      "INFO:root:Simulating continuous-time analog frontend for sinusoidal input\n",
      "INFO:root:Simulating continuous-time analog frontend for sinusoidal input\n"
     ]
    },
    {
     "name": "stdout",
     "output_type": "stream",
     "text": [
      "Error with Active-RC parameters {'Bw': np.float64(6011581299.496396), 'osr': 128, 'nlev': 5, 'Hinf': np.float64(1.6358007650776738), 'Cint': np.float64(3.4296612065897776e-12), 'gm': np.float64(0.00020207088886125052), 'Ro': np.float64(136695.0584419839), 'Co': np.float64(3.72497784519396e-13)}: The associated Hamiltonian pencil has eigenvalues too close to the imaginary axis\n",
      "Error with Active-RC parameters {'Bw': np.float64(8484933417.316222), 'osr': 128, 'nlev': 4, 'Hinf': np.float64(1.1774846142634348), 'Cint': np.float64(4.5266054194680516e-12), 'gm': np.float64(0.00040545322808943765), 'Ro': np.float64(1013713.4387311739), 'Co': np.float64(8.639964049318556e-13)}: Failed to find a finite solution.\n"
     ]
    },
    {
     "name": "stderr",
     "output_type": "stream",
     "text": [
      "INFO:root:Simulating continuous-time analog frontend for sinusoidal input\n",
      "INFO:root:Simulating continuous-time analog frontend for sinusoidal input\n"
     ]
    },
    {
     "name": "stdout",
     "output_type": "stream",
     "text": [
      "Achieved SNR: 4.299578521707892 db\n",
      "Error with Active-RC parameters {'Bw': np.float64(4027851522.6641827), 'osr': 32, 'nlev': 2, 'Hinf': np.float64(1.472541045152299), 'Cint': np.float64(2.649146982414229e-12), 'gm': np.float64(0.0008001874206734487), 'Ro': np.float64(7775191.432386859), 'Co': np.float64(7.048790387640252e-13)}: The associated Hamiltonian pencil has eigenvalues too close to the imaginary axis\n"
     ]
    },
    {
     "name": "stderr",
     "output_type": "stream",
     "text": [
      "INFO:root:Simulating continuous-time analog frontend for sinusoidal input\n",
      "INFO:root:Simulating continuous-time analog frontend for sinusoidal input\n"
     ]
    },
    {
     "name": "stdout",
     "output_type": "stream",
     "text": [
      "Error with Active-RC parameters {'Bw': np.float64(8827892202.087454), 'osr': 128, 'nlev': 3, 'Hinf': np.float64(1.9713789339754828), 'Cint': np.float64(4.421271631364613e-12), 'gm': np.float64(5.8121641803294844e-05), 'Ro': np.float64(5061816.487811564), 'Co': np.float64(1.4071101109765683e-13)}: Failed to find a finite solution.\n",
      "Error with Active-RC parameters {'Bw': np.float64(7955153525.802861), 'osr': 16, 'nlev': 4, 'Hinf': np.float64(1.942273776128843), 'Cint': np.float64(8.130451899108827e-13), 'gm': np.float64(0.0004700909996923704), 'Ro': np.float64(3763823.7335910737), 'Co': np.float64(8.124932200209788e-13)}: Failed to find a finite solution.\n"
     ]
    },
    {
     "name": "stderr",
     "output_type": "stream",
     "text": [
      "INFO:root:Simulating continuous-time analog frontend for sinusoidal input\n",
      "INFO:root:Simulating continuous-time analog frontend for sinusoidal input\n"
     ]
    },
    {
     "name": "stdout",
     "output_type": "stream",
     "text": [
      "Error with Active-RC parameters {'Bw': np.float64(387212587.3190777), 'osr': 128, 'nlev': 2, 'Hinf': np.float64(1.6061469786696239), 'Cint': np.float64(4.913157821307822e-13), 'gm': np.float64(7.06019684548619e-05), 'Ro': np.float64(3226717.0298607), 'Co': np.float64(9.597057905838868e-13)}: The associated Hamiltonian pencil has eigenvalues too close to the imaginary axis\n",
      "Error with Active-RC parameters {'Bw': np.float64(4422360039.432731), 'osr': 128, 'nlev': 5, 'Hinf': np.float64(1.4516703551390278), 'Cint': np.float64(1.053257378787683e-12), 'gm': np.float64(0.00015089921565363668), 'Ro': np.float64(2734542.576477384), 'Co': np.float64(6.151413871942459e-13)}: Failed to find a finite solution.\n"
     ]
    },
    {
     "name": "stderr",
     "output_type": "stream",
     "text": [
      "INFO:root:Simulating continuous-time analog frontend for sinusoidal input\n",
      "INFO:root:Simulating continuous-time analog frontend for sinusoidal input\n"
     ]
    },
    {
     "name": "stdout",
     "output_type": "stream",
     "text": [
      "Achieved SNR: 40.82444017372045 db\n",
      "Error with Active-RC parameters {'Bw': np.float64(9102697299.217731), 'osr': 32, 'nlev': 3, 'Hinf': np.float64(1.3195269159913243), 'Cint': np.float64(1.4202348952679922e-12), 'gm': np.float64(0.000843168531102655), 'Ro': np.float64(7410874.756358771), 'Co': np.float64(5.118238233644018e-13)}: The associated Hamiltonian pencil has eigenvalues too close to the imaginary axis\n"
     ]
    },
    {
     "name": "stderr",
     "output_type": "stream",
     "text": [
      "INFO:root:Simulating continuous-time analog frontend for sinusoidal input\n",
      "INFO:root:Simulating continuous-time analog frontend for sinusoidal input\n"
     ]
    },
    {
     "name": "stdout",
     "output_type": "stream",
     "text": [
      "Achieved SNR: 42.029169145545744 db\n",
      "Error with Active-RC parameters {'Bw': np.float64(3647183802.6266627), 'osr': 16, 'nlev': 4, 'Hinf': np.float64(1.0729572878705103), 'Cint': np.float64(2.5452500057431678e-12), 'gm': np.float64(0.0008071422183244672), 'Ro': np.float64(9111401.846095016), 'Co': np.float64(3.261469547537538e-13)}: The associated Hamiltonian pencil has eigenvalues too close to the imaginary axis\n"
     ]
    },
    {
     "name": "stderr",
     "output_type": "stream",
     "text": [
      "INFO:root:Simulating continuous-time analog frontend for sinusoidal input\n",
      "INFO:root:Simulating continuous-time analog frontend for sinusoidal input\n"
     ]
    },
    {
     "name": "stdout",
     "output_type": "stream",
     "text": [
      "Error with Active-RC parameters {'Bw': np.float64(9220795778.14897), 'osr': 128, 'nlev': 5, 'Hinf': np.float64(1.683515806921145), 'Cint': np.float64(3.0024572638158005e-12), 'gm': np.float64(0.0007740085767313839), 'Ro': np.float64(3565748.162792714), 'Co': np.float64(9.844184159161667e-13)}: The associated Hamiltonian pencil has eigenvalues too close to the imaginary axis\n",
      "Error with Active-RC parameters {'Bw': np.float64(7346173601.249512), 'osr': 16, 'nlev': 3, 'Hinf': np.float64(1.920164379749266), 'Cint': np.float64(3.778660194832334e-13), 'gm': np.float64(8.53462408683574e-05), 'Ro': np.float64(619026.1465359197), 'Co': np.float64(5.818834527319775e-13)}: The associated Hamiltonian pencil has eigenvalues too close to the imaginary axis\n"
     ]
    },
    {
     "name": "stderr",
     "output_type": "stream",
     "text": [
      "INFO:root:Simulating continuous-time analog frontend for sinusoidal input\n",
      "INFO:root:Simulating continuous-time analog frontend for sinusoidal input\n"
     ]
    },
    {
     "name": "stdout",
     "output_type": "stream",
     "text": [
      "Error with Active-RC parameters {'Bw': np.float64(2924167474.2504997), 'osr': 128, 'nlev': 5, 'Hinf': np.float64(1.0455026429267835), 'Cint': np.float64(1.881696674792096e-12), 'gm': np.float64(0.0007440733821228082), 'Ro': np.float64(1598790.0764744382), 'Co': np.float64(7.382800838903455e-13)}: The associated Hamiltonian pencil has eigenvalues too close to the imaginary axis\n",
      "Error with Active-RC parameters {'Bw': np.float64(5116620788.301925), 'osr': 8, 'nlev': 3, 'Hinf': np.float64(1.3536748173772422), 'Cint': np.float64(1.6753295363599585e-13), 'gm': np.float64(0.0006751897923815405), 'Ro': np.float64(1112502.1766747893), 'Co': np.float64(5.4101709366315e-13)}: The associated Hamiltonian pencil has eigenvalues too close to the imaginary axis\n"
     ]
    },
    {
     "name": "stderr",
     "output_type": "stream",
     "text": [
      "INFO:root:Simulating continuous-time analog frontend for sinusoidal input\n",
      "INFO:root:Simulating continuous-time analog frontend for sinusoidal input\n"
     ]
    },
    {
     "name": "stdout",
     "output_type": "stream",
     "text": [
      "Achieved SNR: 37.833796459315494 db\n",
      "Error with Active-RC parameters {'Bw': np.float64(1375103994.20668), 'osr': 64, 'nlev': 5, 'Hinf': np.float64(1.3262218381726991), 'Cint': np.float64(3.69803847327554e-12), 'gm': np.float64(0.0009057508329417942), 'Ro': np.float64(5254822.4851653045), 'Co': np.float64(1.5611974494834108e-13)}: Reordering of (A, B) failed because the transformed matrix pair (A, B) would be too far from generalized Schur form; the problem is very ill-conditioned. (A, B) may have been partially reordered.\n"
     ]
    },
    {
     "name": "stderr",
     "output_type": "stream",
     "text": [
      "INFO:root:Simulating continuous-time analog frontend for sinusoidal input\n",
      "INFO:root:Simulating continuous-time analog frontend for sinusoidal input\n"
     ]
    },
    {
     "name": "stdout",
     "output_type": "stream",
     "text": [
      "Achieved SNR: 76.56953531678698 db\n",
      "Error with Active-RC parameters {'Bw': np.float64(3357336850.6978564), 'osr': 64, 'nlev': 4, 'Hinf': np.float64(1.72890277514009), 'Cint': np.float64(2.0169084742246523e-12), 'gm': np.float64(0.000680846084752578), 'Ro': np.float64(3752479.7759732218), 'Co': np.float64(5.14809757898116e-13)}: The associated Hamiltonian pencil has eigenvalues too close to the imaginary axis\n"
     ]
    },
    {
     "name": "stderr",
     "output_type": "stream",
     "text": [
      "INFO:root:Simulating continuous-time analog frontend for sinusoidal input\n",
      "INFO:root:Simulating continuous-time analog frontend for sinusoidal input\n"
     ]
    },
    {
     "name": "stdout",
     "output_type": "stream",
     "text": [
      "Error with Active-RC parameters {'Bw': np.float64(4356546367.908084), 'osr': 8, 'nlev': 4, 'Hinf': np.float64(1.9634386749897015), 'Cint': np.float64(2.9633087668925753e-12), 'gm': np.float64(0.0006123267167758644), 'Ro': np.float64(4230584.731818694), 'Co': np.float64(7.586822985325659e-13)}: The associated Hamiltonian pencil has eigenvalues too close to the imaginary axis\n",
      "Error with Active-RC parameters {'Bw': np.float64(7079779433.851011), 'osr': 64, 'nlev': 2, 'Hinf': np.float64(1.6600037191428325), 'Cint': np.float64(4.823122243307786e-12), 'gm': np.float64(0.00016221373533519394), 'Ro': np.float64(7310126.860121315), 'Co': np.float64(9.814258101262921e-13)}: Failed to find a finite solution.\n"
     ]
    },
    {
     "name": "stderr",
     "output_type": "stream",
     "text": [
      "INFO:root:Simulating continuous-time analog frontend for sinusoidal input\n",
      "INFO:root:Simulating continuous-time analog frontend for sinusoidal input\n"
     ]
    },
    {
     "name": "stdout",
     "output_type": "stream",
     "text": [
      "Error with Active-RC parameters {'Bw': np.float64(6053425296.425259), 'osr': 16, 'nlev': 2, 'Hinf': np.float64(1.4347039935255628), 'Cint': np.float64(2.3119329974194577e-12), 'gm': np.float64(8.699254323696722e-05), 'Ro': np.float64(5672866.785580759), 'Co': np.float64(2.9024446220693525e-13)}: The associated Hamiltonian pencil has eigenvalues too close to the imaginary axis\n",
      "Error with Active-RC parameters {'Bw': np.float64(875383319.2520137), 'osr': 64, 'nlev': 5, 'Hinf': np.float64(1.9252998159251673), 'Cint': np.float64(2.4820767344021282e-12), 'gm': np.float64(2.9906452207829794e-05), 'Ro': np.float64(3109252.626600348), 'Co': np.float64(3.8376594299504575e-13)}: The associated Hamiltonian pencil has eigenvalues too close to the imaginary axis\n"
     ]
    },
    {
     "name": "stderr",
     "output_type": "stream",
     "text": [
      "INFO:root:Simulating continuous-time analog frontend for sinusoidal input\n",
      "INFO:root:Simulating continuous-time analog frontend for sinusoidal input\n"
     ]
    },
    {
     "name": "stdout",
     "output_type": "stream",
     "text": [
      "Achieved SNR: 5.974937556661938 db\n",
      "Error with Active-RC parameters {'Bw': np.float64(7415293625.77431), 'osr': 32, 'nlev': 2, 'Hinf': np.float64(1.889242134386597), 'Cint': np.float64(2.1125190094249745e-12), 'gm': np.float64(0.00014144487657494664), 'Ro': np.float64(1708836.2763830847), 'Co': np.float64(8.193656108007862e-13)}: Failed to find a finite solution.\n"
     ]
    },
    {
     "name": "stderr",
     "output_type": "stream",
     "text": [
      "INFO:root:Simulating continuous-time analog frontend for sinusoidal input\n",
      "INFO:root:Simulating continuous-time analog frontend for sinusoidal input\n"
     ]
    },
    {
     "name": "stdout",
     "output_type": "stream",
     "text": [
      "Error with Active-RC parameters {'Bw': np.float64(5465497762.288745), 'osr': 256, 'nlev': 2, 'Hinf': np.float64(1.1112757631781216), 'Cint': np.float64(1.0866283126268044e-12), 'gm': np.float64(0.0007768401207576411), 'Ro': np.float64(6626949.203778376), 'Co': np.float64(4.734148197919618e-13)}: The associated Hamiltonian pencil has eigenvalues too close to the imaginary axis\n",
      "Error with Active-RC parameters {'Bw': np.float64(2753307045.764424), 'osr': 64, 'nlev': 2, 'Hinf': np.float64(1.5109695597899124), 'Cint': np.float64(1.2303197484748355e-12), 'gm': np.float64(0.0002760078717381271), 'Ro': np.float64(9962839.29398064), 'Co': np.float64(4.881842248529049e-13)}: The associated Hamiltonian pencil has eigenvalues too close to the imaginary axis\n"
     ]
    },
    {
     "name": "stderr",
     "output_type": "stream",
     "text": [
      "INFO:root:Simulating continuous-time analog frontend for sinusoidal input\n",
      "INFO:root:Simulating continuous-time analog frontend for sinusoidal input\n"
     ]
    },
    {
     "name": "stdout",
     "output_type": "stream",
     "text": [
      "Achieved SNR: 6.103424523610103 db\n",
      "Error with Active-RC parameters {'Bw': np.float64(8511069189.16037), 'osr': 16, 'nlev': 5, 'Hinf': np.float64(1.5872120234992875), 'Cint': np.float64(4.260485677895853e-12), 'gm': np.float64(0.0003489073400923969), 'Ro': np.float64(720873.5651277893), 'Co': np.float64(1.324514154382798e-13)}: The associated Hamiltonian pencil has eigenvalues too close to the imaginary axis\n"
     ]
    },
    {
     "name": "stderr",
     "output_type": "stream",
     "text": [
      "INFO:root:Simulating continuous-time analog frontend for sinusoidal input\n",
      "INFO:root:Simulating continuous-time analog frontend for sinusoidal input\n"
     ]
    },
    {
     "name": "stdout",
     "output_type": "stream",
     "text": [
      "Error with Active-RC parameters {'Bw': np.float64(6436811833.045715), 'osr': 256, 'nlev': 4, 'Hinf': np.float64(1.1427662512098715), 'Cint': np.float64(3.7797174440649425e-12), 'gm': np.float64(0.0004977923175368154), 'Ro': np.float64(5496228.299401631), 'Co': np.float64(6.131887429853814e-13)}: The associated Hamiltonian pencil has eigenvalues too close to the imaginary axis\n",
      "Error with Active-RC parameters {'Bw': np.float64(217034473.437427), 'osr': 128, 'nlev': 4, 'Hinf': np.float64(1.3063546575523473), 'Cint': np.float64(2.5551044036862036e-12), 'gm': np.float64(0.00032198530818750015), 'Ro': np.float64(2476412.3861209494), 'Co': np.float64(4.4947061142588543e-13)}: Reordering of (A, B) failed because the transformed matrix pair (A, B) would be too far from generalized Schur form; the problem is very ill-conditioned. (A, B) may have been partially reordered.\n"
     ]
    },
    {
     "name": "stderr",
     "output_type": "stream",
     "text": [
      "INFO:root:Simulating continuous-time analog frontend for sinusoidal input\n"
     ]
    },
    {
     "name": "stdout",
     "output_type": "stream",
     "text": [
      "Error with Active-RC parameters {'Bw': np.float64(5675644130.065053), 'osr': 64, 'nlev': 4, 'Hinf': np.float64(1.2888006725771792), 'Cint': np.float64(2.2397698216713854e-12), 'gm': np.float64(0.00024436656676127993), 'Ro': np.float64(8739146.063197898), 'Co': np.float64(6.453102189930221e-13)}: Failed to find a finite solution.\n",
      "Achieved SNR: 55.109916131729825 db\n"
     ]
    },
    {
     "name": "stderr",
     "output_type": "stream",
     "text": [
      "INFO:root:Simulating continuous-time analog frontend for sinusoidal input\n",
      "INFO:root:Simulating continuous-time analog frontend for sinusoidal input\n",
      "INFO:root:Simulating continuous-time analog frontend for sinusoidal input\n"
     ]
    },
    {
     "name": "stdout",
     "output_type": "stream",
     "text": [
      "Error with Active-RC parameters {'Bw': np.float64(7707756676.56703), 'osr': 16, 'nlev': 2, 'Hinf': np.float64(1.014353092097528), 'Cint': np.float64(3.0634878617178873e-12), 'gm': np.float64(6.147699401297354e-05), 'Ro': np.float64(521174.65712228685), 'Co': np.float64(4.2384612776320344e-13)}: Failed to find a finite solution.\n",
      "Error with Active-RC parameters {'Bw': np.float64(6901494623.607534), 'osr': 128, 'nlev': 3, 'Hinf': np.float64(1.2710970835549626), 'Cint': np.float64(1.7399163423611187e-12), 'gm': np.float64(0.0002817150250777465), 'Ro': np.float64(9129698.40416286), 'Co': np.float64(7.181766503885144e-13)}: Failed to find a finite solution.\n"
     ]
    },
    {
     "name": "stderr",
     "output_type": "stream",
     "text": [
      "INFO:root:Simulating continuous-time analog frontend for sinusoidal input\n",
      "INFO:root:Simulating continuous-time analog frontend for sinusoidal input\n"
     ]
    },
    {
     "name": "stdout",
     "output_type": "stream",
     "text": [
      "Error with Active-RC parameters {'Bw': np.float64(1569960950.9686208), 'osr': 64, 'nlev': 4, 'Hinf': np.float64(1.2076529842669925), 'Cint': np.float64(4.5087018387854676e-12), 'gm': np.float64(5.2258269861821095e-05), 'Ro': np.float64(9682389.048221461), 'Co': np.float64(9.34950705378759e-13)}: Failed to find a finite solution.\n",
      "Error with Active-RC parameters {'Bw': np.float64(9340488844.491879), 'osr': 256, 'nlev': 2, 'Hinf': np.float64(1.7972841472945618), 'Cint': np.float64(4.510094351196673e-12), 'gm': np.float64(0.0007270847388186751), 'Ro': np.float64(7222836.5880797), 'Co': np.float64(3.717678013029269e-13)}: The associated Hamiltonian pencil has eigenvalues too close to the imaginary axis\n"
     ]
    },
    {
     "name": "stderr",
     "output_type": "stream",
     "text": [
      "INFO:root:Simulating continuous-time analog frontend for sinusoidal input\n",
      "INFO:root:Simulating continuous-time analog frontend for sinusoidal input\n"
     ]
    },
    {
     "name": "stdout",
     "output_type": "stream",
     "text": [
      "Error with Active-RC parameters {'Bw': np.float64(1830057064.9100103), 'osr': 8, 'nlev': 5, 'Hinf': np.float64(1.1898023826625732), 'Cint': np.float64(2.6775072917242676e-12), 'gm': np.float64(5.791980606952303e-06), 'Ro': np.float64(4831001.256632635), 'Co': np.float64(6.389577489954158e-13)}: Failed to find a finite solution.\n",
      "Error with Active-RC parameters {'Bw': np.float64(5962096918.438225), 'osr': 64, 'nlev': 3, 'Hinf': np.float64(1.4582801395007867), 'Cint': np.float64(1.0564684063805543e-12), 'gm': np.float64(0.0009432149788865076), 'Ro': np.float64(9482647.270033242), 'Co': np.float64(7.029660484618387e-13)}: The associated Hamiltonian pencil has eigenvalues too close to the imaginary axis\n"
     ]
    },
    {
     "name": "stderr",
     "output_type": "stream",
     "text": [
      "INFO:root:Simulating continuous-time analog frontend for sinusoidal input\n"
     ]
    },
    {
     "name": "stdout",
     "output_type": "stream",
     "text": [
      "Error with Active-RC parameters {'Bw': np.float64(8011969508.101694), 'osr': 16, 'nlev': 2, 'Hinf': np.float64(1.3849692431923768), 'Cint': np.float64(3.204425932414981e-12), 'gm': np.float64(0.0003811932160878194), 'Ro': np.float64(478203.6699981407), 'Co': np.float64(2.124220486753745e-13)}: The associated Hamiltonian pencil has eigenvalues too close to the imaginary axis\n",
      "Achieved SNR: 40.54156615456098 db\n"
     ]
    },
    {
     "name": "stderr",
     "output_type": "stream",
     "text": [
      "INFO:root:Simulating continuous-time analog frontend for sinusoidal input\n",
      "INFO:root:Simulating continuous-time analog frontend for sinusoidal input\n",
      "INFO:root:Simulating continuous-time analog frontend for sinusoidal input\n"
     ]
    },
    {
     "name": "stdout",
     "output_type": "stream",
     "text": [
      "Achieved SNR: 23.44325578419294 db\n",
      "Error with Active-RC parameters {'Bw': np.float64(4783334224.634569), 'osr': 16, 'nlev': 5, 'Hinf': np.float64(1.1233169175274216), 'Cint': np.float64(8.722049687422574e-13), 'gm': np.float64(0.0002227361493456784), 'Ro': np.float64(6435377.121967835), 'Co': np.float64(5.656082238611966e-13)}: Failed to find a finite solution.\n"
     ]
    },
    {
     "name": "stderr",
     "output_type": "stream",
     "text": [
      "INFO:root:Simulating continuous-time analog frontend for sinusoidal input\n"
     ]
    },
    {
     "name": "stdout",
     "output_type": "stream",
     "text": [
      "Error with Active-RC parameters {'Bw': np.float64(4592717717.746845), 'osr': 32, 'nlev': 2, 'Hinf': np.float64(1.8485472780506318), 'Cint': np.float64(3.2601271160897483e-12), 'gm': np.float64(0.000805425420550042), 'Ro': np.float64(8945561.172211023), 'Co': np.float64(8.344107248730797e-13)}: The associated Hamiltonian pencil has eigenvalues too close to the imaginary axis\n",
      "Achieved SNR: 78.83223902682056 db\n"
     ]
    },
    {
     "name": "stderr",
     "output_type": "stream",
     "text": [
      "INFO:root:Simulating continuous-time analog frontend for sinusoidal input\n",
      "INFO:root:Simulating continuous-time analog frontend for sinusoidal input\n"
     ]
    },
    {
     "name": "stdout",
     "output_type": "stream",
     "text": [
      "Error with Active-RC parameters {'Bw': np.float64(9918260986.686848), 'osr': 8, 'nlev': 2, 'Hinf': np.float64(1.0865369332697095), 'Cint': np.float64(2.894685212364255e-12), 'gm': np.float64(0.00037769660366016126), 'Ro': np.float64(6779912.539704266), 'Co': np.float64(1.9826350669190646e-13)}: Failed to find a finite solution.\n"
     ]
    },
    {
     "name": "stderr",
     "output_type": "stream",
     "text": [
      "INFO:root:Simulating continuous-time analog frontend for sinusoidal input\n",
      "INFO:root:Simulating continuous-time analog frontend for sinusoidal input\n"
     ]
    },
    {
     "name": "stdout",
     "output_type": "stream",
     "text": [
      "Achieved SNR: 48.50481957650564 db\n",
      "Error with Active-RC parameters {'Bw': np.float64(6299630351.376558), 'osr': 16, 'nlev': 3, 'Hinf': np.float64(1.3694018701365211), 'Cint': np.float64(2.1611561742382896e-13), 'gm': np.float64(0.0008536862759484372), 'Ro': np.float64(3629859.41304979), 'Co': np.float64(3.3495987505567823e-13)}: The associated Hamiltonian pencil has eigenvalues too close to the imaginary axis\n"
     ]
    },
    {
     "name": "stderr",
     "output_type": "stream",
     "text": [
      "INFO:root:Simulating continuous-time analog frontend for sinusoidal input\n",
      "INFO:root:Simulating continuous-time analog frontend for sinusoidal input\n"
     ]
    },
    {
     "name": "stdout",
     "output_type": "stream",
     "text": [
      "Error with Active-RC parameters {'Bw': np.float64(8379467152.724112), 'osr': 64, 'nlev': 3, 'Hinf': np.float64(1.9155700348154572), 'Cint': np.float64(3.361061152508041e-12), 'gm': np.float64(0.00044053141171774944), 'Ro': np.float64(3461815.2139822296), 'Co': np.float64(5.941940095921894e-13)}: The associated Hamiltonian pencil has eigenvalues too close to the imaginary axis\n",
      "Error with Active-RC parameters {'Bw': np.float64(3953004925.199927), 'osr': 16, 'nlev': 2, 'Hinf': np.float64(1.9800109398605716), 'Cint': np.float64(1.5758190764644483e-12), 'gm': np.float64(0.0008256370545422049), 'Ro': np.float64(4998287.422287764), 'Co': np.float64(6.781006656200182e-13)}: The associated Hamiltonian pencil has eigenvalues too close to the imaginary axis\n"
     ]
    },
    {
     "name": "stderr",
     "output_type": "stream",
     "text": [
      "INFO:root:Simulating continuous-time analog frontend for sinusoidal input\n",
      "INFO:root:Simulating continuous-time analog frontend for sinusoidal input\n"
     ]
    },
    {
     "name": "stdout",
     "output_type": "stream",
     "text": [
      "Achieved SNR: 59.48341077927164 db\n",
      "Error with Active-RC parameters {'Bw': np.float64(7859418089.059259), 'osr': 128, 'nlev': 3, 'Hinf': np.float64(1.2464941184136036), 'Cint': np.float64(4.70772994824405e-13), 'gm': np.float64(0.0004075930813928674), 'Ro': np.float64(8258915.594392244), 'Co': np.float64(1.7472635532271233e-13)}: The associated Hamiltonian pencil has eigenvalues too close to the imaginary axis\n"
     ]
    },
    {
     "name": "stderr",
     "output_type": "stream",
     "text": [
      "INFO:root:Simulating continuous-time analog frontend for sinusoidal input\n",
      "INFO:root:Simulating continuous-time analog frontend for sinusoidal input\n"
     ]
    },
    {
     "name": "stdout",
     "output_type": "stream",
     "text": [
      "Error with Active-RC parameters {'Bw': np.float64(8608971855.262814), 'osr': 128, 'nlev': 5, 'Hinf': np.float64(1.9500834142405905), 'Cint': np.float64(7.201513429434793e-13), 'gm': np.float64(0.00021855600778252087), 'Ro': np.float64(2425427.1985806176), 'Co': np.float64(4.350563779873242e-13)}: The associated Hamiltonian pencil has eigenvalues too close to the imaginary axis\n",
      "Error with Active-RC parameters {'Bw': np.float64(4956610247.361452), 'osr': 128, 'nlev': 2, 'Hinf': np.float64(1.6412740747055579), 'Cint': np.float64(8.916320859920905e-13), 'gm': np.float64(0.00010867528190800758), 'Ro': np.float64(2195109.1834016806), 'Co': np.float64(3.1464207696542006e-13)}: The associated Hamiltonian pencil has eigenvalues too close to the imaginary axis\n"
     ]
    },
    {
     "name": "stderr",
     "output_type": "stream",
     "text": [
      "INFO:root:Simulating continuous-time analog frontend for sinusoidal input\n",
      "INFO:root:Simulating continuous-time analog frontend for sinusoidal input\n"
     ]
    },
    {
     "name": "stdout",
     "output_type": "stream",
     "text": [
      "Error with Active-RC parameters {'Bw': np.float64(9759895889.111471), 'osr': 16, 'nlev': 2, 'Hinf': np.float64(1.6901912676603028), 'Cint': np.float64(2.8144946279683634e-12), 'gm': np.float64(0.0008926988336014537), 'Ro': np.float64(6127465.1082153125), 'Co': np.float64(1.0529982015596672e-13)}: Reordering of (A, B) failed because the transformed matrix pair (A, B) would be too far from generalized Schur form; the problem is very ill-conditioned. (A, B) may have been partially reordered.\n",
      "Error with Active-RC parameters {'Bw': np.float64(8922575993.275476), 'osr': 8, 'nlev': 3, 'Hinf': np.float64(1.753558721063448), 'Cint': np.float64(3.860316064337643e-12), 'gm': np.float64(0.0005031392098275715), 'Ro': np.float64(1429162.1922635487), 'Co': np.float64(9.646234040343007e-13)}: Failed to find a finite solution.\n"
     ]
    },
    {
     "name": "stderr",
     "output_type": "stream",
     "text": [
      "INFO:root:Simulating continuous-time analog frontend for sinusoidal input\n"
     ]
    },
    {
     "name": "stdout",
     "output_type": "stream",
     "text": [
      "Error with Active-RC parameters {'Bw': np.float64(6709315251.527276), 'osr': 256, 'nlev': 2, 'Hinf': np.float64(1.4082825706412743), 'Cint': np.float64(1.3889533370716337e-12), 'gm': np.float64(0.0007890492242916071), 'Ro': np.float64(8121215.012357781), 'Co': np.float64(3.50807338758033e-13)}: The associated Hamiltonian pencil has eigenvalues too close to the imaginary axis\n"
     ]
    },
    {
     "name": "stderr",
     "output_type": "stream",
     "text": [
      "INFO:root:Simulating continuous-time analog frontend for sinusoidal input\n"
     ]
    },
    {
     "name": "stdout",
     "output_type": "stream",
     "text": [
      "Achieved SNR: 45.079357914037416 db\n"
     ]
    },
    {
     "name": "stderr",
     "output_type": "stream",
     "text": [
      "INFO:root:Simulating continuous-time analog frontend for sinusoidal input\n",
      "INFO:root:Simulating continuous-time analog frontend for sinusoidal input\n"
     ]
    },
    {
     "name": "stdout",
     "output_type": "stream",
     "text": [
      "Achieved SNR: 66.64038603984557 db\n",
      "Error with Active-RC parameters {'Bw': np.float64(9480896392.691515), 'osr': 128, 'nlev': 5, 'Hinf': np.float64(1.2383910721087121), 'Cint': np.float64(2.4346549120733525e-12), 'gm': np.float64(0.0005666197970131281), 'Ro': np.float64(2737577.186747378), 'Co': np.float64(8.660960316891094e-13)}: Failed to find a finite solution.\n"
     ]
    },
    {
     "name": "stderr",
     "output_type": "stream",
     "text": [
      "INFO:root:Simulating continuous-time analog frontend for sinusoidal input\n",
      "INFO:root:Simulating continuous-time analog frontend for sinusoidal input\n"
     ]
    },
    {
     "name": "stdout",
     "output_type": "stream",
     "text": [
      "Error with Active-RC parameters {'Bw': np.float64(5215335620.672057), 'osr': 256, 'nlev': 4, 'Hinf': np.float64(1.5642405663991479), 'Cint': np.float64(1.5074250217106754e-12), 'gm': np.float64(0.00047327291760177685), 'Ro': np.float64(7907904.143388925), 'Co': np.float64(7.745817318878849e-13)}: The associated Hamiltonian pencil has eigenvalues too close to the imaginary axis\n",
      "Error with Active-RC parameters {'Bw': np.float64(3523995191.753682), 'osr': 256, 'nlev': 4, 'Hinf': np.float64(1.6237277672168164), 'Cint': np.float64(4.3705269600946664e-12), 'gm': np.float64(0.00018283706515777987), 'Ro': np.float64(4023931.217306031), 'Co': np.float64(7.984158513420361e-13)}: The associated Hamiltonian pencil has eigenvalues too close to the imaginary axis\n"
     ]
    },
    {
     "name": "stderr",
     "output_type": "stream",
     "text": [
      "INFO:root:Simulating continuous-time analog frontend for sinusoidal input\n",
      "INFO:root:Simulating continuous-time analog frontend for sinusoidal input\n"
     ]
    },
    {
     "name": "stdout",
     "output_type": "stream",
     "text": [
      "Error with Active-RC parameters {'Bw': np.float64(2534018156.8103595), 'osr': 64, 'nlev': 2, 'Hinf': np.float64(1.0333335107386064), 'Cint': np.float64(6.737720480354984e-13), 'gm': np.float64(0.00012707585945152195), 'Ro': np.float64(8569506.801662901), 'Co': np.float64(9.59628462162416e-13)}: Failed to find a finite solution.\n",
      "Error with Active-RC parameters {'Bw': np.float64(6865194655.913104), 'osr': 64, 'nlev': 4, 'Hinf': np.float64(1.6245852353692647), 'Cint': np.float64(3.2026557805075066e-12), 'gm': np.float64(0.0003862798002833539), 'Ro': np.float64(9037571.607683932), 'Co': np.float64(8.867086140543463e-13)}: Failed to find a finite solution.\n"
     ]
    },
    {
     "name": "stderr",
     "output_type": "stream",
     "text": [
      "INFO:root:Simulating continuous-time analog frontend for sinusoidal input\n"
     ]
    },
    {
     "name": "stdout",
     "output_type": "stream",
     "text": [
      "Achieved SNR: 25.447774988235132 db\n"
     ]
    },
    {
     "name": "stderr",
     "output_type": "stream",
     "text": [
      "INFO:root:Simulating continuous-time analog frontend for sinusoidal input\n"
     ]
    },
    {
     "name": "stdout",
     "output_type": "stream",
     "text": [
      "Error with Active-RC parameters {'Bw': np.float64(6725324510.038665), 'osr': 8, 'nlev': 5, 'Hinf': np.float64(1.3231442414345134), 'Cint': np.float64(5.842881344291848e-13), 'gm': np.float64(0.00010809169235704361), 'Ro': np.float64(154467.96873591954), 'Co': np.float64(9.348804206243434e-13)}: Failed to find a finite solution.\n"
     ]
    },
    {
     "name": "stderr",
     "output_type": "stream",
     "text": [
      "INFO:root:Simulating continuous-time analog frontend for sinusoidal input\n",
      "INFO:root:Simulating continuous-time analog frontend for sinusoidal input\n"
     ]
    },
    {
     "name": "stdout",
     "output_type": "stream",
     "text": [
      "Error with Active-RC parameters {'Bw': np.float64(4096770185.381102), 'osr': 128, 'nlev': 2, 'Hinf': np.float64(1.5971293850178707), 'Cint': np.float64(3.5604516566577457e-12), 'gm': np.float64(8.981299755397489e-05), 'Ro': np.float64(862182.880804866), 'Co': np.float64(3.3316666480848416e-13)}: The associated Hamiltonian pencil has eigenvalues too close to the imaginary axis\n",
      "Error with Active-RC parameters {'Bw': np.float64(8271354201.689945), 'osr': 256, 'nlev': 5, 'Hinf': np.float64(1.8074641229868895), 'Cint': np.float64(2.115184138663367e-12), 'gm': np.float64(0.00025875137762005734), 'Ro': np.float64(3721638.581340761), 'Co': np.float64(6.734412062270547e-13)}: The associated Hamiltonian pencil has eigenvalues too close to the imaginary axis\n"
     ]
    },
    {
     "name": "stderr",
     "output_type": "stream",
     "text": [
      "INFO:root:Simulating continuous-time analog frontend for sinusoidal input\n"
     ]
    },
    {
     "name": "stdout",
     "output_type": "stream",
     "text": [
      "Error with Active-RC parameters {'Bw': np.float64(8102938982.05663), 'osr': 32, 'nlev': 5, 'Hinf': np.float64(1.7173523176099077), 'Cint': np.float64(3.4840703420790577e-12), 'gm': np.float64(0.0007604823175051098), 'Ro': np.float64(1111170.3525308552), 'Co': np.float64(8.351825591564455e-13)}: The associated Hamiltonian pencil has eigenvalues too close to the imaginary axis\n",
      "Achieved SNR: 17.217189807837606 db\n"
     ]
    },
    {
     "name": "stderr",
     "output_type": "stream",
     "text": [
      "INFO:root:Simulating continuous-time analog frontend for sinusoidal input\n",
      "INFO:root:Simulating continuous-time analog frontend for sinusoidal input\n"
     ]
    },
    {
     "name": "stdout",
     "output_type": "stream",
     "text": [
      "Error with Active-RC parameters {'Bw': np.float64(3439078055.688645), 'osr': 128, 'nlev': 4, 'Hinf': np.float64(1.2471271983657937), 'Cint': np.float64(1.1736068930724711e-12), 'gm': np.float64(0.00023366899954072954), 'Ro': np.float64(8618716.73308715), 'Co': np.float64(5.405857349509162e-13)}: The associated Hamiltonian pencil has eigenvalues too close to the imaginary axis\n",
      "Achieved SNR: 70.12594727661737 db\n"
     ]
    },
    {
     "name": "stderr",
     "output_type": "stream",
     "text": [
      "INFO:root:Simulating continuous-time analog frontend for sinusoidal input\n",
      "INFO:root:Simulating continuous-time analog frontend for sinusoidal input\n",
      "INFO:root:Simulating continuous-time analog frontend for sinusoidal input\n"
     ]
    },
    {
     "name": "stdout",
     "output_type": "stream",
     "text": [
      "Error with Active-RC parameters {'Bw': np.float64(6294341287.809203), 'osr': 64, 'nlev': 3, 'Hinf': np.float64(1.1356093837985608), 'Cint': np.float64(8.295882458804846e-13), 'gm': np.float64(0.0005552622404439965), 'Ro': np.float64(6044351.018957547), 'Co': np.float64(1.4580434785269985e-13)}: The associated Hamiltonian pencil has eigenvalues too close to the imaginary axis\n",
      "Error with Active-RC parameters {'Bw': np.float64(1157248613.741015), 'osr': 8, 'nlev': 5, 'Hinf': np.float64(1.4391810687284563), 'Cint': np.float64(2.1653556521348324e-13), 'gm': np.float64(1.2367124867061702e-05), 'Ro': np.float64(9319173.666873008), 'Co': np.float64(3.689700757986879e-13)}: Failed to find a finite solution.\n"
     ]
    },
    {
     "name": "stderr",
     "output_type": "stream",
     "text": [
      "INFO:root:Simulating continuous-time analog frontend for sinusoidal input\n",
      "INFO:root:Simulating continuous-time analog frontend for sinusoidal input\n"
     ]
    },
    {
     "name": "stdout",
     "output_type": "stream",
     "text": [
      "Error with Active-RC parameters {'Bw': np.float64(4650197914.1927395), 'osr': 128, 'nlev': 5, 'Hinf': np.float64(1.2322587405665248), 'Cint': np.float64(2.262893951597963e-12), 'gm': np.float64(0.0003061114121214447), 'Ro': np.float64(4251888.899107752), 'Co': np.float64(7.562427592026122e-13)}: The associated Hamiltonian pencil has eigenvalues too close to the imaginary axis\n",
      "Error with Active-RC parameters {'Bw': np.float64(7316916300.345396), 'osr': 16, 'nlev': 5, 'Hinf': np.float64(1.9976551556090416), 'Cint': np.float64(1.4084997048842421e-12), 'gm': np.float64(0.0004222107164564428), 'Ro': np.float64(9600477.90759747), 'Co': np.float64(3.500423178988084e-13)}: The associated Hamiltonian pencil has eigenvalues too close to the imaginary axis\n"
     ]
    },
    {
     "name": "stderr",
     "output_type": "stream",
     "text": [
      "INFO:root:Simulating continuous-time analog frontend for sinusoidal input\n",
      "INFO:root:Simulating continuous-time analog frontend for sinusoidal input\n"
     ]
    },
    {
     "name": "stdout",
     "output_type": "stream",
     "text": [
      "Error with Active-RC parameters {'Bw': np.float64(355800692.9768299), 'osr': 256, 'nlev': 2, 'Hinf': np.float64(1.454712474412538), 'Cint': np.float64(4.24480332197484e-12), 'gm': np.float64(6.339040758472487e-05), 'Ro': np.float64(3000410.650940739), 'Co': np.float64(5.480841839569102e-13)}: Reordering of (A, B) failed because the transformed matrix pair (A, B) would be too far from generalized Schur form; the problem is very ill-conditioned. (A, B) may have been partially reordered.\n",
      "Error with Active-RC parameters {'Bw': np.float64(3697495645.5841184), 'osr': 16, 'nlev': 5, 'Hinf': np.float64(1.2728204499526479), 'Cint': np.float64(3.7463596314957013e-13), 'gm': np.float64(0.00015911876753135876), 'Ro': np.float64(1444772.2847743111), 'Co': np.float64(7.519701181381926e-13)}: Failed to find a finite solution.\n"
     ]
    },
    {
     "name": "stderr",
     "output_type": "stream",
     "text": [
      "INFO:root:Simulating continuous-time analog frontend for sinusoidal input\n",
      "INFO:root:Simulating continuous-time analog frontend for sinusoidal input\n"
     ]
    },
    {
     "name": "stdout",
     "output_type": "stream",
     "text": [
      "Error with Active-RC parameters {'Bw': np.float64(7194146901.601799), 'osr': 32, 'nlev': 4, 'Hinf': np.float64(1.764935326880376), 'Cint': np.float64(2.9634267060602363e-12), 'gm': np.float64(0.0004651736898535828), 'Ro': np.float64(2517527.150684492), 'Co': np.float64(5.135068157608617e-13)}: The associated Hamiltonian pencil has eigenvalues too close to the imaginary axis\n",
      "Error with Active-RC parameters {'Bw': np.float64(8895902802.999567), 'osr': 32, 'nlev': 2, 'Hinf': np.float64(1.8900144821523894), 'Cint': np.float64(4.497788579526826e-12), 'gm': np.float64(0.00032234023551542596), 'Ro': np.float64(4560009.914482835), 'Co': np.float64(3.7631322266710266e-13)}: The associated Hamiltonian pencil has eigenvalues too close to the imaginary axis\n"
     ]
    },
    {
     "name": "stderr",
     "output_type": "stream",
     "text": [
      "INFO:root:Simulating continuous-time analog frontend for sinusoidal input\n",
      "INFO:root:Simulating continuous-time analog frontend for sinusoidal input\n"
     ]
    },
    {
     "name": "stdout",
     "output_type": "stream",
     "text": [
      "Error with Active-RC parameters {'Bw': np.float64(9940475678.247913), 'osr': 32, 'nlev': 3, 'Hinf': np.float64(1.0537376742643207), 'Cint': np.float64(3.686229736775508e-12), 'gm': np.float64(0.000481825196571022), 'Ro': np.float64(1734978.1587670206), 'Co': np.float64(8.774217507528772e-14)}: The associated Hamiltonian pencil has eigenvalues too close to the imaginary axis\n",
      "Error with Active-RC parameters {'Bw': np.float64(5850777785.248976), 'osr': 128, 'nlev': 4, 'Hinf': np.float64(1.6471989230993267), 'Cint': np.float64(3.989325731706946e-13), 'gm': np.float64(0.0005332829652228708), 'Ro': np.float64(5182020.721609751), 'Co': np.float64(4.310575278501611e-13)}: The associated Hamiltonian pencil has eigenvalues too close to the imaginary axis\n"
     ]
    },
    {
     "name": "stderr",
     "output_type": "stream",
     "text": [
      "INFO:root:Simulating continuous-time analog frontend for sinusoidal input\n",
      "INFO:root:Simulating continuous-time analog frontend for sinusoidal input\n"
     ]
    },
    {
     "name": "stdout",
     "output_type": "stream",
     "text": [
      "Error with Active-RC parameters {'Bw': np.float64(7785407168.877552), 'osr': 256, 'nlev': 2, 'Hinf': np.float64(1.5522103043026314), 'Cint': np.float64(1.5195260403971947e-12), 'gm': np.float64(0.00020161515937607808), 'Ro': np.float64(2420606.376296708), 'Co': np.float64(8.491501406164832e-13)}: Failed to find a finite solution.\n",
      "Error with Active-RC parameters {'Bw': np.float64(2402518200.82459), 'osr': 64, 'nlev': 3, 'Hinf': np.float64(1.4844912463488629), 'Cint': np.float64(9.714600323953772e-13), 'gm': np.float64(0.0004183977525019589), 'Ro': np.float64(5867904.564579309), 'Co': np.float64(6.973471137003962e-13)}: The associated Hamiltonian pencil has eigenvalues too close to the imaginary axis\n"
     ]
    },
    {
     "name": "stderr",
     "output_type": "stream",
     "text": [
      "INFO:root:Simulating continuous-time analog frontend for sinusoidal input\n",
      "INFO:root:Simulating continuous-time analog frontend for sinusoidal input\n"
     ]
    },
    {
     "name": "stdout",
     "output_type": "stream",
     "text": [
      "Error with Active-RC parameters {'Bw': np.float64(2601966021.0117764), 'osr': 64, 'nlev': 4, 'Hinf': np.float64(1.1061439945844345), 'Cint': np.float64(2.9229584203816303e-12), 'gm': np.float64(0.00029063583684124796), 'Ro': np.float64(2721650.1886645453), 'Co': np.float64(7.992402634810611e-13)}: The associated Hamiltonian pencil has eigenvalues too close to the imaginary axis\n",
      "Error with Active-RC parameters {'Bw': np.float64(8606921579.085363), 'osr': 16, 'nlev': 5, 'Hinf': np.float64(1.3058642755947942), 'Cint': np.float64(1.3628089672176767e-12), 'gm': np.float64(5.453209079934725e-05), 'Ro': np.float64(7755727.015350617), 'Co': np.float64(6.22922836842256e-13)}: The associated Hamiltonian pencil has eigenvalues too close to the imaginary axis\n"
     ]
    },
    {
     "name": "stderr",
     "output_type": "stream",
     "text": [
      "INFO:root:Simulating continuous-time analog frontend for sinusoidal input\n",
      "INFO:root:Simulating continuous-time analog frontend for sinusoidal input\n"
     ]
    },
    {
     "name": "stdout",
     "output_type": "stream",
     "text": [
      "Error with Active-RC parameters {'Bw': np.float64(4914147066.250499), 'osr': 32, 'nlev': 5, 'Hinf': np.float64(1.1674640123423292), 'Cint': np.float64(4.1783440924395976e-12), 'gm': np.float64(0.0005640611893483696), 'Ro': np.float64(6455664.507892506), 'Co': np.float64(4.265755689416213e-13)}: The associated Hamiltonian pencil has eigenvalues too close to the imaginary axis\n",
      "Error with Active-RC parameters {'Bw': np.float64(9230751507.617178), 'osr': 64, 'nlev': 3, 'Hinf': np.float64(1.0237716466711595), 'Cint': np.float64(1.9254233964667873e-12), 'gm': np.float64(0.0001285195031187672), 'Ro': np.float64(7346063.944487342), 'Co': np.float64(9.692764988046377e-13)}: The associated Hamiltonian pencil has eigenvalues too close to the imaginary axis\n"
     ]
    },
    {
     "name": "stderr",
     "output_type": "stream",
     "text": [
      "INFO:root:Simulating continuous-time analog frontend for sinusoidal input\n",
      "INFO:root:Simulating continuous-time analog frontend for sinusoidal input\n"
     ]
    },
    {
     "name": "stdout",
     "output_type": "stream",
     "text": [
      "Achieved SNR: 34.36926348954775 db\n",
      "Error with Active-RC parameters {'Bw': np.float64(4386884585.1403265), 'osr': 8, 'nlev': 5, 'Hinf': np.float64(1.8784425101523317), 'Cint': np.float64(4.738636803823347e-12), 'gm': np.float64(0.0007189240855895618), 'Ro': np.float64(8059370.9941470865), 'Co': np.float64(9.818211739741828e-13)}: The associated Hamiltonian pencil has eigenvalues too close to the imaginary axis\n"
     ]
    },
    {
     "name": "stderr",
     "output_type": "stream",
     "text": [
      "INFO:root:Simulating continuous-time analog frontend for sinusoidal input\n"
     ]
    },
    {
     "name": "stdout",
     "output_type": "stream",
     "text": [
      "Achieved SNR: 4.2684304280828425 db\n"
     ]
    },
    {
     "name": "stderr",
     "output_type": "stream",
     "text": [
      "INFO:root:Simulating continuous-time analog frontend for sinusoidal input\n",
      "INFO:root:Simulating continuous-time analog frontend for sinusoidal input\n"
     ]
    },
    {
     "name": "stdout",
     "output_type": "stream",
     "text": [
      "Achieved SNR: 5.872204073304012 db\n",
      "Error with Active-RC parameters {'Bw': np.float64(6111616522.587909), 'osr': 16, 'nlev': 4, 'Hinf': np.float64(1.014306558518634), 'Cint': np.float64(3.2553542724462874e-12), 'gm': np.float64(0.0006204074402383367), 'Ro': np.float64(5270977.384942071), 'Co': np.float64(5.753868099315873e-13)}: Failed to find a finite solution.\n"
     ]
    },
    {
     "name": "stderr",
     "output_type": "stream",
     "text": [
      "INFO:root:Simulating continuous-time analog frontend for sinusoidal input\n"
     ]
    },
    {
     "name": "stdout",
     "output_type": "stream",
     "text": [
      "Error with Active-RC parameters {'Bw': np.float64(5249281068.839524), 'osr': 128, 'nlev': 2, 'Hinf': np.float64(1.0827540655835433), 'Cint': np.float64(1.6051323186959907e-12), 'gm': np.float64(0.00018162274705535236), 'Ro': np.float64(9897711.106995927), 'Co': np.float64(4.698152666207572e-13)}: Failed to find a finite solution.\n"
     ]
    },
    {
     "name": "stderr",
     "output_type": "stream",
     "text": [
      "INFO:root:Simulating continuous-time analog frontend for sinusoidal input\n",
      "INFO:root:Simulating continuous-time analog frontend for sinusoidal input\n"
     ]
    },
    {
     "name": "stdout",
     "output_type": "stream",
     "text": [
      "Achieved SNR: 52.96768319391718 db\n",
      "Error with Active-RC parameters {'Bw': np.float64(2345174136.115938), 'osr': 128, 'nlev': 5, 'Hinf': np.float64(1.3673429899353897), 'Cint': np.float64(1.855968372026999e-12), 'gm': np.float64(2.182068151935291e-05), 'Ro': np.float64(7201856.47200912), 'Co': np.float64(1.0395748577548144e-13)}: The associated Hamiltonian pencil has eigenvalues too close to the imaginary axis\n"
     ]
    },
    {
     "name": "stderr",
     "output_type": "stream",
     "text": [
      "INFO:root:Simulating continuous-time analog frontend for sinusoidal input\n",
      "INFO:root:Simulating continuous-time analog frontend for sinusoidal input\n"
     ]
    },
    {
     "name": "stdout",
     "output_type": "stream",
     "text": [
      "Error with Active-RC parameters {'Bw': np.float64(9697241178.857306), 'osr': 64, 'nlev': 2, 'Hinf': np.float64(1.672064640846552), 'Cint': np.float64(1.7003815457148928e-12), 'gm': np.float64(0.0009923216672122206), 'Ro': np.float64(1923667.4985693598), 'Co': np.float64(6.785406968216819e-13)}: The associated Hamiltonian pencil has eigenvalues too close to the imaginary axis\n",
      "Error with Active-RC parameters {'Bw': np.float64(3915907282.4636354), 'osr': 32, 'nlev': 3, 'Hinf': np.float64(1.7580842617960322), 'Cint': np.float64(3.833032789346024e-12), 'gm': np.float64(0.0008485423183824161), 'Ro': np.float64(1678204.5178850233), 'Co': np.float64(7.891525597145994e-13)}: The associated Hamiltonian pencil has eigenvalues too close to the imaginary axis\n"
     ]
    },
    {
     "name": "stderr",
     "output_type": "stream",
     "text": [
      "INFO:root:Simulating continuous-time analog frontend for sinusoidal input\n",
      "INFO:root:Simulating continuous-time analog frontend for sinusoidal input\n"
     ]
    },
    {
     "name": "stdout",
     "output_type": "stream",
     "text": [
      "Error with Active-RC parameters {'Bw': np.float64(5720070541.234267), 'osr': 64, 'nlev': 2, 'Hinf': np.float64(1.619172915910087), 'Cint': np.float64(3.984937137780606e-12), 'gm': np.float64(0.0008698513403989889), 'Ro': np.float64(2147402.810088504), 'Co': np.float64(8.19764963024586e-13)}: The associated Hamiltonian pencil has eigenvalues too close to the imaginary axis\n",
      "Error with Active-RC parameters {'Bw': np.float64(7425263080.518598), 'osr': 256, 'nlev': 2, 'Hinf': np.float64(1.8499890989089818), 'Cint': np.float64(2.4447581625930727e-12), 'gm': np.float64(0.0006574528270619316), 'Ro': np.float64(536147.1570661244), 'Co': np.float64(9.438544178036308e-13)}: The associated Hamiltonian pencil has eigenvalues too close to the imaginary axis\n"
     ]
    },
    {
     "name": "stderr",
     "output_type": "stream",
     "text": [
      "INFO:root:Simulating continuous-time analog frontend for sinusoidal input\n"
     ]
    },
    {
     "name": "stdout",
     "output_type": "stream",
     "text": [
      "Error with Active-RC parameters {'Bw': np.float64(649840731.5944215), 'osr': 256, 'nlev': 2, 'Hinf': np.float64(1.7876528789704698), 'Cint': np.float64(2.2261484053779055e-12), 'gm': np.float64(0.0007250631834350509), 'Ro': np.float64(5049048.3876282405), 'Co': np.float64(5.598223540216476e-14)}: Reordering of (A, B) failed because the transformed matrix pair (A, B) would be too far from generalized Schur form; the problem is very ill-conditioned. (A, B) may have been partially reordered.\n"
     ]
    },
    {
     "name": "stderr",
     "output_type": "stream",
     "text": [
      "INFO:root:Simulating continuous-time analog frontend for sinusoidal input\n",
      "INFO:root:Simulating continuous-time analog frontend for sinusoidal input\n"
     ]
    },
    {
     "name": "stdout",
     "output_type": "stream",
     "text": [
      "Achieved SNR: 77.77404494990903 db\n",
      "Error with Active-RC parameters {'Bw': np.float64(1364426417.7138197), 'osr': 256, 'nlev': 3, 'Hinf': np.float64(1.9427421745577425), 'Cint': np.float64(3.3593666985927276e-12), 'gm': np.float64(0.0006893730185934848), 'Ro': np.float64(6892463.11273543), 'Co': np.float64(2.814572383675385e-13)}: Reordering of (A, B) failed because the transformed matrix pair (A, B) would be too far from generalized Schur form; the problem is very ill-conditioned. (A, B) may have been partially reordered.\n"
     ]
    },
    {
     "name": "stderr",
     "output_type": "stream",
     "text": [
      "INFO:root:Simulating continuous-time analog frontend for sinusoidal input\n",
      "INFO:root:Simulating continuous-time analog frontend for sinusoidal input\n"
     ]
    },
    {
     "name": "stdout",
     "output_type": "stream",
     "text": [
      "Error with Active-RC parameters {'Bw': np.float64(9053668678.399864), 'osr': 16, 'nlev': 4, 'Hinf': np.float64(1.514039500127035), 'Cint': np.float64(6.81877355059278e-13), 'gm': np.float64(0.0005102886930195148), 'Ro': np.float64(8245544.837749591), 'Co': np.float64(2.445758257855828e-13)}: The associated Hamiltonian pencil has eigenvalues too close to the imaginary axis\n",
      "Error with Active-RC parameters {'Bw': np.float64(8469668640.321525), 'osr': 64, 'nlev': 5, 'Hinf': np.float64(1.9298462818252307), 'Cint': np.float64(2.5184104505278166e-12), 'gm': np.float64(0.0003440857116944678), 'Ro': np.float64(6318132.9620943405), 'Co': np.float64(1.102978408959447e-13)}: The associated Hamiltonian pencil has eigenvalues too close to the imaginary axis\n"
     ]
    },
    {
     "name": "stderr",
     "output_type": "stream",
     "text": [
      "INFO:root:Simulating continuous-time analog frontend for sinusoidal input\n",
      "INFO:root:Simulating continuous-time analog frontend for sinusoidal input\n"
     ]
    },
    {
     "name": "stdout",
     "output_type": "stream",
     "text": [
      "Error with Active-RC parameters {'Bw': np.float64(7839834659.20599), 'osr': 8, 'nlev': 5, 'Hinf': np.float64(1.961243665259865), 'Cint': np.float64(9.911418044033324e-13), 'gm': np.float64(0.00016971651011885952), 'Ro': np.float64(3191483.5215281467), 'Co': np.float64(5.040437962800077e-13)}: Failed to find a finite solution.\n",
      "Error with Active-RC parameters {'Bw': np.float64(1483271163.0705326), 'osr': 64, 'nlev': 4, 'Hinf': np.float64(1.0646133525925559), 'Cint': np.float64(4.9305992514476335e-12), 'gm': np.float64(0.0007462133336682974), 'Ro': np.float64(7492865.5355530055), 'Co': np.float64(3.111491197930284e-13)}: Reordering of (A, B) failed because the transformed matrix pair (A, B) would be too far from generalized Schur form; the problem is very ill-conditioned. (A, B) may have been partially reordered.\n"
     ]
    },
    {
     "name": "stderr",
     "output_type": "stream",
     "text": [
      "INFO:root:Simulating continuous-time analog frontend for sinusoidal input\n",
      "INFO:root:Simulating continuous-time analog frontend for sinusoidal input\n"
     ]
    },
    {
     "name": "stdout",
     "output_type": "stream",
     "text": [
      "Error with Active-RC parameters {'Bw': np.float64(5196459833.44091), 'osr': 64, 'nlev': 4, 'Hinf': np.float64(1.5770252096234252), 'Cint': np.float64(4.584464019310147e-12), 'gm': np.float64(0.0009622093051538237), 'Ro': np.float64(8528284.640019437), 'Co': np.float64(5.883286231135061e-13)}: The associated Hamiltonian pencil has eigenvalues too close to the imaginary axis\n",
      "Error with Active-RC parameters {'Bw': np.float64(6504796322.086937), 'osr': 128, 'nlev': 5, 'Hinf': np.float64(1.1441734279659614), 'Cint': np.float64(2.791648523053226e-12), 'gm': np.float64(0.0008825644045511379), 'Ro': np.float64(4035878.7694710474), 'Co': np.float64(2.0271346386344596e-13)}: The associated Hamiltonian pencil has eigenvalues too close to the imaginary axis\n"
     ]
    },
    {
     "name": "stderr",
     "output_type": "stream",
     "text": [
      "INFO:root:Simulating continuous-time analog frontend for sinusoidal input\n",
      "INFO:root:Simulating continuous-time analog frontend for sinusoidal input\n"
     ]
    },
    {
     "name": "stdout",
     "output_type": "stream",
     "text": [
      "Error with Active-RC parameters {'Bw': np.float64(570057466.0473468), 'osr': 256, 'nlev': 4, 'Hinf': np.float64(1.4082223354342602), 'Cint': np.float64(4.110424151687617e-12), 'gm': np.float64(0.0004518049663575871), 'Ro': np.float64(9677438.687913183), 'Co': np.float64(8.790860157129273e-13)}: Reordering of (A, B) failed because the transformed matrix pair (A, B) would be too far from generalized Schur form; the problem is very ill-conditioned. (A, B) may have been partially reordered.\n",
      "Error with Active-RC parameters {'Bw': np.float64(9495860747.309813), 'osr': 64, 'nlev': 2, 'Hinf': np.float64(1.908850890662321), 'Cint': np.float64(4.849028394764796e-12), 'gm': np.float64(0.0006641914347849233), 'Ro': np.float64(5530144.146887348), 'Co': np.float64(9.20725789215782e-13)}: The associated Hamiltonian pencil has eigenvalues too close to the imaginary axis\n"
     ]
    },
    {
     "name": "stderr",
     "output_type": "stream",
     "text": [
      "INFO:root:Simulating continuous-time analog frontend for sinusoidal input\n",
      "INFO:root:Simulating continuous-time analog frontend for sinusoidal input\n"
     ]
    },
    {
     "name": "stdout",
     "output_type": "stream",
     "text": [
      "Achieved SNR: 48.25229736059879 db\n",
      "Error with Active-RC parameters {'Bw': np.float64(5470265101.562407), 'osr': 128, 'nlev': 3, 'Hinf': np.float64(1.359956416103275), 'Cint': np.float64(7.571752973828339e-13), 'gm': np.float64(0.0003754689148678691), 'Ro': np.float64(7840417.087507286), 'Co': np.float64(7.288859029290083e-13)}: The associated Hamiltonian pencil has eigenvalues too close to the imaginary axis\n"
     ]
    },
    {
     "name": "stderr",
     "output_type": "stream",
     "text": [
      "INFO:root:Simulating continuous-time analog frontend for sinusoidal input\n"
     ]
    },
    {
     "name": "stdout",
     "output_type": "stream",
     "text": [
      "Achieved SNR: 36.62039433193935 db\n"
     ]
    },
    {
     "name": "stderr",
     "output_type": "stream",
     "text": [
      "INFO:root:Simulating continuous-time analog frontend for sinusoidal input\n"
     ]
    },
    {
     "name": "stdout",
     "output_type": "stream",
     "text": [
      "Achieved SNR: 33.2043438532748 db\n"
     ]
    },
    {
     "name": "stderr",
     "output_type": "stream",
     "text": [
      "INFO:root:Simulating continuous-time analog frontend for sinusoidal input\n",
      "INFO:root:Simulating continuous-time analog frontend for sinusoidal input\n"
     ]
    },
    {
     "name": "stdout",
     "output_type": "stream",
     "text": [
      "Error with Active-RC parameters {'Bw': np.float64(7289301510.012796), 'osr': 256, 'nlev': 5, 'Hinf': np.float64(1.7381174960622325), 'Cint': np.float64(2.8810761347520576e-13), 'gm': np.float64(0.000305747453432637), 'Ro': np.float64(6664854.821665269), 'Co': np.float64(1.721460720269237e-13)}: The associated Hamiltonian pencil has eigenvalues too close to the imaginary axis\n",
      "Error with Active-RC parameters {'Bw': np.float64(8005672737.333501), 'osr': 128, 'nlev': 5, 'Hinf': np.float64(1.613109473367707), 'Cint': np.float64(3.6200957529573212e-12), 'gm': np.float64(0.0007681083675086536), 'Ro': np.float64(3227879.760169991), 'Co': np.float64(7.248988921030583e-13)}: The associated Hamiltonian pencil has eigenvalues too close to the imaginary axis\n"
     ]
    },
    {
     "name": "stderr",
     "output_type": "stream",
     "text": [
      "INFO:root:Simulating continuous-time analog frontend for sinusoidal input\n",
      "INFO:root:Simulating continuous-time analog frontend for sinusoidal input\n"
     ]
    },
    {
     "name": "stdout",
     "output_type": "stream",
     "text": [
      "Error with Active-RC parameters {'Bw': np.float64(8775999840.765875), 'osr': 128, 'nlev': 2, 'Hinf': np.float64(1.9641885825030017), 'Cint': np.float64(4.648202571096982e-12), 'gm': np.float64(0.0001783112550174487), 'Ro': np.float64(6404033.21673833), 'Co': np.float64(2.6191269156831914e-13)}: The associated Hamiltonian pencil has eigenvalues too close to the imaginary axis\n",
      "Error with Active-RC parameters {'Bw': np.float64(8972212895.60417), 'osr': 32, 'nlev': 2, 'Hinf': np.float64(1.4980769057592147), 'Cint': np.float64(1.043862558372096e-12), 'gm': np.float64(0.0006884951411160783), 'Ro': np.float64(4246955.854838615), 'Co': np.float64(3.829717338708572e-13)}: The associated Hamiltonian pencil has eigenvalues too close to the imaginary axis\n"
     ]
    },
    {
     "name": "stderr",
     "output_type": "stream",
     "text": [
      "INFO:root:Simulating continuous-time analog frontend for sinusoidal input\n",
      "INFO:root:Simulating continuous-time analog frontend for sinusoidal input\n"
     ]
    },
    {
     "name": "stdout",
     "output_type": "stream",
     "text": [
      "Error with Active-RC parameters {'Bw': np.float64(6998687863.713309), 'osr': 32, 'nlev': 4, 'Hinf': np.float64(1.1941632265724087), 'Cint': np.float64(4.95847905973535e-12), 'gm': np.float64(0.0004054163810923054), 'Ro': np.float64(3514072.8168560257), 'Co': np.float64(6.64316254349959e-13)}: Failed to find a finite solution.\n",
      "Error with Active-RC parameters {'Bw': np.float64(7747717177.22176), 'osr': 16, 'nlev': 4, 'Hinf': np.float64(1.424571974236716), 'Cint': np.float64(2.9754535997121697e-12), 'gm': np.float64(0.0005680863709860693), 'Ro': np.float64(1566196.8252883847), 'Co': np.float64(4.605958368246728e-13)}: The associated Hamiltonian pencil has eigenvalues too close to the imaginary axis\n"
     ]
    },
    {
     "name": "stderr",
     "output_type": "stream",
     "text": [
      "INFO:root:Simulating continuous-time analog frontend for sinusoidal input\n",
      "INFO:root:Simulating continuous-time analog frontend for sinusoidal input\n"
     ]
    },
    {
     "name": "stdout",
     "output_type": "stream",
     "text": [
      "Error with Active-RC parameters {'Bw': np.float64(4427713852.288583), 'osr': 256, 'nlev': 2, 'Hinf': np.float64(1.2034879067217195), 'Cint': np.float64(3.825228569564116e-12), 'gm': np.float64(7.259277310266095e-05), 'Ro': np.float64(4007888.491249407), 'Co': np.float64(4.453543560697316e-13)}: Failed to find a finite solution.\n",
      "Error with Active-RC parameters {'Bw': np.float64(4174963855.214241), 'osr': 256, 'nlev': 2, 'Hinf': np.float64(1.6209479754517448), 'Cint': np.float64(4.30498557259683e-12), 'gm': np.float64(0.0008088040827089609), 'Ro': np.float64(5142038.2908371), 'Co': np.float64(7.571866438426035e-13)}: The associated Hamiltonian pencil has eigenvalues too close to the imaginary axis\n"
     ]
    },
    {
     "name": "stderr",
     "output_type": "stream",
     "text": [
      "INFO:root:Simulating continuous-time analog frontend for sinusoidal input\n",
      "INFO:root:Simulating continuous-time analog frontend for sinusoidal input\n"
     ]
    },
    {
     "name": "stdout",
     "output_type": "stream",
     "text": [
      "Error with Active-RC parameters {'Bw': np.float64(9674150833.920826), 'osr': 32, 'nlev': 4, 'Hinf': np.float64(1.2990199488782086), 'Cint': np.float64(2.7576168656544253e-12), 'gm': np.float64(0.00049441279638263), 'Ro': np.float64(2536414.7634721324), 'Co': np.float64(9.061069205757851e-14)}: The associated Hamiltonian pencil has eigenvalues too close to the imaginary axis\n",
      "Error with Active-RC parameters {'Bw': np.float64(6704527126.744686), 'osr': 16, 'nlev': 4, 'Hinf': np.float64(1.8592278451087232), 'Cint': np.float64(1.526578513057187e-12), 'gm': np.float64(0.0005250626863547084), 'Ro': np.float64(6198805.218917622), 'Co': np.float64(4.2720019588174844e-13)}: The associated Hamiltonian pencil has eigenvalues too close to the imaginary axis\n"
     ]
    },
    {
     "name": "stderr",
     "output_type": "stream",
     "text": [
      "INFO:root:Simulating continuous-time analog frontend for sinusoidal input\n"
     ]
    },
    {
     "name": "stdout",
     "output_type": "stream",
     "text": [
      "Error with Active-RC parameters {'Bw': np.float64(7545021293.843417), 'osr': 256, 'nlev': 2, 'Hinf': np.float64(1.5931313535576763), 'Cint': np.float64(4.357502936984056e-13), 'gm': np.float64(8.36738171698267e-05), 'Ro': np.float64(465661.2672804148), 'Co': np.float64(9.602537395148496e-13)}: The associated Hamiltonian pencil has eigenvalues too close to the imaginary axis\n",
      "Achieved SNR: 77.26763447174005 db\n"
     ]
    },
    {
     "name": "stderr",
     "output_type": "stream",
     "text": [
      "INFO:root:Simulating continuous-time analog frontend for sinusoidal input\n",
      "INFO:root:Simulating continuous-time analog frontend for sinusoidal input\n",
      "INFO:root:Simulating continuous-time analog frontend for sinusoidal input\n"
     ]
    },
    {
     "name": "stdout",
     "output_type": "stream",
     "text": [
      "Error with Active-RC parameters {'Bw': np.float64(4961973980.479913), 'osr': 32, 'nlev': 3, 'Hinf': np.float64(1.2549880302997503), 'Cint': np.float64(2.4491890619317425e-12), 'gm': np.float64(3.9716880498578925e-05), 'Ro': np.float64(5555777.658557743), 'Co': np.float64(8.897771238969559e-13)}: Failed to find a finite solution.\n",
      "Error with Active-RC parameters {'Bw': np.float64(4201859628.5491304), 'osr': 256, 'nlev': 4, 'Hinf': np.float64(1.2308586347134267), 'Cint': np.float64(4.0782942711504214e-12), 'gm': np.float64(0.0006552230420768503), 'Ro': np.float64(8476815.50215979), 'Co': np.float64(6.957697999564225e-13)}: The associated Hamiltonian pencil has eigenvalues too close to the imaginary axis\n"
     ]
    },
    {
     "name": "stderr",
     "output_type": "stream",
     "text": [
      "INFO:root:Simulating continuous-time analog frontend for sinusoidal input\n",
      "INFO:root:Simulating continuous-time analog frontend for sinusoidal input\n"
     ]
    },
    {
     "name": "stdout",
     "output_type": "stream",
     "text": [
      "Achieved SNR: 67.24045966541178 db\n",
      "Error with Active-RC parameters {'Bw': np.float64(9373766664.288288), 'osr': 128, 'nlev': 3, 'Hinf': np.float64(1.9522763662991034), 'Cint': np.float64(1.988991347108601e-12), 'gm': np.float64(0.000369094785760599), 'Ro': np.float64(5917873.546263656), 'Co': np.float64(7.739939445210589e-13)}: The associated Hamiltonian pencil has eigenvalues too close to the imaginary axis\n"
     ]
    },
    {
     "name": "stderr",
     "output_type": "stream",
     "text": [
      "INFO:root:Simulating continuous-time analog frontend for sinusoidal input\n"
     ]
    },
    {
     "name": "stdout",
     "output_type": "stream",
     "text": [
      "Error with Active-RC parameters {'Bw': np.float64(6142793019.741918), 'osr': 32, 'nlev': 5, 'Hinf': np.float64(1.3628860342326923), 'Cint': np.float64(2.1392956909598654e-12), 'gm': np.float64(0.0006369004764858643), 'Ro': np.float64(1293320.2851864703), 'Co': np.float64(3.5086345758916624e-13)}: The associated Hamiltonian pencil has eigenvalues too close to the imaginary axis\n",
      "Achieved SNR: 4.074991016212578 db\n"
     ]
    },
    {
     "name": "stderr",
     "output_type": "stream",
     "text": [
      "INFO:root:Simulating continuous-time analog frontend for sinusoidal input\n",
      "INFO:root:Simulating continuous-time analog frontend for sinusoidal input\n",
      "INFO:root:Simulating continuous-time analog frontend for sinusoidal input\n"
     ]
    },
    {
     "name": "stdout",
     "output_type": "stream",
     "text": [
      "Error with Active-RC parameters {'Bw': np.float64(2139145191.6254106), 'osr': 256, 'nlev': 3, 'Hinf': np.float64(1.0265585526831327), 'Cint': np.float64(3.502201986558515e-12), 'gm': np.float64(0.0009120274397268479), 'Ro': np.float64(7782675.543555037), 'Co': np.float64(8.162375806172653e-13)}: The associated Hamiltonian pencil has eigenvalues too close to the imaginary axis\n",
      "Error with Active-RC parameters {'Bw': np.float64(7887291388.714511), 'osr': 128, 'nlev': 3, 'Hinf': np.float64(1.5560827305263172), 'Cint': np.float64(2.4804775331798325e-12), 'gm': np.float64(0.0007439115585646641), 'Ro': np.float64(9250656.131445318), 'Co': np.float64(5.471027702710895e-13)}: The associated Hamiltonian pencil has eigenvalues too close to the imaginary axis\n"
     ]
    },
    {
     "name": "stderr",
     "output_type": "stream",
     "text": [
      "INFO:root:Simulating continuous-time analog frontend for sinusoidal input\n"
     ]
    },
    {
     "name": "stdout",
     "output_type": "stream",
     "text": [
      "Error with Active-RC parameters {'Bw': np.float64(9406699408.515957), 'osr': 64, 'nlev': 3, 'Hinf': np.float64(1.5157204662552926), 'Cint': np.float64(3.2444079364492023e-12), 'gm': np.float64(4.6719188851366665e-05), 'Ro': np.float64(3764678.1321590953), 'Co': np.float64(9.16993575920715e-13)}: The associated Hamiltonian pencil has eigenvalues too close to the imaginary axis\n"
     ]
    },
    {
     "name": "stderr",
     "output_type": "stream",
     "text": [
      "INFO:root:Simulating continuous-time analog frontend for sinusoidal input\n",
      "INFO:root:Simulating continuous-time analog frontend for sinusoidal input\n"
     ]
    },
    {
     "name": "stdout",
     "output_type": "stream",
     "text": [
      "Achieved SNR: 5.155819331557149 db\n"
     ]
    },
    {
     "name": "stderr",
     "output_type": "stream",
     "text": [
      "INFO:root:Simulating continuous-time analog frontend for sinusoidal input\n",
      "INFO:root:Simulating continuous-time analog frontend for sinusoidal input\n"
     ]
    },
    {
     "name": "stdout",
     "output_type": "stream",
     "text": [
      "Achieved SNR: 37.367916089660625 db\n",
      "Error with Active-RC parameters {'Bw': np.float64(6512182365.843408), 'osr': 64, 'nlev': 2, 'Hinf': np.float64(1.0740109996679503), 'Cint': np.float64(3.1987998139806436e-12), 'gm': np.float64(0.0006741586868523747), 'Ro': np.float64(6455016.0693799), 'Co': np.float64(8.646453471918229e-13)}: Failed to find a finite solution.\n"
     ]
    },
    {
     "name": "stderr",
     "output_type": "stream",
     "text": [
      "INFO:root:Simulating continuous-time analog frontend for sinusoidal input\n",
      "INFO:root:Simulating continuous-time analog frontend for sinusoidal input\n"
     ]
    },
    {
     "name": "stdout",
     "output_type": "stream",
     "text": [
      "Error with Active-RC parameters {'Bw': np.float64(3889552958.1710315), 'osr': 16, 'nlev': 2, 'Hinf': np.float64(1.8245096415271564), 'Cint': np.float64(8.114673597312372e-13), 'gm': np.float64(0.00047849660422475163), 'Ro': np.float64(9858392.35042314), 'Co': np.float64(9.357888562292707e-13)}: The associated Hamiltonian pencil has eigenvalues too close to the imaginary axis\n",
      "Error with Active-RC parameters {'Bw': np.float64(5162205354.415941), 'osr': 32, 'nlev': 5, 'Hinf': np.float64(1.1574337390633245), 'Cint': np.float64(1.2245526843910362e-12), 'gm': np.float64(0.0008770787054908211), 'Ro': np.float64(5298787.030836522), 'Co': np.float64(2.2647878157722431e-13)}: The associated Hamiltonian pencil has eigenvalues too close to the imaginary axis\n"
     ]
    },
    {
     "name": "stderr",
     "output_type": "stream",
     "text": [
      "INFO:root:Simulating continuous-time analog frontend for sinusoidal input\n",
      "INFO:root:Simulating continuous-time analog frontend for sinusoidal input\n"
     ]
    },
    {
     "name": "stdout",
     "output_type": "stream",
     "text": [
      "Error with Active-RC parameters {'Bw': np.float64(1070588960.6955557), 'osr': 256, 'nlev': 2, 'Hinf': np.float64(1.0444436991785986), 'Cint': np.float64(1.7369138882797766e-12), 'gm': np.float64(0.000800034285062927), 'Ro': np.float64(8178331.115268586), 'Co': np.float64(3.9770975041419907e-13)}: Reordering of (A, B) failed because the transformed matrix pair (A, B) would be too far from generalized Schur form; the problem is very ill-conditioned. (A, B) may have been partially reordered.\n",
      "Error with Active-RC parameters {'Bw': np.float64(4777897377.743327), 'osr': 32, 'nlev': 2, 'Hinf': np.float64(1.801671555605496), 'Cint': np.float64(1.1353938315509953e-12), 'gm': np.float64(0.0005133981605975618), 'Ro': np.float64(132127.95128462237), 'Co': np.float64(9.861923281423634e-13)}: The associated Hamiltonian pencil has eigenvalues too close to the imaginary axis\n"
     ]
    },
    {
     "name": "stderr",
     "output_type": "stream",
     "text": [
      "INFO:root:Simulating continuous-time analog frontend for sinusoidal input\n",
      "INFO:root:Simulating continuous-time analog frontend for sinusoidal input\n"
     ]
    },
    {
     "name": "stdout",
     "output_type": "stream",
     "text": [
      "Achieved SNR: 34.10295627310751 db\n",
      "Error with Active-RC parameters {'Bw': np.float64(1864543251.756827), 'osr': 64, 'nlev': 5, 'Hinf': np.float64(1.1104038151823423), 'Cint': np.float64(2.64825513698353e-12), 'gm': np.float64(0.00011928643619241194), 'Ro': np.float64(7986598.917118414), 'Co': np.float64(4.952777609500786e-13)}: The associated Hamiltonian pencil has eigenvalues too close to the imaginary axis\n"
     ]
    },
    {
     "name": "stderr",
     "output_type": "stream",
     "text": [
      "INFO:root:Simulating continuous-time analog frontend for sinusoidal input\n"
     ]
    },
    {
     "name": "stdout",
     "output_type": "stream",
     "text": [
      "Error with Active-RC parameters {'Bw': np.float64(8230290221.296434), 'osr': 64, 'nlev': 4, 'Hinf': np.float64(1.864281351204604), 'Cint': np.float64(4.59236777648758e-12), 'gm': np.float64(1.3285140144578557e-05), 'Ro': np.float64(4996376.795622082), 'Co': np.float64(3.0510993911092365e-13)}: The associated Hamiltonian pencil has eigenvalues too close to the imaginary axis\n"
     ]
    },
    {
     "name": "stderr",
     "output_type": "stream",
     "text": [
      "INFO:root:Simulating continuous-time analog frontend for sinusoidal input\n",
      "INFO:root:Simulating continuous-time analog frontend for sinusoidal input\n"
     ]
    },
    {
     "name": "stdout",
     "output_type": "stream",
     "text": [
      "Achieved SNR: 4.769773034002372 db\n",
      "Error with Active-RC parameters {'Bw': np.float64(5988969840.90059), 'osr': 32, 'nlev': 4, 'Hinf': np.float64(1.0925803692520408), 'Cint': np.float64(3.703792553715044e-12), 'gm': np.float64(0.000848720862472776), 'Ro': np.float64(4737995.007023605), 'Co': np.float64(9.716667154321074e-13)}: Failed to find a finite solution.\n"
     ]
    },
    {
     "name": "stderr",
     "output_type": "stream",
     "text": [
      "INFO:root:Simulating continuous-time analog frontend for sinusoidal input\n",
      "INFO:root:Simulating continuous-time analog frontend for sinusoidal input\n"
     ]
    },
    {
     "name": "stdout",
     "output_type": "stream",
     "text": [
      "Error with Active-RC parameters {'Bw': np.float64(5474658367.510472), 'osr': 64, 'nlev': 5, 'Hinf': np.float64(1.4725424522659958), 'Cint': np.float64(2.922815092164883e-12), 'gm': np.float64(0.0005513330790063205), 'Ro': np.float64(9574268.2275492), 'Co': np.float64(8.330098384706833e-13)}: The associated Hamiltonian pencil has eigenvalues too close to the imaginary axis\n",
      "Error with Active-RC parameters {'Bw': np.float64(5349844258.173594), 'osr': 256, 'nlev': 5, 'Hinf': np.float64(1.64158506139437), 'Cint': np.float64(4.443814381920911e-12), 'gm': np.float64(0.0002823605550447762), 'Ro': np.float64(1017543.3110421626), 'Co': np.float64(7.513306458004007e-13)}: The associated Hamiltonian pencil has eigenvalues too close to the imaginary axis\n"
     ]
    },
    {
     "name": "stderr",
     "output_type": "stream",
     "text": [
      "INFO:root:Simulating continuous-time analog frontend for sinusoidal input\n",
      "INFO:root:Simulating continuous-time analog frontend for sinusoidal input\n"
     ]
    },
    {
     "name": "stdout",
     "output_type": "stream",
     "text": [
      "Achieved SNR: 32.256587989653 db\n",
      "Error with Active-RC parameters {'Bw': np.float64(3776280206.979169), 'osr': 256, 'nlev': 2, 'Hinf': np.float64(1.689000246734432), 'Cint': np.float64(3.4111215576231222e-12), 'gm': np.float64(0.000997523937382138), 'Ro': np.float64(8954080.436534014), 'Co': np.float64(5.066854791912549e-13)}: Reordering of (A, B) failed because the transformed matrix pair (A, B) would be too far from generalized Schur form; the problem is very ill-conditioned. (A, B) may have been partially reordered.\n"
     ]
    },
    {
     "name": "stderr",
     "output_type": "stream",
     "text": [
      "INFO:root:Simulating continuous-time analog frontend for sinusoidal input\n"
     ]
    },
    {
     "name": "stdout",
     "output_type": "stream",
     "text": [
      "Achieved SNR: 32.54718583694526 db\n"
     ]
    },
    {
     "name": "stderr",
     "output_type": "stream",
     "text": [
      "INFO:root:Simulating continuous-time analog frontend for sinusoidal input\n",
      "INFO:root:Simulating continuous-time analog frontend for sinusoidal input\n"
     ]
    },
    {
     "name": "stdout",
     "output_type": "stream",
     "text": [
      "Achieved SNR: 27.222967360201945 db\n",
      "Error with Active-RC parameters {'Bw': np.float64(2838680269.58254), 'osr': 128, 'nlev': 4, 'Hinf': np.float64(1.7816716419628846), 'Cint': np.float64(2.327512852728799e-12), 'gm': np.float64(0.00014051096101822062), 'Ro': np.float64(1848557.1951169057), 'Co': np.float64(5.885581383517104e-13)}: The associated Hamiltonian pencil has eigenvalues too close to the imaginary axis\n"
     ]
    },
    {
     "name": "stderr",
     "output_type": "stream",
     "text": [
      "INFO:root:Simulating continuous-time analog frontend for sinusoidal input\n",
      "INFO:root:Simulating continuous-time analog frontend for sinusoidal input\n"
     ]
    },
    {
     "name": "stdout",
     "output_type": "stream",
     "text": [
      "Error with Active-RC parameters {'Bw': np.float64(9067689532.947006), 'osr': 32, 'nlev': 2, 'Hinf': np.float64(1.1243415827058865), 'Cint': np.float64(4.728655522161001e-12), 'gm': np.float64(0.0009528573769982536), 'Ro': np.float64(4402802.768377555), 'Co': np.float64(7.098293322919774e-13)}: Failed to find a finite solution.\n",
      "Error with Active-RC parameters {'Bw': np.float64(6282574441.616252), 'osr': 64, 'nlev': 2, 'Hinf': np.float64(1.5227407152585954), 'Cint': np.float64(6.370852828892209e-13), 'gm': np.float64(0.0002275341226840375), 'Ro': np.float64(9671631.936134536), 'Co': np.float64(7.971276354617747e-13)}: Failed to find a finite solution.\n"
     ]
    },
    {
     "name": "stderr",
     "output_type": "stream",
     "text": [
      "INFO:root:Simulating continuous-time analog frontend for sinusoidal input\n",
      "INFO:root:Simulating continuous-time analog frontend for sinusoidal input\n"
     ]
    },
    {
     "name": "stdout",
     "output_type": "stream",
     "text": [
      "Achieved SNR: 5.090057955505232 db\n",
      "Error with Active-RC parameters {'Bw': np.float64(2415722932.484136), 'osr': 32, 'nlev': 4, 'Hinf': np.float64(1.5659118722839853), 'Cint': np.float64(1.8567295656625607e-12), 'gm': np.float64(0.00019086573255102998), 'Ro': np.float64(8665769.816513242), 'Co': np.float64(6.515194999397759e-13)}: The associated Hamiltonian pencil has eigenvalues too close to the imaginary axis\n"
     ]
    },
    {
     "name": "stderr",
     "output_type": "stream",
     "text": [
      "INFO:root:Simulating continuous-time analog frontend for sinusoidal input\n",
      "INFO:root:Simulating continuous-time analog frontend for sinusoidal input\n"
     ]
    },
    {
     "name": "stdout",
     "output_type": "stream",
     "text": [
      "Error with Active-RC parameters {'Bw': np.float64(7161631999.125376), 'osr': 16, 'nlev': 2, 'Hinf': np.float64(1.3365278909708715), 'Cint': np.float64(1.3883248243837874e-12), 'gm': np.float64(0.0009738105294462346), 'Ro': np.float64(3401440.8895958276), 'Co': np.float64(3.22543989937195e-13)}: The associated Hamiltonian pencil has eigenvalues too close to the imaginary axis\n",
      "Error with Active-RC parameters {'Bw': np.float64(8439166714.10147), 'osr': 16, 'nlev': 2, 'Hinf': np.float64(1.3039400223192676), 'Cint': np.float64(3.765373540353437e-12), 'gm': np.float64(0.0003272298374401012), 'Ro': np.float64(808766.9241203625), 'Co': np.float64(1.9268240490908587e-13)}: The associated Hamiltonian pencil has eigenvalues too close to the imaginary axis\n"
     ]
    },
    {
     "name": "stderr",
     "output_type": "stream",
     "text": [
      "INFO:root:Simulating continuous-time analog frontend for sinusoidal input\n",
      "INFO:root:Simulating continuous-time analog frontend for sinusoidal input\n"
     ]
    },
    {
     "name": "stdout",
     "output_type": "stream",
     "text": [
      "Achieved SNR: 82.36598416204887 db\n",
      "Error with Active-RC parameters {'Bw': np.float64(8291161356.339784), 'osr': 32, 'nlev': 4, 'Hinf': np.float64(1.5888153379196757), 'Cint': np.float64(8.696369000672896e-13), 'gm': np.float64(2.1697065897190945e-05), 'Ro': np.float64(6964481.419469306), 'Co': np.float64(3.15149979561721e-13)}: The associated Hamiltonian pencil has eigenvalues too close to the imaginary axis\n"
     ]
    },
    {
     "name": "stderr",
     "output_type": "stream",
     "text": [
      "INFO:root:Simulating continuous-time analog frontend for sinusoidal input\n"
     ]
    },
    {
     "name": "stdout",
     "output_type": "stream",
     "text": [
      "Achieved SNR: 5.982503425910774 db\n"
     ]
    },
    {
     "name": "stderr",
     "output_type": "stream",
     "text": [
      "INFO:root:Simulating continuous-time analog frontend for sinusoidal input\n",
      "INFO:root:Simulating continuous-time analog frontend for sinusoidal input\n"
     ]
    },
    {
     "name": "stdout",
     "output_type": "stream",
     "text": [
      "Achieved SNR: 20.633607082040335 db\n",
      "Error with Active-RC parameters {'Bw': np.float64(978423681.3798174), 'osr': 32, 'nlev': 4, 'Hinf': np.float64(1.4991733512033871), 'Cint': np.float64(2.7709448948500958e-12), 'gm': np.float64(0.00019358953034155646), 'Ro': np.float64(3183026.3645675667), 'Co': np.float64(2.8047057749023657e-13)}: Reordering of (A, B) failed because the transformed matrix pair (A, B) would be too far from generalized Schur form; the problem is very ill-conditioned. (A, B) may have been partially reordered.\n"
     ]
    },
    {
     "name": "stderr",
     "output_type": "stream",
     "text": [
      "INFO:root:Simulating continuous-time analog frontend for sinusoidal input\n",
      "INFO:root:Simulating continuous-time analog frontend for sinusoidal input\n"
     ]
    },
    {
     "name": "stdout",
     "output_type": "stream",
     "text": [
      "Achieved SNR: 58.73169982108326 db\n",
      "Error with Active-RC parameters {'Bw': np.float64(7766079914.253788), 'osr': 64, 'nlev': 2, 'Hinf': np.float64(1.148445035667921), 'Cint': np.float64(4.240185711694931e-12), 'gm': np.float64(0.00024267809110982603), 'Ro': np.float64(4547266.7553125005), 'Co': np.float64(5.83413574985243e-13)}: Failed to find a finite solution.\n"
     ]
    },
    {
     "name": "stderr",
     "output_type": "stream",
     "text": [
      "INFO:root:Simulating continuous-time analog frontend for sinusoidal input\n",
      "INFO:root:Simulating continuous-time analog frontend for sinusoidal input\n"
     ]
    },
    {
     "name": "stdout",
     "output_type": "stream",
     "text": [
      "Error with Active-RC parameters {'Bw': np.float64(6105074944.751149), 'osr': 16, 'nlev': 3, 'Hinf': np.float64(1.4682908106433952), 'Cint': np.float64(2.915993766497713e-12), 'gm': np.float64(0.00032089042718919726), 'Ro': np.float64(8293779.367839139), 'Co': np.float64(8.018092382019204e-13)}: Failed to find a finite solution.\n",
      "Error with Active-RC parameters {'Bw': np.float64(6605159980.872437), 'osr': 128, 'nlev': 3, 'Hinf': np.float64(1.333044235465746), 'Cint': np.float64(3.2968921920287934e-12), 'gm': np.float64(0.00040250697541257554), 'Ro': np.float64(5776401.653698662), 'Co': np.float64(8.437517379704425e-13)}: Failed to find a finite solution.\n"
     ]
    },
    {
     "name": "stderr",
     "output_type": "stream",
     "text": [
      "INFO:root:Simulating continuous-time analog frontend for sinusoidal input\n",
      "INFO:root:Simulating continuous-time analog frontend for sinusoidal input\n"
     ]
    },
    {
     "name": "stdout",
     "output_type": "stream",
     "text": [
      "Error with Active-RC parameters {'Bw': np.float64(8828863305.679718), 'osr': 16, 'nlev': 3, 'Hinf': np.float64(1.1187048152437993), 'Cint': np.float64(2.732203955743366e-13), 'gm': np.float64(0.0004284270435192584), 'Ro': np.float64(6660256.197493846), 'Co': np.float64(6.487133193261206e-14)}: The associated Hamiltonian pencil has eigenvalues too close to the imaginary axis\n",
      "Error with Active-RC parameters {'Bw': np.float64(5665736925.817947), 'osr': 16, 'nlev': 3, 'Hinf': np.float64(1.9292770150148342), 'Cint': np.float64(4.1922580775530706e-12), 'gm': np.float64(5.2031840946169536e-05), 'Ro': np.float64(4247874.887573453), 'Co': np.float64(5.391372500619264e-13)}: Failed to find a finite solution.\n"
     ]
    },
    {
     "name": "stderr",
     "output_type": "stream",
     "text": [
      "INFO:root:Simulating continuous-time analog frontend for sinusoidal input\n",
      "INFO:root:Simulating continuous-time analog frontend for sinusoidal input\n"
     ]
    },
    {
     "name": "stdout",
     "output_type": "stream",
     "text": [
      "Achieved SNR: 69.97131341912498 db\n",
      "Error with Active-RC parameters {'Bw': np.float64(2481790619.974476), 'osr': 8, 'nlev': 4, 'Hinf': np.float64(1.3895236171621712), 'Cint': np.float64(4.387055963923688e-12), 'gm': np.float64(0.0001235756000967927), 'Ro': np.float64(6181145.145541178), 'Co': np.float64(2.0924423447029535e-13)}: The associated Hamiltonian pencil has eigenvalues too close to the imaginary axis\n"
     ]
    },
    {
     "name": "stderr",
     "output_type": "stream",
     "text": [
      "INFO:root:Simulating continuous-time analog frontend for sinusoidal input\n",
      "INFO:root:Simulating continuous-time analog frontend for sinusoidal input\n"
     ]
    },
    {
     "name": "stdout",
     "output_type": "stream",
     "text": [
      "Error with Active-RC parameters {'Bw': np.float64(7494603387.606792), 'osr': 64, 'nlev': 2, 'Hinf': np.float64(1.6374648393112419), 'Cint': np.float64(1.3963384719903684e-12), 'gm': np.float64(0.0003458878848805304), 'Ro': np.float64(317951.0097481728), 'Co': np.float64(8.73621950776412e-13)}: Failed to find a finite solution.\n",
      "Error with Active-RC parameters {'Bw': np.float64(9554312479.885908), 'osr': 8, 'nlev': 5, 'Hinf': np.float64(1.5180116193753852), 'Cint': np.float64(2.071158261408002e-12), 'gm': np.float64(0.0006999963649574657), 'Ro': np.float64(824432.1877455838), 'Co': np.float64(6.75290286277705e-13)}: The associated Hamiltonian pencil has eigenvalues too close to the imaginary axis\n"
     ]
    },
    {
     "name": "stderr",
     "output_type": "stream",
     "text": [
      "INFO:root:Simulating continuous-time analog frontend for sinusoidal input\n",
      "INFO:root:Simulating continuous-time analog frontend for sinusoidal input\n"
     ]
    },
    {
     "name": "stdout",
     "output_type": "stream",
     "text": [
      "Achieved SNR: 77.48529442028858 db\n",
      "Error with Active-RC parameters {'Bw': np.float64(6389622830.573751), 'osr': 8, 'nlev': 4, 'Hinf': np.float64(1.6624381012174605), 'Cint': np.float64(1.943683103123344e-12), 'gm': np.float64(0.0009830963363889628), 'Ro': np.float64(8641541.629856607), 'Co': np.float64(2.4762079570046236e-13)}: The associated Hamiltonian pencil has eigenvalues too close to the imaginary axis\n"
     ]
    },
    {
     "name": "stderr",
     "output_type": "stream",
     "text": [
      "INFO:root:Simulating continuous-time analog frontend for sinusoidal input\n",
      "INFO:root:Simulating continuous-time analog frontend for sinusoidal input\n"
     ]
    },
    {
     "name": "stdout",
     "output_type": "stream",
     "text": [
      "Error with Active-RC parameters {'Bw': np.float64(8673975969.433537), 'osr': 256, 'nlev': 3, 'Hinf': np.float64(1.2879793762584175), 'Cint': np.float64(2.2703793765946607e-12), 'gm': np.float64(8.715596458396575e-05), 'Ro': np.float64(584988.772061232), 'Co': np.float64(6.445652562600935e-13)}: The associated Hamiltonian pencil has eigenvalues too close to the imaginary axis\n",
      "Error with Active-RC parameters {'Bw': np.float64(3272790414.16897), 'osr': 8, 'nlev': 3, 'Hinf': np.float64(1.1810578593953878), 'Cint': np.float64(3.782706093531723e-12), 'gm': np.float64(0.0006540788746608555), 'Ro': np.float64(7333344.131132074), 'Co': np.float64(4.841069026557902e-13)}: The associated Hamiltonian pencil has eigenvalues too close to the imaginary axis\n"
     ]
    },
    {
     "name": "stderr",
     "output_type": "stream",
     "text": [
      "INFO:root:Simulating continuous-time analog frontend for sinusoidal input\n",
      "INFO:root:Simulating continuous-time analog frontend for sinusoidal input\n"
     ]
    },
    {
     "name": "stdout",
     "output_type": "stream",
     "text": [
      "Achieved SNR: 57.54168085452263 db\n",
      "Error with Active-RC parameters {'Bw': np.float64(9384521063.891947), 'osr': 256, 'nlev': 3, 'Hinf': np.float64(1.410173565259843), 'Cint': np.float64(4.8128272814804135e-12), 'gm': np.float64(0.00014786079387244856), 'Ro': np.float64(8094203.322465655), 'Co': np.float64(7.893441073745348e-13)}: Failed to find a finite solution.\n"
     ]
    },
    {
     "name": "stderr",
     "output_type": "stream",
     "text": [
      "INFO:root:Simulating continuous-time analog frontend for sinusoidal input\n"
     ]
    },
    {
     "name": "stdout",
     "output_type": "stream",
     "text": [
      "Error with Active-RC parameters {'Bw': np.float64(3026874940.9853344), 'osr': 256, 'nlev': 2, 'Hinf': np.float64(1.7289570245666337), 'Cint': np.float64(3.050168246676561e-12), 'gm': np.float64(0.0003154901868053111), 'Ro': np.float64(1334139.2189485268), 'Co': np.float64(3.484792796831048e-13)}: The associated Hamiltonian pencil has eigenvalues too close to the imaginary axis\n",
      "Achieved SNR: 6.080193365945013 db\n"
     ]
    },
    {
     "name": "stderr",
     "output_type": "stream",
     "text": [
      "INFO:root:Simulating continuous-time analog frontend for sinusoidal input\n",
      "INFO:root:Simulating continuous-time analog frontend for sinusoidal input\n",
      "INFO:root:Simulating continuous-time analog frontend for sinusoidal input\n"
     ]
    },
    {
     "name": "stdout",
     "output_type": "stream",
     "text": [
      "Error with Active-RC parameters {'Bw': np.float64(9066900289.07356), 'osr': 256, 'nlev': 2, 'Hinf': np.float64(1.7732721112202885), 'Cint': np.float64(4.663458759398596e-12), 'gm': np.float64(0.0009757427076019313), 'Ro': np.float64(5056728.833959444), 'Co': np.float64(9.654462198846589e-13)}: The associated Hamiltonian pencil has eigenvalues too close to the imaginary axis\n",
      "Error with Active-RC parameters {'Bw': np.float64(3583901366.241957), 'osr': 64, 'nlev': 3, 'Hinf': np.float64(1.1685229948096496), 'Cint': np.float64(4.969785323968213e-12), 'gm': np.float64(0.0005474905031528853), 'Ro': np.float64(3639404.410154343), 'Co': np.float64(1.8717675254422597e-13)}: The associated Hamiltonian pencil has eigenvalues too close to the imaginary axis\n"
     ]
    },
    {
     "name": "stderr",
     "output_type": "stream",
     "text": [
      "INFO:root:Simulating continuous-time analog frontend for sinusoidal input\n",
      "INFO:root:Simulating continuous-time analog frontend for sinusoidal input\n"
     ]
    },
    {
     "name": "stdout",
     "output_type": "stream",
     "text": [
      "Error with Active-RC parameters {'Bw': np.float64(1834098438.993825), 'osr': 256, 'nlev': 3, 'Hinf': np.float64(1.0469644533865388), 'Cint': np.float64(2.3961455952286146e-12), 'gm': np.float64(0.0004984256209639149), 'Ro': np.float64(9520873.982753104), 'Co': np.float64(5.601993740806723e-13)}: The associated Hamiltonian pencil has eigenvalues too close to the imaginary axis\n",
      "Error with Active-RC parameters {'Bw': np.float64(8010344929.3712435), 'osr': 64, 'nlev': 2, 'Hinf': np.float64(1.1326083267524947), 'Cint': np.float64(2.60129965527616e-12), 'gm': np.float64(0.0007524022340808645), 'Ro': np.float64(1224099.2240689055), 'Co': np.float64(1.1578232715023103e-13)}: The associated Hamiltonian pencil has eigenvalues too close to the imaginary axis\n"
     ]
    },
    {
     "name": "stderr",
     "output_type": "stream",
     "text": [
      "INFO:root:Simulating continuous-time analog frontend for sinusoidal input\n",
      "INFO:root:Simulating continuous-time analog frontend for sinusoidal input\n"
     ]
    },
    {
     "name": "stdout",
     "output_type": "stream",
     "text": [
      "Error with Active-RC parameters {'Bw': np.float64(4776513455.167732), 'osr': 8, 'nlev': 4, 'Hinf': np.float64(1.8623333116891088), 'Cint': np.float64(3.91294409570422e-12), 'gm': np.float64(0.00037390049871219945), 'Ro': np.float64(7212885.862143396), 'Co': np.float64(3.1928970656098843e-13)}: The associated Hamiltonian pencil has eigenvalues too close to the imaginary axis\n",
      "Error with Active-RC parameters {'Bw': np.float64(7994567920.379631), 'osr': 16, 'nlev': 2, 'Hinf': np.float64(1.957516740036014), 'Cint': np.float64(3.1565692659069163e-12), 'gm': np.float64(0.0005636446419324875), 'Ro': np.float64(4996516.516203139), 'Co': np.float64(6.934494009923855e-13)}: The associated Hamiltonian pencil has eigenvalues too close to the imaginary axis\n"
     ]
    },
    {
     "name": "stderr",
     "output_type": "stream",
     "text": [
      "INFO:root:Simulating continuous-time analog frontend for sinusoidal input\n",
      "INFO:root:Simulating continuous-time analog frontend for sinusoidal input\n"
     ]
    },
    {
     "name": "stdout",
     "output_type": "stream",
     "text": [
      "Achieved SNR: -18.72916628180809 db\n",
      "Error with Active-RC parameters {'Bw': np.float64(5939449046.785356), 'osr': 16, 'nlev': 4, 'Hinf': np.float64(1.4560063313748102), 'Cint': np.float64(7.527036024159148e-13), 'gm': np.float64(0.0003877829308528223), 'Ro': np.float64(3690729.0171912755), 'Co': np.float64(8.606734967326485e-13)}: Failed to find a finite solution.\n"
     ]
    },
    {
     "name": "stderr",
     "output_type": "stream",
     "text": [
      "INFO:root:Simulating continuous-time analog frontend for sinusoidal input\n",
      "INFO:root:Simulating continuous-time analog frontend for sinusoidal input\n"
     ]
    },
    {
     "name": "stdout",
     "output_type": "stream",
     "text": [
      "Error with Active-RC parameters {'Bw': np.float64(7212410088.293041), 'osr': 16, 'nlev': 3, 'Hinf': np.float64(1.649096907597837), 'Cint': np.float64(1.097672103940389e-12), 'gm': np.float64(0.0005047171352458141), 'Ro': np.float64(1549413.1819416243), 'Co': np.float64(7.526738673060639e-13)}: Failed to find a finite solution.\n",
      "Error with Active-RC parameters {'Bw': np.float64(4852478852.89166), 'osr': 64, 'nlev': 3, 'Hinf': np.float64(1.7170623536717933), 'Cint': np.float64(1.2036527479873801e-12), 'gm': np.float64(0.0007693775614409583), 'Ro': np.float64(2003891.2108459836), 'Co': np.float64(7.670448692733966e-13)}: The associated Hamiltonian pencil has eigenvalues too close to the imaginary axis\n"
     ]
    },
    {
     "name": "stderr",
     "output_type": "stream",
     "text": [
      "INFO:root:Simulating continuous-time analog frontend for sinusoidal input\n",
      "INFO:root:Simulating continuous-time analog frontend for sinusoidal input\n"
     ]
    },
    {
     "name": "stdout",
     "output_type": "stream",
     "text": [
      "Error with Active-RC parameters {'Bw': np.float64(9898711220.443834), 'osr': 128, 'nlev': 4, 'Hinf': np.float64(1.992745734698063), 'Cint': np.float64(1.3242537658443672e-12), 'gm': np.float64(0.0006015415952720653), 'Ro': np.float64(243527.5720507327), 'Co': np.float64(5.693569686138157e-13)}: The associated Hamiltonian pencil has eigenvalues too close to the imaginary axis\n",
      "Error with Active-RC parameters {'Bw': np.float64(1320784114.4725769), 'osr': 16, 'nlev': 4, 'Hinf': np.float64(1.9729579723723707), 'Cint': np.float64(1.078190674863959e-12), 'gm': np.float64(0.00012037107066701968), 'Ro': np.float64(8464518.981573071), 'Co': np.float64(9.459497671939096e-13)}: The associated Hamiltonian pencil has eigenvalues too close to the imaginary axis\n"
     ]
    },
    {
     "name": "stderr",
     "output_type": "stream",
     "text": [
      "INFO:root:Simulating continuous-time analog frontend for sinusoidal input\n",
      "INFO:root:Simulating continuous-time analog frontend for sinusoidal input\n"
     ]
    },
    {
     "name": "stdout",
     "output_type": "stream",
     "text": [
      "Error with Active-RC parameters {'Bw': np.float64(4106569929.918665), 'osr': 64, 'nlev': 3, 'Hinf': np.float64(1.521494434035552), 'Cint': np.float64(9.730552386429897e-13), 'gm': np.float64(0.0006357593762548239), 'Ro': np.float64(1859431.5989417147), 'Co': np.float64(9.122612188869253e-13)}: The associated Hamiltonian pencil has eigenvalues too close to the imaginary axis\n",
      "Error with Active-RC parameters {'Bw': np.float64(4247185211.9362297), 'osr': 32, 'nlev': 3, 'Hinf': np.float64(1.830594469519439), 'Cint': np.float64(4.876554896632512e-13), 'gm': np.float64(0.00021113334591029405), 'Ro': np.float64(5586323.563406801), 'Co': np.float64(4.623756113480145e-13)}: The associated Hamiltonian pencil has eigenvalues too close to the imaginary axis\n"
     ]
    },
    {
     "name": "stderr",
     "output_type": "stream",
     "text": [
      "INFO:root:Simulating continuous-time analog frontend for sinusoidal input\n",
      "INFO:root:Simulating continuous-time analog frontend for sinusoidal input\n"
     ]
    },
    {
     "name": "stdout",
     "output_type": "stream",
     "text": [
      "Error with Active-RC parameters {'Bw': np.float64(5477936268.690289), 'osr': 64, 'nlev': 3, 'Hinf': np.float64(1.2000585450288392), 'Cint': np.float64(3.64665613688679e-12), 'gm': np.float64(0.0009553364442871971), 'Ro': np.float64(3398437.779728926), 'Co': np.float64(6.299935228056284e-13)}: The associated Hamiltonian pencil has eigenvalues too close to the imaginary axis\n",
      "Error with Active-RC parameters {'Bw': np.float64(2931061919.8529215), 'osr': 256, 'nlev': 5, 'Hinf': np.float64(1.097958690704344), 'Cint': np.float64(4.7269042455428625e-12), 'gm': np.float64(0.0008226337401050719), 'Ro': np.float64(4775890.119209182), 'Co': np.float64(5.047074963231172e-13)}: The associated Hamiltonian pencil has eigenvalues too close to the imaginary axis\n"
     ]
    },
    {
     "name": "stderr",
     "output_type": "stream",
     "text": [
      "INFO:root:Simulating continuous-time analog frontend for sinusoidal input\n",
      "INFO:root:Simulating continuous-time analog frontend for sinusoidal input\n"
     ]
    },
    {
     "name": "stdout",
     "output_type": "stream",
     "text": [
      "Error with Active-RC parameters {'Bw': np.float64(3864450783.440949), 'osr': 8, 'nlev': 4, 'Hinf': np.float64(1.3531611337218412), 'Cint': np.float64(1.7219515272790426e-12), 'gm': np.float64(0.0005943238088371751), 'Ro': np.float64(6536005.525162693), 'Co': np.float64(3.98349302336274e-13)}: The associated Hamiltonian pencil has eigenvalues too close to the imaginary axis\n",
      "Error with Active-RC parameters {'Bw': np.float64(2053029158.0535104), 'osr': 32, 'nlev': 5, 'Hinf': np.float64(1.2687880521422856), 'Cint': np.float64(1.787497118701629e-13), 'gm': np.float64(0.0009024268937464955), 'Ro': np.float64(8920545.804014876), 'Co': np.float64(3.91888593815069e-13)}: Reordering of (A, B) failed because the transformed matrix pair (A, B) would be too far from generalized Schur form; the problem is very ill-conditioned. (A, B) may have been partially reordered.\n"
     ]
    },
    {
     "name": "stderr",
     "output_type": "stream",
     "text": [
      "INFO:root:Simulating continuous-time analog frontend for sinusoidal input\n"
     ]
    },
    {
     "name": "stdout",
     "output_type": "stream",
     "text": [
      "Achieved SNR: 81.00968595336128 db\n"
     ]
    },
    {
     "name": "stderr",
     "output_type": "stream",
     "text": [
      "INFO:root:Simulating continuous-time analog frontend for sinusoidal input\n",
      "INFO:root:Simulating continuous-time analog frontend for sinusoidal input\n"
     ]
    },
    {
     "name": "stdout",
     "output_type": "stream",
     "text": [
      "Error with Active-RC parameters {'Bw': np.float64(5295511950.926949), 'osr': 16, 'nlev': 2, 'Hinf': np.float64(1.6019835424374), 'Cint': np.float64(5.446924356928045e-13), 'gm': np.float64(0.0007204381669938094), 'Ro': np.float64(6347555.287917157), 'Co': np.float64(3.635219901435325e-13)}: The associated Hamiltonian pencil has eigenvalues too close to the imaginary axis\n",
      "Error with Active-RC parameters {'Bw': np.float64(7037830747.155373), 'osr': 128, 'nlev': 2, 'Hinf': np.float64(1.3144151436436124), 'Cint': np.float64(2.006062957467421e-12), 'gm': np.float64(1.8169160380809417e-05), 'Ro': np.float64(5856010.693607373), 'Co': np.float64(1.4654579675837275e-13)}: The associated Hamiltonian pencil has eigenvalues too close to the imaginary axis\n"
     ]
    },
    {
     "name": "stderr",
     "output_type": "stream",
     "text": [
      "INFO:root:Simulating continuous-time analog frontend for sinusoidal input\n",
      "INFO:root:Simulating continuous-time analog frontend for sinusoidal input\n"
     ]
    },
    {
     "name": "stdout",
     "output_type": "stream",
     "text": [
      "Error with Active-RC parameters {'Bw': np.float64(2222613699.126359), 'osr': 16, 'nlev': 2, 'Hinf': np.float64(1.061180447492474), 'Cint': np.float64(4.5686845971046636e-12), 'gm': np.float64(0.0008538425603826583), 'Ro': np.float64(9957663.125750046), 'Co': np.float64(4.2711722468312623e-13)}: The associated Hamiltonian pencil has eigenvalues too close to the imaginary axis\n",
      "Error with Active-RC parameters {'Bw': np.float64(8580664919.411044), 'osr': 32, 'nlev': 2, 'Hinf': np.float64(1.8178256262917807), 'Cint': np.float64(1.821941795063773e-12), 'gm': np.float64(0.0007823610001038565), 'Ro': np.float64(4296027.719195043), 'Co': np.float64(9.961504810549415e-13)}: The associated Hamiltonian pencil has eigenvalues too close to the imaginary axis\n"
     ]
    },
    {
     "name": "stderr",
     "output_type": "stream",
     "text": [
      "INFO:root:Simulating continuous-time analog frontend for sinusoidal input\n",
      "INFO:root:Simulating continuous-time analog frontend for sinusoidal input\n"
     ]
    },
    {
     "name": "stdout",
     "output_type": "stream",
     "text": [
      "Error with Active-RC parameters {'Bw': np.float64(2630049104.200765), 'osr': 16, 'nlev': 4, 'Hinf': np.float64(1.3610526709633681), 'Cint': np.float64(3.4920722597439333e-12), 'gm': np.float64(0.00016925051366424183), 'Ro': np.float64(9243404.046624467), 'Co': np.float64(7.233817695141944e-13)}: Failed to find a finite solution.\n",
      "Error with Active-RC parameters {'Bw': np.float64(1544649238.175943), 'osr': 64, 'nlev': 4, 'Hinf': np.float64(1.5737912725259087), 'Cint': np.float64(2.2442044161292378e-12), 'gm': np.float64(6.303540113734888e-05), 'Ro': np.float64(4035104.7498885663), 'Co': np.float64(4.3357231267140775e-13)}: The associated Hamiltonian pencil has eigenvalues too close to the imaginary axis\n"
     ]
    },
    {
     "name": "stderr",
     "output_type": "stream",
     "text": [
      "INFO:root:Simulating continuous-time analog frontend for sinusoidal input\n"
     ]
    },
    {
     "name": "stdout",
     "output_type": "stream",
     "text": [
      "Error with Active-RC parameters {'Bw': np.float64(6552576605.764527), 'osr': 128, 'nlev': 2, 'Hinf': np.float64(1.8970635931818443), 'Cint': np.float64(4.098620373378548e-12), 'gm': np.float64(0.0006756988546273399), 'Ro': np.float64(9100770.418159531), 'Co': np.float64(7.132330054378894e-13)}: The associated Hamiltonian pencil has eigenvalues too close to the imaginary axis\n"
     ]
    },
    {
     "name": "stderr",
     "output_type": "stream",
     "text": [
      "INFO:root:Simulating continuous-time analog frontend for sinusoidal input\n",
      "INFO:root:Simulating continuous-time analog frontend for sinusoidal input\n"
     ]
    },
    {
     "name": "stdout",
     "output_type": "stream",
     "text": [
      "Achieved SNR: 26.819774934015214 db\n",
      "Error with Active-RC parameters {'Bw': np.float64(6881750398.424136), 'osr': 128, 'nlev': 5, 'Hinf': np.float64(1.004687932780058), 'Cint': np.float64(1.5017474761914653e-12), 'gm': np.float64(0.00046574644069396896), 'Ro': np.float64(5319412.86741975), 'Co': np.float64(8.341082231280583e-14)}: The associated Hamiltonian pencil has eigenvalues too close to the imaginary axis\n"
     ]
    },
    {
     "name": "stderr",
     "output_type": "stream",
     "text": [
      "INFO:root:Simulating continuous-time analog frontend for sinusoidal input\n",
      "INFO:root:Simulating continuous-time analog frontend for sinusoidal input\n"
     ]
    },
    {
     "name": "stdout",
     "output_type": "stream",
     "text": [
      "Achieved SNR: 6.101938975379192 db\n",
      "Error with Active-RC parameters {'Bw': np.float64(3787324556.970142), 'osr': 8, 'nlev': 3, 'Hinf': np.float64(1.5375247040677258), 'Cint': np.float64(3.701754846568001e-12), 'gm': np.float64(0.00037703376925204795), 'Ro': np.float64(7663239.557938535), 'Co': np.float64(5.540496864767436e-13)}: The associated Hamiltonian pencil has eigenvalues too close to the imaginary axis\n"
     ]
    },
    {
     "name": "stderr",
     "output_type": "stream",
     "text": [
      "INFO:root:Simulating continuous-time analog frontend for sinusoidal input\n",
      "INFO:root:Simulating continuous-time analog frontend for sinusoidal input\n"
     ]
    },
    {
     "name": "stdout",
     "output_type": "stream",
     "text": [
      "Error with Active-RC parameters {'Bw': np.float64(4628156840.735756), 'osr': 64, 'nlev': 5, 'Hinf': np.float64(1.4359962588304387), 'Cint': np.float64(3.842038211471401e-12), 'gm': np.float64(0.000998501344167766), 'Ro': np.float64(4920179.630075056), 'Co': np.float64(2.3638374852839085e-13)}: Reordering of (A, B) failed because the transformed matrix pair (A, B) would be too far from generalized Schur form; the problem is very ill-conditioned. (A, B) may have been partially reordered.\n",
      "Error with Active-RC parameters {'Bw': np.float64(7984142957.078054), 'osr': 32, 'nlev': 4, 'Hinf': np.float64(1.8543866074589828), 'Cint': np.float64(5.596740444131161e-13), 'gm': np.float64(0.0001360937625527403), 'Ro': np.float64(3795663.7028262466), 'Co': np.float64(6.407694025427009e-13)}: Failed to find a finite solution.\n"
     ]
    },
    {
     "name": "stderr",
     "output_type": "stream",
     "text": [
      "INFO:root:Simulating continuous-time analog frontend for sinusoidal input\n"
     ]
    },
    {
     "name": "stdout",
     "output_type": "stream",
     "text": [
      "Error with Active-RC parameters {'Bw': np.float64(6461427802.02112), 'osr': 64, 'nlev': 2, 'Hinf': np.float64(1.1959849652582644), 'Cint': np.float64(3.4039254197026415e-13), 'gm': np.float64(0.00010451735257632111), 'Ro': np.float64(7622662.389776854), 'Co': np.float64(3.9901075183317674e-13)}: Failed to find a finite solution.\n",
      "Achieved SNR: 75.3739892209571 db\n"
     ]
    },
    {
     "name": "stderr",
     "output_type": "stream",
     "text": [
      "INFO:root:Simulating continuous-time analog frontend for sinusoidal input\n",
      "INFO:root:Simulating continuous-time analog frontend for sinusoidal input\n"
     ]
    },
    {
     "name": "stdout",
     "output_type": "stream",
     "text": [
      "Achieved SNR: 70.7025037264508 db\n"
     ]
    },
    {
     "name": "stderr",
     "output_type": "stream",
     "text": [
      "INFO:root:Simulating continuous-time analog frontend for sinusoidal input\n",
      "INFO:root:Simulating continuous-time analog frontend for sinusoidal input\n"
     ]
    },
    {
     "name": "stdout",
     "output_type": "stream",
     "text": [
      "Achieved SNR: 61.04417732253931 db\n",
      "Error with Active-RC parameters {'Bw': np.float64(5133607432.992894), 'osr': 256, 'nlev': 4, 'Hinf': np.float64(1.1344264149262688), 'Cint': np.float64(3.994845865157648e-13), 'gm': np.float64(0.0002405989934374893), 'Ro': np.float64(4398154.107872928), 'Co': np.float64(6.144575309426548e-13)}: Failed to find a finite solution.\n"
     ]
    },
    {
     "name": "stderr",
     "output_type": "stream",
     "text": [
      "INFO:root:Simulating continuous-time analog frontend for sinusoidal input\n"
     ]
    },
    {
     "name": "stdout",
     "output_type": "stream",
     "text": [
      "Error with Active-RC parameters {'Bw': np.float64(6348137360.319608), 'osr': 16, 'nlev': 5, 'Hinf': np.float64(1.691570137510145), 'Cint': np.float64(4.257922423432511e-12), 'gm': np.float64(0.0008258096470075258), 'Ro': np.float64(2520789.5907855197), 'Co': np.float64(8.594140495593059e-13)}: The associated Hamiltonian pencil has eigenvalues too close to the imaginary axis\n",
      "Achieved SNR: 37.03395628439939 db\n"
     ]
    },
    {
     "name": "stderr",
     "output_type": "stream",
     "text": [
      "INFO:root:Simulating continuous-time analog frontend for sinusoidal input\n",
      "INFO:root:Simulating continuous-time analog frontend for sinusoidal input\n",
      "INFO:root:Simulating continuous-time analog frontend for sinusoidal input\n"
     ]
    },
    {
     "name": "stdout",
     "output_type": "stream",
     "text": [
      "Error with Active-RC parameters {'Bw': np.float64(1524973746.8943853), 'osr': 64, 'nlev': 2, 'Hinf': np.float64(1.3368982863947767), 'Cint': np.float64(1.7950175613180928e-12), 'gm': np.float64(0.0006774383638377435), 'Ro': np.float64(2063762.736277465), 'Co': np.float64(5.051916252242413e-13)}: Reordering of (A, B) failed because the transformed matrix pair (A, B) would be too far from generalized Schur form; the problem is very ill-conditioned. (A, B) may have been partially reordered.\n",
      "Error with Active-RC parameters {'Bw': np.float64(2848817668.641321), 'osr': 256, 'nlev': 3, 'Hinf': np.float64(1.9449008459126143), 'Cint': np.float64(1.4166142793837877e-13), 'gm': np.float64(2.9651741905667703e-05), 'Ro': np.float64(287185.4093113693), 'Co': np.float64(5.747274971259604e-13)}: Failed to find a finite solution.\n"
     ]
    },
    {
     "name": "stderr",
     "output_type": "stream",
     "text": [
      "INFO:root:Simulating continuous-time analog frontend for sinusoidal input\n",
      "INFO:root:Simulating continuous-time analog frontend for sinusoidal input\n"
     ]
    },
    {
     "name": "stdout",
     "output_type": "stream",
     "text": [
      "Error with Active-RC parameters {'Bw': np.float64(8413538839.983752), 'osr': 128, 'nlev': 2, 'Hinf': np.float64(1.6248086572060543), 'Cint': np.float64(4.338911258516595e-12), 'gm': np.float64(0.0002451394391738238), 'Ro': np.float64(2925449.5905464315), 'Co': np.float64(6.602759498661062e-13)}: Failed to find a finite solution.\n",
      "Error with Active-RC parameters {'Bw': np.float64(2434719090.1740885), 'osr': 16, 'nlev': 4, 'Hinf': np.float64(1.2388350725838815), 'Cint': np.float64(6.755167790492687e-13), 'gm': np.float64(0.0005407399267317006), 'Ro': np.float64(2225662.246098081), 'Co': np.float64(8.201630921037804e-13)}: The associated Hamiltonian pencil has eigenvalues too close to the imaginary axis\n"
     ]
    },
    {
     "name": "stderr",
     "output_type": "stream",
     "text": [
      "INFO:root:Simulating continuous-time analog frontend for sinusoidal input\n",
      "INFO:root:Simulating continuous-time analog frontend for sinusoidal input\n"
     ]
    },
    {
     "name": "stdout",
     "output_type": "stream",
     "text": [
      "Error with Active-RC parameters {'Bw': np.float64(6058718175.472242), 'osr': 128, 'nlev': 2, 'Hinf': np.float64(1.4861500137017942), 'Cint': np.float64(3.8090964434677785e-12), 'gm': np.float64(8.379950470250722e-05), 'Ro': np.float64(2416110.9176551555), 'Co': np.float64(7.023189020281686e-13)}: Failed to find a finite solution.\n",
      "Error with Active-RC parameters {'Bw': np.float64(7706458182.500767), 'osr': 32, 'nlev': 3, 'Hinf': np.float64(1.6738380524749914), 'Cint': np.float64(1.6012122965778647e-12), 'gm': np.float64(0.0004951285109525026), 'Ro': np.float64(727754.4159811849), 'Co': np.float64(2.676295401713636e-13)}: The associated Hamiltonian pencil has eigenvalues too close to the imaginary axis\n"
     ]
    },
    {
     "name": "stderr",
     "output_type": "stream",
     "text": [
      "INFO:root:Simulating continuous-time analog frontend for sinusoidal input\n"
     ]
    },
    {
     "name": "stdout",
     "output_type": "stream",
     "text": [
      "Error with Active-RC parameters {'Bw': np.float64(7234125663.950024), 'osr': 16, 'nlev': 5, 'Hinf': np.float64(1.118468304374511), 'Cint': np.float64(2.062363701136244e-12), 'gm': np.float64(0.0006253055251724852), 'Ro': np.float64(1788728.7504018452), 'Co': np.float64(3.811891151844835e-13)}: The associated Hamiltonian pencil has eigenvalues too close to the imaginary axis\n"
     ]
    },
    {
     "name": "stderr",
     "output_type": "stream",
     "text": [
      "INFO:root:Simulating continuous-time analog frontend for sinusoidal input\n",
      "INFO:root:Simulating continuous-time analog frontend for sinusoidal input\n"
     ]
    },
    {
     "name": "stdout",
     "output_type": "stream",
     "text": [
      "Achieved SNR: 81.46248807892664 db\n",
      "Error with Active-RC parameters {'Bw': np.float64(9133891283.039137), 'osr': 64, 'nlev': 3, 'Hinf': np.float64(1.973574528995461), 'Cint': np.float64(2.9208894840678877e-12), 'gm': np.float64(0.00016713113572328645), 'Ro': np.float64(9486947.787334511), 'Co': np.float64(5.856093019937662e-13)}: Failed to find a finite solution.\n"
     ]
    },
    {
     "name": "stderr",
     "output_type": "stream",
     "text": [
      "INFO:root:Simulating continuous-time analog frontend for sinusoidal input\n"
     ]
    },
    {
     "name": "stdout",
     "output_type": "stream",
     "text": [
      "Error with Active-RC parameters {'Bw': np.float64(9763201520.90751), 'osr': 32, 'nlev': 3, 'Hinf': np.float64(1.6572760135501583), 'Cint': np.float64(2.6610714405962696e-12), 'gm': np.float64(0.0006993739990053135), 'Ro': np.float64(9223602.931767637), 'Co': np.float64(4.1291690477806184e-13)}: The associated Hamiltonian pencil has eigenvalues too close to the imaginary axis\n",
      "Achieved SNR: 16.520072982040205 db\n"
     ]
    },
    {
     "name": "stderr",
     "output_type": "stream",
     "text": [
      "INFO:root:Simulating continuous-time analog frontend for sinusoidal input\n",
      "INFO:root:Simulating continuous-time analog frontend for sinusoidal input\n",
      "INFO:root:Simulating continuous-time analog frontend for sinusoidal input\n"
     ]
    },
    {
     "name": "stdout",
     "output_type": "stream",
     "text": [
      "Error with Active-RC parameters {'Bw': np.float64(430114562.02370703), 'osr': 32, 'nlev': 5, 'Hinf': np.float64(1.0315067338407926), 'Cint': np.float64(1.9686734467219106e-12), 'gm': np.float64(0.0003847998258289891), 'Ro': np.float64(6470740.143920752), 'Co': np.float64(8.47886562865524e-13)}: The associated Hamiltonian pencil has eigenvalues too close to the imaginary axis\n",
      "Error with Active-RC parameters {'Bw': np.float64(963118275.3082511), 'osr': 16, 'nlev': 4, 'Hinf': np.float64(1.7852166725330656), 'Cint': np.float64(2.565752247397647e-12), 'gm': np.float64(0.0008467674689788013), 'Ro': np.float64(5195314.605791756), 'Co': np.float64(1.3419977490219089e-13)}: Reordering of (A, B) failed because the transformed matrix pair (A, B) would be too far from generalized Schur form; the problem is very ill-conditioned. (A, B) may have been partially reordered.\n"
     ]
    },
    {
     "name": "stderr",
     "output_type": "stream",
     "text": [
      "INFO:root:Simulating continuous-time analog frontend for sinusoidal input\n"
     ]
    },
    {
     "name": "stdout",
     "output_type": "stream",
     "text": [
      "Error with Active-RC parameters {'Bw': np.float64(3933928260.2236266), 'osr': 32, 'nlev': 2, 'Hinf': np.float64(1.0541425699405291), 'Cint': np.float64(1.5536786317510607e-12), 'gm': np.float64(0.0005890181684421987), 'Ro': np.float64(1371219.6657575485), 'Co': np.float64(7.556024343712076e-13)}: The associated Hamiltonian pencil has eigenvalues too close to the imaginary axis\n"
     ]
    },
    {
     "name": "stderr",
     "output_type": "stream",
     "text": [
      "INFO:root:Simulating continuous-time analog frontend for sinusoidal input\n"
     ]
    },
    {
     "name": "stdout",
     "output_type": "stream",
     "text": [
      "Achieved SNR: 59.18970685389606 db\n"
     ]
    },
    {
     "name": "stderr",
     "output_type": "stream",
     "text": [
      "INFO:root:Simulating continuous-time analog frontend for sinusoidal input\n",
      "INFO:root:Simulating continuous-time analog frontend for sinusoidal input\n"
     ]
    },
    {
     "name": "stdout",
     "output_type": "stream",
     "text": [
      "Achieved SNR: 63.969391899664465 db\n",
      "Error with Active-RC parameters {'Bw': np.float64(7531959285.315656), 'osr': 128, 'nlev': 5, 'Hinf': np.float64(1.1683640934271844), 'Cint': np.float64(4.4413177847358046e-12), 'gm': np.float64(0.0002140477387590782), 'Ro': np.float64(9797102.053568274), 'Co': np.float64(7.231781896168339e-13)}: Failed to find a finite solution.\n"
     ]
    },
    {
     "name": "stderr",
     "output_type": "stream",
     "text": [
      "INFO:root:Simulating continuous-time analog frontend for sinusoidal input\n",
      "INFO:root:Simulating continuous-time analog frontend for sinusoidal input\n"
     ]
    },
    {
     "name": "stdout",
     "output_type": "stream",
     "text": [
      "Achieved SNR: 58.58353040335335 db\n",
      "Error with Active-RC parameters {'Bw': np.float64(2391167000.4729824), 'osr': 64, 'nlev': 2, 'Hinf': np.float64(1.4109779696743727), 'Cint': np.float64(2.414073619300621e-12), 'gm': np.float64(0.0004569658909100351), 'Ro': np.float64(6674020.611671221), 'Co': np.float64(9.548704726540106e-13)}: The associated Hamiltonian pencil has eigenvalues too close to the imaginary axis\n"
     ]
    },
    {
     "name": "stderr",
     "output_type": "stream",
     "text": [
      "INFO:root:Simulating continuous-time analog frontend for sinusoidal input\n",
      "INFO:root:Simulating continuous-time analog frontend for sinusoidal input\n"
     ]
    },
    {
     "name": "stdout",
     "output_type": "stream",
     "text": [
      "Achieved SNR: 26.17382653862329 db\n",
      "Error with Active-RC parameters {'Bw': np.float64(7056531557.492115), 'osr': 16, 'nlev': 5, 'Hinf': np.float64(1.560937862422885), 'Cint': np.float64(1.8991094465776182e-12), 'gm': np.float64(0.00026609242897833083), 'Ro': np.float64(8258581.60800426), 'Co': np.float64(2.0138269984599723e-13)}: The associated Hamiltonian pencil has eigenvalues too close to the imaginary axis\n"
     ]
    },
    {
     "name": "stderr",
     "output_type": "stream",
     "text": [
      "INFO:root:Simulating continuous-time analog frontend for sinusoidal input\n",
      "INFO:root:Simulating continuous-time analog frontend for sinusoidal input\n"
     ]
    },
    {
     "name": "stdout",
     "output_type": "stream",
     "text": [
      "Error with Active-RC parameters {'Bw': np.float64(8376687631.15165), 'osr': 32, 'nlev': 3, 'Hinf': np.float64(1.554234632394262), 'Cint': np.float64(1.001020890017183e-12), 'gm': np.float64(0.0009785550564898593), 'Ro': np.float64(1075720.3139537596), 'Co': np.float64(6.897041121257952e-13)}: The associated Hamiltonian pencil has eigenvalues too close to the imaginary axis\n",
      "Error with Active-RC parameters {'Bw': np.float64(3540147350.7162056), 'osr': 8, 'nlev': 3, 'Hinf': np.float64(1.2880446004483237), 'Cint': np.float64(3.923364375183302e-12), 'gm': np.float64(0.00035304116103746685), 'Ro': np.float64(6404748.378580116), 'Co': np.float64(9.728663811305865e-13)}: Failed to find a finite solution.\n"
     ]
    },
    {
     "name": "stderr",
     "output_type": "stream",
     "text": [
      "INFO:root:Simulating continuous-time analog frontend for sinusoidal input\n",
      "INFO:root:Simulating continuous-time analog frontend for sinusoidal input\n"
     ]
    },
    {
     "name": "stdout",
     "output_type": "stream",
     "text": [
      "Achieved SNR: 0.7062188924400183 db\n",
      "Error with Active-RC parameters {'Bw': np.float64(753833078.7170842), 'osr': 8, 'nlev': 4, 'Hinf': np.float64(1.243359171234194), 'Cint': np.float64(1.4655786858237701e-12), 'gm': np.float64(1.6397774190608857e-05), 'Ro': np.float64(4851169.026310533), 'Co': np.float64(3.306688528856337e-13)}: The associated Hamiltonian pencil has eigenvalues too close to the imaginary axis\n"
     ]
    },
    {
     "name": "stderr",
     "output_type": "stream",
     "text": [
      "INFO:root:Simulating continuous-time analog frontend for sinusoidal input\n",
      "INFO:root:Simulating continuous-time analog frontend for sinusoidal input\n"
     ]
    },
    {
     "name": "stdout",
     "output_type": "stream",
     "text": [
      "Error with Active-RC parameters {'Bw': np.float64(6911049528.659835), 'osr': 64, 'nlev': 3, 'Hinf': np.float64(1.5885338968452634), 'Cint': np.float64(3.0123676930025055e-12), 'gm': np.float64(0.000505975083155465), 'Ro': np.float64(4548098.460200212), 'Co': np.float64(3.621231847719591e-13)}: The associated Hamiltonian pencil has eigenvalues too close to the imaginary axis\n",
      "Error with Active-RC parameters {'Bw': np.float64(5618684832.4115), 'osr': 16, 'nlev': 3, 'Hinf': np.float64(1.2704799291162243), 'Cint': np.float64(3.0575060699068217e-12), 'gm': np.float64(0.000299860742587642), 'Ro': np.float64(608562.0956007919), 'Co': np.float64(7.346385793124068e-13)}: The associated Hamiltonian pencil has eigenvalues too close to the imaginary axis\n"
     ]
    },
    {
     "name": "stderr",
     "output_type": "stream",
     "text": [
      "INFO:root:Simulating continuous-time analog frontend for sinusoidal input\n",
      "INFO:root:Simulating continuous-time analog frontend for sinusoidal input\n"
     ]
    },
    {
     "name": "stdout",
     "output_type": "stream",
     "text": [
      "Error with Active-RC parameters {'Bw': np.float64(8180875025.032066), 'osr': 64, 'nlev': 3, 'Hinf': np.float64(1.7037422960583952), 'Cint': np.float64(4.706186080634551e-12), 'gm': np.float64(0.0004102836509279219), 'Ro': np.float64(6977467.389230839), 'Co': np.float64(8.888619076381647e-13)}: Failed to find a finite solution.\n",
      "Error with Active-RC parameters {'Bw': np.float64(9295959175.820597), 'osr': 8, 'nlev': 4, 'Hinf': np.float64(1.1510853222904975), 'Cint': np.float64(2.528214115519522e-12), 'gm': np.float64(0.0005727854430502162), 'Ro': np.float64(9060990.110739322), 'Co': np.float64(9.194051769359856e-13)}: Failed to find a finite solution.\n"
     ]
    },
    {
     "name": "stderr",
     "output_type": "stream",
     "text": [
      "INFO:root:Simulating continuous-time analog frontend for sinusoidal input\n",
      "INFO:root:Simulating continuous-time analog frontend for sinusoidal input\n"
     ]
    },
    {
     "name": "stdout",
     "output_type": "stream",
     "text": [
      "Error with Active-RC parameters {'Bw': np.float64(5550384001.588744), 'osr': 8, 'nlev': 2, 'Hinf': np.float64(1.3924913456636319), 'Cint': np.float64(7.558955581017618e-13), 'gm': np.float64(0.00018885144938151876), 'Ro': np.float64(1286077.7729817799), 'Co': np.float64(5.0529576103232863e-14)}: The associated Hamiltonian pencil has eigenvalues too close to the imaginary axis\n",
      "Error with Active-RC parameters {'Bw': np.float64(4939650420.8184595), 'osr': 256, 'nlev': 5, 'Hinf': np.float64(1.9063313286915422), 'Cint': np.float64(1.2618289544323402e-12), 'gm': np.float64(0.0007255685879156383), 'Ro': np.float64(5732797.864030068), 'Co': np.float64(6.263399722623733e-13)}: The associated Hamiltonian pencil has eigenvalues too close to the imaginary axis\n"
     ]
    },
    {
     "name": "stderr",
     "output_type": "stream",
     "text": [
      "INFO:root:Simulating continuous-time analog frontend for sinusoidal input\n",
      "INFO:root:Simulating continuous-time analog frontend for sinusoidal input\n"
     ]
    },
    {
     "name": "stdout",
     "output_type": "stream",
     "text": [
      "Error with Active-RC parameters {'Bw': np.float64(4219186265.0900073), 'osr': 32, 'nlev': 3, 'Hinf': np.float64(1.893174009010786), 'Cint': np.float64(3.213753981153264e-12), 'gm': np.float64(0.0004275893044303382), 'Ro': np.float64(7875674.966334422), 'Co': np.float64(7.732898350208191e-13)}: The associated Hamiltonian pencil has eigenvalues too close to the imaginary axis\n",
      "Error with Active-RC parameters {'Bw': np.float64(5907122842.684797), 'osr': 8, 'nlev': 2, 'Hinf': np.float64(1.9230534415109204), 'Cint': np.float64(3.2847720054883986e-12), 'gm': np.float64(0.0008872896897284104), 'Ro': np.float64(5872005.553282006), 'Co': np.float64(4.76152033883816e-13)}: The associated Hamiltonian pencil has eigenvalues too close to the imaginary axis\n"
     ]
    },
    {
     "name": "stderr",
     "output_type": "stream",
     "text": [
      "INFO:root:Simulating continuous-time analog frontend for sinusoidal input\n",
      "INFO:root:Simulating continuous-time analog frontend for sinusoidal input\n"
     ]
    },
    {
     "name": "stdout",
     "output_type": "stream",
     "text": [
      "Error with Active-RC parameters {'Bw': np.float64(5399250861.688408), 'osr': 64, 'nlev': 3, 'Hinf': np.float64(1.5077511734837383), 'Cint': np.float64(4.04258755111881e-12), 'gm': np.float64(4.1227733323855745e-05), 'Ro': np.float64(5567952.063108145), 'Co': np.float64(1.453052567342777e-13)}: Failed to find a finite solution.\n",
      "Error with Active-RC parameters {'Bw': np.float64(8714028080.085493), 'osr': 32, 'nlev': 3, 'Hinf': np.float64(1.084938490873292), 'Cint': np.float64(2.1928834755156355e-12), 'gm': np.float64(0.00033357131209995917), 'Ro': np.float64(2772285.029150453), 'Co': np.float64(5.400471679320739e-13)}: Failed to find a finite solution.\n"
     ]
    },
    {
     "name": "stderr",
     "output_type": "stream",
     "text": [
      "INFO:root:Simulating continuous-time analog frontend for sinusoidal input\n"
     ]
    },
    {
     "name": "stdout",
     "output_type": "stream",
     "text": [
      "Error with Active-RC parameters {'Bw': np.float64(2789493729.6176906), 'osr': 256, 'nlev': 3, 'Hinf': np.float64(1.3406004488818941), 'Cint': np.float64(4.640177807964408e-12), 'gm': np.float64(0.00015833922204743945), 'Ro': np.float64(4243095.579014277), 'Co': np.float64(9.368029393112857e-13)}: The associated Hamiltonian pencil has eigenvalues too close to the imaginary axis\n"
     ]
    },
    {
     "name": "stderr",
     "output_type": "stream",
     "text": [
      "INFO:root:Simulating continuous-time analog frontend for sinusoidal input\n"
     ]
    },
    {
     "name": "stdout",
     "output_type": "stream",
     "text": [
      "Error with Active-RC parameters {'Bw': np.float64(2136217651.6183114), 'osr': 32, 'nlev': 2, 'Hinf': np.float64(1.7473686441666199), 'Cint': np.float64(2.265252952145162e-12), 'gm': np.float64(6.879823472818306e-05), 'Ro': np.float64(3111549.2644971404), 'Co': np.float64(7.974781797154404e-13)}: Failed to find a finite solution.\n",
      "Achieved SNR: 81.72925654250432 db\n"
     ]
    },
    {
     "name": "stderr",
     "output_type": "stream",
     "text": [
      "INFO:root:Simulating continuous-time analog frontend for sinusoidal input\n",
      "INFO:root:Simulating continuous-time analog frontend for sinusoidal input\n",
      "INFO:root:Simulating continuous-time analog frontend for sinusoidal input\n"
     ]
    },
    {
     "name": "stdout",
     "output_type": "stream",
     "text": [
      "Error with Active-RC parameters {'Bw': np.float64(9819650757.685999), 'osr': 256, 'nlev': 5, 'Hinf': np.float64(1.0152544062974023), 'Cint': np.float64(3.4205221627436864e-12), 'gm': np.float64(0.0005223915752356315), 'Ro': np.float64(8600666.644490086), 'Co': np.float64(2.8363854289375407e-13)}: The associated Hamiltonian pencil has eigenvalues too close to the imaginary axis\n",
      "Error with Active-RC parameters {'Bw': np.float64(8739147325.722586), 'osr': 256, 'nlev': 5, 'Hinf': np.float64(1.498467849477569), 'Cint': np.float64(2.2348365675022264e-12), 'gm': np.float64(0.0004601943916478891), 'Ro': np.float64(6046672.768603623), 'Co': np.float64(5.247577068098339e-13)}: The associated Hamiltonian pencil has eigenvalues too close to the imaginary axis\n"
     ]
    },
    {
     "name": "stderr",
     "output_type": "stream",
     "text": [
      "INFO:root:Simulating continuous-time analog frontend for sinusoidal input\n",
      "INFO:root:Simulating continuous-time analog frontend for sinusoidal input\n"
     ]
    },
    {
     "name": "stdout",
     "output_type": "stream",
     "text": [
      "Error with Active-RC parameters {'Bw': np.float64(6127990432.424974), 'osr': 64, 'nlev': 2, 'Hinf': np.float64(1.4668632673353894), 'Cint': np.float64(4.966660051428862e-12), 'gm': np.float64(0.000727072370563516), 'Ro': np.float64(3317643.860162866), 'Co': np.float64(9.965610153018846e-13)}: The associated Hamiltonian pencil has eigenvalues too close to the imaginary axis\n",
      "Error with Active-RC parameters {'Bw': np.float64(5507343606.980789), 'osr': 16, 'nlev': 3, 'Hinf': np.float64(1.5323904752783646), 'Cint': np.float64(4.3671172238181337e-13), 'gm': np.float64(0.0005552067421552775), 'Ro': np.float64(4892785.145679696), 'Co': np.float64(4.632231945697469e-13)}: The associated Hamiltonian pencil has eigenvalues too close to the imaginary axis\n"
     ]
    },
    {
     "name": "stderr",
     "output_type": "stream",
     "text": [
      "INFO:root:Simulating continuous-time analog frontend for sinusoidal input\n",
      "INFO:root:Simulating continuous-time analog frontend for sinusoidal input\n"
     ]
    },
    {
     "name": "stdout",
     "output_type": "stream",
     "text": [
      "Error with Active-RC parameters {'Bw': np.float64(4646674709.194028), 'osr': 32, 'nlev': 4, 'Hinf': np.float64(1.9298721851596934), 'Cint': np.float64(2.45104977271297e-13), 'gm': np.float64(0.0008439104384183105), 'Ro': np.float64(8542110.894444978), 'Co': np.float64(7.863261547982446e-13)}: The associated Hamiltonian pencil has eigenvalues too close to the imaginary axis\n",
      "Error with Active-RC parameters {'Bw': np.float64(7681404458.897632), 'osr': 64, 'nlev': 2, 'Hinf': np.float64(1.0612299782758283), 'Cint': np.float64(2.0011629512006567e-12), 'gm': np.float64(0.0006605447994550496), 'Ro': np.float64(2106326.9068115186), 'Co': np.float64(2.528974887338686e-13)}: The associated Hamiltonian pencil has eigenvalues too close to the imaginary axis\n"
     ]
    },
    {
     "name": "stderr",
     "output_type": "stream",
     "text": [
      "INFO:root:Simulating continuous-time analog frontend for sinusoidal input\n",
      "INFO:root:Simulating continuous-time analog frontend for sinusoidal input\n"
     ]
    },
    {
     "name": "stdout",
     "output_type": "stream",
     "text": [
      "Error with Active-RC parameters {'Bw': np.float64(3586513890.940084), 'osr': 8, 'nlev': 4, 'Hinf': np.float64(1.3959678288329493), 'Cint': np.float64(4.483063269919504e-12), 'gm': np.float64(0.0006187347170809139), 'Ro': np.float64(7952411.357522102), 'Co': np.float64(6.241228438353118e-13)}: The associated Hamiltonian pencil has eigenvalues too close to the imaginary axis\n",
      "Error with Active-RC parameters {'Bw': np.float64(4334118367.731137), 'osr': 16, 'nlev': 3, 'Hinf': np.float64(1.3088297808836062), 'Cint': np.float64(3.2301729168366723e-12), 'gm': np.float64(0.00011045393420569314), 'Ro': np.float64(2056606.1664576002), 'Co': np.float64(4.745066599199759e-13)}: Failed to find a finite solution.\n"
     ]
    },
    {
     "name": "stderr",
     "output_type": "stream",
     "text": [
      "INFO:root:Simulating continuous-time analog frontend for sinusoidal input\n"
     ]
    },
    {
     "name": "stdout",
     "output_type": "stream",
     "text": [
      "Error with Active-RC parameters {'Bw': np.float64(2446063884.2710834), 'osr': 32, 'nlev': 2, 'Hinf': np.float64(1.5984804943841406), 'Cint': np.float64(1.6992137475242686e-12), 'gm': np.float64(0.0005613893906341549), 'Ro': np.float64(5772552.780976502), 'Co': np.float64(5.875516248148645e-13)}: The associated Hamiltonian pencil has eigenvalues too close to the imaginary axis\n",
      "Achieved SNR: 1.0139333575830933 db\n"
     ]
    },
    {
     "name": "stderr",
     "output_type": "stream",
     "text": [
      "INFO:root:Simulating continuous-time analog frontend for sinusoidal input\n",
      "INFO:root:Simulating continuous-time analog frontend for sinusoidal input\n",
      "INFO:root:Simulating continuous-time analog frontend for sinusoidal input\n"
     ]
    },
    {
     "name": "stdout",
     "output_type": "stream",
     "text": [
      "Error with Active-RC parameters {'Bw': np.float64(2335525357.0649667), 'osr': 8, 'nlev': 3, 'Hinf': np.float64(1.2282329315834377), 'Cint': np.float64(9.508517810855144e-13), 'gm': np.float64(0.0005915139291377817), 'Ro': np.float64(9293857.571213815), 'Co': np.float64(4.435862305150464e-13)}: The associated Hamiltonian pencil has eigenvalues too close to the imaginary axis\n",
      "Error with Active-RC parameters {'Bw': np.float64(8099818023.102797), 'osr': 128, 'nlev': 2, 'Hinf': np.float64(1.01410038474561), 'Cint': np.float64(1.082681171522358e-12), 'gm': np.float64(9.730282973035774e-05), 'Ro': np.float64(612355.6152916709), 'Co': np.float64(6.27996414154534e-14)}: Failed to find a finite solution.\n"
     ]
    },
    {
     "name": "stderr",
     "output_type": "stream",
     "text": [
      "INFO:root:Simulating continuous-time analog frontend for sinusoidal input\n",
      "INFO:root:Simulating continuous-time analog frontend for sinusoidal input\n"
     ]
    },
    {
     "name": "stdout",
     "output_type": "stream",
     "text": [
      "Achieved SNR: 75.84331969952883 db\n",
      "Error with Active-RC parameters {'Bw': np.float64(3061855076.8510194), 'osr': 16, 'nlev': 5, 'Hinf': np.float64(1.1947811782623785), 'Cint': np.float64(3.1144956276362896e-12), 'gm': np.float64(0.0006574777021172535), 'Ro': np.float64(2541950.9450129615), 'Co': np.float64(9.72609077608407e-13)}: The associated Hamiltonian pencil has eigenvalues too close to the imaginary axis\n"
     ]
    },
    {
     "name": "stderr",
     "output_type": "stream",
     "text": [
      "INFO:root:Simulating continuous-time analog frontend for sinusoidal input\n",
      "INFO:root:Simulating continuous-time analog frontend for sinusoidal input\n"
     ]
    },
    {
     "name": "stdout",
     "output_type": "stream",
     "text": [
      "Achieved SNR: 64.74567306791695 db\n",
      "Error with Active-RC parameters {'Bw': np.float64(702426576.2978274), 'osr': 8, 'nlev': 2, 'Hinf': np.float64(1.2006448895575106), 'Cint': np.float64(3.4530035314686157e-12), 'gm': np.float64(0.00022731390562076505), 'Ro': np.float64(4042168.2661827304), 'Co': np.float64(3.282155122217991e-13)}: Reordering of (A, B) failed because the transformed matrix pair (A, B) would be too far from generalized Schur form; the problem is very ill-conditioned. (A, B) may have been partially reordered.\n"
     ]
    },
    {
     "name": "stderr",
     "output_type": "stream",
     "text": [
      "INFO:root:Simulating continuous-time analog frontend for sinusoidal input\n",
      "INFO:root:Simulating continuous-time analog frontend for sinusoidal input\n"
     ]
    },
    {
     "name": "stdout",
     "output_type": "stream",
     "text": [
      "Achieved SNR: 23.855365259782978 db\n",
      "Error with Active-RC parameters {'Bw': np.float64(9803703737.871395), 'osr': 8, 'nlev': 4, 'Hinf': np.float64(1.6914316169240131), 'Cint': np.float64(5.807046337130212e-13), 'gm': np.float64(0.0004693235329955947), 'Ro': np.float64(1458883.482096768), 'Co': np.float64(5.342872355434248e-13)}: The associated Hamiltonian pencil has eigenvalues too close to the imaginary axis\n"
     ]
    },
    {
     "name": "stderr",
     "output_type": "stream",
     "text": [
      "INFO:root:Simulating continuous-time analog frontend for sinusoidal input\n",
      "INFO:root:Simulating continuous-time analog frontend for sinusoidal input\n"
     ]
    },
    {
     "name": "stdout",
     "output_type": "stream",
     "text": [
      "Error with Active-RC parameters {'Bw': np.float64(3732884209.6154103), 'osr': 16, 'nlev': 2, 'Hinf': np.float64(1.3717700513772448), 'Cint': np.float64(2.1571940139663573e-12), 'gm': np.float64(0.0005075972767511843), 'Ro': np.float64(7150726.058498446), 'Co': np.float64(6.815824690582607e-13)}: The associated Hamiltonian pencil has eigenvalues too close to the imaginary axis\n",
      "Error with Active-RC parameters {'Bw': np.float64(9236272276.029043), 'osr': 8, 'nlev': 3, 'Hinf': np.float64(1.2534622036203968), 'Cint': np.float64(4.293007123188455e-12), 'gm': np.float64(4.1675178582455433e-05), 'Ro': np.float64(8696933.760545695), 'Co': np.float64(3.0582671429859074e-13)}: Failed to find a finite solution.\n"
     ]
    },
    {
     "name": "stderr",
     "output_type": "stream",
     "text": [
      "INFO:root:Simulating continuous-time analog frontend for sinusoidal input\n",
      "INFO:root:Simulating continuous-time analog frontend for sinusoidal input\n"
     ]
    },
    {
     "name": "stdout",
     "output_type": "stream",
     "text": [
      "Achieved SNR: 18.406272458193317 db\n",
      "Error with Active-RC parameters {'Bw': np.float64(7367029702.635954), 'osr': 16, 'nlev': 3, 'Hinf': np.float64(1.7731867922635502), 'Cint': np.float64(2.5372141684538185e-12), 'gm': np.float64(0.000410707042081484), 'Ro': np.float64(7506877.509364796), 'Co': np.float64(8.646493531357336e-13)}: Failed to find a finite solution.\n"
     ]
    },
    {
     "name": "stderr",
     "output_type": "stream",
     "text": [
      "INFO:root:Simulating continuous-time analog frontend for sinusoidal input\n",
      "INFO:root:Simulating continuous-time analog frontend for sinusoidal input\n"
     ]
    },
    {
     "name": "stdout",
     "output_type": "stream",
     "text": [
      "Achieved SNR: 81.15296367426005 db\n",
      "Error with Active-RC parameters {'Bw': np.float64(5340125642.326879), 'osr': 128, 'nlev': 4, 'Hinf': np.float64(1.4212323648996776), 'Cint': np.float64(2.8839597282459856e-12), 'gm': np.float64(0.00035203897425686945), 'Ro': np.float64(6000683.143956171), 'Co': np.float64(8.396611618471021e-13)}: The associated Hamiltonian pencil has eigenvalues too close to the imaginary axis\n"
     ]
    },
    {
     "name": "stderr",
     "output_type": "stream",
     "text": [
      "INFO:root:Simulating continuous-time analog frontend for sinusoidal input\n",
      "INFO:root:Simulating continuous-time analog frontend for sinusoidal input\n"
     ]
    },
    {
     "name": "stdout",
     "output_type": "stream",
     "text": [
      "Error with Active-RC parameters {'Bw': np.float64(3907089260.454715), 'osr': 128, 'nlev': 4, 'Hinf': np.float64(1.4515673472649402), 'Cint': np.float64(3.031700929537644e-12), 'gm': np.float64(7.976543298660918e-05), 'Ro': np.float64(238625.8298135573), 'Co': np.float64(7.378899376294062e-13)}: Failed to find a finite solution.\n",
      "Error with Active-RC parameters {'Bw': np.float64(6240034837.236967), 'osr': 32, 'nlev': 5, 'Hinf': np.float64(1.9777075484600188), 'Cint': np.float64(2.7712004783827236e-12), 'gm': np.float64(0.00019364497818505068), 'Ro': np.float64(4073736.0925196074), 'Co': np.float64(9.366643040529833e-13)}: Failed to find a finite solution.\n"
     ]
    },
    {
     "name": "stderr",
     "output_type": "stream",
     "text": [
      "INFO:root:Simulating continuous-time analog frontend for sinusoidal input\n",
      "INFO:root:Simulating continuous-time analog frontend for sinusoidal input\n"
     ]
    },
    {
     "name": "stdout",
     "output_type": "stream",
     "text": [
      "Error with Active-RC parameters {'Bw': np.float64(5684106178.138984), 'osr': 128, 'nlev': 5, 'Hinf': np.float64(1.8038300179357332), 'Cint': np.float64(4.515704558990404e-12), 'gm': np.float64(0.00025697125662172944), 'Ro': np.float64(5087614.029238595), 'Co': np.float64(5.578951570782294e-13)}: The associated Hamiltonian pencil has eigenvalues too close to the imaginary axis\n",
      "Error with Active-RC parameters {'Bw': np.float64(6428554773.388507), 'osr': 32, 'nlev': 4, 'Hinf': np.float64(1.7829692722391188), 'Cint': np.float64(2.5961363420093757e-12), 'gm': np.float64(0.00013857976660636005), 'Ro': np.float64(706441.8610090227), 'Co': np.float64(8.285963399700498e-13)}: Failed to find a finite solution.\n"
     ]
    },
    {
     "name": "stderr",
     "output_type": "stream",
     "text": [
      "INFO:root:Simulating continuous-time analog frontend for sinusoidal input\n",
      "INFO:root:Simulating continuous-time analog frontend for sinusoidal input\n"
     ]
    },
    {
     "name": "stdout",
     "output_type": "stream",
     "text": [
      "Error with Active-RC parameters {'Bw': np.float64(7086963475.656955), 'osr': 64, 'nlev': 5, 'Hinf': np.float64(1.9492389252164428), 'Cint': np.float64(1.3651854503838136e-12), 'gm': np.float64(0.00027054643835294664), 'Ro': np.float64(8362996.400288627), 'Co': np.float64(6.609638145036204e-13)}: Reordering of (A, B) failed because the transformed matrix pair (A, B) would be too far from generalized Schur form; the problem is very ill-conditioned. (A, B) may have been partially reordered.\n",
      "Error with Active-RC parameters {'Bw': np.float64(5914726841.266607), 'osr': 64, 'nlev': 3, 'Hinf': np.float64(1.333822333270926), 'Cint': np.float64(1.6977042417377211e-13), 'gm': np.float64(0.00048770311271964165), 'Ro': np.float64(3680928.4279249595), 'Co': np.float64(3.500123738061264e-13)}: The associated Hamiltonian pencil has eigenvalues too close to the imaginary axis\n"
     ]
    },
    {
     "name": "stderr",
     "output_type": "stream",
     "text": [
      "INFO:root:Simulating continuous-time analog frontend for sinusoidal input\n",
      "INFO:root:Simulating continuous-time analog frontend for sinusoidal input\n"
     ]
    },
    {
     "name": "stdout",
     "output_type": "stream",
     "text": [
      "Achieved SNR: 21.204978053169654 db\n",
      "Error with Active-RC parameters {'Bw': np.float64(6897721931.118483), 'osr': 256, 'nlev': 2, 'Hinf': np.float64(1.847932068278641), 'Cint': np.float64(8.344760959444036e-13), 'gm': np.float64(0.0003174949430271115), 'Ro': np.float64(9785473.133802466), 'Co': np.float64(2.0232722856225737e-13)}: The associated Hamiltonian pencil has eigenvalues too close to the imaginary axis\n"
     ]
    },
    {
     "name": "stderr",
     "output_type": "stream",
     "text": [
      "INFO:root:Simulating continuous-time analog frontend for sinusoidal input\n",
      "INFO:root:Simulating continuous-time analog frontend for sinusoidal input\n"
     ]
    },
    {
     "name": "stdout",
     "output_type": "stream",
     "text": [
      "Error with Active-RC parameters {'Bw': np.float64(8930520354.563307), 'osr': 8, 'nlev': 5, 'Hinf': np.float64(1.6409310885991326), 'Cint': np.float64(7.635452330343434e-13), 'gm': np.float64(0.0008004706743402061), 'Ro': np.float64(5305957.959536475), 'Co': np.float64(6.46309762751061e-13)}: Failed to find a finite solution.\n",
      "Error with Active-RC parameters {'Bw': np.float64(3378778685.4371543), 'osr': 256, 'nlev': 2, 'Hinf': np.float64(1.6660119439125305), 'Cint': np.float64(3.819670051048949e-12), 'gm': np.float64(0.0006211058898069593), 'Ro': np.float64(2920976.2953611803), 'Co': np.float64(7.128182717528896e-13)}: The associated Hamiltonian pencil has eigenvalues too close to the imaginary axis\n"
     ]
    },
    {
     "name": "stderr",
     "output_type": "stream",
     "text": [
      "INFO:root:Simulating continuous-time analog frontend for sinusoidal input\n",
      "INFO:root:Simulating continuous-time analog frontend for sinusoidal input\n"
     ]
    },
    {
     "name": "stdout",
     "output_type": "stream",
     "text": [
      "Achieved SNR: 48.42440317528933 db\n",
      "Error with Active-RC parameters {'Bw': np.float64(4977174075.081772), 'osr': 256, 'nlev': 5, 'Hinf': np.float64(1.8786085832886608), 'Cint': np.float64(1.4362910043910565e-12), 'gm': np.float64(0.0001540521268537736), 'Ro': np.float64(356834.77337616484), 'Co': np.float64(9.079520134792884e-13)}: Failed to find a finite solution.\n"
     ]
    },
    {
     "name": "stderr",
     "output_type": "stream",
     "text": [
      "INFO:root:Simulating continuous-time analog frontend for sinusoidal input\n",
      "INFO:root:Simulating continuous-time analog frontend for sinusoidal input\n"
     ]
    },
    {
     "name": "stdout",
     "output_type": "stream",
     "text": [
      "Error with Active-RC parameters {'Bw': np.float64(8262329383.992149), 'osr': 8, 'nlev': 2, 'Hinf': np.float64(1.118365281392619), 'Cint': np.float64(1.5252150734679937e-12), 'gm': np.float64(2.0147618606968847e-05), 'Ro': np.float64(3477224.5903331395), 'Co': np.float64(4.1813429648806467e-13)}: Failed to find a finite solution.\n",
      "Error with Active-RC parameters {'Bw': np.float64(5074537452.944815), 'osr': 32, 'nlev': 4, 'Hinf': np.float64(1.8277116400965157), 'Cint': np.float64(3.938685121367369e-12), 'gm': np.float64(0.0007719009770747797), 'Ro': np.float64(3189694.9240602497), 'Co': np.float64(6.167445483718912e-13)}: The associated Hamiltonian pencil has eigenvalues too close to the imaginary axis\n"
     ]
    },
    {
     "name": "stderr",
     "output_type": "stream",
     "text": [
      "INFO:root:Simulating continuous-time analog frontend for sinusoidal input\n",
      "INFO:root:Simulating continuous-time analog frontend for sinusoidal input\n"
     ]
    },
    {
     "name": "stdout",
     "output_type": "stream",
     "text": [
      "Error with Active-RC parameters {'Bw': np.float64(2044538355.890162), 'osr': 64, 'nlev': 5, 'Hinf': np.float64(1.9084207458164149), 'Cint': np.float64(3.3469010993924403e-13), 'gm': np.float64(0.00042803216396608193), 'Ro': np.float64(2719272.220995188), 'Co': np.float64(8.025959080651009e-13)}: The associated Hamiltonian pencil has eigenvalues too close to the imaginary axis\n",
      "Error with Active-RC parameters {'Bw': np.float64(7552858968.974849), 'osr': 16, 'nlev': 5, 'Hinf': np.float64(1.7558288009708463), 'Cint': np.float64(4.620446629357273e-12), 'gm': np.float64(0.00033094205813850587), 'Ro': np.float64(2381420.4516550363), 'Co': np.float64(8.707247600358128e-13)}: Failed to find a finite solution.\n"
     ]
    },
    {
     "name": "stderr",
     "output_type": "stream",
     "text": [
      "INFO:root:Simulating continuous-time analog frontend for sinusoidal input\n"
     ]
    },
    {
     "name": "stdout",
     "output_type": "stream",
     "text": [
      "Error with Active-RC parameters {'Bw': np.float64(9587952228.002764), 'osr': 8, 'nlev': 2, 'Hinf': np.float64(1.6319667555301574), 'Cint': np.float64(3.382965192393882e-12), 'gm': np.float64(0.0007526464095245609), 'Ro': np.float64(8163134.782111715), 'Co': np.float64(5.736750522165828e-13)}: The associated Hamiltonian pencil has eigenvalues too close to the imaginary axis\n"
     ]
    },
    {
     "name": "stderr",
     "output_type": "stream",
     "text": [
      "INFO:root:Simulating continuous-time analog frontend for sinusoidal input\n",
      "INFO:root:Simulating continuous-time analog frontend for sinusoidal input\n"
     ]
    },
    {
     "name": "stdout",
     "output_type": "stream",
     "text": [
      "Error with Active-RC parameters {'Bw': np.float64(7931483535.628361), 'osr': 32, 'nlev': 5, 'Hinf': np.float64(1.0236328117415059), 'Cint': np.float64(3.679201884837679e-12), 'gm': np.float64(0.0006973991346956606), 'Ro': np.float64(7317542.8417561175), 'Co': np.float64(3.917472059668355e-13)}: Failed to find a finite solution.\n",
      "Error with Active-RC parameters {'Bw': np.float64(6707491349.996293), 'osr': 8, 'nlev': 3, 'Hinf': np.float64(1.159898152149986), 'Cint': np.float64(4.832360575283276e-12), 'gm': np.float64(0.0007959839949023466), 'Ro': np.float64(1518730.4362684228), 'Co': np.float64(9.526012189612365e-13)}: The associated Hamiltonian pencil has eigenvalues too close to the imaginary axis\n"
     ]
    },
    {
     "name": "stderr",
     "output_type": "stream",
     "text": [
      "INFO:root:Simulating continuous-time analog frontend for sinusoidal input\n",
      "INFO:root:Simulating continuous-time analog frontend for sinusoidal input\n"
     ]
    },
    {
     "name": "stdout",
     "output_type": "stream",
     "text": [
      "Achieved SNR: 84.63383109523645 db\n",
      "Error with Active-RC parameters {'Bw': np.float64(8547519230.087682), 'osr': 32, 'nlev': 3, 'Hinf': np.float64(1.5449591278697148), 'Cint': np.float64(1.6005670459615468e-12), 'gm': np.float64(0.00029647861271291223), 'Ro': np.float64(6974158.81892855), 'Co': np.float64(3.660334063725682e-13)}: Failed to find a finite solution.\n"
     ]
    },
    {
     "name": "stderr",
     "output_type": "stream",
     "text": [
      "INFO:root:Simulating continuous-time analog frontend for sinusoidal input\n",
      "INFO:root:Simulating continuous-time analog frontend for sinusoidal input\n"
     ]
    },
    {
     "name": "stdout",
     "output_type": "stream",
     "text": [
      "Achieved SNR: 32.74108514205578 db\n",
      "Error with Active-RC parameters {'Bw': np.float64(4420682871.925284), 'osr': 32, 'nlev': 5, 'Hinf': np.float64(1.725618965110442), 'Cint': np.float64(6.554257287019424e-13), 'gm': np.float64(3.463692642984931e-05), 'Ro': np.float64(6822000.91853522), 'Co': np.float64(4.955367585831753e-13)}: Failed to find a finite solution.\n"
     ]
    },
    {
     "name": "stderr",
     "output_type": "stream",
     "text": [
      "INFO:root:Simulating continuous-time analog frontend for sinusoidal input\n",
      "INFO:root:Simulating continuous-time analog frontend for sinusoidal input\n"
     ]
    },
    {
     "name": "stdout",
     "output_type": "stream",
     "text": [
      "Achieved SNR: 43.62918455486273 db\n",
      "Error with Active-RC parameters {'Bw': np.float64(2645950379.6695232), 'osr': 64, 'nlev': 3, 'Hinf': np.float64(1.5049782095787543), 'Cint': np.float64(1.0340630826083363e-12), 'gm': np.float64(0.0005322004760942514), 'Ro': np.float64(915148.7791329835), 'Co': np.float64(8.972498832882435e-13)}: The associated Hamiltonian pencil has eigenvalues too close to the imaginary axis\n"
     ]
    },
    {
     "name": "stderr",
     "output_type": "stream",
     "text": [
      "INFO:root:Simulating continuous-time analog frontend for sinusoidal input\n"
     ]
    },
    {
     "name": "stdout",
     "output_type": "stream",
     "text": [
      "Achieved SNR: 2.9718226645027923 db\n",
      "Error with Active-RC parameters {'Bw': np.float64(9023018643.381052), 'osr': 32, 'nlev': 2, 'Hinf': np.float64(1.5794360598539106), 'Cint': np.float64(2.3905088534222068e-12), 'gm': np.float64(0.00021347304258256317), 'Ro': np.float64(4807495.14807394), 'Co': np.float64(3.9758342859176803e-13)}: Failed to find a finite solution.\n",
      "\n",
      "\tDataset saved as datasets/dataset_FB_2_Active-RC.csv\n",
      "\n",
      "             Bw  osr  nlev      Hinf          Cint        gm            Ro  \\\n",
      "0  5.707472e+09  256     3  1.729690  3.345706e-12  0.000962  2.726413e+06   \n",
      "1  9.463414e+07  128     3  1.351404  1.734872e-12  0.000712  2.381135e+06   \n",
      "2  5.801101e+08   64     3  1.873414  2.891152e-12  0.000737  9.212645e+06   \n",
      "3  3.024834e+09  256     2  1.409903  3.249928e-12  0.000337  7.368698e+06   \n",
      "4  3.908940e+09  128     3  1.834400  1.506762e-12  0.000453  9.591841e+06   \n",
      "\n",
      "             Co        SNR  \n",
      "0  4.520814e-13  74.891326  \n",
      "1  1.469849e-13  84.143820  \n",
      "2  9.397599e-13  58.363435  \n",
      "3  9.273898e-14  82.813563  \n",
      "4  2.153120e-13  62.713016  \n"
     ]
    }
   ],
   "source": [
    "# dataset generator test:\n",
    "\n",
    "form = 'FB'\n",
    "order = 2\n",
    "implementation = 'Active-RC'\n",
    "num_samples = 50\n",
    "min_snr = 50\n",
    "\n",
    "# define parameter ranges (set as function args better?):\n",
    "if implementation == 'Active-RC':\n",
    "    parameter_ranges = [\n",
    "        (10e3, 10e9), # Bw (Bandwidth)\n",
    "        [8, 16, 32, 64, 128, 256], # osr (Oversampling Ratio) - Discrete\n",
    "        [2, 3, 4, 5], # nlev (Number of Levels) - Discrete\n",
    "        (1.0, 2.0), # Hinf (Infinity Gain)\n",
    "        (100e-15, 5e-12), # Cint (Integration Capacitance)\n",
    "        (1e-6, 1e-3), # gm (Transconductance)\n",
    "        (100e3, 10e6), # Ro (Output Resistance)\n",
    "        (50e-15, 1e-12), # Co (Output Capacitance)\n",
    "    ]\n",
    "elif implementation == 'Gm-C':\n",
    "    parameter_ranges = [\n",
    "        (10e3, 10e9), # Bw (Bandwidth)\n",
    "        [8, 16, 32, 64, 128, 256], # osr (Oversampling Ratio) - Discrete\n",
    "        [2, 3, 4, 5], # nlev (Number of Levels) - Discrete\n",
    "        (1.0, 2.0), # Hinf (Infinity Gain)\n",
    "        (100e-15, 2e-12), # Cint (Integration Capacitance)\n",
    "        (10e3, 1e6), # Ro (Output Resistance)\n",
    "        (1e-15, 100e-15), # Cp (Capacitor)\n",
    "        (10e-9, 1e-6), # v_n (Noise Voltage)\n",
    "        (1e-6, 100e-6), # slew_rate (Slew Rate)\n",
    "        (0.5, 3.0), # output_swing (Output Swing)\n",
    "    ]\n",
    "\n",
    "# define discrete parameters:\n",
    "discrete_params = [\n",
    "    (1, [8, 16, 32, 64, 128, 256]), # osr (discrete)\n",
    "    (2, [2, 3, 4, 5]) # nlev (discrete)\n",
    "]\n",
    "\n",
    "dataset = generate_dataset(form, order, implementation, num_samples, min_snr, parameter_ranges, discrete_params)\n",
    "print(dataset.head())"
   ]
  },
  {
   "cell_type": "code",
   "execution_count": null,
   "id": "f58c6ee4",
   "metadata": {},
   "outputs": [],
   "source": []
  }
 ],
 "metadata": {
  "kernelspec": {
   "display_name": "Python 3",
   "language": "python",
   "name": "python3"
  },
  "language_info": {
   "codemirror_mode": {
    "name": "ipython",
    "version": 3
   },
   "file_extension": ".py",
   "mimetype": "text/x-python",
   "name": "python",
   "nbconvert_exporter": "python",
   "pygments_lexer": "ipython3",
   "version": "3.10.12"
  }
 },
 "nbformat": 4,
 "nbformat_minor": 5
}
